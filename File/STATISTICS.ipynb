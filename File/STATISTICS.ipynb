{
 "cells": [
  {
   "cell_type": "code",
   "execution_count": 2,
   "id": "89e2ebb4",
   "metadata": {},
   "outputs": [],
   "source": [
    "#  10-04-2022"
   ]
  },
  {
   "cell_type": "raw",
   "id": "4a868578",
   "metadata": {},
   "source": [
    "HYPOTHESIS\n",
    ".MAKING A GUESS ( not wild guess) based on assumption without scientific proof or explaining situation \n",
    "based on reasonable assumption\n",
    ". null hypothesis 'h0'\n",
    ". alternate hypothesis 'ha'"
   ]
  },
  {
   "cell_type": "raw",
   "id": "b620c3d3",
   "metadata": {},
   "source": [
    "STATISTICS TOOLS\n",
    ". ttest\n",
    ". Anova"
   ]
  },
  {
   "cell_type": "code",
   "execution_count": 4,
   "id": "bf9d49a1",
   "metadata": {},
   "outputs": [],
   "source": [
    "import pandas as pd\n",
    "hyp= pd.read_csv('https://raw.githubusercontent.com/training-ml/Files/main/Hypothesis%20ttest.csv')"
   ]
  },
  {
   "cell_type": "code",
   "execution_count": 6,
   "id": "bd13a687",
   "metadata": {},
   "outputs": [],
   "source": [
    "hyp.to_csv('hypothesis.csv',index=False)"
   ]
  },
  {
   "cell_type": "code",
   "execution_count": 20,
   "id": "025137b6",
   "metadata": {},
   "outputs": [
    {
     "data": {
      "text/plain": [
       "(200, 11)"
      ]
     },
     "execution_count": 20,
     "metadata": {},
     "output_type": "execute_result"
    }
   ],
   "source": [
    "hyp.shape"
   ]
  },
  {
   "cell_type": "code",
   "execution_count": 19,
   "id": "f9c1096c",
   "metadata": {},
   "outputs": [
    {
     "data": {
      "text/html": [
       "<div>\n",
       "<style scoped>\n",
       "    .dataframe tbody tr th:only-of-type {\n",
       "        vertical-align: middle;\n",
       "    }\n",
       "\n",
       "    .dataframe tbody tr th {\n",
       "        vertical-align: top;\n",
       "    }\n",
       "\n",
       "    .dataframe thead th {\n",
       "        text-align: right;\n",
       "    }\n",
       "</style>\n",
       "<table border=\"1\" class=\"dataframe\">\n",
       "  <thead>\n",
       "    <tr style=\"text-align: right;\">\n",
       "      <th></th>\n",
       "      <th>ID</th>\n",
       "      <th>Gender</th>\n",
       "      <th>Race</th>\n",
       "      <th>SEB</th>\n",
       "      <th>School</th>\n",
       "      <th>Prog</th>\n",
       "      <th>Read</th>\n",
       "      <th>Write</th>\n",
       "      <th>Math1</th>\n",
       "      <th>Math2</th>\n",
       "      <th>SST</th>\n",
       "    </tr>\n",
       "  </thead>\n",
       "  <tbody>\n",
       "    <tr>\n",
       "      <th>86</th>\n",
       "      <td>102</td>\n",
       "      <td>0</td>\n",
       "      <td>4</td>\n",
       "      <td>3</td>\n",
       "      <td>1</td>\n",
       "      <td>2</td>\n",
       "      <td>52</td>\n",
       "      <td>41</td>\n",
       "      <td>51</td>\n",
       "      <td>53</td>\n",
       "      <td>56</td>\n",
       "    </tr>\n",
       "    <tr>\n",
       "      <th>164</th>\n",
       "      <td>112</td>\n",
       "      <td>1</td>\n",
       "      <td>4</td>\n",
       "      <td>2</td>\n",
       "      <td>1</td>\n",
       "      <td>2</td>\n",
       "      <td>52</td>\n",
       "      <td>59</td>\n",
       "      <td>48</td>\n",
       "      <td>55</td>\n",
       "      <td>61</td>\n",
       "    </tr>\n",
       "    <tr>\n",
       "      <th>56</th>\n",
       "      <td>67</td>\n",
       "      <td>0</td>\n",
       "      <td>4</td>\n",
       "      <td>1</td>\n",
       "      <td>1</td>\n",
       "      <td>3</td>\n",
       "      <td>37</td>\n",
       "      <td>37</td>\n",
       "      <td>42</td>\n",
       "      <td>33</td>\n",
       "      <td>32</td>\n",
       "    </tr>\n",
       "    <tr>\n",
       "      <th>148</th>\n",
       "      <td>6</td>\n",
       "      <td>1</td>\n",
       "      <td>1</td>\n",
       "      <td>1</td>\n",
       "      <td>1</td>\n",
       "      <td>2</td>\n",
       "      <td>47</td>\n",
       "      <td>41</td>\n",
       "      <td>46</td>\n",
       "      <td>40</td>\n",
       "      <td>41</td>\n",
       "    </tr>\n",
       "  </tbody>\n",
       "</table>\n",
       "</div>"
      ],
      "text/plain": [
       "      ID  Gender  Race  SEB  School  Prog  Read  Write  Math1  Math2  SST\n",
       "86   102       0     4    3       1     2    52     41     51     53   56\n",
       "164  112       1     4    2       1     2    52     59     48     55   61\n",
       "56    67       0     4    1       1     3    37     37     42     33   32\n",
       "148    6       1     1    1       1     2    47     41     46     40   41"
      ]
     },
     "execution_count": 19,
     "metadata": {},
     "output_type": "execute_result"
    }
   ],
   "source": [
    "hyp.sample(4)"
   ]
  },
  {
   "cell_type": "raw",
   "id": "d9ea0482",
   "metadata": {},
   "source": [
    "A teacher want to teach student for competetive exam she collected sample of tudents marks from different school based on her past experiance , she believe that these type of student score more than 60 mark in exam, now she want to conduct hypothesis test on the marks"
   ]
  },
  {
   "cell_type": "code",
   "execution_count": null,
   "id": "f345265c",
   "metadata": {},
   "outputs": [],
   "source": [
    "# h0  mu >= 60\n",
    "# ha mu<= 60"
   ]
  },
  {
   "cell_type": "code",
   "execution_count": 7,
   "id": "e309c17f",
   "metadata": {},
   "outputs": [
    {
     "data": {
      "text/plain": [
       "52.645"
      ]
     },
     "execution_count": 7,
     "metadata": {},
     "output_type": "execute_result"
    }
   ],
   "source": [
    "hyp['Math1'].mean()"
   ]
  },
  {
   "cell_type": "code",
   "execution_count": 24,
   "id": "8406169e",
   "metadata": {},
   "outputs": [],
   "source": [
    "alpha= 0.05\n",
    "xbar= 52.645\n",
    "mu= 60"
   ]
  },
  {
   "cell_type": "markdown",
   "id": "6ef22b36",
   "metadata": {},
   "source": [
    "1 SAMPLE T TEST"
   ]
  },
  {
   "cell_type": "code",
   "execution_count": 9,
   "id": "7416b4b4",
   "metadata": {},
   "outputs": [],
   "source": [
    "import scipy.stats as st"
   ]
  },
  {
   "cell_type": "code",
   "execution_count": 25,
   "id": "a3ee0b59",
   "metadata": {},
   "outputs": [
    {
     "data": {
      "text/plain": [
       "Ttest_1sampResult(statistic=-11.102736525713398, pvalue=1.3339158110547646e-22)"
      ]
     },
     "execution_count": 25,
     "metadata": {},
     "output_type": "execute_result"
    }
   ],
   "source": [
    "# since we conducting test for one sample we will go for one sample ttest\n",
    "st.ttest_1samp(hyp.Math1,mu)          # in resulr we interest  in  p_value"
   ]
  },
  {
   "cell_type": "code",
   "execution_count": 11,
   "id": "e141a644",
   "metadata": {},
   "outputs": [],
   "source": [
    "# when we run ttest , we get 2 value t statistics score and pvalue for two tail\n",
    "# pvalue/2"
   ]
  },
  {
   "cell_type": "code",
   "execution_count": 12,
   "id": "f66faec2",
   "metadata": {},
   "outputs": [],
   "source": [
    "s,p= st.ttest_1samp(hyp.Math1,mu)   #  p= p_value, if pvalue less than (alpha= 0.5) than reject the \n",
    "##  null hypothesis  (or  our assumptions)"
   ]
  },
  {
   "cell_type": "code",
   "execution_count": 14,
   "id": "c061de17",
   "metadata": {},
   "outputs": [
    {
     "name": "stdout",
     "output_type": "stream",
     "text": [
      "statistics= -11.102736525713398\n",
      "p_value= 1.3339158110547646e-22\n"
     ]
    }
   ],
   "source": [
    "print('statistics=',s)\n",
    "print('p_value=',p)"
   ]
  },
  {
   "cell_type": "raw",
   "id": "405dec86",
   "metadata": {},
   "source": [
    "2 SAMPLE T TEST\n",
    "Independent sample\n",
    "paired sample"
   ]
  },
  {
   "cell_type": "code",
   "execution_count": 26,
   "id": "5e9a3e73",
   "metadata": {},
   "outputs": [
    {
     "data": {
      "text/html": [
       "<div>\n",
       "<style scoped>\n",
       "    .dataframe tbody tr th:only-of-type {\n",
       "        vertical-align: middle;\n",
       "    }\n",
       "\n",
       "    .dataframe tbody tr th {\n",
       "        vertical-align: top;\n",
       "    }\n",
       "\n",
       "    .dataframe thead th {\n",
       "        text-align: right;\n",
       "    }\n",
       "</style>\n",
       "<table border=\"1\" class=\"dataframe\">\n",
       "  <thead>\n",
       "    <tr style=\"text-align: right;\">\n",
       "      <th></th>\n",
       "      <th>ID</th>\n",
       "      <th>Gender</th>\n",
       "      <th>Race</th>\n",
       "      <th>SEB</th>\n",
       "      <th>School</th>\n",
       "      <th>Prog</th>\n",
       "      <th>Read</th>\n",
       "      <th>Write</th>\n",
       "      <th>Math1</th>\n",
       "      <th>Math2</th>\n",
       "      <th>SST</th>\n",
       "    </tr>\n",
       "  </thead>\n",
       "  <tbody>\n",
       "    <tr>\n",
       "      <th>0</th>\n",
       "      <td>70</td>\n",
       "      <td>0</td>\n",
       "      <td>4</td>\n",
       "      <td>1</td>\n",
       "      <td>1</td>\n",
       "      <td>1</td>\n",
       "      <td>57</td>\n",
       "      <td>52</td>\n",
       "      <td>41</td>\n",
       "      <td>47</td>\n",
       "      <td>57</td>\n",
       "    </tr>\n",
       "    <tr>\n",
       "      <th>1</th>\n",
       "      <td>121</td>\n",
       "      <td>1</td>\n",
       "      <td>4</td>\n",
       "      <td>2</td>\n",
       "      <td>1</td>\n",
       "      <td>3</td>\n",
       "      <td>68</td>\n",
       "      <td>59</td>\n",
       "      <td>53</td>\n",
       "      <td>63</td>\n",
       "      <td>61</td>\n",
       "    </tr>\n",
       "    <tr>\n",
       "      <th>2</th>\n",
       "      <td>86</td>\n",
       "      <td>0</td>\n",
       "      <td>4</td>\n",
       "      <td>3</td>\n",
       "      <td>1</td>\n",
       "      <td>1</td>\n",
       "      <td>44</td>\n",
       "      <td>33</td>\n",
       "      <td>54</td>\n",
       "      <td>58</td>\n",
       "      <td>31</td>\n",
       "    </tr>\n",
       "  </tbody>\n",
       "</table>\n",
       "</div>"
      ],
      "text/plain": [
       "    ID  Gender  Race  SEB  School  Prog  Read  Write  Math1  Math2  SST\n",
       "0   70       0     4    1       1     1    57     52     41     47   57\n",
       "1  121       1     4    2       1     3    68     59     53     63   61\n",
       "2   86       0     4    3       1     1    44     33     54     58   31"
      ]
     },
     "execution_count": 26,
     "metadata": {},
     "output_type": "execute_result"
    }
   ],
   "source": [
    "hyp.head(3)"
   ]
  },
  {
   "cell_type": "code",
   "execution_count": 27,
   "id": "2820151f",
   "metadata": {},
   "outputs": [
    {
     "data": {
      "text/plain": [
       "1    109\n",
       "0     91\n",
       "Name: Gender, dtype: int64"
      ]
     },
     "execution_count": 27,
     "metadata": {},
     "output_type": "execute_result"
    }
   ],
   "source": [
    "hyp['Gender'].value_counts()"
   ]
  },
  {
   "cell_type": "code",
   "execution_count": 28,
   "id": "38e0faeb",
   "metadata": {},
   "outputs": [
    {
     "data": {
      "text/plain": [
       "1     53\n",
       "92    65\n",
       "93    52\n",
       "94    46\n",
       "95    61\n",
       "Name: Math1, dtype: int64"
      ]
     },
     "execution_count": 28,
     "metadata": {},
     "output_type": "execute_result"
    }
   ],
   "source": [
    "# how to subset the data on gender\n",
    "hyp[hyp['Gender']==1].Math1.head()"
   ]
  },
  {
   "cell_type": "code",
   "execution_count": 30,
   "id": "c081b686",
   "metadata": {},
   "outputs": [],
   "source": [
    "# independent sample \n",
    "t,p= st.ttest_ind(hyp[hyp['Gender']==1].Math1, hyp[hyp['Gender']==0].Math1)"
   ]
  },
  {
   "cell_type": "code",
   "execution_count": 31,
   "id": "d58f8855",
   "metadata": {},
   "outputs": [
    {
     "name": "stdout",
     "output_type": "stream",
     "text": [
      "p_value= 0.6800544974232143\n"
     ]
    }
   ],
   "source": [
    "print('p_value=',p)   #  we get pvalue > than (alpha= 0.5), we failthe reject to the null hypothesis"
   ]
  },
  {
   "cell_type": "code",
   "execution_count": 33,
   "id": "82058347",
   "metadata": {},
   "outputs": [],
   "source": [
    "# paired sample\n",
    "t,p = st.ttest_rel(hyp.Math1, hyp.Math2)"
   ]
  },
  {
   "cell_type": "code",
   "execution_count": 34,
   "id": "93d933fd",
   "metadata": {},
   "outputs": [
    {
     "data": {
      "text/plain": [
       "0.17676525605507354"
      ]
     },
     "execution_count": 34,
     "metadata": {},
     "output_type": "execute_result"
    }
   ],
   "source": [
    "# p_value\n",
    "p"
   ]
  },
  {
   "cell_type": "code",
   "execution_count": null,
   "id": "afc5efc9",
   "metadata": {},
   "outputs": [],
   "source": []
  },
  {
   "cell_type": "raw",
   "id": "6e4ceb74",
   "metadata": {},
   "source": [
    "There is an another test which is more than 2 sample test apply , but for each ttest we allow 5% error\n",
    "so if we more 2 sample ttest we are adding 5% more error each extra sample ttest, in order to resolve this problem we go for ANOVA test (analysis of variance)"
   ]
  },
  {
   "cell_type": "raw",
   "id": "fc891079",
   "metadata": {},
   "source": [
    "##  ANOVA ( analysis of variance)\n",
    "\n",
    "# \" \" \" ANOVA IS USED compare difference of means among more than 2 groups. \n",
    "# it does this by looking at varition in the data & where that variation is found specifically\n",
    "# ANOVA compare the amount of variation between groups with the amount of variation within groups. \" \" \"\n",
    "\n",
    "# . null hypothesis typically is that all means are equal\n",
    "# . the independent variable are equal\n",
    "# . dependent variable are continues\n",
    "\n",
    "# -  F VALUE \n",
    "# - F = sample means of between groups/smaple means of within groups "
   ]
  },
  {
   "cell_type": "code",
   "execution_count": null,
   "id": "e0e642af",
   "metadata": {},
   "outputs": [],
   "source": []
  },
  {
   "cell_type": "code",
   "execution_count": 35,
   "id": "9e2a1158",
   "metadata": {},
   "outputs": [],
   "source": [
    "marks={'A':[82,83,97],'B':[83,78,68],'C':[38,59,55]}\n",
    "df= pd.DataFrame(marks, index=['st1 Maths','st2 Maths','st3 Maths'])"
   ]
  },
  {
   "cell_type": "code",
   "execution_count": 36,
   "id": "8d107ed2",
   "metadata": {},
   "outputs": [
    {
     "data": {
      "text/html": [
       "<div>\n",
       "<style scoped>\n",
       "    .dataframe tbody tr th:only-of-type {\n",
       "        vertical-align: middle;\n",
       "    }\n",
       "\n",
       "    .dataframe tbody tr th {\n",
       "        vertical-align: top;\n",
       "    }\n",
       "\n",
       "    .dataframe thead th {\n",
       "        text-align: right;\n",
       "    }\n",
       "</style>\n",
       "<table border=\"1\" class=\"dataframe\">\n",
       "  <thead>\n",
       "    <tr style=\"text-align: right;\">\n",
       "      <th></th>\n",
       "      <th>A</th>\n",
       "      <th>B</th>\n",
       "      <th>C</th>\n",
       "    </tr>\n",
       "  </thead>\n",
       "  <tbody>\n",
       "    <tr>\n",
       "      <th>st1 Maths</th>\n",
       "      <td>82</td>\n",
       "      <td>83</td>\n",
       "      <td>38</td>\n",
       "    </tr>\n",
       "    <tr>\n",
       "      <th>st2 Maths</th>\n",
       "      <td>83</td>\n",
       "      <td>78</td>\n",
       "      <td>59</td>\n",
       "    </tr>\n",
       "    <tr>\n",
       "      <th>st3 Maths</th>\n",
       "      <td>97</td>\n",
       "      <td>68</td>\n",
       "      <td>55</td>\n",
       "    </tr>\n",
       "  </tbody>\n",
       "</table>\n",
       "</div>"
      ],
      "text/plain": [
       "            A   B   C\n",
       "st1 Maths  82  83  38\n",
       "st2 Maths  83  78  59\n",
       "st3 Maths  97  68  55"
      ]
     },
     "execution_count": 36,
     "metadata": {},
     "output_type": "execute_result"
    }
   ],
   "source": [
    "df"
   ]
  },
  {
   "cell_type": "code",
   "execution_count": 37,
   "id": "8e618e66",
   "metadata": {},
   "outputs": [],
   "source": [
    "# partition the total variation in the data into variation between group and variance within groups."
   ]
  },
  {
   "cell_type": "raw",
   "id": "cdc0bffc",
   "metadata": {},
   "source": []
  },
  {
   "cell_type": "raw",
   "id": "2f946c9f",
   "metadata": {},
   "source": [
    "# - HYPOTHESIS CONSTRUCTION\n",
    "# THE NULL HYPOTHESIS (Ho) for anova says that average of dependent variable are same for all the given groups\n",
    "# alternate hypothesis (Ha)  says means of dependent vraiable(DV) are not same for the given groups\n",
    "\n",
    "# Ho: muA= muB =muC\n",
    "# Ha : not all equal"
   ]
  },
  {
   "cell_type": "code",
   "execution_count": null,
   "id": "bce4cfc1",
   "metadata": {},
   "outputs": [],
   "source": [
    "#  1 calculate mean of each semester\n",
    "# 2 calculate grand mean\n",
    "# 3 variations Between , Within\n",
    "# 4 calculate the mean squared variance of Between and Within\n",
    "# 5 calculate F- statistics and corresponding p-value\n"
   ]
  },
  {
   "cell_type": "code",
   "execution_count": 43,
   "id": "ece9d399",
   "metadata": {},
   "outputs": [
    {
     "name": "stdout",
     "output_type": "stream",
     "text": [
      "scholA =  87.33\n",
      "scholB =  76.33\n",
      "scholC =  50.67\n"
     ]
    }
   ],
   "source": [
    "# step1 calculate the mean of ech school\n",
    "scholA= df['A'].mean()\n",
    "scholB= df['B'].mean()\n",
    "scholC= df['C'].mean()\n",
    "print('scholA = ', round(scholA,2))\n",
    "print('scholB = ', round(scholB,2))\n",
    "print('scholC = ',round(scholC,2))"
   ]
  },
  {
   "cell_type": "code",
   "execution_count": 45,
   "id": "e777f2da",
   "metadata": {},
   "outputs": [
    {
     "name": "stdout",
     "output_type": "stream",
     "text": [
      "grand mean== 71.44\n"
     ]
    }
   ],
   "source": [
    "# step 2 calculate the grand mean\n",
    "schol_grand= (scholA+ scholB+scholC)/3\n",
    "print('grand mean==', round(schol_grand,2))"
   ]
  },
  {
   "cell_type": "code",
   "execution_count": 47,
   "id": "e7219556",
   "metadata": {},
   "outputs": [],
   "source": [
    "#######          1 st  METHOD    ######\n",
    "# step 3 Variation between, within and totol\n",
    "# sum of squared (ss) deviation about grand mean.\n",
    "# ss total/=  (71.44-82)**2 +(71.44-83)**2 +(71.44-97)**2 +(71.44-83)**2 +(71.44-78)**2 +\n",
    "#                 (71.44-968)**2 +(71.44-38)**2 +(71.44-59)**2 +(71.44-55)**2  =\n",
    "##   ss_total= 2630.2\n",
    "\n",
    "##### ss_within######\n",
    "#    (87.3-82)**2 +(87.3-83)**2 +(87.3-97)**2 +\n",
    "#    (76.3-83)**2 +(76.3-78)**2 +(76.3-68)**2 +\n",
    "#    (50.6-38)**2 +(50.6-59)**2 +(50.6-55)**2 +\n",
    "#  SS_WITHIN== 506\n",
    "\n",
    "######  ss_between #####\n",
    "##  (gran_mean - group A mean)**2 multipy by 3    ,( 3 is the no times of student in all groups)\n",
    "##   (gran_mean - group A mean)**2 multipy by 3 \n",
    "##   (gran_mean - group A mean)**2 multipy by 3 \n",
    "#  ss_between== 2124.2"
   ]
  },
  {
   "cell_type": "code",
   "execution_count": 48,
   "id": "15a9511e",
   "metadata": {},
   "outputs": [],
   "source": [
    "#  Find the degree of freedom\n",
    "# defr_total= number of observation - 1= 9-1= 8 ,   defr_total==8\n",
    "# defr_between= number of groups -1= 3-1  = 2\n",
    "# defr_within= no. of observation - no. of groups= 9-3= 6\n",
    "#  "
   ]
  },
  {
   "cell_type": "raw",
   "id": "f7740d15",
   "metadata": {},
   "source": [
    "  step 4 calculate the mean squared variance\n",
    "#  mean_betw_gr= ss_between/defr_between == 1062.1\n",
    "#  mean_within_gr= ss_within/defr_with  == 84.33"
   ]
  },
  {
   "cell_type": "raw",
   "id": "1facbf02",
   "metadata": {},
   "source": [
    "  step 5 calculate F statistics\n",
    " # f_value= mean_betw_gr/mean_within_gr == 12.59\n",
    "   ......and complete this all last we  calculate p_value from f_table.."
   ]
  },
  {
   "cell_type": "code",
   "execution_count": 49,
   "id": "60e05d4e",
   "metadata": {},
   "outputs": [],
   "source": [
    "#  p_ value less than alpha(0.05) , we can rejecting null hypothesis"
   ]
  },
  {
   "cell_type": "code",
   "execution_count": null,
   "id": "0b523426",
   "metadata": {},
   "outputs": [],
   "source": []
  },
  {
   "cell_type": "code",
   "execution_count": 52,
   "id": "a221fa13",
   "metadata": {},
   "outputs": [],
   "source": [
    "#   USING PYTHON "
   ]
  },
  {
   "cell_type": "code",
   "execution_count": 54,
   "id": "7ec52b08",
   "metadata": {},
   "outputs": [
    {
     "data": {
      "text/html": [
       "<div>\n",
       "<style scoped>\n",
       "    .dataframe tbody tr th:only-of-type {\n",
       "        vertical-align: middle;\n",
       "    }\n",
       "\n",
       "    .dataframe tbody tr th {\n",
       "        vertical-align: top;\n",
       "    }\n",
       "\n",
       "    .dataframe thead th {\n",
       "        text-align: right;\n",
       "    }\n",
       "</style>\n",
       "<table border=\"1\" class=\"dataframe\">\n",
       "  <thead>\n",
       "    <tr style=\"text-align: right;\">\n",
       "      <th></th>\n",
       "      <th>ID</th>\n",
       "      <th>Gender</th>\n",
       "      <th>Race</th>\n",
       "      <th>SEB</th>\n",
       "      <th>School</th>\n",
       "      <th>Prog</th>\n",
       "      <th>Read</th>\n",
       "      <th>Write</th>\n",
       "      <th>Math1</th>\n",
       "      <th>Math2</th>\n",
       "      <th>SST</th>\n",
       "    </tr>\n",
       "  </thead>\n",
       "  <tbody>\n",
       "    <tr>\n",
       "      <th>0</th>\n",
       "      <td>70</td>\n",
       "      <td>0</td>\n",
       "      <td>4</td>\n",
       "      <td>1</td>\n",
       "      <td>1</td>\n",
       "      <td>1</td>\n",
       "      <td>57</td>\n",
       "      <td>52</td>\n",
       "      <td>41</td>\n",
       "      <td>47</td>\n",
       "      <td>57</td>\n",
       "    </tr>\n",
       "    <tr>\n",
       "      <th>1</th>\n",
       "      <td>121</td>\n",
       "      <td>1</td>\n",
       "      <td>4</td>\n",
       "      <td>2</td>\n",
       "      <td>1</td>\n",
       "      <td>3</td>\n",
       "      <td>68</td>\n",
       "      <td>59</td>\n",
       "      <td>53</td>\n",
       "      <td>63</td>\n",
       "      <td>61</td>\n",
       "    </tr>\n",
       "    <tr>\n",
       "      <th>2</th>\n",
       "      <td>86</td>\n",
       "      <td>0</td>\n",
       "      <td>4</td>\n",
       "      <td>3</td>\n",
       "      <td>1</td>\n",
       "      <td>1</td>\n",
       "      <td>44</td>\n",
       "      <td>33</td>\n",
       "      <td>54</td>\n",
       "      <td>58</td>\n",
       "      <td>31</td>\n",
       "    </tr>\n",
       "  </tbody>\n",
       "</table>\n",
       "</div>"
      ],
      "text/plain": [
       "    ID  Gender  Race  SEB  School  Prog  Read  Write  Math1  Math2  SST\n",
       "0   70       0     4    1       1     1    57     52     41     47   57\n",
       "1  121       1     4    2       1     3    68     59     53     63   61\n",
       "2   86       0     4    3       1     1    44     33     54     58   31"
      ]
     },
     "execution_count": 54,
     "metadata": {},
     "output_type": "execute_result"
    }
   ],
   "source": [
    "hyp.head(3)"
   ]
  },
  {
   "cell_type": "code",
   "execution_count": 55,
   "id": "8bafd495",
   "metadata": {},
   "outputs": [],
   "source": [
    "# As per ANOVA WE NEED to find continues data based on the categorical variable\n",
    "# .Math1 is continues variable and 'prog' is categorical variable "
   ]
  },
  {
   "cell_type": "code",
   "execution_count": 62,
   "id": "cadf6851",
   "metadata": {},
   "outputs": [],
   "source": [
    "# ##  2nd  METHOD  ###### \n",
    "import statsmodels.formula.api as sm\n",
    "import statsmodels.api as k"
   ]
  },
  {
   "cell_type": "code",
   "execution_count": 63,
   "id": "2fe554c6",
   "metadata": {},
   "outputs": [
    {
     "data": {
      "text/html": [
       "<div>\n",
       "<style scoped>\n",
       "    .dataframe tbody tr th:only-of-type {\n",
       "        vertical-align: middle;\n",
       "    }\n",
       "\n",
       "    .dataframe tbody tr th {\n",
       "        vertical-align: top;\n",
       "    }\n",
       "\n",
       "    .dataframe thead th {\n",
       "        text-align: right;\n",
       "    }\n",
       "</style>\n",
       "<table border=\"1\" class=\"dataframe\">\n",
       "  <thead>\n",
       "    <tr style=\"text-align: right;\">\n",
       "      <th></th>\n",
       "      <th>df</th>\n",
       "      <th>sum_sq</th>\n",
       "      <th>mean_sq</th>\n",
       "      <th>F</th>\n",
       "      <th>PR(&gt;F)</th>\n",
       "    </tr>\n",
       "  </thead>\n",
       "  <tbody>\n",
       "    <tr>\n",
       "      <th>Prog</th>\n",
       "      <td>1.0</td>\n",
       "      <td>393.527279</td>\n",
       "      <td>393.527279</td>\n",
       "      <td>4.564033</td>\n",
       "      <td>0.033878</td>\n",
       "    </tr>\n",
       "    <tr>\n",
       "      <th>Residual</th>\n",
       "      <td>198.0</td>\n",
       "      <td>17072.267721</td>\n",
       "      <td>86.223574</td>\n",
       "      <td>NaN</td>\n",
       "      <td>NaN</td>\n",
       "    </tr>\n",
       "  </tbody>\n",
       "</table>\n",
       "</div>"
      ],
      "text/plain": [
       "             df        sum_sq     mean_sq         F    PR(>F)\n",
       "Prog        1.0    393.527279  393.527279  4.564033  0.033878\n",
       "Residual  198.0  17072.267721   86.223574       NaN       NaN"
      ]
     },
     "execution_count": 63,
     "metadata": {},
     "output_type": "execute_result"
    }
   ],
   "source": [
    "mod= sm.ols('Math1~Prog', data= hyp).fit()\n",
    "anova_table= k.stats.anova_lm(mod)\n",
    "anova_table"
   ]
  },
  {
   "cell_type": "raw",
   "id": "d88fcbd6",
   "metadata": {},
   "source": [
    "in table show \n",
    "prog = between\n",
    "residual= within\n",
    "sum_sq= sum(mean-x)*2\n",
    "prog-mean-sq= ss_between/df_between\n",
    "residual-mean_sq= ss_within/df_within\n",
    "f value= between-mean_sq/within-mean_sq\n",
    "pr= p value  #  only important p_value \n",
    "we get pvalue less than alpha so we reject the null hypothesis\n"
   ]
  },
  {
   "cell_type": "code",
   "execution_count": null,
   "id": "47d05557",
   "metadata": {},
   "outputs": [],
   "source": [
    "#  we get pvalue less than alpha so we reject the null hypothesis"
   ]
  },
  {
   "cell_type": "code",
   "execution_count": null,
   "id": "81db2948",
   "metadata": {},
   "outputs": [],
   "source": []
  },
  {
   "cell_type": "code",
   "execution_count": 5,
   "id": "5ee1d7b1",
   "metadata": {},
   "outputs": [],
   "source": [
    "import pandas as pd \n",
    "import numpy as np"
   ]
  },
  {
   "cell_type": "code",
   "execution_count": 6,
   "id": "6885e1c4",
   "metadata": {},
   "outputs": [],
   "source": [
    "hyp=pd.read_csv(r'https://raw.githubusercontent.com/training-ml/Files/main/Semester%20marks.csv')"
   ]
  },
  {
   "cell_type": "code",
   "execution_count": 13,
   "id": "655e3d9d",
   "metadata": {},
   "outputs": [
    {
     "data": {
      "text/html": [
       "<div>\n",
       "<style scoped>\n",
       "    .dataframe tbody tr th:only-of-type {\n",
       "        vertical-align: middle;\n",
       "    }\n",
       "\n",
       "    .dataframe tbody tr th {\n",
       "        vertical-align: top;\n",
       "    }\n",
       "\n",
       "    .dataframe thead th {\n",
       "        text-align: right;\n",
       "    }\n",
       "</style>\n",
       "<table border=\"1\" class=\"dataframe\">\n",
       "  <thead>\n",
       "    <tr style=\"text-align: right;\">\n",
       "      <th></th>\n",
       "      <th>Student_ID</th>\n",
       "      <th>Semester</th>\n",
       "      <th>Total_Marks</th>\n",
       "    </tr>\n",
       "  </thead>\n",
       "  <tbody>\n",
       "    <tr>\n",
       "      <th>0</th>\n",
       "      <td>1</td>\n",
       "      <td>1</td>\n",
       "      <td>365</td>\n",
       "    </tr>\n",
       "    <tr>\n",
       "      <th>1</th>\n",
       "      <td>2</td>\n",
       "      <td>3</td>\n",
       "      <td>376</td>\n",
       "    </tr>\n",
       "    <tr>\n",
       "      <th>2</th>\n",
       "      <td>3</td>\n",
       "      <td>1</td>\n",
       "      <td>411</td>\n",
       "    </tr>\n",
       "    <tr>\n",
       "      <th>3</th>\n",
       "      <td>4</td>\n",
       "      <td>3</td>\n",
       "      <td>436</td>\n",
       "    </tr>\n",
       "    <tr>\n",
       "      <th>4</th>\n",
       "      <td>5</td>\n",
       "      <td>2</td>\n",
       "      <td>366</td>\n",
       "    </tr>\n",
       "  </tbody>\n",
       "</table>\n",
       "</div>"
      ],
      "text/plain": [
       "   Student_ID  Semester  Total_Marks\n",
       "0           1         1          365\n",
       "1           2         3          376\n",
       "2           3         1          411\n",
       "3           4         3          436\n",
       "4           5         2          366"
      ]
     },
     "execution_count": 13,
     "metadata": {},
     "output_type": "execute_result"
    }
   ],
   "source": [
    "hyp.head()"
   ]
  },
  {
   "cell_type": "code",
   "execution_count": null,
   "id": "554c83bc",
   "metadata": {},
   "outputs": [],
   "source": [
    "# - as per  ANOVA we need to find continues data baed on the categorical variable\n",
    "#. total-marks is continues variable and\n",
    "#. semester is categorical variable"
   ]
  },
  {
   "cell_type": "code",
   "execution_count": 14,
   "id": "25018fb7",
   "metadata": {},
   "outputs": [],
   "source": [
    "#  Ho is Average mark of each semester are almost equal.\n",
    "#  Ha is all are not equal"
   ]
  },
  {
   "cell_type": "code",
   "execution_count": 18,
   "id": "ec18604f",
   "metadata": {},
   "outputs": [],
   "source": [
    "#  pip install statsmodels"
   ]
  },
  {
   "cell_type": "code",
   "execution_count": 17,
   "id": "8d3a225d",
   "metadata": {},
   "outputs": [],
   "source": [
    "import statsmodels.formula.api as sm"
   ]
  },
  {
   "cell_type": "code",
   "execution_count": 20,
   "id": "44fe9e90",
   "metadata": {},
   "outputs": [],
   "source": [
    "mod= sm.ols('Total_Marks ~ Semester' , data= hyp).fit()  # ols= ordinary least square"
   ]
  },
  {
   "cell_type": "code",
   "execution_count": 21,
   "id": "5d9390d0",
   "metadata": {},
   "outputs": [
    {
     "data": {
      "text/plain": [
       "<statsmodels.regression.linear_model.RegressionResultsWrapper at 0x178e500c460>"
      ]
     },
     "execution_count": 21,
     "metadata": {},
     "output_type": "execute_result"
    }
   ],
   "source": [
    "mod"
   ]
  },
  {
   "cell_type": "code",
   "execution_count": 22,
   "id": "541b497b",
   "metadata": {},
   "outputs": [],
   "source": [
    "import statsmodels.api as k"
   ]
  },
  {
   "cell_type": "code",
   "execution_count": 23,
   "id": "98a92f11",
   "metadata": {},
   "outputs": [],
   "source": [
    "aov=k.stats.anova_lm(mod,type=1)"
   ]
  },
  {
   "cell_type": "code",
   "execution_count": 24,
   "id": "09ef9fb7",
   "metadata": {},
   "outputs": [
    {
     "data": {
      "text/html": [
       "<div>\n",
       "<style scoped>\n",
       "    .dataframe tbody tr th:only-of-type {\n",
       "        vertical-align: middle;\n",
       "    }\n",
       "\n",
       "    .dataframe tbody tr th {\n",
       "        vertical-align: top;\n",
       "    }\n",
       "\n",
       "    .dataframe thead th {\n",
       "        text-align: right;\n",
       "    }\n",
       "</style>\n",
       "<table border=\"1\" class=\"dataframe\">\n",
       "  <thead>\n",
       "    <tr style=\"text-align: right;\">\n",
       "      <th></th>\n",
       "      <th>df</th>\n",
       "      <th>sum_sq</th>\n",
       "      <th>mean_sq</th>\n",
       "      <th>F</th>\n",
       "      <th>PR(&gt;F)</th>\n",
       "    </tr>\n",
       "  </thead>\n",
       "  <tbody>\n",
       "    <tr>\n",
       "      <th>Semester</th>\n",
       "      <td>1.0</td>\n",
       "      <td>291.846746</td>\n",
       "      <td>291.846746</td>\n",
       "      <td>0.102572</td>\n",
       "      <td>0.749102</td>\n",
       "    </tr>\n",
       "    <tr>\n",
       "      <th>Residual</th>\n",
       "      <td>198.0</td>\n",
       "      <td>563366.873254</td>\n",
       "      <td>2845.287239</td>\n",
       "      <td>NaN</td>\n",
       "      <td>NaN</td>\n",
       "    </tr>\n",
       "  </tbody>\n",
       "</table>\n",
       "</div>"
      ],
      "text/plain": [
       "             df         sum_sq      mean_sq         F    PR(>F)\n",
       "Semester    1.0     291.846746   291.846746  0.102572  0.749102\n",
       "Residual  198.0  563366.873254  2845.287239       NaN       NaN"
      ]
     },
     "execution_count": 24,
     "metadata": {},
     "output_type": "execute_result"
    }
   ],
   "source": [
    "aov"
   ]
  },
  {
   "cell_type": "code",
   "execution_count": 25,
   "id": "1ebc1e11",
   "metadata": {},
   "outputs": [],
   "source": [
    "#  LET'S SEE MANUALY if the average marks of each semester are close to each other"
   ]
  },
  {
   "cell_type": "code",
   "execution_count": 33,
   "id": "bba31def",
   "metadata": {},
   "outputs": [
    {
     "data": {
      "text/plain": [
       "403.0"
      ]
     },
     "execution_count": 33,
     "metadata": {},
     "output_type": "execute_result"
    }
   ],
   "source": [
    "# semster 1 average marks\n",
    "x= np.ceil(hyp['Total_Marks'][hyp['Semester'] == 1].mean())\n",
    "x"
   ]
  },
  {
   "cell_type": "code",
   "execution_count": 53,
   "id": "4f0e9cb6",
   "metadata": {},
   "outputs": [
    {
     "name": "stdout",
     "output_type": "stream",
     "text": [
      "1st semester = 403.0\n",
      "2nd semester = 393.0\n",
      "3rd semester = 406.0\n"
     ]
    }
   ],
   "source": [
    "print('1st semester =', np.ceil(hyp['Total_Marks'][hyp['Semester'] == 1].mean()))\n",
    "print('2nd semester =', np.ceil(hyp['Total_Marks'][hyp['Semester'] == 2].mean()))\n",
    "print('3rd semester =', np.ceil(hyp['Total_Marks'][hyp['Semester'] == 3].mean()))\n"
   ]
  },
  {
   "cell_type": "code",
   "execution_count": 49,
   "id": "0e244f71",
   "metadata": {},
   "outputs": [
    {
     "data": {
      "text/html": [
       "<div>\n",
       "<style scoped>\n",
       "    .dataframe tbody tr th:only-of-type {\n",
       "        vertical-align: middle;\n",
       "    }\n",
       "\n",
       "    .dataframe tbody tr th {\n",
       "        vertical-align: top;\n",
       "    }\n",
       "\n",
       "    .dataframe thead th {\n",
       "        text-align: right;\n",
       "    }\n",
       "</style>\n",
       "<table border=\"1\" class=\"dataframe\">\n",
       "  <thead>\n",
       "    <tr style=\"text-align: right;\">\n",
       "      <th></th>\n",
       "      <th>Student_ID</th>\n",
       "      <th>Total_Marks</th>\n",
       "    </tr>\n",
       "    <tr>\n",
       "      <th>Semester</th>\n",
       "      <th></th>\n",
       "      <th></th>\n",
       "    </tr>\n",
       "  </thead>\n",
       "  <tbody>\n",
       "    <tr>\n",
       "      <th>1</th>\n",
       "      <td>101.0</td>\n",
       "      <td>403.0</td>\n",
       "    </tr>\n",
       "    <tr>\n",
       "      <th>2</th>\n",
       "      <td>101.0</td>\n",
       "      <td>393.0</td>\n",
       "    </tr>\n",
       "    <tr>\n",
       "      <th>3</th>\n",
       "      <td>101.0</td>\n",
       "      <td>406.0</td>\n",
       "    </tr>\n",
       "  </tbody>\n",
       "</table>\n",
       "</div>"
      ],
      "text/plain": [
       "          Student_ID  Total_Marks\n",
       "Semester                         \n",
       "1              101.0        403.0\n",
       "2              101.0        393.0\n",
       "3              101.0        406.0"
      ]
     },
     "execution_count": 49,
     "metadata": {},
     "output_type": "execute_result"
    }
   ],
   "source": [
    "# testing purpose 1\n",
    "#  np.ceil(hyp.groupby('Semester').mean())"
   ]
  },
  {
   "cell_type": "code",
   "execution_count": 50,
   "id": "f5dc0607",
   "metadata": {},
   "outputs": [
    {
     "data": {
      "text/plain": [
       "Student_ID     101.0\n",
       "Semester         1.0\n",
       "Total_Marks    403.0\n",
       "dtype: float64"
      ]
     },
     "execution_count": 50,
     "metadata": {},
     "output_type": "execute_result"
    }
   ],
   "source": [
    "# only for testing purpose 2\n",
    "#  np.ceil(hyp[(hyp['Semester']== 1)].mean())"
   ]
  },
  {
   "cell_type": "code",
   "execution_count": null,
   "id": "9d3838b1",
   "metadata": {},
   "outputs": [],
   "source": [
    "#  - REALTIME RESEARCH ON HUMAN BODY\n",
    "# '' if different types of drinks ( coffrr ,water , milk,    soda , etc) have the same effect (reaction time in the morning)\n",
    "#   on the human body ''\n",
    "\n",
    "#. Ho= all the drinks average reaction time on human body is same\n",
    "#. Ha= all the drinks average reaction time on human body is not same"
   ]
  }
 ],
 "metadata": {
  "kernelspec": {
   "display_name": "Python 3 (ipykernel)",
   "language": "python",
   "name": "python3"
  },
  "language_info": {
   "codemirror_mode": {
    "name": "ipython",
    "version": 3
   },
   "file_extension": ".py",
   "mimetype": "text/x-python",
   "name": "python",
   "nbconvert_exporter": "python",
   "pygments_lexer": "ipython3",
   "version": "3.10.2"
  }
 },
 "nbformat": 4,
 "nbformat_minor": 5
}
