{
 "cells": [
  {
   "cell_type": "code",
   "execution_count": 1,
   "id": "27cf50f0",
   "metadata": {},
   "outputs": [],
   "source": [
    "import pandas as pd\n",
    "import numpy as np\n",
    "import matplotlib.pyplot as plt\n",
    "import seaborn as sns"
   ]
  },
  {
   "cell_type": "code",
   "execution_count": 274,
   "id": "346bee50",
   "metadata": {},
   "outputs": [],
   "source": [
    "from sklearn.metrics import confusion_matrix,classification_report"
   ]
  },
  {
   "cell_type": "code",
   "execution_count": 2,
   "id": "42d6a3f9",
   "metadata": {},
   "outputs": [],
   "source": [
    "df=pd.read_csv('boston_house.csv')"
   ]
  },
  {
   "cell_type": "code",
   "execution_count": 3,
   "id": "7c941109",
   "metadata": {},
   "outputs": [
    {
     "data": {
      "text/html": [
       "<div>\n",
       "<style scoped>\n",
       "    .dataframe tbody tr th:only-of-type {\n",
       "        vertical-align: middle;\n",
       "    }\n",
       "\n",
       "    .dataframe tbody tr th {\n",
       "        vertical-align: top;\n",
       "    }\n",
       "\n",
       "    .dataframe thead th {\n",
       "        text-align: right;\n",
       "    }\n",
       "</style>\n",
       "<table border=\"1\" class=\"dataframe\">\n",
       "  <thead>\n",
       "    <tr style=\"text-align: right;\">\n",
       "      <th></th>\n",
       "      <th>CRIM</th>\n",
       "      <th>ZN</th>\n",
       "      <th>INDUS</th>\n",
       "      <th>CHAS</th>\n",
       "      <th>NOX</th>\n",
       "      <th>RM</th>\n",
       "      <th>AGE</th>\n",
       "      <th>DIS</th>\n",
       "      <th>RAD</th>\n",
       "      <th>TAX</th>\n",
       "      <th>PTRATIO</th>\n",
       "      <th>B</th>\n",
       "      <th>LSTAT</th>\n",
       "      <th>PRICE</th>\n",
       "    </tr>\n",
       "  </thead>\n",
       "  <tbody>\n",
       "    <tr>\n",
       "      <th>0</th>\n",
       "      <td>0.00632</td>\n",
       "      <td>18.0</td>\n",
       "      <td>2.31</td>\n",
       "      <td>0</td>\n",
       "      <td>0.538</td>\n",
       "      <td>6.575</td>\n",
       "      <td>65.2</td>\n",
       "      <td>4.0900</td>\n",
       "      <td>1</td>\n",
       "      <td>296</td>\n",
       "      <td>15.3</td>\n",
       "      <td>396.90</td>\n",
       "      <td>4.98</td>\n",
       "      <td>24.0</td>\n",
       "    </tr>\n",
       "    <tr>\n",
       "      <th>1</th>\n",
       "      <td>0.02731</td>\n",
       "      <td>0.0</td>\n",
       "      <td>7.07</td>\n",
       "      <td>0</td>\n",
       "      <td>0.469</td>\n",
       "      <td>6.421</td>\n",
       "      <td>78.9</td>\n",
       "      <td>4.9671</td>\n",
       "      <td>2</td>\n",
       "      <td>242</td>\n",
       "      <td>17.8</td>\n",
       "      <td>396.90</td>\n",
       "      <td>9.14</td>\n",
       "      <td>21.6</td>\n",
       "    </tr>\n",
       "    <tr>\n",
       "      <th>2</th>\n",
       "      <td>0.02729</td>\n",
       "      <td>0.0</td>\n",
       "      <td>7.07</td>\n",
       "      <td>0</td>\n",
       "      <td>0.469</td>\n",
       "      <td>7.185</td>\n",
       "      <td>61.1</td>\n",
       "      <td>4.9671</td>\n",
       "      <td>2</td>\n",
       "      <td>242</td>\n",
       "      <td>17.8</td>\n",
       "      <td>392.83</td>\n",
       "      <td>4.03</td>\n",
       "      <td>34.7</td>\n",
       "    </tr>\n",
       "    <tr>\n",
       "      <th>3</th>\n",
       "      <td>0.03237</td>\n",
       "      <td>0.0</td>\n",
       "      <td>2.18</td>\n",
       "      <td>0</td>\n",
       "      <td>0.458</td>\n",
       "      <td>6.998</td>\n",
       "      <td>45.8</td>\n",
       "      <td>6.0622</td>\n",
       "      <td>3</td>\n",
       "      <td>222</td>\n",
       "      <td>18.7</td>\n",
       "      <td>394.63</td>\n",
       "      <td>2.94</td>\n",
       "      <td>33.4</td>\n",
       "    </tr>\n",
       "  </tbody>\n",
       "</table>\n",
       "</div>"
      ],
      "text/plain": [
       "      CRIM    ZN  INDUS  CHAS    NOX     RM   AGE     DIS  RAD  TAX  PTRATIO  \\\n",
       "0  0.00632  18.0   2.31     0  0.538  6.575  65.2  4.0900    1  296     15.3   \n",
       "1  0.02731   0.0   7.07     0  0.469  6.421  78.9  4.9671    2  242     17.8   \n",
       "2  0.02729   0.0   7.07     0  0.469  7.185  61.1  4.9671    2  242     17.8   \n",
       "3  0.03237   0.0   2.18     0  0.458  6.998  45.8  6.0622    3  222     18.7   \n",
       "\n",
       "        B  LSTAT  PRICE  \n",
       "0  396.90   4.98   24.0  \n",
       "1  396.90   9.14   21.6  \n",
       "2  392.83   4.03   34.7  \n",
       "3  394.63   2.94   33.4  "
      ]
     },
     "execution_count": 3,
     "metadata": {},
     "output_type": "execute_result"
    }
   ],
   "source": [
    "df.head(4)"
   ]
  },
  {
   "cell_type": "code",
   "execution_count": 11,
   "id": "b6dd1d8c",
   "metadata": {},
   "outputs": [
    {
     "data": {
      "text/plain": [
       "(506, 14)"
      ]
     },
     "execution_count": 11,
     "metadata": {},
     "output_type": "execute_result"
    }
   ],
   "source": [
    "# check any null values\n",
    "# df.isnull().sum()   # clear\n",
    "df.shape"
   ]
  },
  {
   "cell_type": "code",
   "execution_count": 5,
   "id": "f16a65e7",
   "metadata": {
    "scrolled": true
   },
   "outputs": [
    {
     "data": {
      "text/html": [
       "<div>\n",
       "<style scoped>\n",
       "    .dataframe tbody tr th:only-of-type {\n",
       "        vertical-align: middle;\n",
       "    }\n",
       "\n",
       "    .dataframe tbody tr th {\n",
       "        vertical-align: top;\n",
       "    }\n",
       "\n",
       "    .dataframe thead th {\n",
       "        text-align: right;\n",
       "    }\n",
       "</style>\n",
       "<table border=\"1\" class=\"dataframe\">\n",
       "  <thead>\n",
       "    <tr style=\"text-align: right;\">\n",
       "      <th></th>\n",
       "      <th>CRIM</th>\n",
       "      <th>ZN</th>\n",
       "      <th>INDUS</th>\n",
       "      <th>CHAS</th>\n",
       "      <th>NOX</th>\n",
       "      <th>RM</th>\n",
       "      <th>AGE</th>\n",
       "      <th>DIS</th>\n",
       "      <th>RAD</th>\n",
       "      <th>TAX</th>\n",
       "      <th>PTRATIO</th>\n",
       "      <th>B</th>\n",
       "      <th>LSTAT</th>\n",
       "      <th>PRICE</th>\n",
       "    </tr>\n",
       "  </thead>\n",
       "  <tbody>\n",
       "    <tr>\n",
       "      <th>count</th>\n",
       "      <td>506.000000</td>\n",
       "      <td>506.000000</td>\n",
       "      <td>506.000000</td>\n",
       "      <td>506.000000</td>\n",
       "      <td>506.000000</td>\n",
       "      <td>506.000000</td>\n",
       "      <td>506.000000</td>\n",
       "      <td>506.000000</td>\n",
       "      <td>506.000000</td>\n",
       "      <td>506.000000</td>\n",
       "      <td>506.000000</td>\n",
       "      <td>506.000000</td>\n",
       "      <td>506.000000</td>\n",
       "      <td>506.000000</td>\n",
       "    </tr>\n",
       "    <tr>\n",
       "      <th>mean</th>\n",
       "      <td>3.613524</td>\n",
       "      <td>11.363636</td>\n",
       "      <td>11.136779</td>\n",
       "      <td>0.069170</td>\n",
       "      <td>0.554695</td>\n",
       "      <td>6.284634</td>\n",
       "      <td>68.574901</td>\n",
       "      <td>3.795043</td>\n",
       "      <td>9.549407</td>\n",
       "      <td>408.237154</td>\n",
       "      <td>18.455534</td>\n",
       "      <td>356.674032</td>\n",
       "      <td>12.653063</td>\n",
       "      <td>22.532806</td>\n",
       "    </tr>\n",
       "    <tr>\n",
       "      <th>std</th>\n",
       "      <td>8.601545</td>\n",
       "      <td>23.322453</td>\n",
       "      <td>6.860353</td>\n",
       "      <td>0.253994</td>\n",
       "      <td>0.115878</td>\n",
       "      <td>0.702617</td>\n",
       "      <td>28.148861</td>\n",
       "      <td>2.105710</td>\n",
       "      <td>8.707259</td>\n",
       "      <td>168.537116</td>\n",
       "      <td>2.164946</td>\n",
       "      <td>91.294864</td>\n",
       "      <td>7.141062</td>\n",
       "      <td>9.197104</td>\n",
       "    </tr>\n",
       "    <tr>\n",
       "      <th>min</th>\n",
       "      <td>0.006320</td>\n",
       "      <td>0.000000</td>\n",
       "      <td>0.460000</td>\n",
       "      <td>0.000000</td>\n",
       "      <td>0.385000</td>\n",
       "      <td>3.561000</td>\n",
       "      <td>2.900000</td>\n",
       "      <td>1.129600</td>\n",
       "      <td>1.000000</td>\n",
       "      <td>187.000000</td>\n",
       "      <td>12.600000</td>\n",
       "      <td>0.320000</td>\n",
       "      <td>1.730000</td>\n",
       "      <td>5.000000</td>\n",
       "    </tr>\n",
       "    <tr>\n",
       "      <th>25%</th>\n",
       "      <td>0.082045</td>\n",
       "      <td>0.000000</td>\n",
       "      <td>5.190000</td>\n",
       "      <td>0.000000</td>\n",
       "      <td>0.449000</td>\n",
       "      <td>5.885500</td>\n",
       "      <td>45.025000</td>\n",
       "      <td>2.100175</td>\n",
       "      <td>4.000000</td>\n",
       "      <td>279.000000</td>\n",
       "      <td>17.400000</td>\n",
       "      <td>375.377500</td>\n",
       "      <td>6.950000</td>\n",
       "      <td>17.025000</td>\n",
       "    </tr>\n",
       "    <tr>\n",
       "      <th>50%</th>\n",
       "      <td>0.256510</td>\n",
       "      <td>0.000000</td>\n",
       "      <td>9.690000</td>\n",
       "      <td>0.000000</td>\n",
       "      <td>0.538000</td>\n",
       "      <td>6.208500</td>\n",
       "      <td>77.500000</td>\n",
       "      <td>3.207450</td>\n",
       "      <td>5.000000</td>\n",
       "      <td>330.000000</td>\n",
       "      <td>19.050000</td>\n",
       "      <td>391.440000</td>\n",
       "      <td>11.360000</td>\n",
       "      <td>21.200000</td>\n",
       "    </tr>\n",
       "    <tr>\n",
       "      <th>75%</th>\n",
       "      <td>3.677083</td>\n",
       "      <td>12.500000</td>\n",
       "      <td>18.100000</td>\n",
       "      <td>0.000000</td>\n",
       "      <td>0.624000</td>\n",
       "      <td>6.623500</td>\n",
       "      <td>94.075000</td>\n",
       "      <td>5.188425</td>\n",
       "      <td>24.000000</td>\n",
       "      <td>666.000000</td>\n",
       "      <td>20.200000</td>\n",
       "      <td>396.225000</td>\n",
       "      <td>16.955000</td>\n",
       "      <td>25.000000</td>\n",
       "    </tr>\n",
       "    <tr>\n",
       "      <th>max</th>\n",
       "      <td>88.976200</td>\n",
       "      <td>100.000000</td>\n",
       "      <td>27.740000</td>\n",
       "      <td>1.000000</td>\n",
       "      <td>0.871000</td>\n",
       "      <td>8.780000</td>\n",
       "      <td>100.000000</td>\n",
       "      <td>12.126500</td>\n",
       "      <td>24.000000</td>\n",
       "      <td>711.000000</td>\n",
       "      <td>22.000000</td>\n",
       "      <td>396.900000</td>\n",
       "      <td>37.970000</td>\n",
       "      <td>50.000000</td>\n",
       "    </tr>\n",
       "  </tbody>\n",
       "</table>\n",
       "</div>"
      ],
      "text/plain": [
       "             CRIM          ZN       INDUS        CHAS         NOX          RM  \\\n",
       "count  506.000000  506.000000  506.000000  506.000000  506.000000  506.000000   \n",
       "mean     3.613524   11.363636   11.136779    0.069170    0.554695    6.284634   \n",
       "std      8.601545   23.322453    6.860353    0.253994    0.115878    0.702617   \n",
       "min      0.006320    0.000000    0.460000    0.000000    0.385000    3.561000   \n",
       "25%      0.082045    0.000000    5.190000    0.000000    0.449000    5.885500   \n",
       "50%      0.256510    0.000000    9.690000    0.000000    0.538000    6.208500   \n",
       "75%      3.677083   12.500000   18.100000    0.000000    0.624000    6.623500   \n",
       "max     88.976200  100.000000   27.740000    1.000000    0.871000    8.780000   \n",
       "\n",
       "              AGE         DIS         RAD         TAX     PTRATIO           B  \\\n",
       "count  506.000000  506.000000  506.000000  506.000000  506.000000  506.000000   \n",
       "mean    68.574901    3.795043    9.549407  408.237154   18.455534  356.674032   \n",
       "std     28.148861    2.105710    8.707259  168.537116    2.164946   91.294864   \n",
       "min      2.900000    1.129600    1.000000  187.000000   12.600000    0.320000   \n",
       "25%     45.025000    2.100175    4.000000  279.000000   17.400000  375.377500   \n",
       "50%     77.500000    3.207450    5.000000  330.000000   19.050000  391.440000   \n",
       "75%     94.075000    5.188425   24.000000  666.000000   20.200000  396.225000   \n",
       "max    100.000000   12.126500   24.000000  711.000000   22.000000  396.900000   \n",
       "\n",
       "            LSTAT       PRICE  \n",
       "count  506.000000  506.000000  \n",
       "mean    12.653063   22.532806  \n",
       "std      7.141062    9.197104  \n",
       "min      1.730000    5.000000  \n",
       "25%      6.950000   17.025000  \n",
       "50%     11.360000   21.200000  \n",
       "75%     16.955000   25.000000  \n",
       "max     37.970000   50.000000  "
      ]
     },
     "execution_count": 5,
     "metadata": {},
     "output_type": "execute_result"
    }
   ],
   "source": [
    "df.describe()"
   ]
  },
  {
   "cell_type": "code",
   "execution_count": 12,
   "id": "a29e61fb",
   "metadata": {},
   "outputs": [
    {
     "data": {
      "image/png": "[encoded data removed]",
      "text/plain": [
       "<Figure size 1296x720 with 2 Axes>"
      ]
     },
     "metadata": {
      "needs_background": "light"
     },
     "output_type": "display_data"
    }
   ],
   "source": [
    "# finding out correlation between features\n",
    "data_corr=df.corr()\n",
    "plt.figure(figsize=(18,10))\n",
    "sns.heatmap(data_corr,annot=True)\n",
    "plt.show()"
   ]
  },
  {
   "cell_type": "code",
   "execution_count": 7,
   "id": "23b329ce",
   "metadata": {},
   "outputs": [],
   "source": [
    "import warnings\n",
    "warnings.filterwarnings('ignore')"
   ]
  },
  {
   "cell_type": "code",
   "execution_count": 9,
   "id": "3d28446e",
   "metadata": {},
   "outputs": [
    {
     "data": {
      "image/png": "[encoded data removed]",
      "text/plain": [
       "<Figure size 432x288 with 1 Axes>"
      ]
     },
     "metadata": {
      "needs_background": "light"
     },
     "output_type": "display_data"
    }
   ],
   "source": [
    "# some feature looking correlate each other 'RAD', 'TAX'\n",
    "# we check through scaterplot\n",
    "\n",
    "sns.scatterplot('RAD','TAX',data=data)\n",
    "plt.show()"
   ]
  },
  {
   "cell_type": "code",
   "execution_count": null,
   "id": "b063315d",
   "metadata": {},
   "outputs": [],
   "source": []
  },
  {
   "cell_type": "code",
   "execution_count": 16,
   "id": "e2e474a0",
   "metadata": {},
   "outputs": [],
   "source": [
    "#dividing features and label data\n",
    "x=df.iloc[:,:-1]\n",
    "y=df['PRICE']"
   ]
  },
  {
   "cell_type": "code",
   "execution_count": 18,
   "id": "3e582b1f",
   "metadata": {},
   "outputs": [],
   "source": [
    "from sklearn.model_selection import train_test_split as tts\n",
    "from sklearn.preprocessing import StandardScaler as SS\n",
    "from sklearn.model_selection import GridSearchCV\n"
   ]
  },
  {
   "cell_type": "code",
   "execution_count": 22,
   "id": "7b5ce098",
   "metadata": {},
   "outputs": [],
   "source": [
    "from sklearn.ensemble import AdaBoostRegressor as ABR\n",
    "from sklearn.metrics import r2_score"
   ]
  },
  {
   "cell_type": "code",
   "execution_count": 23,
   "id": "00755d26",
   "metadata": {},
   "outputs": [],
   "source": [
    "# adaboost model training\n",
    "xtrain,xtest,ytrain,ytest=tts(x,y,test_size=0.25,random_state=49)"
   ]
  },
  {
   "cell_type": "code",
   "execution_count": 25,
   "id": "27302c6b",
   "metadata": {},
   "outputs": [],
   "source": [
    "ada=ABR()"
   ]
  },
  {
   "cell_type": "code",
   "execution_count": 26,
   "id": "a5611ac6",
   "metadata": {},
   "outputs": [
    {
     "data": {
      "text/plain": [
       "AdaBoostRegressor()"
      ]
     },
     "execution_count": 26,
     "metadata": {},
     "output_type": "execute_result"
    }
   ],
   "source": [
    "ada.fit(xtrain,ytrain)"
   ]
  },
  {
   "cell_type": "code",
   "execution_count": 27,
   "id": "43cb56fd",
   "metadata": {},
   "outputs": [
    {
     "data": {
      "text/plain": [
       "0.9182326733123347"
      ]
     },
     "execution_count": 27,
     "metadata": {},
     "output_type": "execute_result"
    }
   ],
   "source": [
    "# check traing performance\n",
    "pred=ada.predict(xtrain)\n",
    "r2_score(ytrain,pred)"
   ]
  },
  {
   "cell_type": "code",
   "execution_count": 28,
   "id": "8734642d",
   "metadata": {},
   "outputs": [
    {
     "data": {
      "text/plain": [
       "0.7904337690820147"
      ]
     },
     "execution_count": 28,
     "metadata": {},
     "output_type": "execute_result"
    }
   ],
   "source": [
    "# check test data score performance\n",
    "y_pred=ada.predict(xtest)\n",
    "r2_score(ytest,y_pred)"
   ]
  },
  {
   "cell_type": "code",
   "execution_count": 29,
   "id": "bc5fc809",
   "metadata": {},
   "outputs": [],
   "source": [
    "from sklearn.model_selection import RandomizedSearchCV"
   ]
  },
  {
   "cell_type": "code",
   "execution_count": 80,
   "id": "9db18ec2",
   "metadata": {},
   "outputs": [],
   "source": [
    "# we using Hyper parameter Tuning with Ranadomsearchcv\n",
    "\n",
    "param={'n_estimators':[40,50,60,70,90],'learning_rate':[0.092,0.1,0.19,0.24,0.31,0.4,0.49]}\n",
    "rcv=RandomizedSearchCV(ABR(),cv=4,param_distributions=param,n_jobs=-1)"
   ]
  },
  {
   "cell_type": "code",
   "execution_count": 81,
   "id": "550bdb32",
   "metadata": {},
   "outputs": [
    {
     "data": {
      "text/plain": [
       "RandomizedSearchCV(cv=4, estimator=AdaBoostRegressor(), n_jobs=-1,\n",
       "                   param_distributions={'learning_rate': [0.092, 0.1, 0.19,\n",
       "                                                          0.24, 0.31, 0.4,\n",
       "                                                          0.49],\n",
       "                                        'n_estimators': [40, 50, 60, 70, 90]})"
      ]
     },
     "execution_count": 81,
     "metadata": {},
     "output_type": "execute_result"
    }
   ],
   "source": [
    "rcv.fit(xtrain,ytrain)"
   ]
  },
  {
   "cell_type": "code",
   "execution_count": 82,
   "id": "a8243c0b",
   "metadata": {},
   "outputs": [
    {
     "name": "stdout",
     "output_type": "stream",
     "text": [
      "best_estimators= AdaBoostRegressor(learning_rate=0.31, n_estimators=60)\n"
     ]
    }
   ],
   "source": [
    "print('best_estimators=',rcv.best_estimator_)\n",
    "boost=rcv.best_estimator_"
   ]
  },
  {
   "cell_type": "code",
   "execution_count": 85,
   "id": "4c25a7ae",
   "metadata": {},
   "outputs": [
    {
     "data": {
      "text/plain": [
       "AdaBoostRegressor(learning_rate=0.31, n_estimators=60)"
      ]
     },
     "execution_count": 85,
     "metadata": {},
     "output_type": "execute_result"
    }
   ],
   "source": [
    "boost.fit(xtrain,ytrain)"
   ]
  },
  {
   "cell_type": "code",
   "execution_count": 86,
   "id": "c23a4625",
   "metadata": {},
   "outputs": [
    {
     "data": {
      "text/plain": [
       "0.7863312512994257"
      ]
     },
     "execution_count": 86,
     "metadata": {},
     "output_type": "execute_result"
    }
   ],
   "source": [
    "y_pred=boost.predict(xtest)\n",
    "r2_score(ytest,y_pred)"
   ]
  },
  {
   "cell_type": "code",
   "execution_count": 60,
   "id": "c4d3c7e4",
   "metadata": {},
   "outputs": [],
   "source": [
    "# tuning with Gridsearchcv\n",
    "gcv=GridSearchCV(ABR(),param_grid=param,cv=5)"
   ]
  },
  {
   "cell_type": "code",
   "execution_count": 87,
   "id": "bd574e32",
   "metadata": {},
   "outputs": [
    {
     "data": {
      "text/plain": [
       "GridSearchCV(cv=5, estimator=AdaBoostRegressor(),\n",
       "             param_grid={'learning_rate': [0.092, 0.1, 0.19, 0.26, 0.39, 0.42,\n",
       "                                           0.56],\n",
       "                         'n_estimators': [40, 50, 60, 70, 90]})"
      ]
     },
     "execution_count": 87,
     "metadata": {},
     "output_type": "execute_result"
    }
   ],
   "source": [
    "gcv.fit(xtrain,ytrain)"
   ]
  },
  {
   "cell_type": "code",
   "execution_count": 88,
   "id": "284973c9",
   "metadata": {},
   "outputs": [
    {
     "name": "stdout",
     "output_type": "stream",
     "text": [
      "AdaBoostRegressor(learning_rate=0.56, n_estimators=90)\n"
     ]
    }
   ],
   "source": [
    "print(gcv.best_estimator_)"
   ]
  },
  {
   "cell_type": "code",
   "execution_count": 89,
   "id": "c28ba204",
   "metadata": {},
   "outputs": [],
   "source": [
    "boost2=gcv.best_estimator_"
   ]
  },
  {
   "cell_type": "code",
   "execution_count": 79,
   "id": "eac15bc7",
   "metadata": {},
   "outputs": [
    {
     "data": {
      "text/plain": [
       "0.7935007084731466"
      ]
     },
     "execution_count": 79,
     "metadata": {},
     "output_type": "execute_result"
    }
   ],
   "source": [
    "boost2.fit(xtrain,ytrain)\n",
    "boost2.score(xtest,ytest)"
   ]
  },
  {
   "cell_type": "code",
   "execution_count": 211,
   "id": "7965cf63",
   "metadata": {},
   "outputs": [
    {
     "name": "stdout",
     "output_type": "stream",
     "text": [
      "0.8323512461443776\n",
      "0.8323512461443776\n"
     ]
    }
   ],
   "source": [
    "#  1st manual\n",
    "ad=ABR(learning_rate=0.452,n_estimators=80,random_state=40)\n",
    "ad.fit(xtrain,ytrain)\n",
    "pred1=ad.predict(xtest)\n",
    "print(r2_score(ytest,pred1))\n",
    "print(ad.score(xtest,ytest))"
   ]
  },
  {
   "cell_type": "code",
   "execution_count": 212,
   "id": "f474e690",
   "metadata": {},
   "outputs": [
    {
     "data": {
      "text/plain": [
       "391    23.2\n",
       "110    21.7\n",
       "329    22.6\n",
       "323    18.5\n",
       "149    15.4\n",
       "       ... \n",
       "221    21.7\n",
       "104    20.1\n",
       "53     23.4\n",
       "69     20.9\n",
       "503    23.9\n",
       "Name: PRICE, Length: 127, dtype: float64"
      ]
     },
     "execution_count": 212,
     "metadata": {},
     "output_type": "execute_result"
    }
   ],
   "source": [
    "ytest"
   ]
  },
  {
   "cell_type": "code",
   "execution_count": 183,
   "id": "2928f2ad",
   "metadata": {},
   "outputs": [
    {
     "data": {
      "text/plain": [
       "array([15.17124183, 20.77972973, 25.30617284, 21.01414141, 12.75647059,\n",
       "       12.74835165, 25.30617284, 21.26956522, 23.20521739, 21.26956522,\n",
       "       24.17439024, 21.83891892, 16.79319372, 20.61428571, 44.42692308,\n",
       "       11.75208333, 38.95      , 21.02488688, 32.07047619, 18.63760684,\n",
       "       22.05666667, 20.40227273, 37.93125   , 12.40441176, 24.22891566,\n",
       "       14.61716418, 32.31428571, 32.96956522, 20.77972973, 22.05666667,\n",
       "       12.63548387, 11.75208333, 34.89166667, 17.715625  , 20.87089947,\n",
       "       25.30617284, 29.62222222, 11.95      , 20.77972973, 15.50853659,\n",
       "       15.71463415, 45.36216216, 12.63548387, 20.76821705, 36.728     ,\n",
       "       17.49675926, 12.00238095, 20.87089947, 20.87089947, 22.83212121,\n",
       "       23.99356436, 21.26956522, 21.26956522, 11.75208333, 32.53648649,\n",
       "       20.77972973, 15.66607143, 22.31949686, 21.02488688, 27.37258065,\n",
       "       22.05666667, 20.61428571, 17.65      , 17.715625  , 18.98025478,\n",
       "       20.54705882, 12.125     , 22.64021164, 13.02542373, 32.53648649,\n",
       "       11.75208333, 26.83868613, 11.95      , 19.14347826, 20.77972973,\n",
       "       22.64021164, 20.21015625, 16.69848485, 15.68626374, 37.33714286,\n",
       "       30.13076923, 44.38378378, 20.61428571, 46.38648649, 27.00166667,\n",
       "       26.57692308, 21.28685714, 20.87089947, 43.88039216, 26.61715976,\n",
       "       21.04755245, 32.53648649, 11.95      , 21.26956522, 15.794     ,\n",
       "       25.00731707, 22.31949686, 17.49675926, 30.13076923, 25.21363636,\n",
       "       27.15079365, 25.21363636, 23.99356436, 18.29444444, 33.7962963 ,\n",
       "       25.30617284, 17.76428571, 27.00166667, 15.66607143, 21.04755245,\n",
       "       18.10089286, 31.74339623, 32.07047619, 25.17692308, 19.75207101,\n",
       "       19.75207101, 13.4       , 26.56530612, 15.46766917, 16.52647059,\n",
       "       34.51818182, 18.98025478, 17.28679245, 20.77972973, 22.05666667,\n",
       "       21.83891892, 30.02444444])"
      ]
     },
     "execution_count": 183,
     "metadata": {},
     "output_type": "execute_result"
    }
   ],
   "source": [
    "ad.predict(xtest)"
   ]
  },
  {
   "cell_type": "code",
   "execution_count": null,
   "id": "bd2ebbe5",
   "metadata": {},
   "outputs": [],
   "source": []
  },
  {
   "cell_type": "raw",
   "id": "2c85e21b",
   "metadata": {},
   "source": [
    "GRADIENTBOOSTING=GBDT  ALGORITHM"
   ]
  },
  {
   "cell_type": "code",
   "execution_count": 214,
   "id": "835bea52",
   "metadata": {},
   "outputs": [],
   "source": [
    "df1=pd.read_csv('heart_dieses.csv')"
   ]
  },
  {
   "cell_type": "code",
   "execution_count": 216,
   "id": "652c4e38",
   "metadata": {},
   "outputs": [
    {
     "data": {
      "text/html": [
       "<div>\n",
       "<style scoped>\n",
       "    .dataframe tbody tr th:only-of-type {\n",
       "        vertical-align: middle;\n",
       "    }\n",
       "\n",
       "    .dataframe tbody tr th {\n",
       "        vertical-align: top;\n",
       "    }\n",
       "\n",
       "    .dataframe thead th {\n",
       "        text-align: right;\n",
       "    }\n",
       "</style>\n",
       "<table border=\"1\" class=\"dataframe\">\n",
       "  <thead>\n",
       "    <tr style=\"text-align: right;\">\n",
       "      <th></th>\n",
       "      <th>Unnamed: 0</th>\n",
       "      <th>age</th>\n",
       "      <th>sex</th>\n",
       "      <th>cp</th>\n",
       "      <th>trestbps</th>\n",
       "      <th>chol</th>\n",
       "      <th>fbs</th>\n",
       "      <th>restecg</th>\n",
       "      <th>thalach</th>\n",
       "      <th>exang</th>\n",
       "      <th>oldpeak</th>\n",
       "      <th>slope</th>\n",
       "      <th>ca</th>\n",
       "      <th>thal</th>\n",
       "      <th>target</th>\n",
       "    </tr>\n",
       "  </thead>\n",
       "  <tbody>\n",
       "    <tr>\n",
       "      <th>0</th>\n",
       "      <td>0</td>\n",
       "      <td>63</td>\n",
       "      <td>1</td>\n",
       "      <td>3</td>\n",
       "      <td>145</td>\n",
       "      <td>233</td>\n",
       "      <td>1</td>\n",
       "      <td>0</td>\n",
       "      <td>150</td>\n",
       "      <td>0</td>\n",
       "      <td>2.3</td>\n",
       "      <td>0</td>\n",
       "      <td>0</td>\n",
       "      <td>1</td>\n",
       "      <td>1</td>\n",
       "    </tr>\n",
       "    <tr>\n",
       "      <th>1</th>\n",
       "      <td>1</td>\n",
       "      <td>37</td>\n",
       "      <td>1</td>\n",
       "      <td>2</td>\n",
       "      <td>130</td>\n",
       "      <td>250</td>\n",
       "      <td>0</td>\n",
       "      <td>1</td>\n",
       "      <td>187</td>\n",
       "      <td>0</td>\n",
       "      <td>3.5</td>\n",
       "      <td>0</td>\n",
       "      <td>0</td>\n",
       "      <td>2</td>\n",
       "      <td>1</td>\n",
       "    </tr>\n",
       "    <tr>\n",
       "      <th>2</th>\n",
       "      <td>2</td>\n",
       "      <td>41</td>\n",
       "      <td>0</td>\n",
       "      <td>1</td>\n",
       "      <td>130</td>\n",
       "      <td>204</td>\n",
       "      <td>0</td>\n",
       "      <td>0</td>\n",
       "      <td>172</td>\n",
       "      <td>0</td>\n",
       "      <td>1.4</td>\n",
       "      <td>2</td>\n",
       "      <td>0</td>\n",
       "      <td>2</td>\n",
       "      <td>1</td>\n",
       "    </tr>\n",
       "    <tr>\n",
       "      <th>3</th>\n",
       "      <td>3</td>\n",
       "      <td>56</td>\n",
       "      <td>1</td>\n",
       "      <td>1</td>\n",
       "      <td>120</td>\n",
       "      <td>236</td>\n",
       "      <td>0</td>\n",
       "      <td>1</td>\n",
       "      <td>178</td>\n",
       "      <td>0</td>\n",
       "      <td>0.8</td>\n",
       "      <td>2</td>\n",
       "      <td>0</td>\n",
       "      <td>2</td>\n",
       "      <td>1</td>\n",
       "    </tr>\n",
       "  </tbody>\n",
       "</table>\n",
       "</div>"
      ],
      "text/plain": [
       "   Unnamed: 0  age  sex  cp  trestbps  chol  fbs  restecg  thalach  exang  \\\n",
       "0           0   63    1   3       145   233    1        0      150      0   \n",
       "1           1   37    1   2       130   250    0        1      187      0   \n",
       "2           2   41    0   1       130   204    0        0      172      0   \n",
       "3           3   56    1   1       120   236    0        1      178      0   \n",
       "\n",
       "   oldpeak  slope  ca  thal  target  \n",
       "0      2.3      0   0     1       1  \n",
       "1      3.5      0   0     2       1  \n",
       "2      1.4      2   0     2       1  \n",
       "3      0.8      2   0     2       1  "
      ]
     },
     "execution_count": 216,
     "metadata": {},
     "output_type": "execute_result"
    }
   ],
   "source": [
    "df1.head(4)"
   ]
  },
  {
   "cell_type": "code",
   "execution_count": 217,
   "id": "538390bf",
   "metadata": {},
   "outputs": [],
   "source": [
    "df1=df1.drop(['Unnamed: 0'],axis=1)"
   ]
  },
  {
   "cell_type": "code",
   "execution_count": 220,
   "id": "e819afff",
   "metadata": {},
   "outputs": [
    {
     "data": {
      "text/plain": [
       "(303, 14)"
      ]
     },
     "execution_count": 220,
     "metadata": {},
     "output_type": "execute_result"
    }
   ],
   "source": [
    "df1.shape"
   ]
  },
  {
   "cell_type": "code",
   "execution_count": 222,
   "id": "8bea2d99",
   "metadata": {},
   "outputs": [],
   "source": [
    "x=df1.iloc[:,:-1]\n",
    "y=df1['target']"
   ]
  },
  {
   "cell_type": "code",
   "execution_count": 226,
   "id": "ab4acb1a",
   "metadata": {},
   "outputs": [
    {
     "data": {
      "text/plain": [
       "age        -0.225439\n",
       "sex        -0.280937\n",
       "cp          0.433798\n",
       "trestbps   -0.144931\n",
       "chol       -0.085239\n",
       "fbs        -0.028046\n",
       "restecg     0.137230\n",
       "thalach     0.421741\n",
       "exang      -0.436757\n",
       "oldpeak    -0.430696\n",
       "slope       0.345877\n",
       "ca         -0.391724\n",
       "thal       -0.344029\n",
       "dtype: float64"
      ]
     },
     "execution_count": 226,
     "metadata": {},
     "output_type": "execute_result"
    }
   ],
   "source": [
    "# check just find correlation with features beetween target \n",
    "corr=x.corrwith(y)\n",
    "corr"
   ]
  },
  {
   "cell_type": "code",
   "execution_count": 228,
   "id": "89fdad69",
   "metadata": {},
   "outputs": [
    {
     "data": {
      "text/plain": [
       "<AxesSubplot:title={'center':'correlation with target'}>"
      ]
     },
     "execution_count": 228,
     "metadata": {},
     "output_type": "execute_result"
    },
    {
     "data": {
      "image/png": "[encoded data removed]",
      "text/plain": [
       "<Figure size 432x288 with 1 Axes>"
      ]
     },
     "metadata": {
      "needs_background": "light"
     },
     "output_type": "display_data"
    }
   ],
   "source": [
    "# plotting\n",
    "corr.plot(kind='bar' ,grid=True ,title='correlation with target' ,)"
   ]
  },
  {
   "cell_type": "raw",
   "id": "9021d2df",
   "metadata": {},
   "source": [
    "Let's work on feature selection & see if that can help us building better model"
   ]
  },
  {
   "cell_type": "code",
   "execution_count": 229,
   "id": "efad3a4a",
   "metadata": {},
   "outputs": [],
   "source": [
    "from sklearn.feature_selection import SelectPercentile,chi2"
   ]
  },
  {
   "cell_type": "code",
   "execution_count": 231,
   "id": "c9f76328",
   "metadata": {},
   "outputs": [],
   "source": [
    "percentile=SelectPercentile(score_func=chi2,percentile=80)"
   ]
  },
  {
   "cell_type": "code",
   "execution_count": 232,
   "id": "71abba80",
   "metadata": {},
   "outputs": [],
   "source": [
    "percent=percentile.fit(x,y)"
   ]
  },
  {
   "cell_type": "code",
   "execution_count": 234,
   "id": "d7896c01",
   "metadata": {},
   "outputs": [],
   "source": [
    "# seperate the feature to check p_values\n",
    "cols=percent.get_support(indices= True)"
   ]
  },
  {
   "cell_type": "code",
   "execution_count": 247,
   "id": "2354215c",
   "metadata": {},
   "outputs": [
    {
     "data": {
      "text/plain": [
       "Index(['age', 'sex', 'cp', 'trestbps', 'chol', 'thalach', 'exang', 'oldpeak',\n",
       "       'slope', 'ca'],\n",
       "      dtype='object')"
      ]
     },
     "execution_count": 247,
     "metadata": {},
     "output_type": "execute_result"
    }
   ],
   "source": [
    "features=x.columns[cols]\n",
    "features"
   ]
  },
  {
   "cell_type": "code",
   "execution_count": 240,
   "id": "42cc1688",
   "metadata": {},
   "outputs": [],
   "source": [
    "df_score=pd.DataFrame({'features':x.columns,'chi2score':percent.scores_,'p_value':percent.pvalues_})"
   ]
  },
  {
   "cell_type": "code",
   "execution_count": 244,
   "id": "ebcbeca7",
   "metadata": {},
   "outputs": [
    {
     "data": {
      "text/html": [
       "<div>\n",
       "<style scoped>\n",
       "    .dataframe tbody tr th:only-of-type {\n",
       "        vertical-align: middle;\n",
       "    }\n",
       "\n",
       "    .dataframe tbody tr th {\n",
       "        vertical-align: top;\n",
       "    }\n",
       "\n",
       "    .dataframe thead th {\n",
       "        text-align: right;\n",
       "    }\n",
       "</style>\n",
       "<table border=\"1\" class=\"dataframe\">\n",
       "  <thead>\n",
       "    <tr style=\"text-align: right;\">\n",
       "      <th></th>\n",
       "      <th>features</th>\n",
       "      <th>chi2score</th>\n",
       "      <th>p_value</th>\n",
       "    </tr>\n",
       "  </thead>\n",
       "  <tbody>\n",
       "    <tr>\n",
       "      <th>7</th>\n",
       "      <td>thalach</td>\n",
       "      <td>188.320472</td>\n",
       "      <td>7.395102e-43</td>\n",
       "    </tr>\n",
       "    <tr>\n",
       "      <th>9</th>\n",
       "      <td>oldpeak</td>\n",
       "      <td>72.644253</td>\n",
       "      <td>1.552583e-17</td>\n",
       "    </tr>\n",
       "    <tr>\n",
       "      <th>11</th>\n",
       "      <td>ca</td>\n",
       "      <td>66.440765</td>\n",
       "      <td>3.605677e-16</td>\n",
       "    </tr>\n",
       "    <tr>\n",
       "      <th>2</th>\n",
       "      <td>cp</td>\n",
       "      <td>62.598098</td>\n",
       "      <td>2.534982e-15</td>\n",
       "    </tr>\n",
       "    <tr>\n",
       "      <th>8</th>\n",
       "      <td>exang</td>\n",
       "      <td>38.914377</td>\n",
       "      <td>4.428074e-10</td>\n",
       "    </tr>\n",
       "    <tr>\n",
       "      <th>4</th>\n",
       "      <td>chol</td>\n",
       "      <td>23.936394</td>\n",
       "      <td>9.957148e-07</td>\n",
       "    </tr>\n",
       "    <tr>\n",
       "      <th>0</th>\n",
       "      <td>age</td>\n",
       "      <td>23.286624</td>\n",
       "      <td>1.395673e-06</td>\n",
       "    </tr>\n",
       "    <tr>\n",
       "      <th>3</th>\n",
       "      <td>trestbps</td>\n",
       "      <td>14.823925</td>\n",
       "      <td>1.180286e-04</td>\n",
       "    </tr>\n",
       "    <tr>\n",
       "      <th>10</th>\n",
       "      <td>slope</td>\n",
       "      <td>9.804095</td>\n",
       "      <td>1.741237e-03</td>\n",
       "    </tr>\n",
       "    <tr>\n",
       "      <th>1</th>\n",
       "      <td>sex</td>\n",
       "      <td>7.576835</td>\n",
       "      <td>5.912318e-03</td>\n",
       "    </tr>\n",
       "    <tr>\n",
       "      <th>12</th>\n",
       "      <td>thal</td>\n",
       "      <td>5.791853</td>\n",
       "      <td>1.610061e-02</td>\n",
       "    </tr>\n",
       "    <tr>\n",
       "      <th>6</th>\n",
       "      <td>restecg</td>\n",
       "      <td>2.978271</td>\n",
       "      <td>8.438939e-02</td>\n",
       "    </tr>\n",
       "    <tr>\n",
       "      <th>5</th>\n",
       "      <td>fbs</td>\n",
       "      <td>0.202934</td>\n",
       "      <td>6.523632e-01</td>\n",
       "    </tr>\n",
       "  </tbody>\n",
       "</table>\n",
       "</div>"
      ],
      "text/plain": [
       "    features   chi2score       p_value\n",
       "7    thalach  188.320472  7.395102e-43\n",
       "9    oldpeak   72.644253  1.552583e-17\n",
       "11        ca   66.440765  3.605677e-16\n",
       "2         cp   62.598098  2.534982e-15\n",
       "8      exang   38.914377  4.428074e-10\n",
       "4       chol   23.936394  9.957148e-07\n",
       "0        age   23.286624  1.395673e-06\n",
       "3   trestbps   14.823925  1.180286e-04\n",
       "10     slope    9.804095  1.741237e-03\n",
       "1        sex    7.576835  5.912318e-03\n",
       "12      thal    5.791853  1.610061e-02\n",
       "6    restecg    2.978271  8.438939e-02\n",
       "5        fbs    0.202934  6.523632e-01"
      ]
     },
     "execution_count": 244,
     "metadata": {},
     "output_type": "execute_result"
    }
   ],
   "source": [
    "df_score.sort_values(by='chi2score',ascending=False)"
   ]
  },
  {
   "cell_type": "code",
   "execution_count": 246,
   "id": "4a6a6474",
   "metadata": {},
   "outputs": [
    {
     "data": {
      "text/html": [
       "<div>\n",
       "<style scoped>\n",
       "    .dataframe tbody tr th:only-of-type {\n",
       "        vertical-align: middle;\n",
       "    }\n",
       "\n",
       "    .dataframe tbody tr th {\n",
       "        vertical-align: top;\n",
       "    }\n",
       "\n",
       "    .dataframe thead th {\n",
       "        text-align: right;\n",
       "    }\n",
       "</style>\n",
       "<table border=\"1\" class=\"dataframe\">\n",
       "  <thead>\n",
       "    <tr style=\"text-align: right;\">\n",
       "      <th></th>\n",
       "      <th>age</th>\n",
       "      <th>sex</th>\n",
       "      <th>cp</th>\n",
       "      <th>trestbps</th>\n",
       "      <th>chol</th>\n",
       "      <th>thalach</th>\n",
       "      <th>exang</th>\n",
       "      <th>oldpeak</th>\n",
       "      <th>slope</th>\n",
       "      <th>ca</th>\n",
       "    </tr>\n",
       "  </thead>\n",
       "  <tbody>\n",
       "    <tr>\n",
       "      <th>0</th>\n",
       "      <td>63</td>\n",
       "      <td>1</td>\n",
       "      <td>3</td>\n",
       "      <td>145</td>\n",
       "      <td>233</td>\n",
       "      <td>150</td>\n",
       "      <td>0</td>\n",
       "      <td>2.3</td>\n",
       "      <td>0</td>\n",
       "      <td>0</td>\n",
       "    </tr>\n",
       "    <tr>\n",
       "      <th>1</th>\n",
       "      <td>37</td>\n",
       "      <td>1</td>\n",
       "      <td>2</td>\n",
       "      <td>130</td>\n",
       "      <td>250</td>\n",
       "      <td>187</td>\n",
       "      <td>0</td>\n",
       "      <td>3.5</td>\n",
       "      <td>0</td>\n",
       "      <td>0</td>\n",
       "    </tr>\n",
       "    <tr>\n",
       "      <th>2</th>\n",
       "      <td>41</td>\n",
       "      <td>0</td>\n",
       "      <td>1</td>\n",
       "      <td>130</td>\n",
       "      <td>204</td>\n",
       "      <td>172</td>\n",
       "      <td>0</td>\n",
       "      <td>1.4</td>\n",
       "      <td>2</td>\n",
       "      <td>0</td>\n",
       "    </tr>\n",
       "    <tr>\n",
       "      <th>3</th>\n",
       "      <td>56</td>\n",
       "      <td>1</td>\n",
       "      <td>1</td>\n",
       "      <td>120</td>\n",
       "      <td>236</td>\n",
       "      <td>178</td>\n",
       "      <td>0</td>\n",
       "      <td>0.8</td>\n",
       "      <td>2</td>\n",
       "      <td>0</td>\n",
       "    </tr>\n",
       "    <tr>\n",
       "      <th>4</th>\n",
       "      <td>57</td>\n",
       "      <td>0</td>\n",
       "      <td>0</td>\n",
       "      <td>120</td>\n",
       "      <td>354</td>\n",
       "      <td>163</td>\n",
       "      <td>1</td>\n",
       "      <td>0.6</td>\n",
       "      <td>2</td>\n",
       "      <td>0</td>\n",
       "    </tr>\n",
       "    <tr>\n",
       "      <th>...</th>\n",
       "      <td>...</td>\n",
       "      <td>...</td>\n",
       "      <td>...</td>\n",
       "      <td>...</td>\n",
       "      <td>...</td>\n",
       "      <td>...</td>\n",
       "      <td>...</td>\n",
       "      <td>...</td>\n",
       "      <td>...</td>\n",
       "      <td>...</td>\n",
       "    </tr>\n",
       "    <tr>\n",
       "      <th>298</th>\n",
       "      <td>57</td>\n",
       "      <td>0</td>\n",
       "      <td>0</td>\n",
       "      <td>140</td>\n",
       "      <td>241</td>\n",
       "      <td>123</td>\n",
       "      <td>1</td>\n",
       "      <td>0.2</td>\n",
       "      <td>1</td>\n",
       "      <td>0</td>\n",
       "    </tr>\n",
       "    <tr>\n",
       "      <th>299</th>\n",
       "      <td>45</td>\n",
       "      <td>1</td>\n",
       "      <td>3</td>\n",
       "      <td>110</td>\n",
       "      <td>264</td>\n",
       "      <td>132</td>\n",
       "      <td>0</td>\n",
       "      <td>1.2</td>\n",
       "      <td>1</td>\n",
       "      <td>0</td>\n",
       "    </tr>\n",
       "    <tr>\n",
       "      <th>300</th>\n",
       "      <td>68</td>\n",
       "      <td>1</td>\n",
       "      <td>0</td>\n",
       "      <td>144</td>\n",
       "      <td>193</td>\n",
       "      <td>141</td>\n",
       "      <td>0</td>\n",
       "      <td>3.4</td>\n",
       "      <td>1</td>\n",
       "      <td>2</td>\n",
       "    </tr>\n",
       "    <tr>\n",
       "      <th>301</th>\n",
       "      <td>57</td>\n",
       "      <td>1</td>\n",
       "      <td>0</td>\n",
       "      <td>130</td>\n",
       "      <td>131</td>\n",
       "      <td>115</td>\n",
       "      <td>1</td>\n",
       "      <td>1.2</td>\n",
       "      <td>1</td>\n",
       "      <td>1</td>\n",
       "    </tr>\n",
       "    <tr>\n",
       "      <th>302</th>\n",
       "      <td>57</td>\n",
       "      <td>0</td>\n",
       "      <td>1</td>\n",
       "      <td>130</td>\n",
       "      <td>236</td>\n",
       "      <td>174</td>\n",
       "      <td>0</td>\n",
       "      <td>0.0</td>\n",
       "      <td>1</td>\n",
       "      <td>1</td>\n",
       "    </tr>\n",
       "  </tbody>\n",
       "</table>\n",
       "<p>303 rows × 10 columns</p>\n",
       "</div>"
      ],
      "text/plain": [
       "     age  sex  cp  trestbps  chol  thalach  exang  oldpeak  slope  ca\n",
       "0     63    1   3       145   233      150      0      2.3      0   0\n",
       "1     37    1   2       130   250      187      0      3.5      0   0\n",
       "2     41    0   1       130   204      172      0      1.4      2   0\n",
       "3     56    1   1       120   236      178      0      0.8      2   0\n",
       "4     57    0   0       120   354      163      1      0.6      2   0\n",
       "..   ...  ...  ..       ...   ...      ...    ...      ...    ...  ..\n",
       "298   57    0   0       140   241      123      1      0.2      1   0\n",
       "299   45    1   3       110   264      132      0      1.2      1   0\n",
       "300   68    1   0       144   193      141      0      3.4      1   2\n",
       "301   57    1   0       130   131      115      1      1.2      1   1\n",
       "302   57    0   1       130   236      174      0      0.0      1   1\n",
       "\n",
       "[303 rows x 10 columns]"
      ]
     },
     "execution_count": 246,
     "metadata": {},
     "output_type": "execute_result"
    }
   ],
   "source": [
    "x[features]"
   ]
  },
  {
   "cell_type": "code",
   "execution_count": 249,
   "id": "4759af2e",
   "metadata": {},
   "outputs": [],
   "source": [
    "from sklearn.ensemble import GradientBoostingClassifier as GBC"
   ]
  },
  {
   "cell_type": "code",
   "execution_count": 248,
   "id": "ee7ccd4e",
   "metadata": {},
   "outputs": [],
   "source": [
    "X=x[features]"
   ]
  },
  {
   "cell_type": "code",
   "execution_count": 251,
   "id": "d2fdaf92",
   "metadata": {},
   "outputs": [],
   "source": [
    "xtrain,xtest,ytrain,ytest=tts(X,y,test_size=0.25,random_state=49)"
   ]
  },
  {
   "cell_type": "code",
   "execution_count": 250,
   "id": "46873a83",
   "metadata": {},
   "outputs": [],
   "source": [
    "gbc=GBC()"
   ]
  },
  {
   "cell_type": "code",
   "execution_count": 252,
   "id": "9ee4443f",
   "metadata": {},
   "outputs": [
    {
     "data": {
      "text/plain": [
       "GradientBoostingClassifier()"
      ]
     },
     "execution_count": 252,
     "metadata": {},
     "output_type": "execute_result"
    }
   ],
   "source": [
    "gbc.fit(xtrain,ytrain)"
   ]
  },
  {
   "cell_type": "code",
   "execution_count": 253,
   "id": "f6dd97bf",
   "metadata": {},
   "outputs": [
    {
     "data": {
      "text/plain": [
       "0.9955947136563876"
      ]
     },
     "execution_count": 253,
     "metadata": {},
     "output_type": "execute_result"
    }
   ],
   "source": [
    "gbc.score(xtrain,ytrain)"
   ]
  },
  {
   "cell_type": "code",
   "execution_count": 254,
   "id": "26ef05b1",
   "metadata": {},
   "outputs": [
    {
     "data": {
      "text/plain": [
       "0.7894736842105263"
      ]
     },
     "execution_count": 254,
     "metadata": {},
     "output_type": "execute_result"
    }
   ],
   "source": [
    "gbc.score(xtest,ytest)"
   ]
  },
  {
   "cell_type": "code",
   "execution_count": null,
   "id": "c0361f7c",
   "metadata": {},
   "outputs": [],
   "source": []
  },
  {
   "cell_type": "raw",
   "id": "d459dcc4",
   "metadata": {},
   "source": [
    "let's we try HyperTuning to performe to better performance"
   ]
  },
  {
   "cell_type": "code",
   "execution_count": 325,
   "id": "8e4bb292",
   "metadata": {},
   "outputs": [],
   "source": [
    "param={'max_depth':range(5,10,) ,'min_samples_split':range(3,11) ,'learning_rate':np.arange(0.1,0.5,0.01)}"
   ]
  },
  {
   "cell_type": "code",
   "execution_count": 326,
   "id": "2cbfe82a",
   "metadata": {},
   "outputs": [],
   "source": [
    "gs=GridSearchCV(GBC(),param_grid=param,cv=3,)"
   ]
  },
  {
   "cell_type": "code",
   "execution_count": null,
   "id": "fb18f486",
   "metadata": {},
   "outputs": [],
   "source": [
    "gs.fit(xtrain,ytrain)"
   ]
  },
  {
   "cell_type": "code",
   "execution_count": 266,
   "id": "2246cebd",
   "metadata": {},
   "outputs": [
    {
     "data": {
      "text/plain": [
       "{'learning_rate': 0.1, 'max_depth': 7, 'min_samples_split': 9}"
      ]
     },
     "execution_count": 266,
     "metadata": {},
     "output_type": "execute_result"
    }
   ],
   "source": [
    "gs.best_params_"
   ]
  },
  {
   "cell_type": "code",
   "execution_count": 309,
   "id": "42c09702",
   "metadata": {},
   "outputs": [],
   "source": [
    "# manual model\n",
    "gb=GBC(learning_rate= 0.39, max_depth= 9, min_samples_split= 3)"
   ]
  },
  {
   "cell_type": "code",
   "execution_count": 310,
   "id": "e03d4206",
   "metadata": {},
   "outputs": [
    {
     "data": {
      "text/plain": [
       "GradientBoostingClassifier(learning_rate=0.39, max_depth=9, min_samples_split=3)"
      ]
     },
     "execution_count": 310,
     "metadata": {},
     "output_type": "execute_result"
    }
   ],
   "source": [
    "gb.fit(xtrain,ytrain)"
   ]
  },
  {
   "cell_type": "code",
   "execution_count": 311,
   "id": "bd8c6d5d",
   "metadata": {},
   "outputs": [
    {
     "data": {
      "text/plain": [
       "0.7894736842105263"
      ]
     },
     "execution_count": 311,
     "metadata": {},
     "output_type": "execute_result"
    }
   ],
   "source": [
    "gb.score(xtest,ytest)"
   ]
  },
  {
   "cell_type": "code",
   "execution_count": 293,
   "id": "ded296eb",
   "metadata": {},
   "outputs": [
    {
     "name": "stdout",
     "output_type": "stream",
     "text": [
      "              precision    recall  f1-score   support\n",
      "\n",
      "           0       0.83      0.70      0.76        43\n",
      "           1       0.68      0.82      0.74        33\n",
      "\n",
      "    accuracy                           0.75        76\n",
      "   macro avg       0.75      0.76      0.75        76\n",
      "weighted avg       0.76      0.75      0.75        76\n",
      "\n"
     ]
    }
   ],
   "source": [
    "pred2=gb.predict(xtest)\n",
    "print(classification_report(ytest,pred2))"
   ]
  },
  {
   "cell_type": "code",
   "execution_count": 321,
   "id": "a5fa5904",
   "metadata": {},
   "outputs": [
    {
     "data": {
      "text/plain": [
       "array([0.1 , 0.11, 0.12, 0.13, 0.14, 0.15, 0.16, 0.17, 0.18, 0.19, 0.2 ,\n",
       "       0.21, 0.22, 0.23, 0.24, 0.25, 0.26, 0.27, 0.28, 0.29, 0.3 , 0.31,\n",
       "       0.32, 0.33, 0.34, 0.35, 0.36, 0.37, 0.38, 0.39, 0.4 , 0.41, 0.42,\n",
       "       0.43, 0.44, 0.45, 0.46, 0.47, 0.48, 0.49])"
      ]
     },
     "execution_count": 321,
     "metadata": {},
     "output_type": "execute_result"
    }
   ],
   "source": [
    "np.arange(0.1,0.5,0.01)"
   ]
  },
  {
   "cell_type": "code",
   "execution_count": null,
   "id": "3084de5a",
   "metadata": {},
   "outputs": [],
   "source": []
  }
 ],
 "metadata": {
  "kernelspec": {
   "display_name": "Python 3 (ipykernel)",
   "language": "python",
   "name": "python3"
  },
  "language_info": {
   "codemirror_mode": {
    "name": "ipython",
    "version": 3
   },
   "file_extension": ".py",
   "mimetype": "text/x-python",
   "name": "python",
   "nbconvert_exporter": "python",
   "pygments_lexer": "ipython3",
   "version": "3.10.2"
  }
 },
 "nbformat": 4,
 "nbformat_minor": 5
}
