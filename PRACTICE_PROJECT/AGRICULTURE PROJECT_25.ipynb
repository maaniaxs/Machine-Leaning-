{
 "cells": [
  {
   "cell_type": "markdown",
   "id": "9871b7a4",
   "metadata": {},
   "source": [
    "# Agriculture Project"
   ]
  },
  {
   "cell_type": "markdown",
   "id": "f7dbf6cc",
   "metadata": {},
   "source": [
    "**Machine Learning in Agriculture**\n",
    "\n",
    "* Recently we have observed the emerging concept of smart farming that makes agriculture more efficient and effective with \n",
    "the help of high-precision algorithms. The mechanism that drives it is Machine Learning — the scientific field that gives \n",
    "machines the ability to learn without being strictly programmed. It has emerged together with big data technologies and\n",
    "high-performance computing to create new opportunities to unravel, quantify, and understand data intensive processes in\n",
    "agricultural operational environments.\n",
    "* Machine learning is everywhere throughout the whole growing and harvesting cycle. It begins with a seed being planted in\n",
    "the soil — from the soil preparation, seeds breeding and water feed measurement — and it ends when neural networks pick \n",
    "up the harvest determining the ripeness with the help of computer vision"
   ]
  },
  {
   "cell_type": "markdown",
   "id": "39001b33",
   "metadata": {},
   "source": [
    "**Features Information**\n",
    "* Estimated_Insects_Count: Estimated insects count per square meter\n",
    "* Crop_Type: Category of Crop (0,1)\n",
    "* Soil_Type: Category of Soil (0,1)\n",
    "* Pesticide_Use_Category: Type os pesticides uses (1-Never, 2-Previously used, 3-Currently used)\n",
    "* Number_Doses_Week: Number of doses per week\n",
    "* Number_Weeks_Used: Number of weeks used\n",
    "* Number_Weeks_Quit: Number of weeks Quit\n",
    "* Season: Season Category(1,2,3)\n",
    "* Crop_Damage: Crop_damage category(0=alive, 1=Damage due to the other causes, 2=Damage due to Pesticides)"
   ]
  },
  {
   "cell_type": "code",
   "execution_count": 3,
   "id": "d5300afe",
   "metadata": {},
   "outputs": [],
   "source": [
    "import pandas as pd\n",
    "import numpy as np\n",
    "import matplotlib.pyplot as plt\n",
    "import seaborn as sns\n",
    "\n",
    "import warnings\n",
    "warnings.filterwarnings('ignore')"
   ]
  },
  {
   "cell_type": "code",
   "execution_count": 4,
   "id": "9b1a101d",
   "metadata": {},
   "outputs": [
    {
     "data": {
      "text/html": [
       "<div>\n",
       "<style scoped>\n",
       "    .dataframe tbody tr th:only-of-type {\n",
       "        vertical-align: middle;\n",
       "    }\n",
       "\n",
       "    .dataframe tbody tr th {\n",
       "        vertical-align: top;\n",
       "    }\n",
       "\n",
       "    .dataframe thead th {\n",
       "        text-align: right;\n",
       "    }\n",
       "</style>\n",
       "<table border=\"1\" class=\"dataframe\">\n",
       "  <thead>\n",
       "    <tr style=\"text-align: right;\">\n",
       "      <th></th>\n",
       "      <th>ID</th>\n",
       "      <th>Estimated_Insects_Count</th>\n",
       "      <th>Crop_Type</th>\n",
       "      <th>Soil_Type</th>\n",
       "      <th>Pesticide_Use_Category</th>\n",
       "      <th>Number_Doses_Week</th>\n",
       "      <th>Number_Weeks_Used</th>\n",
       "      <th>Number_Weeks_Quit</th>\n",
       "      <th>Season</th>\n",
       "      <th>Crop_Damage</th>\n",
       "    </tr>\n",
       "  </thead>\n",
       "  <tbody>\n",
       "    <tr>\n",
       "      <th>0</th>\n",
       "      <td>F00000001</td>\n",
       "      <td>188</td>\n",
       "      <td>1</td>\n",
       "      <td>0</td>\n",
       "      <td>1</td>\n",
       "      <td>0</td>\n",
       "      <td>0.0</td>\n",
       "      <td>0</td>\n",
       "      <td>1</td>\n",
       "      <td>0</td>\n",
       "    </tr>\n",
       "    <tr>\n",
       "      <th>1</th>\n",
       "      <td>F00000003</td>\n",
       "      <td>209</td>\n",
       "      <td>1</td>\n",
       "      <td>0</td>\n",
       "      <td>1</td>\n",
       "      <td>0</td>\n",
       "      <td>0.0</td>\n",
       "      <td>0</td>\n",
       "      <td>2</td>\n",
       "      <td>1</td>\n",
       "    </tr>\n",
       "    <tr>\n",
       "      <th>2</th>\n",
       "      <td>F00000004</td>\n",
       "      <td>257</td>\n",
       "      <td>1</td>\n",
       "      <td>0</td>\n",
       "      <td>1</td>\n",
       "      <td>0</td>\n",
       "      <td>0.0</td>\n",
       "      <td>0</td>\n",
       "      <td>2</td>\n",
       "      <td>1</td>\n",
       "    </tr>\n",
       "    <tr>\n",
       "      <th>3</th>\n",
       "      <td>F00000005</td>\n",
       "      <td>257</td>\n",
       "      <td>1</td>\n",
       "      <td>1</td>\n",
       "      <td>1</td>\n",
       "      <td>0</td>\n",
       "      <td>0.0</td>\n",
       "      <td>0</td>\n",
       "      <td>2</td>\n",
       "      <td>1</td>\n",
       "    </tr>\n",
       "    <tr>\n",
       "      <th>4</th>\n",
       "      <td>F00000006</td>\n",
       "      <td>342</td>\n",
       "      <td>1</td>\n",
       "      <td>0</td>\n",
       "      <td>1</td>\n",
       "      <td>0</td>\n",
       "      <td>0.0</td>\n",
       "      <td>0</td>\n",
       "      <td>2</td>\n",
       "      <td>1</td>\n",
       "    </tr>\n",
       "  </tbody>\n",
       "</table>\n",
       "</div>"
      ],
      "text/plain": [
       "          ID  Estimated_Insects_Count  Crop_Type  Soil_Type  \\\n",
       "0  F00000001                      188          1          0   \n",
       "1  F00000003                      209          1          0   \n",
       "2  F00000004                      257          1          0   \n",
       "3  F00000005                      257          1          1   \n",
       "4  F00000006                      342          1          0   \n",
       "\n",
       "   Pesticide_Use_Category  Number_Doses_Week  Number_Weeks_Used  \\\n",
       "0                       1                  0                0.0   \n",
       "1                       1                  0                0.0   \n",
       "2                       1                  0                0.0   \n",
       "3                       1                  0                0.0   \n",
       "4                       1                  0                0.0   \n",
       "\n",
       "   Number_Weeks_Quit  Season  Crop_Damage  \n",
       "0                  0       1            0  \n",
       "1                  0       2            1  \n",
       "2                  0       2            1  \n",
       "3                  0       2            1  \n",
       "4                  0       2            1  "
      ]
     },
     "execution_count": 4,
     "metadata": {},
     "output_type": "execute_result"
    }
   ],
   "source": [
    "# Load the Train dataset\n",
    "df = pd.read_excel('train_agriculture.xlsx')\n",
    "df.head()"
   ]
  },
  {
   "cell_type": "code",
   "execution_count": 5,
   "id": "405c5a4f",
   "metadata": {},
   "outputs": [
    {
     "data": {
      "text/html": [
       "<div>\n",
       "<style scoped>\n",
       "    .dataframe tbody tr th:only-of-type {\n",
       "        vertical-align: middle;\n",
       "    }\n",
       "\n",
       "    .dataframe tbody tr th {\n",
       "        vertical-align: top;\n",
       "    }\n",
       "\n",
       "    .dataframe thead th {\n",
       "        text-align: right;\n",
       "    }\n",
       "</style>\n",
       "<table border=\"1\" class=\"dataframe\">\n",
       "  <thead>\n",
       "    <tr style=\"text-align: right;\">\n",
       "      <th></th>\n",
       "      <th>ID</th>\n",
       "      <th>Estimated_Insects_Count</th>\n",
       "      <th>Crop_Type</th>\n",
       "      <th>Soil_Type</th>\n",
       "      <th>Pesticide_Use_Category</th>\n",
       "      <th>Number_Doses_Week</th>\n",
       "      <th>Number_Weeks_Used</th>\n",
       "      <th>Number_Weeks_Quit</th>\n",
       "      <th>Season</th>\n",
       "    </tr>\n",
       "  </thead>\n",
       "  <tbody>\n",
       "    <tr>\n",
       "      <th>0</th>\n",
       "      <td>F00000002</td>\n",
       "      <td>188</td>\n",
       "      <td>1</td>\n",
       "      <td>1</td>\n",
       "      <td>1</td>\n",
       "      <td>0</td>\n",
       "      <td>NaN</td>\n",
       "      <td>0</td>\n",
       "      <td>2</td>\n",
       "    </tr>\n",
       "    <tr>\n",
       "      <th>1</th>\n",
       "      <td>F00000007</td>\n",
       "      <td>410</td>\n",
       "      <td>1</td>\n",
       "      <td>1</td>\n",
       "      <td>1</td>\n",
       "      <td>0</td>\n",
       "      <td>0.0</td>\n",
       "      <td>0</td>\n",
       "      <td>2</td>\n",
       "    </tr>\n",
       "    <tr>\n",
       "      <th>2</th>\n",
       "      <td>F00000011</td>\n",
       "      <td>626</td>\n",
       "      <td>1</td>\n",
       "      <td>0</td>\n",
       "      <td>1</td>\n",
       "      <td>0</td>\n",
       "      <td>0.0</td>\n",
       "      <td>0</td>\n",
       "      <td>2</td>\n",
       "    </tr>\n",
       "    <tr>\n",
       "      <th>3</th>\n",
       "      <td>F00000013</td>\n",
       "      <td>731</td>\n",
       "      <td>1</td>\n",
       "      <td>0</td>\n",
       "      <td>1</td>\n",
       "      <td>0</td>\n",
       "      <td>0.0</td>\n",
       "      <td>0</td>\n",
       "      <td>2</td>\n",
       "    </tr>\n",
       "    <tr>\n",
       "      <th>4</th>\n",
       "      <td>F00000014</td>\n",
       "      <td>789</td>\n",
       "      <td>0</td>\n",
       "      <td>0</td>\n",
       "      <td>1</td>\n",
       "      <td>0</td>\n",
       "      <td>0.0</td>\n",
       "      <td>0</td>\n",
       "      <td>1</td>\n",
       "    </tr>\n",
       "  </tbody>\n",
       "</table>\n",
       "</div>"
      ],
      "text/plain": [
       "          ID  Estimated_Insects_Count  Crop_Type  Soil_Type  \\\n",
       "0  F00000002                      188          1          1   \n",
       "1  F00000007                      410          1          1   \n",
       "2  F00000011                      626          1          0   \n",
       "3  F00000013                      731          1          0   \n",
       "4  F00000014                      789          0          0   \n",
       "\n",
       "   Pesticide_Use_Category  Number_Doses_Week  Number_Weeks_Used  \\\n",
       "0                       1                  0                NaN   \n",
       "1                       1                  0                0.0   \n",
       "2                       1                  0                0.0   \n",
       "3                       1                  0                0.0   \n",
       "4                       1                  0                0.0   \n",
       "\n",
       "   Number_Weeks_Quit  Season  \n",
       "0                  0       2  \n",
       "1                  0       2  \n",
       "2                  0       2  \n",
       "3                  0       2  \n",
       "4                  0       1  "
      ]
     },
     "execution_count": 5,
     "metadata": {},
     "output_type": "execute_result"
    }
   ],
   "source": [
    "# Test Dataset \n",
    "test = pd.read_excel('test_agriculture.xlsx')\n",
    "test.head()"
   ]
  },
  {
   "cell_type": "code",
   "execution_count": null,
   "id": "a1a500eb",
   "metadata": {},
   "outputs": [],
   "source": []
  },
  {
   "cell_type": "code",
   "execution_count": 7,
   "id": "9d90d736",
   "metadata": {},
   "outputs": [
    {
     "data": {
      "text/plain": [
       "(4599, 10)"
      ]
     },
     "execution_count": 7,
     "metadata": {},
     "output_type": "execute_result"
    }
   ],
   "source": [
    "# ckecking shape of dataset\n",
    "df.shape"
   ]
  },
  {
   "cell_type": "code",
   "execution_count": 9,
   "id": "47007ad3",
   "metadata": {},
   "outputs": [
    {
     "data": {
      "text/plain": [
       "ID                           0\n",
       "Estimated_Insects_Count      0\n",
       "Crop_Type                    0\n",
       "Soil_Type                    0\n",
       "Pesticide_Use_Category       0\n",
       "Number_Doses_Week            0\n",
       "Number_Weeks_Used          442\n",
       "Number_Weeks_Quit            0\n",
       "Season                       0\n",
       "Crop_Damage                  0\n",
       "dtype: int64"
      ]
     },
     "execution_count": 9,
     "metadata": {},
     "output_type": "execute_result"
    }
   ],
   "source": [
    "# checking null value\n",
    "df.isnull().sum() \n",
    "# 10 percent null values in 'Number_Weeks_Quit' "
   ]
  },
  {
   "cell_type": "code",
   "execution_count": 10,
   "id": "215d6233",
   "metadata": {},
   "outputs": [],
   "source": [
    "# Impute null by groupby 'Season'\n",
    "df['Number_Weeks_Used'].fillna(df.groupby(['Season'])['Number_Weeks_Used'].transform(lambda x: x.mode()[0]),inplace=True)"
   ]
  },
  {
   "cell_type": "code",
   "execution_count": 11,
   "id": "fb56c112",
   "metadata": {},
   "outputs": [
    {
     "data": {
      "text/plain": [
       "ID                         0\n",
       "Estimated_Insects_Count    0\n",
       "Crop_Type                  0\n",
       "Soil_Type                  0\n",
       "Pesticide_Use_Category     0\n",
       "Number_Doses_Week          0\n",
       "Number_Weeks_Used          0\n",
       "Number_Weeks_Quit          0\n",
       "Season                     0\n",
       "Crop_Damage                0\n",
       "dtype: int64"
      ]
     },
     "execution_count": 11,
     "metadata": {},
     "output_type": "execute_result"
    }
   ],
   "source": [
    "# check again null value after imputation\n",
    "df.isnull().sum()"
   ]
  },
  {
   "cell_type": "code",
   "execution_count": 12,
   "id": "57c7ae0a",
   "metadata": {},
   "outputs": [],
   "source": [
    "# drop 'ID' feature this is unique value\n",
    "df.drop('ID', axis=1, inplace=True)"
   ]
  },
  {
   "cell_type": "code",
   "execution_count": 13,
   "id": "ffaca474",
   "metadata": {
    "scrolled": true
   },
   "outputs": [
    {
     "data": {
      "text/html": [
       "<div>\n",
       "<style scoped>\n",
       "    .dataframe tbody tr th:only-of-type {\n",
       "        vertical-align: middle;\n",
       "    }\n",
       "\n",
       "    .dataframe tbody tr th {\n",
       "        vertical-align: top;\n",
       "    }\n",
       "\n",
       "    .dataframe thead th {\n",
       "        text-align: right;\n",
       "    }\n",
       "</style>\n",
       "<table border=\"1\" class=\"dataframe\">\n",
       "  <thead>\n",
       "    <tr style=\"text-align: right;\">\n",
       "      <th></th>\n",
       "      <th>Estimated_Insects_Count</th>\n",
       "      <th>Crop_Type</th>\n",
       "      <th>Soil_Type</th>\n",
       "      <th>Pesticide_Use_Category</th>\n",
       "      <th>Number_Doses_Week</th>\n",
       "      <th>Number_Weeks_Used</th>\n",
       "      <th>Number_Weeks_Quit</th>\n",
       "      <th>Season</th>\n",
       "      <th>Crop_Damage</th>\n",
       "    </tr>\n",
       "  </thead>\n",
       "  <tbody>\n",
       "    <tr>\n",
       "      <th>count</th>\n",
       "      <td>4599.000000</td>\n",
       "      <td>4599.000000</td>\n",
       "      <td>4599.000000</td>\n",
       "      <td>4599.000000</td>\n",
       "      <td>4599.000000</td>\n",
       "      <td>4599.000000</td>\n",
       "      <td>4599.000000</td>\n",
       "      <td>4599.000000</td>\n",
       "      <td>4599.000000</td>\n",
       "    </tr>\n",
       "    <tr>\n",
       "      <th>mean</th>\n",
       "      <td>1363.000435</td>\n",
       "      <td>0.224831</td>\n",
       "      <td>0.476625</td>\n",
       "      <td>2.283540</td>\n",
       "      <td>26.477495</td>\n",
       "      <td>28.734508</td>\n",
       "      <td>9.205479</td>\n",
       "      <td>1.894325</td>\n",
       "      <td>0.194390</td>\n",
       "    </tr>\n",
       "    <tr>\n",
       "      <th>std</th>\n",
       "      <td>814.439120</td>\n",
       "      <td>0.417517</td>\n",
       "      <td>0.499508</td>\n",
       "      <td>0.471978</td>\n",
       "      <td>15.524647</td>\n",
       "      <td>12.054942</td>\n",
       "      <td>9.713253</td>\n",
       "      <td>0.694952</td>\n",
       "      <td>0.454597</td>\n",
       "    </tr>\n",
       "    <tr>\n",
       "      <th>min</th>\n",
       "      <td>150.000000</td>\n",
       "      <td>0.000000</td>\n",
       "      <td>0.000000</td>\n",
       "      <td>1.000000</td>\n",
       "      <td>0.000000</td>\n",
       "      <td>0.000000</td>\n",
       "      <td>0.000000</td>\n",
       "      <td>1.000000</td>\n",
       "      <td>0.000000</td>\n",
       "    </tr>\n",
       "    <tr>\n",
       "      <th>25%</th>\n",
       "      <td>731.000000</td>\n",
       "      <td>0.000000</td>\n",
       "      <td>0.000000</td>\n",
       "      <td>2.000000</td>\n",
       "      <td>15.000000</td>\n",
       "      <td>20.000000</td>\n",
       "      <td>0.000000</td>\n",
       "      <td>1.000000</td>\n",
       "      <td>0.000000</td>\n",
       "    </tr>\n",
       "    <tr>\n",
       "      <th>50%</th>\n",
       "      <td>1212.000000</td>\n",
       "      <td>0.000000</td>\n",
       "      <td>0.000000</td>\n",
       "      <td>2.000000</td>\n",
       "      <td>20.000000</td>\n",
       "      <td>29.000000</td>\n",
       "      <td>7.000000</td>\n",
       "      <td>2.000000</td>\n",
       "      <td>0.000000</td>\n",
       "    </tr>\n",
       "    <tr>\n",
       "      <th>75%</th>\n",
       "      <td>1786.000000</td>\n",
       "      <td>0.000000</td>\n",
       "      <td>1.000000</td>\n",
       "      <td>3.000000</td>\n",
       "      <td>40.000000</td>\n",
       "      <td>36.000000</td>\n",
       "      <td>16.000000</td>\n",
       "      <td>2.000000</td>\n",
       "      <td>0.000000</td>\n",
       "    </tr>\n",
       "    <tr>\n",
       "      <th>max</th>\n",
       "      <td>4097.000000</td>\n",
       "      <td>1.000000</td>\n",
       "      <td>1.000000</td>\n",
       "      <td>3.000000</td>\n",
       "      <td>95.000000</td>\n",
       "      <td>66.000000</td>\n",
       "      <td>47.000000</td>\n",
       "      <td>3.000000</td>\n",
       "      <td>2.000000</td>\n",
       "    </tr>\n",
       "  </tbody>\n",
       "</table>\n",
       "</div>"
      ],
      "text/plain": [
       "       Estimated_Insects_Count    Crop_Type    Soil_Type  \\\n",
       "count              4599.000000  4599.000000  4599.000000   \n",
       "mean               1363.000435     0.224831     0.476625   \n",
       "std                 814.439120     0.417517     0.499508   \n",
       "min                 150.000000     0.000000     0.000000   \n",
       "25%                 731.000000     0.000000     0.000000   \n",
       "50%                1212.000000     0.000000     0.000000   \n",
       "75%                1786.000000     0.000000     1.000000   \n",
       "max                4097.000000     1.000000     1.000000   \n",
       "\n",
       "       Pesticide_Use_Category  Number_Doses_Week  Number_Weeks_Used  \\\n",
       "count             4599.000000        4599.000000        4599.000000   \n",
       "mean                 2.283540          26.477495          28.734508   \n",
       "std                  0.471978          15.524647          12.054942   \n",
       "min                  1.000000           0.000000           0.000000   \n",
       "25%                  2.000000          15.000000          20.000000   \n",
       "50%                  2.000000          20.000000          29.000000   \n",
       "75%                  3.000000          40.000000          36.000000   \n",
       "max                  3.000000          95.000000          66.000000   \n",
       "\n",
       "       Number_Weeks_Quit       Season  Crop_Damage  \n",
       "count        4599.000000  4599.000000  4599.000000  \n",
       "mean            9.205479     1.894325     0.194390  \n",
       "std             9.713253     0.694952     0.454597  \n",
       "min             0.000000     1.000000     0.000000  \n",
       "25%             0.000000     1.000000     0.000000  \n",
       "50%             7.000000     2.000000     0.000000  \n",
       "75%            16.000000     2.000000     0.000000  \n",
       "max            47.000000     3.000000     2.000000  "
      ]
     },
     "execution_count": 13,
     "metadata": {},
     "output_type": "execute_result"
    }
   ],
   "source": [
    "# checking statistical summary\n",
    "df.describe()\n",
    "# in this datset has most of features are categorical "
   ]
  },
  {
   "cell_type": "markdown",
   "id": "cc470060",
   "metadata": {},
   "source": [
    "**Let's do Data Visualization**"
   ]
  },
  {
   "cell_type": "code",
   "execution_count": 5,
   "id": "34813fa4",
   "metadata": {},
   "outputs": [
    {
     "name": "stdout",
     "output_type": "stream",
     "text": [
      "0    3820\n",
      "1     664\n",
      "2     115\n",
      "Name: Crop_Damage, dtype: int64\n"
     ]
    },
    {
     "data": {
      "text/plain": [
       "<AxesSubplot:xlabel='Crop_Damage', ylabel='count'>"
      ]
     },
     "execution_count": 5,
     "metadata": {},
     "output_type": "execute_result"
    },
    {
     "data": {
      "image/png": "[encoded data removed]",
      "text/plain": [
       "<Figure size 432x288 with 1 Axes>"
      ]
     },
     "metadata": {
      "needs_background": "light"
     },
     "output_type": "display_data"
    }
   ],
   "source": [
    "# counting different values of Taret\n",
    "# Target is imbalanced \n",
    "\n",
    "print(df['Crop_Damage'].value_counts())\n",
    "sns.countplot(df['Crop_Damage'])\n",
    "\n",
    "# 0 =  alive, 1= crop damage due to other causes, \n",
    "# 2 = crop damage due to the pesticides \n",
    "#  about 2.5 percent crop-damaged due to pesticides and 14 percent crop-damaged due to other causes"
   ]
  },
  {
   "cell_type": "code",
   "execution_count": 24,
   "id": "11dc7c57",
   "metadata": {},
   "outputs": [
    {
     "name": "stdout",
     "output_type": "stream",
     "text": [
      "0    3565\n",
      "1    1034\n",
      "Name: Crop_Type, dtype: int64\n"
     ]
    },
    {
     "data": {
      "image/png": "[encoded data removed]",
      "text/plain": [
       "<Figure size 720x324 with 1 Axes>"
      ]
     },
     "metadata": {
      "needs_background": "light"
     },
     "output_type": "display_data"
    }
   ],
   "source": [
    "# let's check how 'Crop_Damaged' distributed with 'Crop_Type'\n",
    "\n",
    "print(df['Crop_Type'].value_counts())\n",
    "plt.figure(figsize=(10,4.5))\n",
    "sns.countplot(df['Crop_Type'], hue=df['Crop_Damage'])\n",
    "plt.show()\n",
    "# Crop_Damaged distributed in same ratio in both 'Crop_Type' "
   ]
  },
  {
   "cell_type": "code",
   "execution_count": 25,
   "id": "24203782",
   "metadata": {},
   "outputs": [
    {
     "name": "stdout",
     "output_type": "stream",
     "text": [
      "2    3205\n",
      "3    1349\n",
      "1      45\n",
      "Name: Pesticide_Use_Category, dtype: int64\n"
     ]
    },
    {
     "data": {
      "image/png": "[encoded data removed]",
      "text/plain": [
       "<Figure size 720x324 with 1 Axes>"
      ]
     },
     "metadata": {
      "needs_background": "light"
     },
     "output_type": "display_data"
    }
   ],
   "source": [
    "# plotting 'Pesticide_Use_Category' vs 'Crop_Damage'\n",
    "print(df['Pesticide_Use_Category'].value_counts())  # Counting categorical feature values\n",
    "plt.figure(figsize=(10,4.5))\n",
    "sns.countplot(df['Pesticide_Use_Category'], hue=df['Crop_Damage'])\n",
    "plt.show()"
   ]
  },
  {
   "cell_type": "code",
   "execution_count": 28,
   "id": "b8c6f32d",
   "metadata": {},
   "outputs": [
    {
     "name": "stdout",
     "output_type": "stream",
     "text": [
      "2    2327\n",
      "1    1379\n",
      "3     893\n",
      "Name: Season, dtype: int64\n"
     ]
    },
    {
     "data": {
      "image/png": "[encoded data removed]",
      "text/plain": [
       "<Figure size 720x324 with 1 Axes>"
      ]
     },
     "metadata": {
      "needs_background": "light"
     },
     "output_type": "display_data"
    }
   ],
   "source": [
    "# plotting 'Season' vs 'Crop_Damage'\n",
    "print(df['Season'].value_counts())  # Counting categorical feature values\n",
    "plt.figure(figsize=(10,4.5))\n",
    "sns.countplot(df['Season'], hue=df['Crop_Damage'])\n",
    "plt.show()"
   ]
  },
  {
   "cell_type": "code",
   "execution_count": 31,
   "id": "4ae40f78",
   "metadata": {},
   "outputs": [
    {
     "data": {
      "image/png": "[encoded data removed]",
      "text/plain": [
       "<Figure size 1296x360 with 1 Axes>"
      ]
     },
     "metadata": {
      "needs_background": "light"
     },
     "output_type": "display_data"
    }
   ],
   "source": [
    "# plotting 'Number_Doses_Week' vs 'Crop_Damage'\n",
    "plt.figure(figsize=(18,5))\n",
    "sns.countplot(df['Number_Doses_Week'], hue=df['Crop_Damage'])\n",
    "plt.show()"
   ]
  },
  {
   "cell_type": "code",
   "execution_count": 32,
   "id": "313d51ab",
   "metadata": {},
   "outputs": [
    {
     "data": {
      "image/png": "[encoded data removed]",
      "text/plain": [
       "<Figure size 1296x360 with 1 Axes>"
      ]
     },
     "metadata": {
      "needs_background": "light"
     },
     "output_type": "display_data"
    }
   ],
   "source": [
    "# plotting 'Soil_Type' vs 'Crop_Damage'\n",
    "plt.figure(figsize=(18,5))\n",
    "sns.countplot(df['Soil_Type'], hue=df['Crop_Damage'])\n",
    "plt.show()"
   ]
  },
  {
   "cell_type": "code",
   "execution_count": 41,
   "id": "d2b3f2af",
   "metadata": {
    "scrolled": true
   },
   "outputs": [
    {
     "data": {
      "image/png": "[encoded data removed]",
      "text/plain": [
       "<Figure size 720x360 with 1 Axes>"
      ]
     },
     "metadata": {
      "needs_background": "light"
     },
     "output_type": "display_data"
    }
   ],
   "source": [
    "# let's check distribution\n",
    "df['Estimated_Insects_Count'].plot( kind='hist', figsize=(10,5))\n",
    "plt.show()"
   ]
  },
  {
   "cell_type": "markdown",
   "id": "535db282",
   "metadata": {},
   "source": [
    "**This dataset has only categorical variable so i did not used Correlation heatmap & Boxplot**\n",
    "\n",
    "**Skewness & Outliers are only used over continuous features so we didn't used these method**"
   ]
  },
  {
   "cell_type": "markdown",
   "id": "4bc7af06",
   "metadata": {},
   "source": []
  },
  {
   "cell_type": "markdown",
   "id": "499231f3",
   "metadata": {},
   "source": [
    "**Checking Outliers**"
   ]
  },
  {
   "cell_type": "code",
   "execution_count": 36,
   "id": "cb5d4ae3",
   "metadata": {},
   "outputs": [
    {
     "data": {
      "text/plain": [
       "<AxesSubplot:xlabel='Estimated_Insects_Count'>"
      ]
     },
     "execution_count": 36,
     "metadata": {},
     "output_type": "execute_result"
    },
    {
     "data": {
      "image/png": "[encoded data removed]",
      "text/plain": [
       "<Figure size 432x288 with 1 Axes>"
      ]
     },
     "metadata": {
      "needs_background": "light"
     },
     "output_type": "display_data"
    }
   ],
   "source": [
    "# looking some Outliers in this feature, only this feature is countinuous type \n",
    "sns.boxplot(df['Estimated_Insects_Count'])"
   ]
  },
  {
   "cell_type": "code",
   "execution_count": 44,
   "id": "39d7aa39",
   "metadata": {},
   "outputs": [
    {
     "data": {
      "text/plain": [
       "(array([   7,    9,   14,  103,  112,  149,  165,  166,  167,  179,  186,\n",
       "         197,  207,  222,  223,  242,  248,  264,  265,  290,  296,  305,\n",
       "         316,  351,  355,  361,  374,  377,  453,  458,  466,  480,  510,\n",
       "         517,  522,  557,  595,  612,  634,  693,  819,  944,  980, 1067,\n",
       "        1178, 1327, 1339, 1340, 1737, 1807, 2043, 2139, 2170, 2171, 2237,\n",
       "        2585, 2590, 2663, 2671, 2696, 2710, 2716, 2723, 2767, 2792, 2796,\n",
       "        2797, 2804, 2806, 2814, 2828, 2829, 2834, 2841, 2842, 2851, 2860,\n",
       "        2861, 2870, 2884, 2888, 2912, 2915, 2917, 2921, 2923, 3015, 3045,\n",
       "        3058, 3086, 3107, 3126, 3183, 3189, 3206, 3248, 3628, 3629, 3657,\n",
       "        3686, 3716, 3717, 3718, 3740, 3796, 3850, 3851, 3935, 4091, 4155,\n",
       "        4277, 4278, 4378, 4545, 4570], dtype=int64),)"
      ]
     },
     "execution_count": 44,
     "metadata": {},
     "output_type": "execute_result"
    }
   ],
   "source": [
    "# these datapoint are outliers according zscore or Boxplot method but dataset is not so large that I remove 140 datapoint\n",
    "z = np.abs(zscore(df['Crop_Damage']))\n",
    "np.where(z>3)"
   ]
  },
  {
   "cell_type": "code",
   "execution_count": null,
   "id": "38b11e32",
   "metadata": {},
   "outputs": [],
   "source": []
  },
  {
   "cell_type": "markdown",
   "id": "c29a761b",
   "metadata": {},
   "source": [
    "**Let's start model building**"
   ]
  },
  {
   "cell_type": "code",
   "execution_count": 15,
   "id": "961894d7",
   "metadata": {},
   "outputs": [],
   "source": [
    "from sklearn.preprocessing import *\n",
    "from sklearn.model_selection import *\n",
    "from sklearn.metrics import *"
   ]
  },
  {
   "cell_type": "code",
   "execution_count": 16,
   "id": "94284d0a",
   "metadata": {},
   "outputs": [],
   "source": [
    "# Standardization the data\n",
    "sc = StandardScaler()\n",
    "scaled = sc.fit_transform(df[['Estimated_Insects_Count']])\n",
    "df['Estimated_Insects_Count'] = scaled\n"
   ]
  },
  {
   "cell_type": "code",
   "execution_count": 47,
   "id": "63cbb4da",
   "metadata": {},
   "outputs": [],
   "source": [
    "# Divide the dataset into input & target feature\n",
    "X = df.iloc[:, 1:-1]\n",
    "y = df['Crop_Damage']"
   ]
  },
  {
   "cell_type": "code",
   "execution_count": 49,
   "id": "066dc38b",
   "metadata": {},
   "outputs": [
    {
     "data": {
      "text/plain": [
       "((3679, 7), (920, 7))"
      ]
     },
     "execution_count": 49,
     "metadata": {},
     "output_type": "execute_result"
    }
   ],
   "source": [
    "# Split the data into Train & Test\n",
    "x_train, x_test, y_train, y_test = train_test_split(X, y, test_size=0.2, random_state=42, stratify=y)\n",
    "x_train.shape, x_test.shape"
   ]
  },
  {
   "cell_type": "code",
   "execution_count": 21,
   "id": "f63c3d9d",
   "metadata": {},
   "outputs": [],
   "source": [
    "from sklearn.linear_model import LogisticRegression\n",
    "from sklearn.svm import SVC\n",
    "from sklearn.neighbors import KNeighborsClassifier\n",
    "from sklearn.ensemble import *\n",
    "from sklearn.neural_network import MLPClassifier"
   ]
  },
  {
   "cell_type": "markdown",
   "id": "e18447eb",
   "metadata": {},
   "source": [
    "**LogisticRegression**"
   ]
  },
  {
   "cell_type": "code",
   "execution_count": 68,
   "id": "199a41c7",
   "metadata": {},
   "outputs": [
    {
     "name": "stdout",
     "output_type": "stream",
     "text": [
      "accuracy_score : 0.8304347826086956 \n",
      "confusion_matrix :\n",
      " [[763   1   0]\n",
      " [132   1   0]\n",
      " [ 23   0   0]]\n",
      "Classification_report :\n",
      "               precision    recall  f1-score   support\n",
      "\n",
      "           0       0.83      1.00      0.91       764\n",
      "           1       0.50      0.01      0.01       133\n",
      "           2       0.00      0.00      0.00        23\n",
      "\n",
      "    accuracy                           0.83       920\n",
      "   macro avg       0.44      0.34      0.31       920\n",
      "weighted avg       0.76      0.83      0.76       920\n",
      "\n"
     ]
    }
   ],
   "source": [
    "LR = LogisticRegression()\n",
    "LR.fit(x_train, y_train)\n",
    "pred = LR.predict(x_test)\n",
    "print(f'accuracy_score : {accuracy_score(y_test, pred)} ')\n",
    "print(f'confusion_matrix :\\n {confusion_matrix(y_test, pred)}')\n",
    "print(f'Classification_report :\\n {classification_report(y_test, pred)}')"
   ]
  },
  {
   "cell_type": "markdown",
   "id": "bac21b0f",
   "metadata": {},
   "source": [
    "**KNeighborsClassifier**"
   ]
  },
  {
   "cell_type": "code",
   "execution_count": 70,
   "id": "56fb0828",
   "metadata": {},
   "outputs": [
    {
     "name": "stdout",
     "output_type": "stream",
     "text": [
      "accuracy_score : 0.8130434782608695 \n",
      "confusion_matrix :\n",
      " [[737  27   0]\n",
      " [122  11   0]\n",
      " [ 19   4   0]]\n",
      "Classification_report :\n",
      "               precision    recall  f1-score   support\n",
      "\n",
      "           0       0.84      0.96      0.90       764\n",
      "           1       0.26      0.08      0.13       133\n",
      "           2       0.00      0.00      0.00        23\n",
      "\n",
      "    accuracy                           0.81       920\n",
      "   macro avg       0.37      0.35      0.34       920\n",
      "weighted avg       0.73      0.81      0.76       920\n",
      "\n"
     ]
    }
   ],
   "source": [
    "knn = KNeighborsClassifier(n_neighbors=9)\n",
    "knn.fit(x_train, y_train)\n",
    "pred = knn.predict(x_test)\n",
    "print(f'accuracy_score : {accuracy_score(y_test, pred)} ')\n",
    "print(f'confusion_matrix :\\n {confusion_matrix(y_test, pred)}')\n",
    "print(f'Classification_report :\\n {classification_report(y_test, pred)}')"
   ]
  },
  {
   "cell_type": "markdown",
   "id": "f294573a",
   "metadata": {},
   "source": [
    "**SVM Classifier**"
   ]
  },
  {
   "cell_type": "code",
   "execution_count": 71,
   "id": "9aa3d52b",
   "metadata": {
    "scrolled": true
   },
   "outputs": [
    {
     "name": "stdout",
     "output_type": "stream",
     "text": [
      "accuracy_score : 0.8304347826086956 \n",
      "confusion_matrix :\n",
      " [[764   0   0]\n",
      " [133   0   0]\n",
      " [ 23   0   0]]\n",
      "Classification_report :\n",
      "               precision    recall  f1-score   support\n",
      "\n",
      "           0       0.83      1.00      0.91       764\n",
      "           1       0.00      0.00      0.00       133\n",
      "           2       0.00      0.00      0.00        23\n",
      "\n",
      "    accuracy                           0.83       920\n",
      "   macro avg       0.28      0.33      0.30       920\n",
      "weighted avg       0.69      0.83      0.75       920\n",
      "\n"
     ]
    }
   ],
   "source": [
    "svm= SVC()\n",
    "svm.fit(x_train, y_train)\n",
    "pred = svm.predict(x_test)\n",
    "print(f'accuracy_score : {accuracy_score(y_test, pred)} ')\n",
    "print(f'confusion_matrix :\\n {confusion_matrix(y_test, pred)}')\n",
    "print(f'Classification_report :\\n {classification_report(y_test, pred)}')"
   ]
  },
  {
   "cell_type": "markdown",
   "id": "8a677ee3",
   "metadata": {},
   "source": [
    "**RandomForest Classifier**"
   ]
  },
  {
   "cell_type": "code",
   "execution_count": 78,
   "id": "f0b0e2e9",
   "metadata": {},
   "outputs": [
    {
     "name": "stdout",
     "output_type": "stream",
     "text": [
      "accuracy_score : 0.8141304347826087 \n",
      "confusion_matrix :\n",
      " [[723  38   3]\n",
      " [106  25   2]\n",
      " [ 17   5   1]]\n",
      "Classification_report :\n",
      "               precision    recall  f1-score   support\n",
      "\n",
      "           0       0.85      0.95      0.90       764\n",
      "           1       0.37      0.19      0.25       133\n",
      "           2       0.17      0.04      0.07        23\n",
      "\n",
      "    accuracy                           0.81       920\n",
      "   macro avg       0.46      0.39      0.41       920\n",
      "weighted avg       0.77      0.81      0.78       920\n",
      "\n"
     ]
    }
   ],
   "source": [
    "rf_c= RandomForestClassifier()\n",
    "rf_c.fit(x_train, y_train)\n",
    "pred = rf_c.predict(x_test)\n",
    "print(f'accuracy_score : {accuracy_score(y_test, pred)} ')\n",
    "print(f'confusion_matrix :\\n {confusion_matrix(y_test, pred)}')\n",
    "print(f'Classification_report :\\n {classification_report(y_test, pred)}')"
   ]
  },
  {
   "cell_type": "markdown",
   "id": "c978d1f8",
   "metadata": {},
   "source": [
    "**MLPClassifier**"
   ]
  },
  {
   "cell_type": "code",
   "execution_count": 66,
   "id": "dcc35fd4",
   "metadata": {},
   "outputs": [
    {
     "name": "stdout",
     "output_type": "stream",
     "text": [
      "accuracy_score : 0.8402173913043478 \n",
      "confusion_matrix :\n",
      " [[753  11   0]\n",
      " [113  20   0]\n",
      " [ 21   2   0]]\n",
      "Classification_report :\n",
      "               precision    recall  f1-score   support\n",
      "\n",
      "           0       0.85      0.99      0.91       764\n",
      "           1       0.61      0.15      0.24       133\n",
      "           2       0.00      0.00      0.00        23\n",
      "\n",
      "    accuracy                           0.84       920\n",
      "   macro avg       0.48      0.38      0.38       920\n",
      "weighted avg       0.79      0.84      0.79       920\n",
      "\n"
     ]
    }
   ],
   "source": [
    "mlp = MLPClassifier()\n",
    "mlp.fit(x_train, y_train)\n",
    "pred = mlp.predict(x_test)\n",
    "print(f'accuracy_score : {accuracy_score(y_test, pred)} ')\n",
    "print(f'confusion_matrix :\\n {confusion_matrix(y_test, pred)}')\n",
    "print(f'Classification_report :\\n {classification_report(y_test, pred)}')"
   ]
  },
  {
   "cell_type": "markdown",
   "id": "20796178",
   "metadata": {},
   "source": [
    "**AdaBoost Classifier**"
   ]
  },
  {
   "cell_type": "code",
   "execution_count": 67,
   "id": "18339097",
   "metadata": {},
   "outputs": [
    {
     "name": "stdout",
     "output_type": "stream",
     "text": [
      "accuracy_score : 0.8369565217391305 \n",
      "confusion_matrix :\n",
      " [[757   7   0]\n",
      " [119  13   1]\n",
      " [ 22   1   0]]\n",
      "Classification_report :\n",
      "               precision    recall  f1-score   support\n",
      "\n",
      "           0       0.84      0.99      0.91       764\n",
      "           1       0.62      0.10      0.17       133\n",
      "           2       0.00      0.00      0.00        23\n",
      "\n",
      "    accuracy                           0.84       920\n",
      "   macro avg       0.49      0.36      0.36       920\n",
      "weighted avg       0.79      0.84      0.78       920\n",
      "\n"
     ]
    }
   ],
   "source": [
    "ad_c= AdaBoostClassifier()\n",
    "ad_c.fit(x_train, y_train)\n",
    "pred = ad_c.predict(x_test)\n",
    "print(f'accuracy_score : {accuracy_score(y_test, pred)} ')\n",
    "print(f'confusion_matrix :\\n {confusion_matrix(y_test, pred)}')\n",
    "print(f'Classification_report :\\n {classification_report(y_test, pred)}')"
   ]
  },
  {
   "cell_type": "code",
   "execution_count": null,
   "id": "9befa110",
   "metadata": {},
   "outputs": [],
   "source": []
  },
  {
   "cell_type": "markdown",
   "id": "bf292a18",
   "metadata": {},
   "source": [
    "**CROSS-VALIDATION**"
   ]
  },
  {
   "cell_type": "code",
   "execution_count": 79,
   "id": "6b158224",
   "metadata": {},
   "outputs": [
    {
     "name": "stdout",
     "output_type": "stream",
     "text": [
      "cross_validation_score with KNN-Classifier: 0.8216916758553462\n",
      "\n",
      "cross_validation_score with SVM-Classifier: 0.8306619578013221\n",
      "\n",
      "cross_validation_score with AdaBoost-Classifier: 0.8333806084237554\n",
      "\n",
      "cross_validation_score with RandomForest: 0.8067447571258876\n",
      "\n",
      "cross_validation_score with MLPClassifier: 0.8317492848810266\n"
     ]
    }
   ],
   "source": [
    "kfold = KFold(n_splits=9, random_state=42, shuffle=True)\n",
    "\n",
    "# KNN classifier\n",
    "print(f'cross_validation_score with KNN-Classifier: {cross_val_score(knn ,x_train,y_train,cv= kfold).mean()}\\n')  \n",
    "# SVM Classifier \n",
    "print(f'cross_validation_score with SVM-Classifier: {cross_val_score(svm ,x_train,y_train,cv= kfold).mean()}\\n')  \n",
    "#  AdaBoost-Classifier\n",
    "print(f'cross_validation_score with AdaBoost-Classifier: {cross_val_score(ad_c ,x_train,y_train, cv=kfold).mean()}\\n')  \n",
    "# RandomForest Classifier\n",
    "print(f'cross_validation_score with RandomForest: {cross_val_score(rf_c,x_train,y_train, cv = kfold ).mean()}\\n')\n",
    "# MLPCLassifier\n",
    "print(f'cross_validation_score with MLPClassifier: {cross_val_score(mlp, x_train,y_train, cv = kfold ).mean()}')\n"
   ]
  },
  {
   "cell_type": "code",
   "execution_count": null,
   "id": "a9a09e22",
   "metadata": {},
   "outputs": [],
   "source": [
    "# we can see above cross-validation score and we get 2-3 % difference in accuracy-score among the models "
   ]
  },
  {
   "cell_type": "markdown",
   "id": "9d98b23c",
   "metadata": {},
   "source": [
    "**Let's use Hyperparameter-Tuning**"
   ]
  },
  {
   "cell_type": "code",
   "execution_count": 76,
   "id": "bfc3998b",
   "metadata": {},
   "outputs": [
    {
     "name": "stdout",
     "output_type": "stream",
     "text": [
      "best_parameter= {'criterion': 'gini', 'max_depth': 7, 'min_samples_split': 3, 'n_estimators': 180} \n",
      "\n",
      "accuracy_score= 0.8347826086956521\n",
      "classification_report \n",
      "                precision    recall  f1-score   support\n",
      "\n",
      "           0       0.84      0.99      0.91       764\n",
      "           1       0.56      0.07      0.12       133\n",
      "           2       0.00      0.00      0.00        23\n",
      "\n",
      "    accuracy                           0.83       920\n",
      "   macro avg       0.47      0.35      0.34       920\n",
      "weighted avg       0.78      0.83      0.77       920\n",
      " \n",
      "\n"
     ]
    }
   ],
   "source": [
    "#  HYPERPARAMATER TUNING        '''' RANDOMFOREST-classification''''\n",
    "from sklearn.model_selection import GridSearchCV\n",
    "\n",
    "param= {'n_estimators':[100,180, 380],'max_depth':[7,9,11,17] ,'min_samples_split':[2,3],'criterion':['gini','entropy'] }\n",
    "gcv = GridSearchCV(rf_c ,param, cv=kfold,n_jobs=-1)\n",
    "\n",
    "gcv.fit(x_train,y_train)\n",
    "print('best_parameter=', gcv.best_params_ ,'\\n')\n",
    "\n",
    "\n",
    "Grid_RF = gcv.best_estimator_\n",
    "Grid_RF.fit(x_train, y_train)\n",
    "pred = Grid_RF.predict(x_test)\n",
    "\n",
    "print('accuracy_score=', accuracy_score(y_test, pred))\n",
    "print('classification_report \\n ', classification_report(y_test, pred), '\\n')"
   ]
  },
  {
   "cell_type": "code",
   "execution_count": 83,
   "id": "f3077cc3",
   "metadata": {},
   "outputs": [
    {
     "name": "stdout",
     "output_type": "stream",
     "text": [
      "best_parameter= {'activation': 'relu', 'alpha': 0.0001, 'hidden_layer_sizes': 100, 'learning_rate': 'constant', 'learning_rate_init': 0.1} \n",
      "\n",
      "accuracy_score= 0.8326086956521739\n",
      "classification_report: \n",
      "                precision    recall  f1-score   support\n",
      "\n",
      "           0       0.83      1.00      0.91       764\n",
      "           1       0.75      0.02      0.04       133\n",
      "           2       0.00      0.00      0.00        23\n",
      "\n",
      "    accuracy                           0.83       920\n",
      "   macro avg       0.53      0.34      0.32       920\n",
      "weighted avg       0.80      0.83      0.76       920\n",
      "\n",
      "confusion-matrix: \n",
      " [[763   1   0]\n",
      " [130   3   0]\n",
      " [ 23   0   0]]\n"
     ]
    }
   ],
   "source": [
    "#  HYPERPARAMATER TUNING        '''MLP-classification''\n",
    "mlp_c = MLPClassifier()\n",
    "param= {'hidden_layer_sizes':[70,130,100],'activation':['tanh','relu'],'learning_rate':['constant','adaptive'] ,\n",
    "        'alpha':[0.001,0.0001],'learning_rate_init':[0.1,0.001,0.0019] }\n",
    "gsv = GridSearchCV(mlp_c ,param, cv=kfold, n_jobs=-1)\n",
    "\n",
    "gsv.fit(x_train,y_train)\n",
    "print('best_parameter=', gsv.best_params_ ,'\\n')\n",
    "\n",
    "Grid_mlp = gsv.best_estimator_\n",
    "Grid_mlp.fit(x_train, y_train)\n",
    "pred = Grid_mlp.predict(x_test)\n",
    "\n",
    "print('accuracy_score=', accuracy_score(y_test, pred))\n",
    "print('classification_report: \\n ', classification_report(y_test, pred))\n",
    "print('confusion-matrix: \\n', confusion_matrix(y_test, pred))"
   ]
  },
  {
   "cell_type": "code",
   "execution_count": null,
   "id": "4408e741",
   "metadata": {},
   "outputs": [],
   "source": [
    "**Hyperparameter tunning with "
   ]
  },
  {
   "cell_type": "code",
   "execution_count": 84,
   "id": "7a7a844e",
   "metadata": {},
   "outputs": [
    {
     "name": "stdout",
     "output_type": "stream",
     "text": [
      "best_parameter= {'learning_rate': 0.1, 'n_estimators': 130} \n",
      "\n",
      "accuracy_score= 0.8336956521739131\n",
      "classification_report: \n",
      "                precision    recall  f1-score   support\n",
      "\n",
      "           0       0.83      1.00      0.91       764\n",
      "           1       0.80      0.03      0.06       133\n",
      "           2       0.00      0.00      0.00        23\n",
      "\n",
      "    accuracy                           0.83       920\n",
      "   macro avg       0.54      0.34      0.32       920\n",
      "weighted avg       0.81      0.83      0.76       920\n",
      "\n",
      "confusion-matrix: \n",
      " [[763   1   0]\n",
      " [129   4   0]\n",
      " [ 23   0   0]]\n"
     ]
    }
   ],
   "source": [
    "#  HYPERPARAMATER TUNING        '''AdaBoost-classification''\n",
    "ad_c = AdaBoostClassifier()\n",
    "param= {'n_estimators':[70,130,210],'learning_rate':[1.0,0.1,0.001,0.39]}\n",
    "gsv = GridSearchCV(ad_c ,param, cv=kfold, n_jobs=-1)\n",
    "\n",
    "gsv.fit(x_train,y_train)\n",
    "print('best_parameter=', gsv.best_params_ ,'\\n')\n",
    "\n",
    "Grid_ad = gsv.best_estimator_\n",
    "Grid_ad.fit(x_train, y_train)\n",
    "pred = Grid_ad.predict(x_test)\n",
    "\n",
    "print('accuracy_score=', accuracy_score(y_test, pred))\n",
    "print('classification_report: \\n ', classification_report(y_test, pred))\n",
    "print('confusion-matrix: \\n', confusion_matrix(y_test, pred))"
   ]
  },
  {
   "cell_type": "markdown",
   "id": "9f869592",
   "metadata": {},
   "source": [
    "* Dataset has three multiclass target value and class value distribution ratio is 80:15:5 so huge diffences \n",
    "  therfore accuracy-score would be affected\n",
    "  \n",
    "* Accuracy_sscore could have been improved but multiclass target is imbalanced and bigger differnces in class distribution\n",
    "* From MLPClassifier, AdaboostClassifier and RansdomForestClassifier we get about 83-84 percent accuracy-score"
   ]
  },
  {
   "cell_type": "code",
   "execution_count": null,
   "id": "ca5e7e5c",
   "metadata": {},
   "outputs": [],
   "source": []
  },
  {
   "cell_type": "code",
   "execution_count": null,
   "id": "f44ef402",
   "metadata": {},
   "outputs": [],
   "source": []
  }
 ],
 "metadata": {
  "kernelspec": {
   "display_name": "Python 3 (ipykernel)",
   "language": "python",
   "name": "python3"
  },
  "language_info": {
   "codemirror_mode": {
    "name": "ipython",
    "version": 3
   },
   "file_extension": ".py",
   "mimetype": "text/x-python",
   "name": "python",
   "nbconvert_exporter": "python",
   "pygments_lexer": "ipython3",
   "version": "3.9.12"
  }
 },
 "nbformat": 4,
 "nbformat_minor": 5
}
