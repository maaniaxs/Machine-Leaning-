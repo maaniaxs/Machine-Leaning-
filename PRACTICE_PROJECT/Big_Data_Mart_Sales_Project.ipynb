{
 "cells": [
  {
   "cell_type": "code",
   "execution_count": null,
   "id": "0f926ad8",
   "metadata": {},
   "outputs": [],
   "source": []
  },
  {
   "cell_type": "code",
   "execution_count": 1,
   "id": "951efaeb",
   "metadata": {},
   "outputs": [],
   "source": [
    "# IMPORT THE NECESSARY LIBRARY\n",
    "\n",
    "import pandas as pd\n",
    "import numpy as np\n",
    "import matplotlib.pyplot as plt\n",
    "import seaborn as sns"
   ]
  },
  {
   "cell_type": "code",
   "execution_count": 2,
   "id": "546f5b09",
   "metadata": {},
   "outputs": [],
   "source": [
    "import warnings\n",
    "warnings.filterwarnings('ignore')"
   ]
  },
  {
   "cell_type": "code",
   "execution_count": null,
   "id": "ed2b3a8f",
   "metadata": {},
   "outputs": [],
   "source": []
  },
  {
   "cell_type": "code",
   "execution_count": 17,
   "id": "47f862a1",
   "metadata": {},
   "outputs": [],
   "source": [
    "# LOAD THE DATASET\n",
    "\n",
    "train= pd.read_csv('https://raw.githubusercontent.com/dsrscientist/bigdatamart_rep/master/bigdatamart_Train.csv')"
   ]
  },
  {
   "cell_type": "code",
   "execution_count": null,
   "id": "e5256eab",
   "metadata": {},
   "outputs": [],
   "source": []
  },
  {
   "cell_type": "code",
   "execution_count": 22,
   "id": "6c97b536",
   "metadata": {},
   "outputs": [],
   "source": [
    "# LOAD THE   TEST dataset\n",
    "\n",
    "test= pd.read_csv('https://raw.githubusercontent.com/dsrscientist/bigdatamart_rep/master/bigdatamart_Test.csv')\n",
    "\n",
    "# IN THIS JUPYTER NOTEBOOK we load two 'TRAIN & TEST dataset'  \n",
    "\n",
    "# we do all ED analysis part over ' TRAIN dataset and also do (train & test the model )\n",
    "\n",
    "# in last part we predict 'Outlet-Sales' over input-features of 'TEST DATASET' "
   ]
  },
  {
   "cell_type": "code",
   "execution_count": 20,
   "id": "42df2275",
   "metadata": {
    "scrolled": false
   },
   "outputs": [
    {
     "data": {
      "text/html": [
       "<div>\n",
       "<style scoped>\n",
       "    .dataframe tbody tr th:only-of-type {\n",
       "        vertical-align: middle;\n",
       "    }\n",
       "\n",
       "    .dataframe tbody tr th {\n",
       "        vertical-align: top;\n",
       "    }\n",
       "\n",
       "    .dataframe thead th {\n",
       "        text-align: right;\n",
       "    }\n",
       "</style>\n",
       "<table border=\"1\" class=\"dataframe\">\n",
       "  <thead>\n",
       "    <tr style=\"text-align: right;\">\n",
       "      <th></th>\n",
       "      <th>Item_Identifier</th>\n",
       "      <th>Item_Weight</th>\n",
       "      <th>Item_Fat_Content</th>\n",
       "      <th>Item_Visibility</th>\n",
       "      <th>Item_Type</th>\n",
       "      <th>Item_MRP</th>\n",
       "      <th>Outlet_Identifier</th>\n",
       "      <th>Outlet_Establishment_Year</th>\n",
       "      <th>Outlet_Size</th>\n",
       "      <th>Outlet_Location_Type</th>\n",
       "      <th>Outlet_Type</th>\n",
       "      <th>Item_Outlet_Sales</th>\n",
       "    </tr>\n",
       "  </thead>\n",
       "  <tbody>\n",
       "    <tr>\n",
       "      <th>4233</th>\n",
       "      <td>NCY18</td>\n",
       "      <td>NaN</td>\n",
       "      <td>Low Fat</td>\n",
       "      <td>0.031001</td>\n",
       "      <td>Household</td>\n",
       "      <td>177.0054</td>\n",
       "      <td>OUT027</td>\n",
       "      <td>1985</td>\n",
       "      <td>Medium</td>\n",
       "      <td>Tier 3</td>\n",
       "      <td>Supermarket Type3</td>\n",
       "      <td>2101.2648</td>\n",
       "    </tr>\n",
       "    <tr>\n",
       "      <th>3976</th>\n",
       "      <td>FDJ32</td>\n",
       "      <td>NaN</td>\n",
       "      <td>Low Fat</td>\n",
       "      <td>0.057512</td>\n",
       "      <td>Fruits and Vegetables</td>\n",
       "      <td>62.5536</td>\n",
       "      <td>OUT027</td>\n",
       "      <td>1985</td>\n",
       "      <td>Medium</td>\n",
       "      <td>Tier 3</td>\n",
       "      <td>Supermarket Type3</td>\n",
       "      <td>1592.5936</td>\n",
       "    </tr>\n",
       "    <tr>\n",
       "      <th>5910</th>\n",
       "      <td>FDJ12</td>\n",
       "      <td>8.895</td>\n",
       "      <td>Regular</td>\n",
       "      <td>0.039009</td>\n",
       "      <td>Baking Goods</td>\n",
       "      <td>209.0296</td>\n",
       "      <td>OUT013</td>\n",
       "      <td>1987</td>\n",
       "      <td>High</td>\n",
       "      <td>Tier 3</td>\n",
       "      <td>Supermarket Type1</td>\n",
       "      <td>2285.0256</td>\n",
       "    </tr>\n",
       "    <tr>\n",
       "      <th>7335</th>\n",
       "      <td>NCU18</td>\n",
       "      <td>15.100</td>\n",
       "      <td>Low Fat</td>\n",
       "      <td>0.055794</td>\n",
       "      <td>Household</td>\n",
       "      <td>139.7496</td>\n",
       "      <td>OUT013</td>\n",
       "      <td>1987</td>\n",
       "      <td>High</td>\n",
       "      <td>Tier 3</td>\n",
       "      <td>Supermarket Type1</td>\n",
       "      <td>3952.1888</td>\n",
       "    </tr>\n",
       "    <tr>\n",
       "      <th>3744</th>\n",
       "      <td>FDN56</td>\n",
       "      <td>5.460</td>\n",
       "      <td>Regular</td>\n",
       "      <td>0.107663</td>\n",
       "      <td>Fruits and Vegetables</td>\n",
       "      <td>143.8786</td>\n",
       "      <td>OUT017</td>\n",
       "      <td>2007</td>\n",
       "      <td>NaN</td>\n",
       "      <td>Tier 2</td>\n",
       "      <td>Supermarket Type1</td>\n",
       "      <td>4334.3580</td>\n",
       "    </tr>\n",
       "  </tbody>\n",
       "</table>\n",
       "</div>"
      ],
      "text/plain": [
       "     Item_Identifier  Item_Weight Item_Fat_Content  Item_Visibility  \\\n",
       "4233           NCY18          NaN          Low Fat         0.031001   \n",
       "3976           FDJ32          NaN          Low Fat         0.057512   \n",
       "5910           FDJ12        8.895          Regular         0.039009   \n",
       "7335           NCU18       15.100          Low Fat         0.055794   \n",
       "3744           FDN56        5.460          Regular         0.107663   \n",
       "\n",
       "                  Item_Type  Item_MRP Outlet_Identifier  \\\n",
       "4233              Household  177.0054            OUT027   \n",
       "3976  Fruits and Vegetables   62.5536            OUT027   \n",
       "5910           Baking Goods  209.0296            OUT013   \n",
       "7335              Household  139.7496            OUT013   \n",
       "3744  Fruits and Vegetables  143.8786            OUT017   \n",
       "\n",
       "      Outlet_Establishment_Year Outlet_Size Outlet_Location_Type  \\\n",
       "4233                       1985      Medium               Tier 3   \n",
       "3976                       1985      Medium               Tier 3   \n",
       "5910                       1987        High               Tier 3   \n",
       "7335                       1987        High               Tier 3   \n",
       "3744                       2007         NaN               Tier 2   \n",
       "\n",
       "            Outlet_Type  Item_Outlet_Sales  \n",
       "4233  Supermarket Type3          2101.2648  \n",
       "3976  Supermarket Type3          1592.5936  \n",
       "5910  Supermarket Type1          2285.0256  \n",
       "7335  Supermarket Type1          3952.1888  \n",
       "3744  Supermarket Type1          4334.3580  "
      ]
     },
     "execution_count": 20,
     "metadata": {},
     "output_type": "execute_result"
    }
   ],
   "source": [
    "\n",
    "train.sample(5)"
   ]
  },
  {
   "cell_type": "code",
   "execution_count": 21,
   "id": "00ac64e4",
   "metadata": {},
   "outputs": [
    {
     "data": {
      "text/plain": [
       "(8523, 12)"
      ]
     },
     "execution_count": 21,
     "metadata": {},
     "output_type": "execute_result"
    }
   ],
   "source": [
    "# checking shape of the  TRAIN dataset\n",
    "\n",
    "train.shape"
   ]
  },
  {
   "cell_type": "code",
   "execution_count": null,
   "id": "4d8176d4",
   "metadata": {},
   "outputs": [],
   "source": []
  },
  {
   "cell_type": "code",
   "execution_count": 6,
   "id": "ae11ec4c",
   "metadata": {},
   "outputs": [
    {
     "data": {
      "text/plain": [
       "Item_Identifier                 0\n",
       "Item_Weight                  1463\n",
       "Item_Fat_Content                0\n",
       "Item_Visibility                 0\n",
       "Item_Type                       0\n",
       "Item_MRP                        0\n",
       "Outlet_Identifier               0\n",
       "Outlet_Establishment_Year       0\n",
       "Outlet_Size                  2410\n",
       "Outlet_Location_Type            0\n",
       "Outlet_Type                     0\n",
       "Item_Outlet_Sales               0\n",
       "dtype: int64"
      ]
     },
     "execution_count": 6,
     "metadata": {},
     "output_type": "execute_result"
    }
   ],
   "source": [
    "# checking the null_vallue of 'TRAIN' dataset\n",
    "\n",
    "train.isnull().sum()"
   ]
  },
  {
   "cell_type": "code",
   "execution_count": 26,
   "id": "575597ac",
   "metadata": {},
   "outputs": [],
   "source": [
    "# impute the null-value in 'Item-Weight' according grouby 'Item_Weight' \n",
    "\n",
    "train['Item_Weight'].fillna(train.groupby(['Item_Type'])['Item_Weight'].transform('mean'), inplace= True)"
   ]
  },
  {
   "cell_type": "code",
   "execution_count": 24,
   "id": "beacf995",
   "metadata": {},
   "outputs": [],
   "source": []
  },
  {
   "cell_type": "code",
   "execution_count": 27,
   "id": "5637cc77",
   "metadata": {},
   "outputs": [
    {
     "name": "stdout",
     "output_type": "stream",
     "text": [
      "0\n"
     ]
    }
   ],
   "source": [
    "#\n",
    "print(train['Item_Weight'].isnull().sum())\n"
   ]
  },
  {
   "cell_type": "code",
   "execution_count": 28,
   "id": "67458392",
   "metadata": {},
   "outputs": [
    {
     "data": {
      "text/html": [
       "<div>\n",
       "<style scoped>\n",
       "    .dataframe tbody tr th:only-of-type {\n",
       "        vertical-align: middle;\n",
       "    }\n",
       "\n",
       "    .dataframe tbody tr th {\n",
       "        vertical-align: top;\n",
       "    }\n",
       "\n",
       "    .dataframe thead th {\n",
       "        text-align: right;\n",
       "    }\n",
       "</style>\n",
       "<table border=\"1\" class=\"dataframe\">\n",
       "  <thead>\n",
       "    <tr style=\"text-align: right;\">\n",
       "      <th></th>\n",
       "      <th>Item_Weight</th>\n",
       "      <th>Item_Visibility</th>\n",
       "      <th>Item_MRP</th>\n",
       "      <th>Outlet_Establishment_Year</th>\n",
       "      <th>Item_Outlet_Sales</th>\n",
       "    </tr>\n",
       "  </thead>\n",
       "  <tbody>\n",
       "    <tr>\n",
       "      <th>count</th>\n",
       "      <td>8523.000000</td>\n",
       "      <td>8523.000000</td>\n",
       "      <td>8523.000000</td>\n",
       "      <td>8523.000000</td>\n",
       "      <td>8523.000000</td>\n",
       "    </tr>\n",
       "    <tr>\n",
       "      <th>mean</th>\n",
       "      <td>12.857890</td>\n",
       "      <td>0.066132</td>\n",
       "      <td>140.992782</td>\n",
       "      <td>1997.831867</td>\n",
       "      <td>2181.288914</td>\n",
       "    </tr>\n",
       "    <tr>\n",
       "      <th>std</th>\n",
       "      <td>4.232804</td>\n",
       "      <td>0.051598</td>\n",
       "      <td>62.275067</td>\n",
       "      <td>8.371760</td>\n",
       "      <td>1706.499616</td>\n",
       "    </tr>\n",
       "    <tr>\n",
       "      <th>min</th>\n",
       "      <td>4.555000</td>\n",
       "      <td>0.000000</td>\n",
       "      <td>31.290000</td>\n",
       "      <td>1985.000000</td>\n",
       "      <td>33.290000</td>\n",
       "    </tr>\n",
       "    <tr>\n",
       "      <th>25%</th>\n",
       "      <td>9.310000</td>\n",
       "      <td>0.026989</td>\n",
       "      <td>93.826500</td>\n",
       "      <td>1987.000000</td>\n",
       "      <td>834.247400</td>\n",
       "    </tr>\n",
       "    <tr>\n",
       "      <th>50%</th>\n",
       "      <td>12.867061</td>\n",
       "      <td>0.053931</td>\n",
       "      <td>143.012800</td>\n",
       "      <td>1999.000000</td>\n",
       "      <td>1794.331000</td>\n",
       "    </tr>\n",
       "    <tr>\n",
       "      <th>75%</th>\n",
       "      <td>16.000000</td>\n",
       "      <td>0.094585</td>\n",
       "      <td>185.643700</td>\n",
       "      <td>2004.000000</td>\n",
       "      <td>3101.296400</td>\n",
       "    </tr>\n",
       "    <tr>\n",
       "      <th>max</th>\n",
       "      <td>21.350000</td>\n",
       "      <td>0.328391</td>\n",
       "      <td>266.888400</td>\n",
       "      <td>2009.000000</td>\n",
       "      <td>13086.964800</td>\n",
       "    </tr>\n",
       "  </tbody>\n",
       "</table>\n",
       "</div>"
      ],
      "text/plain": [
       "       Item_Weight  Item_Visibility     Item_MRP  Outlet_Establishment_Year  \\\n",
       "count  8523.000000      8523.000000  8523.000000                8523.000000   \n",
       "mean     12.857890         0.066132   140.992782                1997.831867   \n",
       "std       4.232804         0.051598    62.275067                   8.371760   \n",
       "min       4.555000         0.000000    31.290000                1985.000000   \n",
       "25%       9.310000         0.026989    93.826500                1987.000000   \n",
       "50%      12.867061         0.053931   143.012800                1999.000000   \n",
       "75%      16.000000         0.094585   185.643700                2004.000000   \n",
       "max      21.350000         0.328391   266.888400                2009.000000   \n",
       "\n",
       "       Item_Outlet_Sales  \n",
       "count        8523.000000  \n",
       "mean         2181.288914  \n",
       "std          1706.499616  \n",
       "min            33.290000  \n",
       "25%           834.247400  \n",
       "50%          1794.331000  \n",
       "75%          3101.296400  \n",
       "max         13086.964800  "
      ]
     },
     "execution_count": 28,
     "metadata": {},
     "output_type": "execute_result"
    }
   ],
   "source": [
    "# statistical description\n",
    "\n",
    "train.describe()"
   ]
  },
  {
   "cell_type": "code",
   "execution_count": null,
   "id": "933d83bd",
   "metadata": {},
   "outputs": [],
   "source": []
  },
  {
   "cell_type": "code",
   "execution_count": 29,
   "id": "75188795",
   "metadata": {},
   "outputs": [],
   "source": [
    "#  replace Item_Visibility=0 by  mean of 'Item_Type' \n",
    "\n",
    "#   first 0 value replace by np.nan\n",
    "train['Item_Visibility']= train['Item_Visibility'].replace({0: np.nan})\n",
    "\n",
    "# than impute all nan values by groupby 'Item_Visibility'\n",
    "train['Item_Visibility'].fillna(train.groupby(['Item_Type'])['Item_Visibility'].transform('mean'), inplace=True)"
   ]
  },
  {
   "cell_type": "code",
   "execution_count": null,
   "id": "2d041f20",
   "metadata": {},
   "outputs": [],
   "source": []
  },
  {
   "cell_type": "code",
   "execution_count": 30,
   "id": "3207d1e8",
   "metadata": {},
   "outputs": [
    {
     "name": "stdout",
     "output_type": "stream",
     "text": [
      "Fruits and Vegetables    1232\n",
      "Snack Foods              1200\n",
      "Household                 910\n",
      "Frozen Foods              856\n",
      "Dairy                     682\n",
      "Canned                    649\n",
      "Baking Goods              648\n",
      "Health and Hygiene        520\n",
      "Soft Drinks               445\n",
      "Meat                      425\n",
      "Breads                    251\n",
      "Hard Drinks               214\n",
      "Others                    169\n",
      "Starchy Foods             148\n",
      "Breakfast                 110\n",
      "Seafood                    64\n",
      "Name: Item_Type, dtype: int64\n"
     ]
    }
   ],
   "source": [
    "# counts the 'Item Type' feature values\n",
    "\n",
    "print(train['Item_Type'].value_counts())"
   ]
  },
  {
   "cell_type": "code",
   "execution_count": null,
   "id": "de24f6d1",
   "metadata": {},
   "outputs": [],
   "source": []
  },
  {
   "cell_type": "raw",
   "id": "02faf916",
   "metadata": {},
   "source": [
    "ANALYSIS THE DATASET THROUGH VISIULIZATION"
   ]
  },
  {
   "cell_type": "code",
   "execution_count": 31,
   "id": "2773322a",
   "metadata": {},
   "outputs": [
    {
     "data": {
      "text/plain": [
       "<AxesSubplot:xlabel='Item_Fat_Content', ylabel='count'>"
      ]
     },
     "execution_count": 31,
     "metadata": {},
     "output_type": "execute_result"
    },
    {
     "data": {
      "image/png": "[encoded data removed]",
      "text/plain": [
       "<Figure size 432x288 with 1 Axes>"
      ]
     },
     "metadata": {
      "needs_background": "light"
     },
     "output_type": "display_data"
    }
   ],
   "source": [
    "# Counting 'Item_fat_content' element\n",
    "\n",
    "sns.countplot('Item_Fat_Content', data=train)"
   ]
  },
  {
   "cell_type": "code",
   "execution_count": 32,
   "id": "8fa15ebf",
   "metadata": {},
   "outputs": [],
   "source": [
    "#\n",
    "train['Item_Fat_Content'].replace({'low fat':'Low Fat','reg':'Regular','LF':'Low Fat' }, inplace=True)"
   ]
  },
  {
   "cell_type": "code",
   "execution_count": 33,
   "id": "03f9dc96",
   "metadata": {},
   "outputs": [
    {
     "data": {
      "text/plain": [
       "<AxesSubplot:xlabel='Item_Fat_Content', ylabel='count'>"
      ]
     },
     "execution_count": 33,
     "metadata": {},
     "output_type": "execute_result"
    },
    {
     "data": {
      "image/png": "[encoded data removed]",
      "text/plain": [
       "<Figure size 432x288 with 1 Axes>"
      ]
     },
     "metadata": {
      "needs_background": "light"
     },
     "output_type": "display_data"
    }
   ],
   "source": [
    "sns.countplot('Item_Fat_Content', data=train)"
   ]
  },
  {
   "cell_type": "code",
   "execution_count": null,
   "id": "9bbc8544",
   "metadata": {},
   "outputs": [],
   "source": []
  },
  {
   "cell_type": "code",
   "execution_count": 28,
   "id": "5dda08f3",
   "metadata": {},
   "outputs": [
    {
     "data": {
      "text/plain": [
       "<AxesSubplot:xlabel='Outlet_Location_Type', ylabel='count'>"
      ]
     },
     "execution_count": 28,
     "metadata": {},
     "output_type": "execute_result"
    },
    {
     "data": {
      "image/png": "[encoded data removed]",
      "text/plain": [
       "<Figure size 432x288 with 1 Axes>"
      ]
     },
     "metadata": {
      "needs_background": "light"
     },
     "output_type": "display_data"
    }
   ],
   "source": [
    "# Counting all value of 'Outlet_Location_Type' \n",
    "sns.countplot('Outlet_Location_Type', data=train)"
   ]
  },
  {
   "cell_type": "code",
   "execution_count": 29,
   "id": "f49c77cc",
   "metadata": {},
   "outputs": [
    {
     "data": {
      "text/plain": [
       "FDW13    10\n",
       "FDG33    10\n",
       "NCY18     9\n",
       "FDD38     9\n",
       "DRE49     9\n",
       "         ..\n",
       "FDY43     1\n",
       "FDQ60     1\n",
       "FDO33     1\n",
       "DRF48     1\n",
       "FDC23     1\n",
       "Name: Item_Identifier, Length: 1559, dtype: int64"
      ]
     },
     "execution_count": 29,
     "metadata": {},
     "output_type": "execute_result"
    }
   ],
   "source": [
    "#\n",
    "\n",
    "train['Item_Identifier'].value_counts()\n",
    "\n",
    "# 'Item_Identifier' length is 1559 "
   ]
  },
  {
   "cell_type": "code",
   "execution_count": 36,
   "id": "24f2e3b9",
   "metadata": {},
   "outputs": [
    {
     "data": {
      "text/plain": [
       "OUT027    935\n",
       "OUT013    932\n",
       "OUT049    930\n",
       "OUT046    930\n",
       "OUT035    930\n",
       "OUT045    929\n",
       "OUT018    928\n",
       "OUT017    926\n",
       "OUT010    555\n",
       "OUT019    528\n",
       "Name: Outlet_Identifier, dtype: int64"
      ]
     },
     "execution_count": 36,
     "metadata": {},
     "output_type": "execute_result"
    }
   ],
   "source": [
    "#\n",
    "train['Outlet_Identifier'].value_counts()\n"
   ]
  },
  {
   "cell_type": "code",
   "execution_count": null,
   "id": "2ddd0244",
   "metadata": {},
   "outputs": [],
   "source": []
  },
  {
   "cell_type": "raw",
   "id": "b30d2021",
   "metadata": {},
   "source": []
  },
  {
   "cell_type": "code",
   "execution_count": null,
   "id": "1b8305b2",
   "metadata": {},
   "outputs": [],
   "source": []
  },
  {
   "cell_type": "code",
   "execution_count": 31,
   "id": "2f9c6d33",
   "metadata": {},
   "outputs": [
    {
     "data": {
      "text/plain": [
       "<AxesSubplot:>"
      ]
     },
     "execution_count": 31,
     "metadata": {},
     "output_type": "execute_result"
    },
    {
     "data": {
      "image/png": "[encoded data removed]",
      "text/plain": [
       "<Figure size 432x288 with 2 Axes>"
      ]
     },
     "metadata": {
      "needs_background": "light"
     },
     "output_type": "display_data"
    }
   ],
   "source": [
    "# checking correlation \n",
    "\n",
    "sns.heatmap(train.corr(),annot=True)\n",
    "\n",
    "# no any features correlate the target_variable='Item_Outlet_sales' except 'Item_MRP'"
   ]
  },
  {
   "cell_type": "code",
   "execution_count": 38,
   "id": "61f545dd",
   "metadata": {},
   "outputs": [
    {
     "data": {
      "image/png": "[encoded data removed]",
      "text/plain": [
       "<Figure size 1008x432 with 1 Axes>"
      ]
     },
     "metadata": {
      "needs_background": "light"
     },
     "output_type": "display_data"
    },
    {
     "name": "stdout",
     "output_type": "stream",
     "text": [
      "Supermarket_Type1 products-sales= (5577, 12) out of=(8523,12) \n"
     ]
    }
   ],
   "source": [
    "# plotting scatterplot  \n",
    "\n",
    "plt.figure(figsize=(14,6))\n",
    "sns.scatterplot('Item_MRP','Item_Outlet_Sales', data=train, hue='Outlet_Type')\n",
    "plt.show()\n",
    "\n",
    "#  highest 'Item_MRP' price products selling are high\n",
    "#    all over products are selling highest in  Supermarket_Type_1\n",
    "\n",
    "\n",
    "Supermarket_1=train.loc[train['Outlet_Type']=='Supermarket Type1']\n",
    "\n",
    "print('Supermarket_Type1 products-sales=',Supermarket_1.shape,'out of=(8523,12) ')"
   ]
  },
  {
   "cell_type": "code",
   "execution_count": null,
   "id": "736d2b54",
   "metadata": {},
   "outputs": [],
   "source": []
  },
  {
   "cell_type": "code",
   "execution_count": 39,
   "id": "641d0851",
   "metadata": {},
   "outputs": [
    {
     "data": {
      "text/plain": [
       "<AxesSubplot:xlabel='Item_Outlet_Sales', ylabel='Outlet_Identifier'>"
      ]
     },
     "execution_count": 39,
     "metadata": {},
     "output_type": "execute_result"
    },
    {
     "data": {
      "image/png": "[encoded data removed]",
      "text/plain": [
       "<Figure size 864x360 with 1 Axes>"
      ]
     },
     "metadata": {
      "needs_background": "light"
     },
     "output_type": "display_data"
    }
   ],
   "source": [
    "# plotting scatterplot\n",
    "\n",
    "plt.figure(figsize=(12,5))\n",
    "sns.scatterplot('Item_Outlet_Sales','Outlet_Identifier',data=train, )\n",
    "\n"
   ]
  },
  {
   "cell_type": "code",
   "execution_count": null,
   "id": "387d7243",
   "metadata": {},
   "outputs": [],
   "source": []
  },
  {
   "cell_type": "code",
   "execution_count": 34,
   "id": "b9765841",
   "metadata": {
    "scrolled": true
   },
   "outputs": [
    {
     "data": {
      "image/png": "[encoded data removed]",
      "text/plain": [
       "<Figure size 432x288 with 1 Axes>"
      ]
     },
     "metadata": {
      "needs_background": "light"
     },
     "output_type": "display_data"
    },
    {
     "name": "stdout",
     "output_type": "stream",
     "text": [
      "                                               mean       min         max\n",
      "Outlet_Location_Type Outlet_Type                                         \n",
      "Tier 1               Grocery Store       340.329723   33.9558   1482.0708\n",
      "                     Supermarket Type1  2313.099451  101.8674   9779.9362\n",
      "Tier 2               Supermarket Type1  2323.990559   99.8700   9664.7528\n",
      "Tier 3               Grocery Store       339.351662   33.2900   1775.6886\n",
      "                     Supermarket Type1  2298.995256   73.2380  10256.6490\n",
      "                     Supermarket Type2  1995.498739   69.2432   6768.5228\n",
      "                     Supermarket Type3  3694.038558  241.6854  13086.9648\n"
     ]
    }
   ],
   "source": [
    "#\n",
    "sns.barplot( 'Outlet_Location_Type' ,'Item_Outlet_Sales', hue= 'Outlet_Type',data=train)\n",
    "plt.show()\n",
    "\n",
    "print(train.groupby(['Outlet_Location_Type','Outlet_Type'])['Item_Outlet_Sales'].aggregate(['mean','min','max']))\n",
    "\n",
    "# 'Tier-3' 'supermarket-type-3 ' selling is high\n",
    "#  grocery market selling is low \n",
    "# overall we see supermarket selling is high"
   ]
  },
  {
   "cell_type": "code",
   "execution_count": null,
   "id": "ab14e3d4",
   "metadata": {},
   "outputs": [],
   "source": []
  },
  {
   "cell_type": "code",
   "execution_count": 35,
   "id": "e7525726",
   "metadata": {},
   "outputs": [
    {
     "data": {
      "image/png": "[encoded data removed]",
      "text/plain": [
       "<Figure size 432x288 with 1 Axes>"
      ]
     },
     "metadata": {
      "needs_background": "light"
     },
     "output_type": "display_data"
    }
   ],
   "source": [
    "# plotting scatterplot \n",
    "\n",
    "sns.scatterplot('Item_Outlet_Sales','Item_Type',data=train,)\n",
    "plt.show()\n",
    "\n",
    "#   all product item sales is equally distributed\n",
    "#  no any product sales is so less or so high shown in this distribution\n",
    "# but some products sales are more = 'Dairy','Fruit & vegetables', 'Snack Food', Frozen Foods,canned , meat,soft drinks"
   ]
  },
  {
   "cell_type": "code",
   "execution_count": null,
   "id": "ca480b0e",
   "metadata": {},
   "outputs": [],
   "source": []
  },
  {
   "cell_type": "code",
   "execution_count": 36,
   "id": "7c79fd3f",
   "metadata": {},
   "outputs": [
    {
     "data": {
      "text/plain": [
       "<AxesSubplot:xlabel='Item_Fat_Content', ylabel='Item_Outlet_Sales'>"
      ]
     },
     "execution_count": 36,
     "metadata": {},
     "output_type": "execute_result"
    },
    {
     "data": {
      "image/png": "[encoded data removed]",
      "text/plain": [
       "<Figure size 432x288 with 1 Axes>"
      ]
     },
     "metadata": {
      "needs_background": "light"
     },
     "output_type": "display_data"
    }
   ],
   "source": [
    "# plotting 'barplot' between 'Item_Fat_Content' and 'Item_Outlet_Sales'\n",
    "\n",
    "sns.barplot('Item_Fat_Content','Item_Outlet_Sales', data=train)\n",
    "\n",
    "# 'Low Fat'- product & 'Regular'-product  sales are equally distributed"
   ]
  },
  {
   "cell_type": "code",
   "execution_count": 41,
   "id": "6491b114",
   "metadata": {},
   "outputs": [
    {
     "data": {
      "text/plain": [
       "<AxesSubplot:xlabel='Outlet_Type', ylabel='Item_Type'>"
      ]
     },
     "execution_count": 41,
     "metadata": {},
     "output_type": "execute_result"
    },
    {
     "data": {
      "image/png": "[encoded data removed]",
      "text/plain": [
       "<Figure size 432x288 with 1 Axes>"
      ]
     },
     "metadata": {
      "needs_background": "light"
     },
     "output_type": "display_data"
    }
   ],
   "source": [
    "#\n",
    "sns.scatterplot('Outlet_Type', 'Item_Type', data=train)\n",
    "\n",
    "# in this graph , all products item equally selling in 'Outlet_Type'"
   ]
  },
  {
   "cell_type": "code",
   "execution_count": null,
   "id": "93a7041b",
   "metadata": {},
   "outputs": [],
   "source": []
  },
  {
   "cell_type": "code",
   "execution_count": 44,
   "id": "03dc6c70",
   "metadata": {
    "scrolled": true
   },
   "outputs": [
    {
     "data": {
      "text/html": [
       "<div>\n",
       "<style scoped>\n",
       "    .dataframe tbody tr th:only-of-type {\n",
       "        vertical-align: middle;\n",
       "    }\n",
       "\n",
       "    .dataframe tbody tr th {\n",
       "        vertical-align: top;\n",
       "    }\n",
       "\n",
       "    .dataframe thead th {\n",
       "        text-align: right;\n",
       "    }\n",
       "</style>\n",
       "<table border=\"1\" class=\"dataframe\">\n",
       "  <thead>\n",
       "    <tr style=\"text-align: right;\">\n",
       "      <th></th>\n",
       "      <th></th>\n",
       "      <th>mean</th>\n",
       "      <th>min</th>\n",
       "      <th>max</th>\n",
       "    </tr>\n",
       "    <tr>\n",
       "      <th>Item_Type</th>\n",
       "      <th>Outlet_Type</th>\n",
       "      <th></th>\n",
       "      <th></th>\n",
       "      <th></th>\n",
       "    </tr>\n",
       "  </thead>\n",
       "  <tbody>\n",
       "    <tr>\n",
       "      <th rowspan=\"4\" valign=\"top\">Baking Goods</th>\n",
       "      <th>Grocery Store</th>\n",
       "      <td>292.082544</td>\n",
       "      <td>37.2848</td>\n",
       "      <td>792.3020</td>\n",
       "    </tr>\n",
       "    <tr>\n",
       "      <th>Supermarket Type1</th>\n",
       "      <td>2102.021249</td>\n",
       "      <td>126.5020</td>\n",
       "      <td>7931.6754</td>\n",
       "    </tr>\n",
       "    <tr>\n",
       "      <th>Supermarket Type2</th>\n",
       "      <td>1780.368782</td>\n",
       "      <td>253.0040</td>\n",
       "      <td>5851.0504</td>\n",
       "    </tr>\n",
       "    <tr>\n",
       "      <th>Supermarket Type3</th>\n",
       "      <td>3248.872417</td>\n",
       "      <td>624.5204</td>\n",
       "      <td>7759.8990</td>\n",
       "    </tr>\n",
       "    <tr>\n",
       "      <th rowspan=\"4\" valign=\"top\">Breads</th>\n",
       "      <th>Grocery Store</th>\n",
       "      <td>381.967442</td>\n",
       "      <td>35.2874</td>\n",
       "      <td>1524.0162</td>\n",
       "    </tr>\n",
       "    <tr>\n",
       "      <th>Supermarket Type1</th>\n",
       "      <td>2346.928355</td>\n",
       "      <td>167.7816</td>\n",
       "      <td>7064.8038</td>\n",
       "    </tr>\n",
       "    <tr>\n",
       "      <th>Supermarket Type2</th>\n",
       "      <td>2022.404489</td>\n",
       "      <td>167.7816</td>\n",
       "      <td>5660.6316</td>\n",
       "    </tr>\n",
       "    <tr>\n",
       "      <th>Supermarket Type3</th>\n",
       "      <td>3565.122748</td>\n",
       "      <td>984.7182</td>\n",
       "      <td>8958.3390</td>\n",
       "    </tr>\n",
       "    <tr>\n",
       "      <th rowspan=\"4\" valign=\"top\">Breakfast</th>\n",
       "      <th>Grocery Store</th>\n",
       "      <td>412.831042</td>\n",
       "      <td>39.9480</td>\n",
       "      <td>1094.5752</td>\n",
       "    </tr>\n",
       "    <tr>\n",
       "      <th>Supermarket Type1</th>\n",
       "      <td>2228.334688</td>\n",
       "      <td>171.7764</td>\n",
       "      <td>6930.9780</td>\n",
       "    </tr>\n",
       "    <tr>\n",
       "      <th>Supermarket Type2</th>\n",
       "      <td>1874.670867</td>\n",
       "      <td>183.7608</td>\n",
       "      <td>6291.8100</td>\n",
       "    </tr>\n",
       "    <tr>\n",
       "      <th>Supermarket Type3</th>\n",
       "      <td>4584.759327</td>\n",
       "      <td>1518.0240</td>\n",
       "      <td>8209.3140</td>\n",
       "    </tr>\n",
       "    <tr>\n",
       "      <th rowspan=\"4\" valign=\"top\">Canned</th>\n",
       "      <th>Grocery Store</th>\n",
       "      <td>352.864879</td>\n",
       "      <td>37.9506</td>\n",
       "      <td>1324.9420</td>\n",
       "    </tr>\n",
       "    <tr>\n",
       "      <th>Supermarket Type1</th>\n",
       "      <td>2348.732970</td>\n",
       "      <td>181.0976</td>\n",
       "      <td>7590.1200</td>\n",
       "    </tr>\n",
       "    <tr>\n",
       "      <th>Supermarket Type2</th>\n",
       "      <td>1867.714110</td>\n",
       "      <td>199.7400</td>\n",
       "      <td>6768.5228</td>\n",
       "    </tr>\n",
       "    <tr>\n",
       "      <th>Supermarket Type3</th>\n",
       "      <td>3779.866814</td>\n",
       "      <td>721.0614</td>\n",
       "      <td>10306.5840</td>\n",
       "    </tr>\n",
       "    <tr>\n",
       "      <th rowspan=\"4\" valign=\"top\">Dairy</th>\n",
       "      <th>Grocery Store</th>\n",
       "      <td>341.866589</td>\n",
       "      <td>40.6138</td>\n",
       "      <td>1314.9550</td>\n",
       "    </tr>\n",
       "    <tr>\n",
       "      <th>Supermarket Type1</th>\n",
       "      <td>2392.654389</td>\n",
       "      <td>149.8050</td>\n",
       "      <td>10256.6490</td>\n",
       "    </tr>\n",
       "    <tr>\n",
       "      <th>Supermarket Type2</th>\n",
       "      <td>2083.981362</td>\n",
       "      <td>105.8622</td>\n",
       "      <td>6275.1650</td>\n",
       "    </tr>\n",
       "    <tr>\n",
       "      <th>Supermarket Type3</th>\n",
       "      <td>3915.182245</td>\n",
       "      <td>905.4880</td>\n",
       "      <td>10236.6750</td>\n",
       "    </tr>\n",
       "    <tr>\n",
       "      <th rowspan=\"4\" valign=\"top\">Frozen Foods</th>\n",
       "      <th>Grocery Store</th>\n",
       "      <td>322.285984</td>\n",
       "      <td>36.6190</td>\n",
       "      <td>1288.3230</td>\n",
       "    </tr>\n",
       "    <tr>\n",
       "      <th>Supermarket Type1</th>\n",
       "      <td>2259.909110</td>\n",
       "      <td>171.7764</td>\n",
       "      <td>9275.9256</td>\n",
       "    </tr>\n",
       "    <tr>\n",
       "      <th>Supermarket Type2</th>\n",
       "      <td>1995.641420</td>\n",
       "      <td>75.9012</td>\n",
       "      <td>6208.5850</td>\n",
       "    </tr>\n",
       "    <tr>\n",
       "      <th>Supermarket Type3</th>\n",
       "      <td>3553.621470</td>\n",
       "      <td>419.4540</td>\n",
       "      <td>9678.0688</td>\n",
       "    </tr>\n",
       "    <tr>\n",
       "      <th rowspan=\"4\" valign=\"top\">Fruits and Vegetables</th>\n",
       "      <th>Grocery Store</th>\n",
       "      <td>319.750450</td>\n",
       "      <td>45.2744</td>\n",
       "      <td>1342.2528</td>\n",
       "    </tr>\n",
       "    <tr>\n",
       "      <th>Supermarket Type1</th>\n",
       "      <td>2399.947642</td>\n",
       "      <td>111.8544</td>\n",
       "      <td>8994.9580</td>\n",
       "    </tr>\n",
       "    <tr>\n",
       "      <th>Supermarket Type2</th>\n",
       "      <td>1951.642279</td>\n",
       "      <td>123.8388</td>\n",
       "      <td>6331.7580</td>\n",
       "    </tr>\n",
       "    <tr>\n",
       "      <th>Supermarket Type3</th>\n",
       "      <td>4114.487061</td>\n",
       "      <td>417.4566</td>\n",
       "      <td>12117.5600</td>\n",
       "    </tr>\n",
       "    <tr>\n",
       "      <th rowspan=\"4\" valign=\"top\">Hard Drinks</th>\n",
       "      <th>Grocery Store</th>\n",
       "      <td>243.155708</td>\n",
       "      <td>37.9506</td>\n",
       "      <td>756.3488</td>\n",
       "    </tr>\n",
       "    <tr>\n",
       "      <th>Supermarket Type1</th>\n",
       "      <td>2231.408037</td>\n",
       "      <td>308.9312</td>\n",
       "      <td>7843.1240</td>\n",
       "    </tr>\n",
       "    <tr>\n",
       "      <th>Supermarket Type2</th>\n",
       "      <td>2247.528955</td>\n",
       "      <td>452.7440</td>\n",
       "      <td>4586.0304</td>\n",
       "    </tr>\n",
       "    <tr>\n",
       "      <th>Supermarket Type3</th>\n",
       "      <td>3432.951643</td>\n",
       "      <td>796.9626</td>\n",
       "      <td>7152.0236</td>\n",
       "    </tr>\n",
       "    <tr>\n",
       "      <th rowspan=\"4\" valign=\"top\">Health and Hygiene</th>\n",
       "      <th>Grocery Store</th>\n",
       "      <td>365.901818</td>\n",
       "      <td>34.6216</td>\n",
       "      <td>1482.0708</td>\n",
       "    </tr>\n",
       "    <tr>\n",
       "      <th>Supermarket Type1</th>\n",
       "      <td>2127.626505</td>\n",
       "      <td>145.8102</td>\n",
       "      <td>9779.9362</td>\n",
       "    </tr>\n",
       "    <tr>\n",
       "      <th>Supermarket Type2</th>\n",
       "      <td>1876.649134</td>\n",
       "      <td>227.7036</td>\n",
       "      <td>5626.0100</td>\n",
       "    </tr>\n",
       "    <tr>\n",
       "      <th>Supermarket Type3</th>\n",
       "      <td>3318.069783</td>\n",
       "      <td>241.6854</td>\n",
       "      <td>7142.7024</td>\n",
       "    </tr>\n",
       "    <tr>\n",
       "      <th rowspan=\"4\" valign=\"top\">Household</th>\n",
       "      <th>Grocery Store</th>\n",
       "      <td>367.286612</td>\n",
       "      <td>33.2900</td>\n",
       "      <td>1775.6886</td>\n",
       "    </tr>\n",
       "    <tr>\n",
       "      <th>Supermarket Type1</th>\n",
       "      <td>2407.403432</td>\n",
       "      <td>73.2380</td>\n",
       "      <td>7240.5750</td>\n",
       "    </tr>\n",
       "    <tr>\n",
       "      <th>Supermarket Type2</th>\n",
       "      <td>2065.970392</td>\n",
       "      <td>69.2432</td>\n",
       "      <td>6439.6176</td>\n",
       "    </tr>\n",
       "    <tr>\n",
       "      <th>Supermarket Type3</th>\n",
       "      <td>3821.207782</td>\n",
       "      <td>293.6178</td>\n",
       "      <td>13086.9648</td>\n",
       "    </tr>\n",
       "    <tr>\n",
       "      <th rowspan=\"4\" valign=\"top\">Meat</th>\n",
       "      <th>Grocery Store</th>\n",
       "      <td>387.525864</td>\n",
       "      <td>47.9376</td>\n",
       "      <td>1575.2828</td>\n",
       "    </tr>\n",
       "    <tr>\n",
       "      <th>Supermarket Type1</th>\n",
       "      <td>2260.875454</td>\n",
       "      <td>181.0976</td>\n",
       "      <td>6331.7580</td>\n",
       "    </tr>\n",
       "    <tr>\n",
       "      <th>Supermarket Type2</th>\n",
       "      <td>2057.727270</td>\n",
       "      <td>78.5644</td>\n",
       "      <td>6729.9064</td>\n",
       "    </tr>\n",
       "    <tr>\n",
       "      <th>Supermarket Type3</th>\n",
       "      <td>3862.293911</td>\n",
       "      <td>641.8312</td>\n",
       "      <td>9390.4432</td>\n",
       "    </tr>\n",
       "    <tr>\n",
       "      <th rowspan=\"4\" valign=\"top\">Others</th>\n",
       "      <th>Grocery Store</th>\n",
       "      <td>288.094126</td>\n",
       "      <td>39.9480</td>\n",
       "      <td>815.6050</td>\n",
       "    </tr>\n",
       "    <tr>\n",
       "      <th>Supermarket Type1</th>\n",
       "      <td>2244.418022</td>\n",
       "      <td>221.0456</td>\n",
       "      <td>6008.8450</td>\n",
       "    </tr>\n",
       "    <tr>\n",
       "      <th>Supermarket Type2</th>\n",
       "      <td>1853.620490</td>\n",
       "      <td>131.8284</td>\n",
       "      <td>5287.7836</td>\n",
       "    </tr>\n",
       "    <tr>\n",
       "      <th>Supermarket Type3</th>\n",
       "      <td>2700.928667</td>\n",
       "      <td>717.7324</td>\n",
       "      <td>5546.1140</td>\n",
       "    </tr>\n",
       "    <tr>\n",
       "      <th rowspan=\"4\" valign=\"top\">Seafood</th>\n",
       "      <th>Grocery Store</th>\n",
       "      <td>228.435980</td>\n",
       "      <td>149.8050</td>\n",
       "      <td>431.4384</td>\n",
       "    </tr>\n",
       "    <tr>\n",
       "      <th>Supermarket Type1</th>\n",
       "      <td>2640.196610</td>\n",
       "      <td>207.7296</td>\n",
       "      <td>6503.5344</td>\n",
       "    </tr>\n",
       "    <tr>\n",
       "      <th>Supermarket Type2</th>\n",
       "      <td>3166.639914</td>\n",
       "      <td>415.4592</td>\n",
       "      <td>5992.2000</td>\n",
       "    </tr>\n",
       "    <tr>\n",
       "      <th>Supermarket Type3</th>\n",
       "      <td>2687.073686</td>\n",
       "      <td>1209.7586</td>\n",
       "      <td>5704.5744</td>\n",
       "    </tr>\n",
       "    <tr>\n",
       "      <th rowspan=\"4\" valign=\"top\">Snack Foods</th>\n",
       "      <th>Grocery Store</th>\n",
       "      <td>353.398432</td>\n",
       "      <td>33.9558</td>\n",
       "      <td>1126.5336</td>\n",
       "    </tr>\n",
       "    <tr>\n",
       "      <th>Supermarket Type1</th>\n",
       "      <td>2406.862759</td>\n",
       "      <td>141.1496</td>\n",
       "      <td>9069.5276</td>\n",
       "    </tr>\n",
       "    <tr>\n",
       "      <th>Supermarket Type2</th>\n",
       "      <td>2111.473733</td>\n",
       "      <td>239.6880</td>\n",
       "      <td>6327.7632</td>\n",
       "    </tr>\n",
       "    <tr>\n",
       "      <th>Supermarket Type3</th>\n",
       "      <td>3745.168739</td>\n",
       "      <td>388.1614</td>\n",
       "      <td>10993.6896</td>\n",
       "    </tr>\n",
       "    <tr>\n",
       "      <th rowspan=\"4\" valign=\"top\">Soft Drinks</th>\n",
       "      <th>Grocery Store</th>\n",
       "      <td>343.602119</td>\n",
       "      <td>33.2900</td>\n",
       "      <td>962.7468</td>\n",
       "    </tr>\n",
       "    <tr>\n",
       "      <th>Supermarket Type1</th>\n",
       "      <td>2126.751624</td>\n",
       "      <td>133.1600</td>\n",
       "      <td>7696.6480</td>\n",
       "    </tr>\n",
       "    <tr>\n",
       "      <th>Supermarket Type2</th>\n",
       "      <td>1923.814626</td>\n",
       "      <td>173.1080</td>\n",
       "      <td>5690.5926</td>\n",
       "    </tr>\n",
       "    <tr>\n",
       "      <th>Supermarket Type3</th>\n",
       "      <td>3284.938836</td>\n",
       "      <td>559.2720</td>\n",
       "      <td>9554.2300</td>\n",
       "    </tr>\n",
       "    <tr>\n",
       "      <th rowspan=\"4\" valign=\"top\">Starchy Foods</th>\n",
       "      <th>Grocery Store</th>\n",
       "      <td>300.122154</td>\n",
       "      <td>58.5904</td>\n",
       "      <td>852.2240</td>\n",
       "    </tr>\n",
       "    <tr>\n",
       "      <th>Supermarket Type1</th>\n",
       "      <td>2550.174048</td>\n",
       "      <td>251.6724</td>\n",
       "      <td>8132.0812</td>\n",
       "    </tr>\n",
       "    <tr>\n",
       "      <th>Supermarket Type2</th>\n",
       "      <td>1947.699988</td>\n",
       "      <td>154.4656</td>\n",
       "      <td>3795.0600</td>\n",
       "    </tr>\n",
       "    <tr>\n",
       "      <th>Supermarket Type3</th>\n",
       "      <td>3512.190114</td>\n",
       "      <td>810.9444</td>\n",
       "      <td>7443.6440</td>\n",
       "    </tr>\n",
       "  </tbody>\n",
       "</table>\n",
       "</div>"
      ],
      "text/plain": [
       "                                                mean        min         max\n",
       "Item_Type             Outlet_Type                                          \n",
       "Baking Goods          Grocery Store       292.082544    37.2848    792.3020\n",
       "                      Supermarket Type1  2102.021249   126.5020   7931.6754\n",
       "                      Supermarket Type2  1780.368782   253.0040   5851.0504\n",
       "                      Supermarket Type3  3248.872417   624.5204   7759.8990\n",
       "Breads                Grocery Store       381.967442    35.2874   1524.0162\n",
       "                      Supermarket Type1  2346.928355   167.7816   7064.8038\n",
       "                      Supermarket Type2  2022.404489   167.7816   5660.6316\n",
       "                      Supermarket Type3  3565.122748   984.7182   8958.3390\n",
       "Breakfast             Grocery Store       412.831042    39.9480   1094.5752\n",
       "                      Supermarket Type1  2228.334688   171.7764   6930.9780\n",
       "                      Supermarket Type2  1874.670867   183.7608   6291.8100\n",
       "                      Supermarket Type3  4584.759327  1518.0240   8209.3140\n",
       "Canned                Grocery Store       352.864879    37.9506   1324.9420\n",
       "                      Supermarket Type1  2348.732970   181.0976   7590.1200\n",
       "                      Supermarket Type2  1867.714110   199.7400   6768.5228\n",
       "                      Supermarket Type3  3779.866814   721.0614  10306.5840\n",
       "Dairy                 Grocery Store       341.866589    40.6138   1314.9550\n",
       "                      Supermarket Type1  2392.654389   149.8050  10256.6490\n",
       "                      Supermarket Type2  2083.981362   105.8622   6275.1650\n",
       "                      Supermarket Type3  3915.182245   905.4880  10236.6750\n",
       "Frozen Foods          Grocery Store       322.285984    36.6190   1288.3230\n",
       "                      Supermarket Type1  2259.909110   171.7764   9275.9256\n",
       "                      Supermarket Type2  1995.641420    75.9012   6208.5850\n",
       "                      Supermarket Type3  3553.621470   419.4540   9678.0688\n",
       "Fruits and Vegetables Grocery Store       319.750450    45.2744   1342.2528\n",
       "                      Supermarket Type1  2399.947642   111.8544   8994.9580\n",
       "                      Supermarket Type2  1951.642279   123.8388   6331.7580\n",
       "                      Supermarket Type3  4114.487061   417.4566  12117.5600\n",
       "Hard Drinks           Grocery Store       243.155708    37.9506    756.3488\n",
       "                      Supermarket Type1  2231.408037   308.9312   7843.1240\n",
       "                      Supermarket Type2  2247.528955   452.7440   4586.0304\n",
       "                      Supermarket Type3  3432.951643   796.9626   7152.0236\n",
       "Health and Hygiene    Grocery Store       365.901818    34.6216   1482.0708\n",
       "                      Supermarket Type1  2127.626505   145.8102   9779.9362\n",
       "                      Supermarket Type2  1876.649134   227.7036   5626.0100\n",
       "                      Supermarket Type3  3318.069783   241.6854   7142.7024\n",
       "Household             Grocery Store       367.286612    33.2900   1775.6886\n",
       "                      Supermarket Type1  2407.403432    73.2380   7240.5750\n",
       "                      Supermarket Type2  2065.970392    69.2432   6439.6176\n",
       "                      Supermarket Type3  3821.207782   293.6178  13086.9648\n",
       "Meat                  Grocery Store       387.525864    47.9376   1575.2828\n",
       "                      Supermarket Type1  2260.875454   181.0976   6331.7580\n",
       "                      Supermarket Type2  2057.727270    78.5644   6729.9064\n",
       "                      Supermarket Type3  3862.293911   641.8312   9390.4432\n",
       "Others                Grocery Store       288.094126    39.9480    815.6050\n",
       "                      Supermarket Type1  2244.418022   221.0456   6008.8450\n",
       "                      Supermarket Type2  1853.620490   131.8284   5287.7836\n",
       "                      Supermarket Type3  2700.928667   717.7324   5546.1140\n",
       "Seafood               Grocery Store       228.435980   149.8050    431.4384\n",
       "                      Supermarket Type1  2640.196610   207.7296   6503.5344\n",
       "                      Supermarket Type2  3166.639914   415.4592   5992.2000\n",
       "                      Supermarket Type3  2687.073686  1209.7586   5704.5744\n",
       "Snack Foods           Grocery Store       353.398432    33.9558   1126.5336\n",
       "                      Supermarket Type1  2406.862759   141.1496   9069.5276\n",
       "                      Supermarket Type2  2111.473733   239.6880   6327.7632\n",
       "                      Supermarket Type3  3745.168739   388.1614  10993.6896\n",
       "Soft Drinks           Grocery Store       343.602119    33.2900    962.7468\n",
       "                      Supermarket Type1  2126.751624   133.1600   7696.6480\n",
       "                      Supermarket Type2  1923.814626   173.1080   5690.5926\n",
       "                      Supermarket Type3  3284.938836   559.2720   9554.2300\n",
       "Starchy Foods         Grocery Store       300.122154    58.5904    852.2240\n",
       "                      Supermarket Type1  2550.174048   251.6724   8132.0812\n",
       "                      Supermarket Type2  1947.699988   154.4656   3795.0600\n",
       "                      Supermarket Type3  3512.190114   810.9444   7443.6440"
      ]
     },
     "execution_count": 44,
     "metadata": {},
     "output_type": "execute_result"
    }
   ],
   "source": [
    "\n",
    "pd.set_option('display.max_rows', None)\n",
    "\n",
    "# we checking (mean, min, max)  of 'Item_Outlet_Sales'   by 'Item_Type' & 'Outlet_Type'\n",
    "\n",
    "train.groupby(['Item_Type','Outlet_Type'])['Item_Outlet_Sales'].aggregate(['mean','min','max'])\n",
    "\n",
    "\n",
    "#  all products are selling higher in SuperMarket_Type3"
   ]
  },
  {
   "cell_type": "code",
   "execution_count": null,
   "id": "1374166c",
   "metadata": {},
   "outputs": [],
   "source": []
  },
  {
   "cell_type": "code",
   "execution_count": null,
   "id": "1afda981",
   "metadata": {},
   "outputs": [],
   "source": []
  },
  {
   "cell_type": "code",
   "execution_count": 38,
   "id": "626fa40b",
   "metadata": {},
   "outputs": [
    {
     "data": {
      "image/png": "[encoded data removed]",
      "text/plain": [
       "<Figure size 432x288 with 1 Axes>"
      ]
     },
     "metadata": {
      "needs_background": "light"
     },
     "output_type": "display_data"
    }
   ],
   "source": [
    "#plotting  scatterplot\n",
    "\n",
    "sns.scatterplot('Item_Outlet_Sales', 'Outlet_Establishment_Year', data=train)\n",
    "plt.show()"
   ]
  },
  {
   "cell_type": "code",
   "execution_count": null,
   "id": "30c95f59",
   "metadata": {},
   "outputs": [],
   "source": []
  },
  {
   "cell_type": "raw",
   "id": "96d2e8e8",
   "metadata": {},
   "source": [
    "CHECKING DISTRIBUTION OF CONTINUOUS FEATURES"
   ]
  },
  {
   "cell_type": "code",
   "execution_count": 42,
   "id": "d8edbc6a",
   "metadata": {},
   "outputs": [
    {
     "data": {
      "text/plain": [
       "<AxesSubplot:xlabel='Item_MRP', ylabel='Density'>"
      ]
     },
     "execution_count": 42,
     "metadata": {},
     "output_type": "execute_result"
    },
    {
     "data": {
      "image/png": "[encoded data removed]",
      "text/plain": [
       "<Figure size 432x288 with 1 Axes>"
      ]
     },
     "metadata": {
      "needs_background": "light"
     },
     "output_type": "display_data"
    }
   ],
   "source": [
    "# plotting distplot of 'Item_MRP' to see distribution\n",
    "\n",
    "sns.distplot(train['Item_MRP'])\n",
    "\n",
    "# Item_MRP  range is distributed in 40 to 220"
   ]
  },
  {
   "cell_type": "code",
   "execution_count": 43,
   "id": "2703dcb4",
   "metadata": {},
   "outputs": [
    {
     "data": {
      "text/plain": [
       "<AxesSubplot:xlabel='Item_Weight', ylabel='Density'>"
      ]
     },
     "execution_count": 43,
     "metadata": {},
     "output_type": "execute_result"
    },
    {
     "data": {
      "image/png": "[encoded data removed]",
      "text/plain": [
       "<Figure size 432x288 with 1 Axes>"
      ]
     },
     "metadata": {
      "needs_background": "light"
     },
     "output_type": "display_data"
    }
   ],
   "source": [
    "# plotting distplot of 'Item_Weight' to see distribution\n",
    "sns.distplot(train['Item_Weight'])\n",
    "\n"
   ]
  },
  {
   "cell_type": "code",
   "execution_count": 44,
   "id": "f65c6d9e",
   "metadata": {},
   "outputs": [
    {
     "data": {
      "text/plain": [
       "<AxesSubplot:xlabel='Item_Visibility', ylabel='Density'>"
      ]
     },
     "execution_count": 44,
     "metadata": {},
     "output_type": "execute_result"
    },
    {
     "data": {
      "image/png": "[encoded data removed]",
      "text/plain": [
       "<Figure size 432x288 with 1 Axes>"
      ]
     },
     "metadata": {
      "needs_background": "light"
     },
     "output_type": "display_data"
    }
   ],
   "source": [
    "# plotting scatterplot\n",
    "\n",
    "sns.distplot(train['Item_Visibility'])"
   ]
  },
  {
   "cell_type": "code",
   "execution_count": null,
   "id": "b37287bf",
   "metadata": {},
   "outputs": [],
   "source": []
  },
  {
   "cell_type": "code",
   "execution_count": null,
   "id": "b8186328",
   "metadata": {},
   "outputs": [],
   "source": []
  },
  {
   "cell_type": "raw",
   "id": "ebe878a9",
   "metadata": {},
   "source": [
    "# CHECKING OUTLIERS\n"
   ]
  },
  {
   "cell_type": "code",
   "execution_count": 52,
   "id": "8d65d46a",
   "metadata": {},
   "outputs": [
    {
     "name": "stdout",
     "output_type": "stream",
     "text": [
      "Item_MRP            True\n",
      "Item_Weight         True\n",
      "Item_Visibility    False\n",
      "dtype: bool\n"
     ]
    }
   ],
   "source": [
    "# Checking outliers\n",
    "\n",
    "from scipy.stats import zscore\n",
    "\n",
    "print((np.abs(zscore(train[['Item_MRP','Item_Weight','Item_Visibility']]))<3).all())\n",
    "\n",
    "# these features are continuous\n"
   ]
  },
  {
   "cell_type": "code",
   "execution_count": 53,
   "id": "155ce46a",
   "metadata": {},
   "outputs": [],
   "source": [
    "# REMOVING OUTLIER by ZSCORE METHOD\n",
    "\n",
    "from scipy.stats import zscore\n",
    "\n",
    "z_scores=zscore(train[['Item_Weight','Item_Visibility','Item_MRP']])\n",
    "X_new=train.loc[(abs(z_scores)<3).all(axis=1)]\n"
   ]
  },
  {
   "cell_type": "code",
   "execution_count": 54,
   "id": "e26aebd1",
   "metadata": {
    "scrolled": true
   },
   "outputs": [
    {
     "name": "stdout",
     "output_type": "stream",
     "text": [
      "original_shape= (8523, 12)\n",
      "new dataset shape after removing outliers= (8425, 12)\n"
     ]
    }
   ],
   "source": [
    "print('original_shape=',train.shape)\n",
    "print('new dataset shape after removing outliers=',X_new.shape)"
   ]
  },
  {
   "cell_type": "code",
   "execution_count": null,
   "id": "13c58180",
   "metadata": {},
   "outputs": [],
   "source": []
  },
  {
   "cell_type": "raw",
   "id": "22c30e93",
   "metadata": {},
   "source": [
    "CHECKING SKEWENESS"
   ]
  },
  {
   "cell_type": "code",
   "execution_count": 56,
   "id": "20b51b9e",
   "metadata": {},
   "outputs": [
    {
     "data": {
      "text/plain": [
       "Item_MRP           0.128614\n",
       "Item_Weight        0.088632\n",
       "Item_Visibility    0.848469\n",
       "dtype: float64"
      ]
     },
     "execution_count": 56,
     "metadata": {},
     "output_type": "execute_result"
    }
   ],
   "source": [
    "# \n",
    "\n",
    "X_new[['Item_MRP','Item_Weight','Item_Visibility']].skew()"
   ]
  },
  {
   "cell_type": "code",
   "execution_count": 57,
   "id": "4e844fb2",
   "metadata": {},
   "outputs": [],
   "source": [
    "# REMOVING SKEWNESS\n",
    "X_new['Item_Visibility']= np.sqrt(X_new['Item_Visibility'])"
   ]
  },
  {
   "cell_type": "code",
   "execution_count": 58,
   "id": "5af713e0",
   "metadata": {},
   "outputs": [
    {
     "data": {
      "text/plain": [
       "0.2091551472655731"
      ]
     },
     "execution_count": 58,
     "metadata": {},
     "output_type": "execute_result"
    }
   ],
   "source": [
    "X_new['Item_Visibility'].skew()"
   ]
  },
  {
   "cell_type": "code",
   "execution_count": null,
   "id": "bb2ea18a",
   "metadata": {},
   "outputs": [],
   "source": []
  },
  {
   "cell_type": "code",
   "execution_count": null,
   "id": "d9b34d52",
   "metadata": {},
   "outputs": [],
   "source": []
  },
  {
   "cell_type": "code",
   "execution_count": 59,
   "id": "c2713370",
   "metadata": {},
   "outputs": [],
   "source": [
    "# removing some unimportant features\n",
    "\n",
    "x = X_new.drop(['Item_Identifier','Outlet_Size','Outlet_Establishment_Year', 'Item_Outlet_Sales',], axis=1, ) "
   ]
  },
  {
   "cell_type": "code",
   "execution_count": null,
   "id": "4e5ddbcd",
   "metadata": {},
   "outputs": [],
   "source": []
  },
  {
   "cell_type": "code",
   "execution_count": 60,
   "id": "ced76a00",
   "metadata": {},
   "outputs": [],
   "source": [
    "# categorical feature convert into numeric by pandas get_dummies function\n",
    "\n",
    "x=pd.get_dummies(x ,drop_first=True)"
   ]
  },
  {
   "cell_type": "code",
   "execution_count": 61,
   "id": "f378c436",
   "metadata": {},
   "outputs": [
    {
     "data": {
      "text/html": [
       "<div>\n",
       "<style scoped>\n",
       "    .dataframe tbody tr th:only-of-type {\n",
       "        vertical-align: middle;\n",
       "    }\n",
       "\n",
       "    .dataframe tbody tr th {\n",
       "        vertical-align: top;\n",
       "    }\n",
       "\n",
       "    .dataframe thead th {\n",
       "        text-align: right;\n",
       "    }\n",
       "</style>\n",
       "<table border=\"1\" class=\"dataframe\">\n",
       "  <thead>\n",
       "    <tr style=\"text-align: right;\">\n",
       "      <th></th>\n",
       "      <th>Item_Weight</th>\n",
       "      <th>Item_Visibility</th>\n",
       "      <th>Item_MRP</th>\n",
       "      <th>Item_Fat_Content_Regular</th>\n",
       "      <th>Item_Type_Breads</th>\n",
       "      <th>Item_Type_Breakfast</th>\n",
       "      <th>Item_Type_Canned</th>\n",
       "      <th>Item_Type_Dairy</th>\n",
       "      <th>Item_Type_Frozen Foods</th>\n",
       "      <th>Item_Type_Fruits and Vegetables</th>\n",
       "      <th>...</th>\n",
       "      <th>Outlet_Identifier_OUT027</th>\n",
       "      <th>Outlet_Identifier_OUT035</th>\n",
       "      <th>Outlet_Identifier_OUT045</th>\n",
       "      <th>Outlet_Identifier_OUT046</th>\n",
       "      <th>Outlet_Identifier_OUT049</th>\n",
       "      <th>Outlet_Location_Type_Tier 2</th>\n",
       "      <th>Outlet_Location_Type_Tier 3</th>\n",
       "      <th>Outlet_Type_Supermarket Type1</th>\n",
       "      <th>Outlet_Type_Supermarket Type2</th>\n",
       "      <th>Outlet_Type_Supermarket Type3</th>\n",
       "    </tr>\n",
       "  </thead>\n",
       "  <tbody>\n",
       "    <tr>\n",
       "      <th>0</th>\n",
       "      <td>9.30</td>\n",
       "      <td>0.126678</td>\n",
       "      <td>249.8092</td>\n",
       "      <td>0</td>\n",
       "      <td>0</td>\n",
       "      <td>0</td>\n",
       "      <td>0</td>\n",
       "      <td>1</td>\n",
       "      <td>0</td>\n",
       "      <td>0</td>\n",
       "      <td>...</td>\n",
       "      <td>0</td>\n",
       "      <td>0</td>\n",
       "      <td>0</td>\n",
       "      <td>0</td>\n",
       "      <td>1</td>\n",
       "      <td>0</td>\n",
       "      <td>0</td>\n",
       "      <td>1</td>\n",
       "      <td>0</td>\n",
       "      <td>0</td>\n",
       "    </tr>\n",
       "    <tr>\n",
       "      <th>1</th>\n",
       "      <td>5.92</td>\n",
       "      <td>0.138846</td>\n",
       "      <td>48.2692</td>\n",
       "      <td>1</td>\n",
       "      <td>0</td>\n",
       "      <td>0</td>\n",
       "      <td>0</td>\n",
       "      <td>0</td>\n",
       "      <td>0</td>\n",
       "      <td>0</td>\n",
       "      <td>...</td>\n",
       "      <td>0</td>\n",
       "      <td>0</td>\n",
       "      <td>0</td>\n",
       "      <td>0</td>\n",
       "      <td>0</td>\n",
       "      <td>0</td>\n",
       "      <td>1</td>\n",
       "      <td>0</td>\n",
       "      <td>1</td>\n",
       "      <td>0</td>\n",
       "    </tr>\n",
       "    <tr>\n",
       "      <th>2</th>\n",
       "      <td>17.50</td>\n",
       "      <td>0.129461</td>\n",
       "      <td>141.6180</td>\n",
       "      <td>0</td>\n",
       "      <td>0</td>\n",
       "      <td>0</td>\n",
       "      <td>0</td>\n",
       "      <td>0</td>\n",
       "      <td>0</td>\n",
       "      <td>0</td>\n",
       "      <td>...</td>\n",
       "      <td>0</td>\n",
       "      <td>0</td>\n",
       "      <td>0</td>\n",
       "      <td>0</td>\n",
       "      <td>1</td>\n",
       "      <td>0</td>\n",
       "      <td>0</td>\n",
       "      <td>1</td>\n",
       "      <td>0</td>\n",
       "      <td>0</td>\n",
       "    </tr>\n",
       "    <tr>\n",
       "      <th>3</th>\n",
       "      <td>19.20</td>\n",
       "      <td>0.271512</td>\n",
       "      <td>182.0950</td>\n",
       "      <td>1</td>\n",
       "      <td>0</td>\n",
       "      <td>0</td>\n",
       "      <td>0</td>\n",
       "      <td>0</td>\n",
       "      <td>0</td>\n",
       "      <td>1</td>\n",
       "      <td>...</td>\n",
       "      <td>0</td>\n",
       "      <td>0</td>\n",
       "      <td>0</td>\n",
       "      <td>0</td>\n",
       "      <td>0</td>\n",
       "      <td>0</td>\n",
       "      <td>1</td>\n",
       "      <td>0</td>\n",
       "      <td>0</td>\n",
       "      <td>0</td>\n",
       "    </tr>\n",
       "  </tbody>\n",
       "</table>\n",
       "<p>4 rows × 33 columns</p>\n",
       "</div>"
      ],
      "text/plain": [
       "   Item_Weight  Item_Visibility  Item_MRP  Item_Fat_Content_Regular  \\\n",
       "0         9.30         0.126678  249.8092                         0   \n",
       "1         5.92         0.138846   48.2692                         1   \n",
       "2        17.50         0.129461  141.6180                         0   \n",
       "3        19.20         0.271512  182.0950                         1   \n",
       "\n",
       "   Item_Type_Breads  Item_Type_Breakfast  Item_Type_Canned  Item_Type_Dairy  \\\n",
       "0                 0                    0                 0                1   \n",
       "1                 0                    0                 0                0   \n",
       "2                 0                    0                 0                0   \n",
       "3                 0                    0                 0                0   \n",
       "\n",
       "   Item_Type_Frozen Foods  Item_Type_Fruits and Vegetables  ...  \\\n",
       "0                       0                                0  ...   \n",
       "1                       0                                0  ...   \n",
       "2                       0                                0  ...   \n",
       "3                       0                                1  ...   \n",
       "\n",
       "   Outlet_Identifier_OUT027  Outlet_Identifier_OUT035  \\\n",
       "0                         0                         0   \n",
       "1                         0                         0   \n",
       "2                         0                         0   \n",
       "3                         0                         0   \n",
       "\n",
       "   Outlet_Identifier_OUT045  Outlet_Identifier_OUT046  \\\n",
       "0                         0                         0   \n",
       "1                         0                         0   \n",
       "2                         0                         0   \n",
       "3                         0                         0   \n",
       "\n",
       "   Outlet_Identifier_OUT049  Outlet_Location_Type_Tier 2  \\\n",
       "0                         1                            0   \n",
       "1                         0                            0   \n",
       "2                         1                            0   \n",
       "3                         0                            0   \n",
       "\n",
       "   Outlet_Location_Type_Tier 3  Outlet_Type_Supermarket Type1  \\\n",
       "0                            0                              1   \n",
       "1                            1                              0   \n",
       "2                            0                              1   \n",
       "3                            1                              0   \n",
       "\n",
       "   Outlet_Type_Supermarket Type2  Outlet_Type_Supermarket Type3  \n",
       "0                              0                              0  \n",
       "1                              1                              0  \n",
       "2                              0                              0  \n",
       "3                              0                              0  \n",
       "\n",
       "[4 rows x 33 columns]"
      ]
     },
     "execution_count": 61,
     "metadata": {},
     "output_type": "execute_result"
    }
   ],
   "source": [
    "x.head(4)   # input features"
   ]
  },
  {
   "cell_type": "code",
   "execution_count": 62,
   "id": "7adf19b9",
   "metadata": {},
   "outputs": [],
   "source": [
    "# target_variable\n",
    "\n",
    "y= X_new.Item_Outlet_Sales"
   ]
  },
  {
   "cell_type": "code",
   "execution_count": 63,
   "id": "781f4da1",
   "metadata": {},
   "outputs": [
    {
     "name": "stdout",
     "output_type": "stream",
     "text": [
      "(8425, 33)\n",
      "(8425,)\n"
     ]
    }
   ],
   "source": [
    "print(x.shape)\n",
    "\n",
    "print(y.shape)"
   ]
  },
  {
   "cell_type": "code",
   "execution_count": null,
   "id": "e5e6c9e4",
   "metadata": {},
   "outputs": [],
   "source": []
  },
  {
   "cell_type": "code",
   "execution_count": null,
   "id": "3927949d",
   "metadata": {},
   "outputs": [],
   "source": []
  },
  {
   "cell_type": "raw",
   "id": "a6d9f7c8",
   "metadata": {},
   "source": [
    "FIT THE ML MODEL"
   ]
  },
  {
   "cell_type": "code",
   "execution_count": 64,
   "id": "0ec965a5",
   "metadata": {},
   "outputs": [],
   "source": [
    "from sklearn.preprocessing import StandardScaler\n",
    "\n",
    "sc= StandardScaler()\n",
    "scaled= sc.fit_transform(x)"
   ]
  },
  {
   "cell_type": "code",
   "execution_count": null,
   "id": "d8030b0d",
   "metadata": {},
   "outputs": [],
   "source": []
  },
  {
   "cell_type": "code",
   "execution_count": 65,
   "id": "4ba4448d",
   "metadata": {},
   "outputs": [],
   "source": [
    "from sklearn.model_selection import train_test_split\n",
    "from sklearn.metrics import r2_score, mean_squared_error"
   ]
  },
  {
   "cell_type": "code",
   "execution_count": 67,
   "id": "c025b500",
   "metadata": {},
   "outputs": [
    {
     "name": "stdout",
     "output_type": "stream",
     "text": [
      "maximum accuracy : 0.5840863593617336  random_state is : 60\n",
      "maximum accuracy : 0.5986190738911861  random_state is : 61\n",
      "maximum accuracy : 0.6068077474276296  random_state is : 71\n",
      "maximum accuracy : 0.6251344036777398  random_state is : 87\n"
     ]
    }
   ],
   "source": [
    "# RANDOMFOREST\n",
    "# IN TRAINING PROCESS         # finding best random_state for  \n",
    "\n",
    "from sklearn.ensemble import RandomForestRegressor\n",
    "\n",
    "max_acu= 0\n",
    "max_rs= 0\n",
    "for r_state in range(60,120):\n",
    "    x_train,x_test,y_train,y_test=train_test_split(x, y,random_state = r_state,test_size=0.25,)\n",
    "    rf = RandomForestRegressor(n_estimators=160,max_depth=6,)\n",
    "    rf.fit(x_train,y_train)\n",
    "    y_pred=rf.predict(x_test)\n",
    "    accu = r2_score(y_test,y_pred)\n",
    "        #print(\"random state :\",r_state,\" and f1 score: \",tmp)\n",
    "        \n",
    "    if accu>max_acu:\n",
    "        max_acu=accu\n",
    "        max_rs= r_state\n",
    "        print(\"maximum accuracy :\",max_acu,\" random_state is :\",max_rs)\n"
   ]
  },
  {
   "cell_type": "code",
   "execution_count": 137,
   "id": "3501c98d",
   "metadata": {},
   "outputs": [
    {
     "name": "stdout",
     "output_type": "stream",
     "text": [
      "r2_score=  0.6288106874202852\n",
      "mean_squared_error=  1069783.9008432804\n"
     ]
    }
   ],
   "source": [
    "# RANDOM FOREST REGRESSOR\n",
    "\n",
    "x_train,x_test,y_train,y_test=train_test_split(x, y,random_state = 87,test_size=0.25,)\n",
    "rf= RandomForestRegressor(n_estimators=200,max_depth=5, min_samples_leaf=2)\n",
    "\n",
    "rf.fit(x_train,y_train)\n",
    "pred= rf.predict(x_test)\n",
    "\n",
    "print('r2_score= ',r2_score(y_test,pred))\n",
    "print('mean_squared_error= ',mean_squared_error(y_test,pred))"
   ]
  },
  {
   "cell_type": "code",
   "execution_count": null,
   "id": "86a1319b",
   "metadata": {},
   "outputs": [],
   "source": []
  },
  {
   "cell_type": "code",
   "execution_count": 100,
   "id": "04595ac5",
   "metadata": {},
   "outputs": [
    {
     "name": "stdout",
     "output_type": "stream",
     "text": [
      "r2_score=  0.6281906948111464\n"
     ]
    }
   ],
   "source": [
    "# RANDOM FOREST REGRESSOR  with scaled input-variables\n",
    "\n",
    "x_train,x_test,y_train,y_test=train_test_split(scaled, y,random_state = 87,test_size=0.25,)\n",
    "rf= RandomForestRegressor(n_estimators=200,max_depth=5, min_samples_leaf=2)\n",
    "\n",
    "rf.fit(x_train,y_train)\n",
    "pred= rf.predict(x_test)\n",
    "\n",
    "print('r2_score= ',r2_score(y_test,pred))\n",
    "\n",
    "# accuracy is same , we put scaled and unscaled input-variable data  in randomforest model but no difference in accuracy seen"
   ]
  },
  {
   "cell_type": "code",
   "execution_count": null,
   "id": "5d97dd44",
   "metadata": {},
   "outputs": [],
   "source": []
  },
  {
   "cell_type": "raw",
   "id": "1c9399db",
   "metadata": {},
   "source": [
    "USING     MLP-REGRESSOR"
   ]
  },
  {
   "cell_type": "code",
   "execution_count": 83,
   "id": "72025304",
   "metadata": {},
   "outputs": [
    {
     "name": "stdout",
     "output_type": "stream",
     "text": [
      "maximum accuracy : 0.566116171046156  random_state is : 60\n",
      "maximum accuracy : 0.5854151841392417  random_state is : 61\n",
      "maximum accuracy : 0.5862296840714297  random_state is : 70\n",
      "maximum accuracy : 0.5897319550113009  random_state is : 71\n",
      "maximum accuracy : 0.593784780226404  random_state is : 78\n",
      "maximum accuracy : 0.6090848920277374  random_state is : 87\n"
     ]
    }
   ],
   "source": [
    "# MLP_REGRESSOR\n",
    "                        # IN TRAINING PROCESS         # finding best random_state for  MLP\n",
    "from sklearn.neural_network import MLPRegressor\n",
    "\n",
    "max_acu= 0\n",
    "max_rs= 0\n",
    "for r_state in range(60,120):\n",
    "    x_train,x_test,y_train,y_test=train_test_split(scaled, y,random_state = r_state,test_size=0.25,)\n",
    "    mlp = MLPRegressor()\n",
    "    mlp.fit(x_train,y_train)\n",
    "    y_pred=mlp.predict(x_test)\n",
    "    accu = r2_score(y_test,y_pred)\n",
    "        #print(\"random state :\",r_state,\" and f1 score: \",tmp)\n",
    "        \n",
    "    if accu>max_acu:\n",
    "        max_acu=accu\n",
    "        max_rs= r_state\n",
    "        print(\"maximum accuracy :\",max_acu,\" random_state is :\",max_rs)\n"
   ]
  },
  {
   "cell_type": "code",
   "execution_count": 138,
   "id": "64c93b8e",
   "metadata": {},
   "outputs": [
    {
     "name": "stdout",
     "output_type": "stream",
     "text": [
      "r2_score=  0.6072786345023111\n",
      "mean_squared_error 1131840.2230031686\n"
     ]
    }
   ],
   "source": [
    "# MLP REGRESSOR\n",
    "\n",
    "x_train,x_test,y_train,y_test=train_test_split(scaled, y,random_state = 87,test_size=0.25,)\n",
    "mlp= MLPRegressor()\n",
    "\n",
    "mlp.fit(x_train,y_train)\n",
    "pred= mlp.predict(x_test)\n",
    "\n",
    "print('r2_score= ',r2_score(y_test,pred))\n",
    "print('mean_squared_error',mean_squared_error(y_test,pred))"
   ]
  },
  {
   "cell_type": "code",
   "execution_count": null,
   "id": "fdb56214",
   "metadata": {},
   "outputs": [],
   "source": []
  },
  {
   "cell_type": "raw",
   "id": "c0b909a6",
   "metadata": {},
   "source": [
    "  USING   ADABOOST-REGRESSOR"
   ]
  },
  {
   "cell_type": "code",
   "execution_count": 70,
   "id": "497aafe7",
   "metadata": {},
   "outputs": [
    {
     "name": "stdout",
     "output_type": "stream",
     "text": [
      "maximum accuracy : 0.4413116970471038  random_state is : 50\n",
      "maximum accuracy : 0.4497723486229427  random_state is : 55\n",
      "maximum accuracy : 0.4780370746594458  random_state is : 58\n",
      "maximum accuracy : 0.48561854067461596  random_state is : 78\n",
      "maximum accuracy : 0.49256345059468953  random_state is : 103\n",
      "maximum accuracy : 0.5047510732838101  random_state is : 137\n"
     ]
    }
   ],
   "source": [
    "#    ADABOOST REGRESSOR   \n",
    "                        # IN TRAINING PROCESS          # finding best random_state for  \n",
    "from sklearn.ensemble import AdaBoostRegressor\n",
    "\n",
    "max_acu= 0\n",
    "max_rs= 0\n",
    "for r_state in range(50,200):\n",
    "    x_train,x_test,y_train,y_test=train_test_split(scaled, y,random_state = r_state,test_size=0.25,)\n",
    "    adb = AdaBoostRegressor(n_estimators=100,learning_rate=0.7,)\n",
    "    adb.fit(x_train,y_train)\n",
    "    y_pred=adb.predict(x_test)\n",
    "    accu = r2_score(y_test,y_pred)\n",
    "        \n",
    "    if accu>max_acu:\n",
    "        max_acu=accu\n",
    "        max_rs= r_state\n",
    "        print(\"maximum accuracy :\",max_acu,\" random_state is :\",max_rs)\n"
   ]
  },
  {
   "cell_type": "code",
   "execution_count": 147,
   "id": "5d621596",
   "metadata": {},
   "outputs": [
    {
     "name": "stdout",
     "output_type": "stream",
     "text": [
      "r2_score with AdaBoost =  0.49359124639956986\n",
      "mean_squared_error 1532239.5549969762\n"
     ]
    }
   ],
   "source": [
    "# ADABOOST REGRESSOR\n",
    "\n",
    "x_train,x_test,y_train,y_test=train_test_split(scaled, y,random_state = 137,test_size=0.25,)\n",
    "ad= AdaBoostRegressor(n_estimators=100,learning_rate=0.7,)\n",
    "\n",
    "ad.fit(x_train,y_train)\n",
    "pred= ad.predict(x_test)\n",
    "\n",
    "print('r2_score with AdaBoost = ',r2_score(y_test,pred))\n",
    "print('mean_squared_error',mean_squared_error(y_test,pred))"
   ]
  },
  {
   "cell_type": "code",
   "execution_count": null,
   "id": "6a184a55",
   "metadata": {},
   "outputs": [],
   "source": []
  },
  {
   "cell_type": "raw",
   "id": "ac1608d5",
   "metadata": {},
   "source": [
    "USING GRADIENBOOSTING REGRESSOR"
   ]
  },
  {
   "cell_type": "code",
   "execution_count": 149,
   "id": "08a648b7",
   "metadata": {},
   "outputs": [
    {
     "name": "stdout",
     "output_type": "stream",
     "text": [
      "maximum accuracy : 0.5974780821681951  random_state is : 50\n",
      "maximum accuracy : 0.6213887988952933  random_state is : 55\n"
     ]
    }
   ],
   "source": [
    "# USING GRADIENT BOOSTING\n",
    "                           # IN TRAINING PROCESS          # finding best random_state for  \n",
    "from sklearn.ensemble import GradientBoostingRegressor\n",
    "\n",
    "max_acu= 0\n",
    "max_rs= 0\n",
    "for r_state in range(50,130):\n",
    "    x_train,x_test,y_train,y_test=train_test_split(x, y,random_state = r_state,test_size=0.25,)\n",
    "    gb = GradientBoostingRegressor(n_estimators=150)\n",
    "    \n",
    "    gb.fit(x_train,y_train)\n",
    "    y_pred=gb.predict(x_test)\n",
    "    accu = r2_score(y_test,y_pred)\n",
    "        \n",
    "    if accu>max_acu:\n",
    "        max_acu=accu\n",
    "        max_rs= r_state\n",
    "        print(\"maximum accuracy :\",max_acu,\" random_state is :\",max_rs)\n"
   ]
  },
  {
   "cell_type": "code",
   "execution_count": 150,
   "id": "2e941089",
   "metadata": {},
   "outputs": [
    {
     "name": "stdout",
     "output_type": "stream",
     "text": [
      "r2_score with AdaBoost =  0.6211447646880957\n",
      "mean_squared_error 1115663.1970106424\n"
     ]
    }
   ],
   "source": [
    "# USING GRADIENTBOOSTING REGRESSOR\n",
    "\n",
    "x_train,x_test,y_train,y_test=train_test_split(x, y,random_state = 55,test_size=0.25,)\n",
    "gb= GradientBoostingRegressor(n_estimators=150,)\n",
    "\n",
    "gb.fit(x_train,y_train)\n",
    "pred= gb.predict(x_test)\n",
    "\n",
    "print('r2_score with AdaBoost = ',r2_score(y_test,pred))\n",
    "print('mean_squared_error',mean_squared_error(y_test,pred))"
   ]
  },
  {
   "cell_type": "code",
   "execution_count": null,
   "id": "c1585015",
   "metadata": {},
   "outputs": [],
   "source": []
  },
  {
   "cell_type": "code",
   "execution_count": 72,
   "id": "bff4bbc4",
   "metadata": {},
   "outputs": [
    {
     "data": {
      "text/plain": [
       "array([[-9.00433240e-01,  1.96164505e-02,  1.76537555e+00, ...,\n",
       "         2.33437095e-16,  2.04579308e-15,  3.88684190e-16],\n",
       "       [ 3.06041770e+00,  3.16618534e+00, -1.09158477e+00, ...,\n",
       "         5.00571613e-16, -2.47225281e-15, -1.14301656e-15],\n",
       "       [-8.16920216e-01, -8.87878511e-02,  1.69809366e+00, ...,\n",
       "        -1.30448276e-15,  1.37688367e-15, -1.50107324e-15],\n",
       "       ...,\n",
       "       [-1.97438737e+00, -4.21947011e-02, -1.34149235e+00, ...,\n",
       "         8.21368702e-18,  7.99790560e-17, -2.92837714e-17],\n",
       "       [ 3.14576794e+00,  3.21178936e+00, -9.63955495e-01, ...,\n",
       "        -2.10532296e-17,  9.58587790e-18,  2.54158288e-17],\n",
       "       [-8.98378109e-01, -7.99343481e-03,  1.64631888e+00, ...,\n",
       "        -2.71398976e-16, -8.11868650e-17,  1.20341946e-16]])"
      ]
     },
     "execution_count": 72,
     "metadata": {},
     "output_type": "execute_result"
    }
   ],
   "source": [
    "#  FIT MODEL WITH USING PCA \n",
    "\n",
    "from sklearn.decomposition import PCA\n",
    "\n",
    "pca= PCA()\n",
    "pca.fit_transform(scaled)"
   ]
  },
  {
   "cell_type": "code",
   "execution_count": 73,
   "id": "704c8c22",
   "metadata": {},
   "outputs": [
    {
     "data": {
      "image/png": "[encoded data removed]",
      "text/plain": [
       "<Figure size 432x288 with 1 Axes>"
      ]
     },
     "metadata": {
      "needs_background": "light"
     },
     "output_type": "display_data"
    }
   ],
   "source": [
    "\n",
    "#  let's plot scree plot to check the how many feature are covered more \n",
    "                                            #            variance (that called best component)\n",
    "plt.figure()\n",
    "plt.plot(np.cumsum(pca.explained_variance_ratio_))\n",
    "plt.xlabel('principal component')\n",
    "plt.ylabel('variance covered')\n",
    "plt.title('PCA')\n",
    "plt.show()\n"
   ]
  },
  {
   "cell_type": "code",
   "execution_count": 74,
   "id": "31dcc247",
   "metadata": {},
   "outputs": [],
   "source": [
    "#\n",
    "pca= PCA(n_components= 22)\n",
    "new_comp= pca.fit_transform(scaled)\n",
    "p_comp= pd.DataFrame(new_comp, columns=['pc1','pc2','pc3','pc4','pc5','pc6','pc7','pc8','pc9','pc10','pc11','pc12','pc13'\n",
    "                                        'pc14','pc15','pc16','pc17','pc18','pc19','pc20','pc21','pc22','pc23',])"
   ]
  },
  {
   "cell_type": "code",
   "execution_count": null,
   "id": "bfcbdb29",
   "metadata": {},
   "outputs": [],
   "source": []
  },
  {
   "cell_type": "code",
   "execution_count": 75,
   "id": "0bd61ac6",
   "metadata": {},
   "outputs": [
    {
     "name": "stdout",
     "output_type": "stream",
     "text": [
      "maximum accuracy : 0.08541678331039582  random_state is : 50\n",
      "maximum accuracy : 0.10986397965268768  random_state is : 51\n",
      "maximum accuracy : 0.14877847103933695  random_state is : 54\n",
      "maximum accuracy : 0.1496924798035958  random_state is : 55\n",
      "maximum accuracy : 0.15911458910496257  random_state is : 62\n",
      "maximum accuracy : 0.1870793451762105  random_state is : 66\n"
     ]
    }
   ],
   "source": [
    "# DECISION TREE REGRESSOR with input_variable pca-component\n",
    "\n",
    "# IN TRAINING PROCESS          # finding best random_state for  \n",
    "\n",
    "from sklearn.tree import DecisionTreeRegressor\n",
    "\n",
    "max_acu= 0\n",
    "max_rs= 0\n",
    "for r_state in range(50,110):\n",
    "    x_train,x_test,y_train,y_test=train_test_split(p_comp, y,random_state = r_state,test_size=0.25,)\n",
    "    dt = DecisionTreeRegressor()\n",
    "    \n",
    "    dt.fit(x_train,y_train)\n",
    "    y_pred=dt.predict(x_test)\n",
    "    accu = r2_score(y_test,y_pred)\n",
    "        \n",
    "    if accu>max_acu:\n",
    "        max_acu=accu\n",
    "        max_rs= r_state\n",
    "        print(\"maximum accuracy :\",max_acu,\" random_state is :\",max_rs)\n"
   ]
  },
  {
   "cell_type": "code",
   "execution_count": null,
   "id": "5fc8bce2",
   "metadata": {},
   "outputs": [],
   "source": []
  },
  {
   "cell_type": "code",
   "execution_count": 80,
   "id": "4896b087",
   "metadata": {},
   "outputs": [
    {
     "name": "stdout",
     "output_type": "stream",
     "text": [
      "maximum accuracy : 0.5384566310486629  random_state is : 50\n",
      "maximum accuracy : 0.5623147730158735  random_state is : 55\n",
      "maximum accuracy : 0.5646395235142192  random_state is : 87\n"
     ]
    }
   ],
   "source": [
    "# GRADIENTBOOSTING  with input variable pca_component\n",
    "\n",
    "# IN TRAINING PROCESS          # finding best random_state for  \n",
    "\n",
    "from sklearn.ensemble import GradientBoostingRegressor\n",
    "\n",
    "max_acu= 0\n",
    "max_rs= 0\n",
    "for r_state in range(50,110):\n",
    "    x_train,x_test,y_train,y_test=train_test_split(p_comp, y,random_state = r_state,test_size=0.25,)\n",
    "    gb = GradientBoostingRegressor()\n",
    "    \n",
    "    gb.fit(x_train,y_train)\n",
    "    y_pred=gb.predict(x_test)\n",
    "    accu = r2_score(y_test,y_pred)\n",
    "        \n",
    "    if accu>max_acu:\n",
    "        max_acu=accu\n",
    "        max_rs= r_state\n",
    "        print(\"maximum accuracy :\",max_acu,\" random_state is :\",max_rs)\n",
    "\n",
    "# this model fit with pca component but not give score more then compare to without using  pca_method\n"
   ]
  },
  {
   "cell_type": "code",
   "execution_count": 152,
   "id": "0d2d090f",
   "metadata": {},
   "outputs": [
    {
     "name": "stdout",
     "output_type": "stream",
     "text": [
      "r2_score with AdaBoost =  0.5767501525433834\n",
      "mean_squared_error 1219824.6487665905\n"
     ]
    }
   ],
   "source": [
    "# USING GRADIENTBOOSTING REGRESSOR\n",
    "\n",
    "x_train,x_test,y_train,y_test=train_test_split(p_comp, y,random_state = 87,test_size=0.25,)\n",
    "gb= GradientBoostingRegressor(n_estimators=150,)\n",
    "\n",
    "gb.fit(x_train,y_train)\n",
    "pred= gb.predict(x_test)\n",
    "\n",
    "print('r2_score with AdaBoost = ',r2_score(y_test,pred))\n",
    "print('mean_squared_error',mean_squared_error(y_test,pred))"
   ]
  },
  {
   "cell_type": "code",
   "execution_count": null,
   "id": "7b2bac2e",
   "metadata": {},
   "outputs": [],
   "source": []
  },
  {
   "cell_type": "code",
   "execution_count": 158,
   "id": "4242b53e",
   "metadata": {},
   "outputs": [
    {
     "name": "stdout",
     "output_type": "stream",
     "text": [
      "r2_score with AdaBoost =  0.18759754711980936\n",
      "mean_squared_error 2421188.9308075565\n"
     ]
    }
   ],
   "source": [
    "# USING SVR\n",
    "\n",
    "from sklearn.svm import SVR\n",
    "x_train,x_test,y_train,y_test=train_test_split(x, y,random_state = 1137,test_size=0.25,)\n",
    "svm= SVR()\n",
    "\n",
    "svm.fit(x_train,y_train)\n",
    "pred= svm.predict(x_test)\n",
    "\n",
    "print('r2_score with AdaBoost = ',r2_score(y_test,pred))\n",
    "print('mean_squared_error',mean_squared_error(y_test,pred))"
   ]
  },
  {
   "cell_type": "code",
   "execution_count": null,
   "id": "2a25c494",
   "metadata": {},
   "outputs": [],
   "source": []
  },
  {
   "cell_type": "raw",
   "id": "cb50dad3",
   "metadata": {},
   "source": [
    "LET'S USE CROSS VALIDATION"
   ]
  },
  {
   "cell_type": "code",
   "execution_count": 159,
   "id": "27476cc6",
   "metadata": {},
   "outputs": [],
   "source": [
    "from sklearn.model_selection import KFold\n",
    "kfold= KFold(n_splits=15, shuffle=True, random_state=459)\n",
    "\n",
    "from sklearn.model_selection import cross_val_score as CVS\n",
    "def cross_val(model,xtrain,ytrain,algo):\n",
    "        \n",
    "    cv_score= CVS(model,xtrain,ytrain,cv= kfold,)\n",
    "    print('cross_val_score with', algo,'=', cv_score.mean())\n"
   ]
  },
  {
   "cell_type": "code",
   "execution_count": 161,
   "id": "603df9a9",
   "metadata": {},
   "outputs": [
    {
     "name": "stdout",
     "output_type": "stream",
     "text": [
      "cross_val_score with RandomForest_R = 0.5779058968536451\n"
     ]
    }
   ],
   "source": [
    "# CROSS_VALIDATION SCORE WITH   RANDOMFOREST_REGRESSOR\n",
    "\n",
    "x_train,x_test,y_train,y_test=train_test_split(x, y,random_state = 87,test_size=0.25,)\n",
    "\n",
    "cross_val(rf,x_train,y_train,'RandomForest_R')\n"
   ]
  },
  {
   "cell_type": "code",
   "execution_count": null,
   "id": "1cdb0cd3",
   "metadata": {},
   "outputs": [],
   "source": []
  },
  {
   "cell_type": "code",
   "execution_count": 165,
   "id": "32c6ebb3",
   "metadata": {},
   "outputs": [
    {
     "name": "stdout",
     "output_type": "stream",
     "text": [
      "cross_val_score with GradienBoosting_Regressor = 0.575441338144386\n"
     ]
    }
   ],
   "source": [
    "# CROSS_VALIDATION SCORE WITH   GRADIENTBOOSTING_REGRESSOR\n",
    "\n",
    "x_train,x_test,y_train,y_test=train_test_split(scaled, y,random_state = 55,test_size=0.25,)\n",
    "\n",
    "cross_val(rf,x_train,y_train,'GradienBoosting_Regressor')\n"
   ]
  },
  {
   "cell_type": "code",
   "execution_count": null,
   "id": "5bc13e86",
   "metadata": {},
   "outputs": [],
   "source": []
  },
  {
   "cell_type": "raw",
   "id": "1bc19a08",
   "metadata": {},
   "source": [
    "LET'S HYPERPARAMETER_TUNING WITH GRIDSEARCHCV"
   ]
  },
  {
   "cell_type": "code",
   "execution_count": 167,
   "id": "e8c6d0a7",
   "metadata": {},
   "outputs": [
    {
     "data": {
      "text/html": [
       "<style>#sk-container-id-1 {color: black;background-color: white;}#sk-container-id-1 pre{padding: 0;}#sk-container-id-1 div.sk-toggleable {background-color: white;}#sk-container-id-1 label.sk-toggleable__label {cursor: pointer;display: block;width: 100%;margin-bottom: 0;padding: 0.3em;box-sizing: border-box;text-align: center;}#sk-container-id-1 label.sk-toggleable__label-arrow:before {content: \"▸\";float: left;margin-right: 0.25em;color: #696969;}#sk-container-id-1 label.sk-toggleable__label-arrow:hover:before {color: black;}#sk-container-id-1 div.sk-estimator:hover label.sk-toggleable__label-arrow:before {color: black;}#sk-container-id-1 div.sk-toggleable__content {max-height: 0;max-width: 0;overflow: hidden;text-align: left;background-color: #f0f8ff;}#sk-container-id-1 div.sk-toggleable__content pre {margin: 0.2em;color: black;border-radius: 0.25em;background-color: #f0f8ff;}#sk-container-id-1 input.sk-toggleable__control:checked~div.sk-toggleable__content {max-height: 200px;max-width: 100%;overflow: auto;}#sk-container-id-1 input.sk-toggleable__control:checked~label.sk-toggleable__label-arrow:before {content: \"▾\";}#sk-container-id-1 div.sk-estimator input.sk-toggleable__control:checked~label.sk-toggleable__label {background-color: #d4ebff;}#sk-container-id-1 div.sk-label input.sk-toggleable__control:checked~label.sk-toggleable__label {background-color: #d4ebff;}#sk-container-id-1 input.sk-hidden--visually {border: 0;clip: rect(1px 1px 1px 1px);clip: rect(1px, 1px, 1px, 1px);height: 1px;margin: -1px;overflow: hidden;padding: 0;position: absolute;width: 1px;}#sk-container-id-1 div.sk-estimator {font-family: monospace;background-color: #f0f8ff;border: 1px dotted black;border-radius: 0.25em;box-sizing: border-box;margin-bottom: 0.5em;}#sk-container-id-1 div.sk-estimator:hover {background-color: #d4ebff;}#sk-container-id-1 div.sk-parallel-item::after {content: \"\";width: 100%;border-bottom: 1px solid gray;flex-grow: 1;}#sk-container-id-1 div.sk-label:hover label.sk-toggleable__label {background-color: #d4ebff;}#sk-container-id-1 div.sk-serial::before {content: \"\";position: absolute;border-left: 1px solid gray;box-sizing: border-box;top: 0;bottom: 0;left: 50%;z-index: 0;}#sk-container-id-1 div.sk-serial {display: flex;flex-direction: column;align-items: center;background-color: white;padding-right: 0.2em;padding-left: 0.2em;position: relative;}#sk-container-id-1 div.sk-item {position: relative;z-index: 1;}#sk-container-id-1 div.sk-parallel {display: flex;align-items: stretch;justify-content: center;background-color: white;position: relative;}#sk-container-id-1 div.sk-item::before, #sk-container-id-1 div.sk-parallel-item::before {content: \"\";position: absolute;border-left: 1px solid gray;box-sizing: border-box;top: 0;bottom: 0;left: 50%;z-index: -1;}#sk-container-id-1 div.sk-parallel-item {display: flex;flex-direction: column;z-index: 1;position: relative;background-color: white;}#sk-container-id-1 div.sk-parallel-item:first-child::after {align-self: flex-end;width: 50%;}#sk-container-id-1 div.sk-parallel-item:last-child::after {align-self: flex-start;width: 50%;}#sk-container-id-1 div.sk-parallel-item:only-child::after {width: 0;}#sk-container-id-1 div.sk-dashed-wrapped {border: 1px dashed gray;margin: 0 0.4em 0.5em 0.4em;box-sizing: border-box;padding-bottom: 0.4em;background-color: white;}#sk-container-id-1 div.sk-label label {font-family: monospace;font-weight: bold;display: inline-block;line-height: 1.2em;}#sk-container-id-1 div.sk-label-container {text-align: center;}#sk-container-id-1 div.sk-container {/* jupyter's `normalize.less` sets `[hidden] { display: none; }` but bootstrap.min.css set `[hidden] { display: none !important; }` so we also need the `!important` here to be able to override the default hidden behavior on the sphinx rendered scikit-learn.org. See: https://github.com/scikit-learn/scikit-learn/issues/21755 */display: inline-block !important;position: relative;}#sk-container-id-1 div.sk-text-repr-fallback {display: none;}</style><div id=\"sk-container-id-1\" class=\"sk-top-container\"><div class=\"sk-text-repr-fallback\"><pre>GridSearchCV(cv=6, estimator=GradientBoostingRegressor(), n_jobs=-1,\n",
       "             param_grid={&#x27;learning_rate&#x27;: [0.1, 1.0], &#x27;max_depth&#x27;: [3, 5],\n",
       "                         &#x27;min_samples_leaf&#x27;: [1, 2],\n",
       "                         &#x27;min_samples_split&#x27;: [2, 3],\n",
       "                         &#x27;n_estimators&#x27;: [100, 180],\n",
       "                         &#x27;subsample&#x27;: [0.7, 0.8, 1.0]})</pre><b>In a Jupyter environment, please rerun this cell to show the HTML representation or trust the notebook. <br />On GitHub, the HTML representation is unable to render, please try loading this page with nbviewer.org.</b></div><div class=\"sk-container\" hidden><div class=\"sk-item sk-dashed-wrapped\"><div class=\"sk-label-container\"><div class=\"sk-label sk-toggleable\"><input class=\"sk-toggleable__control sk-hidden--visually\" id=\"sk-estimator-id-1\" type=\"checkbox\" ><label for=\"sk-estimator-id-1\" class=\"sk-toggleable__label sk-toggleable__label-arrow\">GridSearchCV</label><div class=\"sk-toggleable__content\"><pre>GridSearchCV(cv=6, estimator=GradientBoostingRegressor(), n_jobs=-1,\n",
       "             param_grid={&#x27;learning_rate&#x27;: [0.1, 1.0], &#x27;max_depth&#x27;: [3, 5],\n",
       "                         &#x27;min_samples_leaf&#x27;: [1, 2],\n",
       "                         &#x27;min_samples_split&#x27;: [2, 3],\n",
       "                         &#x27;n_estimators&#x27;: [100, 180],\n",
       "                         &#x27;subsample&#x27;: [0.7, 0.8, 1.0]})</pre></div></div></div><div class=\"sk-parallel\"><div class=\"sk-parallel-item\"><div class=\"sk-item\"><div class=\"sk-label-container\"><div class=\"sk-label sk-toggleable\"><input class=\"sk-toggleable__control sk-hidden--visually\" id=\"sk-estimator-id-2\" type=\"checkbox\" ><label for=\"sk-estimator-id-2\" class=\"sk-toggleable__label sk-toggleable__label-arrow\">estimator: GradientBoostingRegressor</label><div class=\"sk-toggleable__content\"><pre>GradientBoostingRegressor()</pre></div></div></div><div class=\"sk-serial\"><div class=\"sk-item\"><div class=\"sk-estimator sk-toggleable\"><input class=\"sk-toggleable__control sk-hidden--visually\" id=\"sk-estimator-id-3\" type=\"checkbox\" ><label for=\"sk-estimator-id-3\" class=\"sk-toggleable__label sk-toggleable__label-arrow\">GradientBoostingRegressor</label><div class=\"sk-toggleable__content\"><pre>GradientBoostingRegressor()</pre></div></div></div></div></div></div></div></div></div></div>"
      ],
      "text/plain": [
       "GridSearchCV(cv=6, estimator=GradientBoostingRegressor(), n_jobs=-1,\n",
       "             param_grid={'learning_rate': [0.1, 1.0], 'max_depth': [3, 5],\n",
       "                         'min_samples_leaf': [1, 2],\n",
       "                         'min_samples_split': [2, 3],\n",
       "                         'n_estimators': [100, 180],\n",
       "                         'subsample': [0.7, 0.8, 1.0]})"
      ]
     },
     "execution_count": 167,
     "metadata": {},
     "output_type": "execute_result"
    }
   ],
   "source": [
    "from sklearn.model_selection import GridSearchCV\n",
    "gbr= GradientBoostingRegressor()\n",
    "x_train,x_test,y_train,y_test=train_test_split(x, y,random_state = 55,test_size=0.25,)\n",
    "\n",
    "param= {'n_estimators':[100,180],'max_depth':[3,5],'min_samples_split':[2,3],'min_samples_leaf':[1,2],\n",
    "        'learning_rate':[0.1,1.0],'subsample':[0.7,0.8,1.0]}\n",
    "grid= GridSearchCV(gbr,param, cv=6,n_jobs=-1)\n",
    "\n",
    "grid.fit(x_train,y_train)"
   ]
  },
  {
   "cell_type": "code",
   "execution_count": 182,
   "id": "38763eff",
   "metadata": {},
   "outputs": [
    {
     "name": "stdout",
     "output_type": "stream",
     "text": [
      "r2_score= 0.6201608869931408\n"
     ]
    }
   ],
   "source": [
    "reg= grid.best_estimator_\n",
    "\n",
    "reg.fit(x_train,y_train)\n",
    "pred= reg.predict(x_test)\n",
    "\n",
    "print('r2_score=', r2_score(y_test,pred))"
   ]
  },
  {
   "cell_type": "code",
   "execution_count": null,
   "id": "6f2b616d",
   "metadata": {},
   "outputs": [],
   "source": []
  },
  {
   "cell_type": "raw",
   "id": "4b170a70",
   "metadata": {},
   "source": [
    "SAVE THE MODEL"
   ]
  },
  {
   "cell_type": "code",
   "execution_count": 183,
   "id": "7966f416",
   "metadata": {},
   "outputs": [],
   "source": [
    "import pickle\n",
    "\n",
    "big_data_mart_sales= 'big_data_mart_sales.pickle'"
   ]
  },
  {
   "cell_type": "code",
   "execution_count": 185,
   "id": "609eea8a",
   "metadata": {},
   "outputs": [],
   "source": [
    "pickle.dump(reg,open(big_data_mart_sales, 'wb'))"
   ]
  },
  {
   "cell_type": "code",
   "execution_count": 186,
   "id": "e765ea8e",
   "metadata": {},
   "outputs": [],
   "source": [
    "model= pickle.load(open(big_data_mart_sales, 'rb'))"
   ]
  },
  {
   "cell_type": "code",
   "execution_count": null,
   "id": "d67d2921",
   "metadata": {},
   "outputs": [],
   "source": []
  },
  {
   "cell_type": "code",
   "execution_count": null,
   "id": "4151d81d",
   "metadata": {},
   "outputs": [],
   "source": [
    "#  THIS TRAIN DATASET MODEL COMPLETE\n",
    "\n",
    "# WE DONE TRAIN & TEST OVER THE MODEL AND SAVE THE MODEL"
   ]
  },
  {
   "cell_type": "code",
   "execution_count": null,
   "id": "2f4f8a76",
   "metadata": {},
   "outputs": [],
   "source": []
  },
  {
   "cell_type": "raw",
   "id": "2b15c0bb",
   "metadata": {},
   "source": []
  },
  {
   "cell_type": "raw",
   "id": "e65960d7",
   "metadata": {},
   "source": [
    "\n",
    "only in this dataset 'Outlet_sales' target_variable is missing because according test input data we predict the 'Sales'\n",
    "\n",
    "This test data all input features same as 'train input features'  \n",
    "we do all analysis part on train dataset  and don't analysis this test data\n"
   ]
  },
  {
   "cell_type": "code",
   "execution_count": null,
   "id": "9f186cab",
   "metadata": {},
   "outputs": [],
   "source": []
  },
  {
   "cell_type": "code",
   "execution_count": 195,
   "id": "35d5af43",
   "metadata": {
    "scrolled": false
   },
   "outputs": [
    {
     "data": {
      "text/html": [
       "<div>\n",
       "<style scoped>\n",
       "    .dataframe tbody tr th:only-of-type {\n",
       "        vertical-align: middle;\n",
       "    }\n",
       "\n",
       "    .dataframe tbody tr th {\n",
       "        vertical-align: top;\n",
       "    }\n",
       "\n",
       "    .dataframe thead th {\n",
       "        text-align: right;\n",
       "    }\n",
       "</style>\n",
       "<table border=\"1\" class=\"dataframe\">\n",
       "  <thead>\n",
       "    <tr style=\"text-align: right;\">\n",
       "      <th></th>\n",
       "      <th>Item_Identifier</th>\n",
       "      <th>Item_Weight</th>\n",
       "      <th>Item_Fat_Content</th>\n",
       "      <th>Item_Visibility</th>\n",
       "      <th>Item_Type</th>\n",
       "      <th>Item_MRP</th>\n",
       "      <th>Outlet_Identifier</th>\n",
       "      <th>Outlet_Establishment_Year</th>\n",
       "      <th>Outlet_Size</th>\n",
       "      <th>Outlet_Location_Type</th>\n",
       "      <th>Outlet_Type</th>\n",
       "    </tr>\n",
       "  </thead>\n",
       "  <tbody>\n",
       "    <tr>\n",
       "      <th>0</th>\n",
       "      <td>FDW58</td>\n",
       "      <td>20.75</td>\n",
       "      <td>Low Fat</td>\n",
       "      <td>0.007565</td>\n",
       "      <td>Snack Foods</td>\n",
       "      <td>107.8622</td>\n",
       "      <td>OUT049</td>\n",
       "      <td>1999</td>\n",
       "      <td>Medium</td>\n",
       "      <td>Tier 1</td>\n",
       "      <td>Supermarket Type1</td>\n",
       "    </tr>\n",
       "    <tr>\n",
       "      <th>1</th>\n",
       "      <td>FDW14</td>\n",
       "      <td>8.30</td>\n",
       "      <td>reg</td>\n",
       "      <td>0.038428</td>\n",
       "      <td>Dairy</td>\n",
       "      <td>87.3198</td>\n",
       "      <td>OUT017</td>\n",
       "      <td>2007</td>\n",
       "      <td>NaN</td>\n",
       "      <td>Tier 2</td>\n",
       "      <td>Supermarket Type1</td>\n",
       "    </tr>\n",
       "    <tr>\n",
       "      <th>2</th>\n",
       "      <td>NCN55</td>\n",
       "      <td>14.60</td>\n",
       "      <td>Low Fat</td>\n",
       "      <td>0.099575</td>\n",
       "      <td>Others</td>\n",
       "      <td>241.7538</td>\n",
       "      <td>OUT010</td>\n",
       "      <td>1998</td>\n",
       "      <td>NaN</td>\n",
       "      <td>Tier 3</td>\n",
       "      <td>Grocery Store</td>\n",
       "    </tr>\n",
       "  </tbody>\n",
       "</table>\n",
       "</div>"
      ],
      "text/plain": [
       "  Item_Identifier  Item_Weight Item_Fat_Content  Item_Visibility    Item_Type  \\\n",
       "0           FDW58        20.75          Low Fat         0.007565  Snack Foods   \n",
       "1           FDW14         8.30              reg         0.038428        Dairy   \n",
       "2           NCN55        14.60          Low Fat         0.099575       Others   \n",
       "\n",
       "   Item_MRP Outlet_Identifier  Outlet_Establishment_Year Outlet_Size  \\\n",
       "0  107.8622            OUT049                       1999      Medium   \n",
       "1   87.3198            OUT017                       2007         NaN   \n",
       "2  241.7538            OUT010                       1998         NaN   \n",
       "\n",
       "  Outlet_Location_Type        Outlet_Type  \n",
       "0               Tier 1  Supermarket Type1  \n",
       "1               Tier 2  Supermarket Type1  \n",
       "2               Tier 3      Grocery Store  "
      ]
     },
     "execution_count": 195,
     "metadata": {},
     "output_type": "execute_result"
    }
   ],
   "source": [
    "test.head(3)\n",
    "\n",
    "\n",
    "# this dataset  is part of  'train_dataset' \n",
    "#  but only 'sales' target_variable is missing\n",
    "#  we don't so much analysis the test dataset  only  predicting  on this dataset\n"
   ]
  },
  {
   "cell_type": "code",
   "execution_count": 196,
   "id": "497ec121",
   "metadata": {},
   "outputs": [
    {
     "data": {
      "text/plain": [
       "(5681, 11)"
      ]
     },
     "execution_count": 196,
     "metadata": {},
     "output_type": "execute_result"
    }
   ],
   "source": [
    "test.shape"
   ]
  },
  {
   "cell_type": "code",
   "execution_count": 197,
   "id": "588eba3b",
   "metadata": {},
   "outputs": [
    {
     "data": {
      "text/plain": [
       "Item_Identifier                 0\n",
       "Item_Weight                   976\n",
       "Item_Fat_Content                0\n",
       "Item_Visibility                 0\n",
       "Item_Type                       0\n",
       "Item_MRP                        0\n",
       "Outlet_Identifier               0\n",
       "Outlet_Establishment_Year       0\n",
       "Outlet_Size                  1606\n",
       "Outlet_Location_Type            0\n",
       "Outlet_Type                     0\n",
       "dtype: int64"
      ]
     },
     "execution_count": 197,
     "metadata": {},
     "output_type": "execute_result"
    }
   ],
   "source": [
    "test.isnull().sum()"
   ]
  },
  {
   "cell_type": "code",
   "execution_count": null,
   "id": "2c1240a1",
   "metadata": {},
   "outputs": [],
   "source": []
  },
  {
   "cell_type": "code",
   "execution_count": 198,
   "id": "f65546fe",
   "metadata": {},
   "outputs": [],
   "source": [
    "# impute the null in 'Item_Weight' by groupyby 'Item_Type' feature\n",
    "\n",
    "test['Item_Weight'].fillna(test.groupby(['Item_Type'])['Item_Weight'].transform('mean'), inplace= True)\n"
   ]
  },
  {
   "cell_type": "code",
   "execution_count": 199,
   "id": "5b8bbeda",
   "metadata": {},
   "outputs": [
    {
     "data": {
      "text/plain": [
       "0"
      ]
     },
     "execution_count": 199,
     "metadata": {},
     "output_type": "execute_result"
    }
   ],
   "source": [
    "#\n",
    "test['Item_Weight'].isnull().sum()"
   ]
  },
  {
   "cell_type": "code",
   "execution_count": 200,
   "id": "5320588f",
   "metadata": {
    "scrolled": true
   },
   "outputs": [
    {
     "data": {
      "text/html": [
       "<div>\n",
       "<style scoped>\n",
       "    .dataframe tbody tr th:only-of-type {\n",
       "        vertical-align: middle;\n",
       "    }\n",
       "\n",
       "    .dataframe tbody tr th {\n",
       "        vertical-align: top;\n",
       "    }\n",
       "\n",
       "    .dataframe thead th {\n",
       "        text-align: right;\n",
       "    }\n",
       "</style>\n",
       "<table border=\"1\" class=\"dataframe\">\n",
       "  <thead>\n",
       "    <tr style=\"text-align: right;\">\n",
       "      <th></th>\n",
       "      <th>Item_Weight</th>\n",
       "      <th>Item_Visibility</th>\n",
       "      <th>Item_MRP</th>\n",
       "      <th>Outlet_Establishment_Year</th>\n",
       "    </tr>\n",
       "  </thead>\n",
       "  <tbody>\n",
       "    <tr>\n",
       "      <th>count</th>\n",
       "      <td>5681.000000</td>\n",
       "      <td>5681.000000</td>\n",
       "      <td>5681.000000</td>\n",
       "      <td>5681.000000</td>\n",
       "    </tr>\n",
       "    <tr>\n",
       "      <th>mean</th>\n",
       "      <td>12.694378</td>\n",
       "      <td>0.065684</td>\n",
       "      <td>141.023273</td>\n",
       "      <td>1997.828903</td>\n",
       "    </tr>\n",
       "    <tr>\n",
       "      <th>std</th>\n",
       "      <td>4.252967</td>\n",
       "      <td>0.051252</td>\n",
       "      <td>61.809091</td>\n",
       "      <td>8.372256</td>\n",
       "    </tr>\n",
       "    <tr>\n",
       "      <th>min</th>\n",
       "      <td>4.555000</td>\n",
       "      <td>0.000000</td>\n",
       "      <td>31.990000</td>\n",
       "      <td>1985.000000</td>\n",
       "    </tr>\n",
       "    <tr>\n",
       "      <th>25%</th>\n",
       "      <td>9.195000</td>\n",
       "      <td>0.027047</td>\n",
       "      <td>94.412000</td>\n",
       "      <td>1987.000000</td>\n",
       "    </tr>\n",
       "    <tr>\n",
       "      <th>50%</th>\n",
       "      <td>12.684256</td>\n",
       "      <td>0.054154</td>\n",
       "      <td>141.415400</td>\n",
       "      <td>1999.000000</td>\n",
       "    </tr>\n",
       "    <tr>\n",
       "      <th>75%</th>\n",
       "      <td>15.850000</td>\n",
       "      <td>0.093463</td>\n",
       "      <td>186.026600</td>\n",
       "      <td>2004.000000</td>\n",
       "    </tr>\n",
       "    <tr>\n",
       "      <th>max</th>\n",
       "      <td>21.350000</td>\n",
       "      <td>0.323637</td>\n",
       "      <td>266.588400</td>\n",
       "      <td>2009.000000</td>\n",
       "    </tr>\n",
       "  </tbody>\n",
       "</table>\n",
       "</div>"
      ],
      "text/plain": [
       "       Item_Weight  Item_Visibility     Item_MRP  Outlet_Establishment_Year\n",
       "count  5681.000000      5681.000000  5681.000000                5681.000000\n",
       "mean     12.694378         0.065684   141.023273                1997.828903\n",
       "std       4.252967         0.051252    61.809091                   8.372256\n",
       "min       4.555000         0.000000    31.990000                1985.000000\n",
       "25%       9.195000         0.027047    94.412000                1987.000000\n",
       "50%      12.684256         0.054154   141.415400                1999.000000\n",
       "75%      15.850000         0.093463   186.026600                2004.000000\n",
       "max      21.350000         0.323637   266.588400                2009.000000"
      ]
     },
     "execution_count": 200,
     "metadata": {},
     "output_type": "execute_result"
    }
   ],
   "source": [
    "# descriptive information\n",
    "test.describe()"
   ]
  },
  {
   "cell_type": "code",
   "execution_count": null,
   "id": "fcf41e6a",
   "metadata": {},
   "outputs": [],
   "source": []
  },
  {
   "cell_type": "code",
   "execution_count": 201,
   "id": "6716a630",
   "metadata": {},
   "outputs": [],
   "source": [
    " \n",
    "#   first 0 value replace by np.nan\n",
    "test['Item_Visibility']= test['Item_Visibility'].replace({0: np.nan})\n",
    "\n",
    "# than impute all nan values in 'Item_Visibility' by groupby 'Item_Type'\n",
    "test['Item_Visibility'].fillna(test.groupby(['Item_Type'])['Item_Visibility'].transform('mean'), inplace=True)"
   ]
  },
  {
   "cell_type": "code",
   "execution_count": null,
   "id": "8d4c18d9",
   "metadata": {},
   "outputs": [],
   "source": []
  },
  {
   "cell_type": "code",
   "execution_count": 202,
   "id": "ddddcd1a",
   "metadata": {},
   "outputs": [
    {
     "data": {
      "text/plain": [
       "Snack Foods              789\n",
       "Fruits and Vegetables    781\n",
       "Household                638\n",
       "Frozen Foods             570\n",
       "Dairy                    454\n",
       "Baking Goods             438\n",
       "Canned                   435\n",
       "Health and Hygiene       338\n",
       "Meat                     311\n",
       "Soft Drinks              281\n",
       "Breads                   165\n",
       "Hard Drinks              148\n",
       "Starchy Foods            121\n",
       "Others                   111\n",
       "Breakfast                 76\n",
       "Seafood                   25\n",
       "Name: Item_Type, dtype: int64"
      ]
     },
     "execution_count": 202,
     "metadata": {},
     "output_type": "execute_result"
    }
   ],
   "source": [
    "# counting 'Item_Type' \n",
    "test['Item_Type'].value_counts()\n",
    "\n"
   ]
  },
  {
   "cell_type": "code",
   "execution_count": 203,
   "id": "60572b5c",
   "metadata": {},
   "outputs": [
    {
     "data": {
      "text/plain": [
       "<AxesSubplot:xlabel='Item_Fat_Content', ylabel='count'>"
      ]
     },
     "execution_count": 203,
     "metadata": {},
     "output_type": "execute_result"
    },
    {
     "data": {
      "image/png": "[encoded data removed]",
      "text/plain": [
       "<Figure size 432x288 with 1 Axes>"
      ]
     },
     "metadata": {
      "needs_background": "light"
     },
     "output_type": "display_data"
    }
   ],
   "source": [
    "#\n",
    "sns.countplot(test['Item_Fat_Content'])"
   ]
  },
  {
   "cell_type": "code",
   "execution_count": 222,
   "id": "6fedb563",
   "metadata": {},
   "outputs": [],
   "source": [
    "#\n",
    "test['Item_Fat_Content'].replace({'low fat':'Low Fat','reg':'Regular','LF':'Low Fat' }, inplace=True)"
   ]
  },
  {
   "cell_type": "code",
   "execution_count": null,
   "id": "6937c21c",
   "metadata": {},
   "outputs": [],
   "source": []
  },
  {
   "cell_type": "raw",
   "id": "4c53afee",
   "metadata": {},
   "source": [
    "DISTRIBUTION PLOT"
   ]
  },
  {
   "cell_type": "code",
   "execution_count": 205,
   "id": "69e06db8",
   "metadata": {},
   "outputs": [
    {
     "data": {
      "text/plain": [
       "<AxesSubplot:xlabel='Item_Weight', ylabel='Density'>"
      ]
     },
     "execution_count": 205,
     "metadata": {},
     "output_type": "execute_result"
    },
    {
     "data": {
      "image/png": "[encoded data removed]",
      "text/plain": [
       "<Figure size 432x288 with 1 Axes>"
      ]
     },
     "metadata": {
      "needs_background": "light"
     },
     "output_type": "display_data"
    }
   ],
   "source": [
    "#\n",
    "sns.distplot(test['Item_Weight'])\n",
    "\n",
    "# this distribition same as train['Item_Weight'] features distribution"
   ]
  },
  {
   "cell_type": "code",
   "execution_count": 206,
   "id": "163fb652",
   "metadata": {},
   "outputs": [
    {
     "data": {
      "text/plain": [
       "<AxesSubplot:xlabel='Item_Visibility', ylabel='Density'>"
      ]
     },
     "execution_count": 206,
     "metadata": {},
     "output_type": "execute_result"
    },
    {
     "data": {
      "image/png": "[encoded data removed]",
      "text/plain": [
       "<Figure size 432x288 with 1 Axes>"
      ]
     },
     "metadata": {
      "needs_background": "light"
     },
     "output_type": "display_data"
    }
   ],
   "source": [
    "#\n",
    "sns.distplot(test['Item_Visibility'])\n",
    "\n",
    "# this distribition same as train['Item_Visibility'] features distribution\n",
    "# SHOW skewness in this distribution"
   ]
  },
  {
   "cell_type": "code",
   "execution_count": 207,
   "id": "2c881a04",
   "metadata": {},
   "outputs": [
    {
     "data": {
      "text/plain": [
       "<AxesSubplot:xlabel='Item_MRP', ylabel='Density'>"
      ]
     },
     "execution_count": 207,
     "metadata": {},
     "output_type": "execute_result"
    },
    {
     "data": {
      "image/png": "[encoded data removed]",
      "text/plain": [
       "<Figure size 432x288 with 1 Axes>"
      ]
     },
     "metadata": {
      "needs_background": "light"
     },
     "output_type": "display_data"
    }
   ],
   "source": [
    "sns.distplot(test['Item_MRP'])"
   ]
  },
  {
   "cell_type": "code",
   "execution_count": null,
   "id": "1573c70b",
   "metadata": {},
   "outputs": [],
   "source": []
  },
  {
   "cell_type": "raw",
   "id": "06d00bcc",
   "metadata": {},
   "source": [
    "# CHEKCING OUTLIERS OF TEST_DATASET"
   ]
  },
  {
   "cell_type": "code",
   "execution_count": 208,
   "id": "de64ff89",
   "metadata": {},
   "outputs": [
    {
     "data": {
      "text/plain": [
       "Item_MRP            True\n",
       "Item_Weight         True\n",
       "Item_Visibility    False\n",
       "dtype: bool"
      ]
     },
     "execution_count": 208,
     "metadata": {},
     "output_type": "execute_result"
    }
   ],
   "source": [
    "# Checking outliers\n",
    "\n",
    "from scipy.stats import zscore\n",
    "\n",
    "np.abs(zscore(test[['Item_MRP','Item_Weight','Item_Visibility']])<3).all()\n",
    "\n",
    "# these features are continuous"
   ]
  },
  {
   "cell_type": "code",
   "execution_count": 227,
   "id": "fa1bb047",
   "metadata": {},
   "outputs": [],
   "source": [
    "# REMOVING OUTLIER by ZSCORE METHOD\n",
    "\n",
    "from scipy.stats import zscore\n",
    "\n",
    "z_scores=zscore(test[['Item_Weight','Item_Visibility','Item_MRP']])\n",
    "x_new=test.loc[(abs(z_scores)<3).all(axis=1)]\n"
   ]
  },
  {
   "cell_type": "code",
   "execution_count": 228,
   "id": "bfefe264",
   "metadata": {},
   "outputs": [
    {
     "name": "stdout",
     "output_type": "stream",
     "text": [
      "original-shape= (5681, 11)\n",
      "test_dataset_shape after removing outliers (5648, 11)\n"
     ]
    }
   ],
   "source": [
    "print('original-shape=',test.shape)\n",
    "print('test_dataset_shape after removing outliers',x_new.shape)"
   ]
  },
  {
   "cell_type": "code",
   "execution_count": null,
   "id": "53e3dcdc",
   "metadata": {},
   "outputs": [],
   "source": []
  },
  {
   "cell_type": "raw",
   "id": "57244037",
   "metadata": {},
   "source": [
    " CHECKING SKEWNESS OF TEST_DATASET"
   ]
  },
  {
   "cell_type": "code",
   "execution_count": 229,
   "id": "b477d200",
   "metadata": {},
   "outputs": [
    {
     "data": {
      "text/plain": [
       "Item_MRP           0.134521\n",
       "Item_Weight        0.142818\n",
       "Item_Visibility    0.294802\n",
       "dtype: float64"
      ]
     },
     "execution_count": 229,
     "metadata": {},
     "output_type": "execute_result"
    }
   ],
   "source": [
    "# checking skewness on continuous features\n",
    "\n",
    "x_new[['Item_MRP','Item_Weight','Item_Visibility']].skew()\n",
    "\n",
    "# test_dataset skewness result same like train_dataset"
   ]
  },
  {
   "cell_type": "code",
   "execution_count": 230,
   "id": "a5757b8e",
   "metadata": {},
   "outputs": [
    {
     "data": {
      "text/plain": [
       "-0.03328365232719442"
      ]
     },
     "execution_count": 230,
     "metadata": {},
     "output_type": "execute_result"
    }
   ],
   "source": [
    "# REMOVING SKEWNESS\n",
    "\n",
    "test['Item_Visibility']= np.sqrt(test['Item_Visibility'])\n",
    "\n",
    "# checking again skewness after     removing skewness\n",
    "test['Item_Visibility'].skew()"
   ]
  },
  {
   "cell_type": "code",
   "execution_count": null,
   "id": "6578d443",
   "metadata": {},
   "outputs": [],
   "source": []
  },
  {
   "cell_type": "code",
   "execution_count": 231,
   "id": "06d90f73",
   "metadata": {},
   "outputs": [],
   "source": [
    "# removing unimportant features those 0% related target_variable , we seen above train_dataset\n",
    "\n",
    "X= x_new.drop(['Item_Identifier','Outlet_Establishment_Year','Outlet_Size'], axis=1)\n"
   ]
  },
  {
   "cell_type": "code",
   "execution_count": 232,
   "id": "eb5bc5c2",
   "metadata": {},
   "outputs": [],
   "source": [
    "# input variable\n",
    "x1= pd.get_dummies(X, drop_first=True)"
   ]
  },
  {
   "cell_type": "code",
   "execution_count": 233,
   "id": "452d3cde",
   "metadata": {},
   "outputs": [
    {
     "data": {
      "text/html": [
       "<div>\n",
       "<style scoped>\n",
       "    .dataframe tbody tr th:only-of-type {\n",
       "        vertical-align: middle;\n",
       "    }\n",
       "\n",
       "    .dataframe tbody tr th {\n",
       "        vertical-align: top;\n",
       "    }\n",
       "\n",
       "    .dataframe thead th {\n",
       "        text-align: right;\n",
       "    }\n",
       "</style>\n",
       "<table border=\"1\" class=\"dataframe\">\n",
       "  <thead>\n",
       "    <tr style=\"text-align: right;\">\n",
       "      <th></th>\n",
       "      <th>Item_Weight</th>\n",
       "      <th>Item_Visibility</th>\n",
       "      <th>Item_MRP</th>\n",
       "      <th>Item_Fat_Content_Regular</th>\n",
       "      <th>Item_Type_Breads</th>\n",
       "      <th>Item_Type_Breakfast</th>\n",
       "      <th>Item_Type_Canned</th>\n",
       "      <th>Item_Type_Dairy</th>\n",
       "      <th>Item_Type_Frozen Foods</th>\n",
       "      <th>Item_Type_Fruits and Vegetables</th>\n",
       "      <th>...</th>\n",
       "      <th>Outlet_Identifier_OUT027</th>\n",
       "      <th>Outlet_Identifier_OUT035</th>\n",
       "      <th>Outlet_Identifier_OUT045</th>\n",
       "      <th>Outlet_Identifier_OUT046</th>\n",
       "      <th>Outlet_Identifier_OUT049</th>\n",
       "      <th>Outlet_Location_Type_Tier 2</th>\n",
       "      <th>Outlet_Location_Type_Tier 3</th>\n",
       "      <th>Outlet_Type_Supermarket Type1</th>\n",
       "      <th>Outlet_Type_Supermarket Type2</th>\n",
       "      <th>Outlet_Type_Supermarket Type3</th>\n",
       "    </tr>\n",
       "  </thead>\n",
       "  <tbody>\n",
       "    <tr>\n",
       "      <th>0</th>\n",
       "      <td>20.750</td>\n",
       "      <td>0.086976</td>\n",
       "      <td>107.8622</td>\n",
       "      <td>0</td>\n",
       "      <td>0</td>\n",
       "      <td>0</td>\n",
       "      <td>0</td>\n",
       "      <td>0</td>\n",
       "      <td>0</td>\n",
       "      <td>0</td>\n",
       "      <td>...</td>\n",
       "      <td>0</td>\n",
       "      <td>0</td>\n",
       "      <td>0</td>\n",
       "      <td>0</td>\n",
       "      <td>1</td>\n",
       "      <td>0</td>\n",
       "      <td>0</td>\n",
       "      <td>1</td>\n",
       "      <td>0</td>\n",
       "      <td>0</td>\n",
       "    </tr>\n",
       "    <tr>\n",
       "      <th>1</th>\n",
       "      <td>8.300</td>\n",
       "      <td>0.196030</td>\n",
       "      <td>87.3198</td>\n",
       "      <td>1</td>\n",
       "      <td>0</td>\n",
       "      <td>0</td>\n",
       "      <td>0</td>\n",
       "      <td>1</td>\n",
       "      <td>0</td>\n",
       "      <td>0</td>\n",
       "      <td>...</td>\n",
       "      <td>0</td>\n",
       "      <td>0</td>\n",
       "      <td>0</td>\n",
       "      <td>0</td>\n",
       "      <td>0</td>\n",
       "      <td>1</td>\n",
       "      <td>0</td>\n",
       "      <td>1</td>\n",
       "      <td>0</td>\n",
       "      <td>0</td>\n",
       "    </tr>\n",
       "    <tr>\n",
       "      <th>2</th>\n",
       "      <td>14.600</td>\n",
       "      <td>0.315555</td>\n",
       "      <td>241.7538</td>\n",
       "      <td>0</td>\n",
       "      <td>0</td>\n",
       "      <td>0</td>\n",
       "      <td>0</td>\n",
       "      <td>0</td>\n",
       "      <td>0</td>\n",
       "      <td>0</td>\n",
       "      <td>...</td>\n",
       "      <td>0</td>\n",
       "      <td>0</td>\n",
       "      <td>0</td>\n",
       "      <td>0</td>\n",
       "      <td>0</td>\n",
       "      <td>0</td>\n",
       "      <td>1</td>\n",
       "      <td>0</td>\n",
       "      <td>0</td>\n",
       "      <td>0</td>\n",
       "    </tr>\n",
       "    <tr>\n",
       "      <th>3</th>\n",
       "      <td>7.315</td>\n",
       "      <td>0.124050</td>\n",
       "      <td>155.0340</td>\n",
       "      <td>0</td>\n",
       "      <td>0</td>\n",
       "      <td>0</td>\n",
       "      <td>0</td>\n",
       "      <td>0</td>\n",
       "      <td>0</td>\n",
       "      <td>0</td>\n",
       "      <td>...</td>\n",
       "      <td>0</td>\n",
       "      <td>0</td>\n",
       "      <td>0</td>\n",
       "      <td>0</td>\n",
       "      <td>0</td>\n",
       "      <td>1</td>\n",
       "      <td>0</td>\n",
       "      <td>1</td>\n",
       "      <td>0</td>\n",
       "      <td>0</td>\n",
       "    </tr>\n",
       "  </tbody>\n",
       "</table>\n",
       "<p>4 rows × 33 columns</p>\n",
       "</div>"
      ],
      "text/plain": [
       "   Item_Weight  Item_Visibility  Item_MRP  Item_Fat_Content_Regular  \\\n",
       "0       20.750         0.086976  107.8622                         0   \n",
       "1        8.300         0.196030   87.3198                         1   \n",
       "2       14.600         0.315555  241.7538                         0   \n",
       "3        7.315         0.124050  155.0340                         0   \n",
       "\n",
       "   Item_Type_Breads  Item_Type_Breakfast  Item_Type_Canned  Item_Type_Dairy  \\\n",
       "0                 0                    0                 0                0   \n",
       "1                 0                    0                 0                1   \n",
       "2                 0                    0                 0                0   \n",
       "3                 0                    0                 0                0   \n",
       "\n",
       "   Item_Type_Frozen Foods  Item_Type_Fruits and Vegetables  ...  \\\n",
       "0                       0                                0  ...   \n",
       "1                       0                                0  ...   \n",
       "2                       0                                0  ...   \n",
       "3                       0                                0  ...   \n",
       "\n",
       "   Outlet_Identifier_OUT027  Outlet_Identifier_OUT035  \\\n",
       "0                         0                         0   \n",
       "1                         0                         0   \n",
       "2                         0                         0   \n",
       "3                         0                         0   \n",
       "\n",
       "   Outlet_Identifier_OUT045  Outlet_Identifier_OUT046  \\\n",
       "0                         0                         0   \n",
       "1                         0                         0   \n",
       "2                         0                         0   \n",
       "3                         0                         0   \n",
       "\n",
       "   Outlet_Identifier_OUT049  Outlet_Location_Type_Tier 2  \\\n",
       "0                         1                            0   \n",
       "1                         0                            1   \n",
       "2                         0                            0   \n",
       "3                         0                            1   \n",
       "\n",
       "   Outlet_Location_Type_Tier 3  Outlet_Type_Supermarket Type1  \\\n",
       "0                            0                              1   \n",
       "1                            0                              1   \n",
       "2                            1                              0   \n",
       "3                            0                              1   \n",
       "\n",
       "   Outlet_Type_Supermarket Type2  Outlet_Type_Supermarket Type3  \n",
       "0                              0                              0  \n",
       "1                              0                              0  \n",
       "2                              0                              0  \n",
       "3                              0                              0  \n",
       "\n",
       "[4 rows x 33 columns]"
      ]
     },
     "execution_count": 233,
     "metadata": {},
     "output_type": "execute_result"
    }
   ],
   "source": [
    "x1.head(4)"
   ]
  },
  {
   "cell_type": "code",
   "execution_count": null,
   "id": "55c518bb",
   "metadata": {},
   "outputs": [],
   "source": []
  },
  {
   "cell_type": "raw",
   "id": "d24a48d6",
   "metadata": {},
   "source": [
    "now we can predict the 'Outlet_Sales' of the (Test Dataset)"
   ]
  },
  {
   "cell_type": "code",
   "execution_count": 235,
   "id": "59561e27",
   "metadata": {},
   "outputs": [
    {
     "data": {
      "text/plain": [
       "array([1609.01669311, 1409.43585866, 1609.18150396, ..., 1869.39457799,\n",
       "       3583.0840057 , 1314.65067449])"
      ]
     },
     "execution_count": 235,
     "metadata": {},
     "output_type": "execute_result"
    }
   ],
   "source": [
    "model.predict(x1)"
   ]
  },
  {
   "cell_type": "code",
   "execution_count": null,
   "id": "cfe30fc7",
   "metadata": {},
   "outputs": [],
   "source": []
  },
  {
   "cell_type": "code",
   "execution_count": null,
   "id": "253151e5",
   "metadata": {},
   "outputs": [],
   "source": [
    "#  we tried 'RandomForest' with 'scaled' and 'unscaled' input_features but both given same score\n",
    "\n",
    "# 'MLP_regressor' given best score with unscaled input data"
   ]
  },
  {
   "cell_type": "raw",
   "id": "70aeff4f",
   "metadata": {},
   "source": [
    "#  WE DONE ANALYSED' PART AT 'TRAIN DATASET' \n",
    "\n",
    "1. we done train & test over the 'train_dataset' \n",
    "2. Tried 'randomforest_regressor', 'adaboost_regressor', 'gradientboosting',svm, 'mlp_regressor' with cross_valdidation\n",
    "3. in last 'RandomForest' & 'GradienBoosting' given better score compare to another\n",
    "\n",
    "4. Best score ever received from RandomForest & GradientBoosting-Regressor\n",
    "#. using PCA ,  but svm with pca_component r2_score is less than compare to without using pca_component\n",
    "5. Hyper-parameter-tunning with 'GridSearchCV' at 'GradientBoosting_Regressor\n",
    "\n",
    "6. save the ( GradientBoosting_model with GridsearchCV \n",
    "\n",
    "7. predict 'Outlet_Sales' at Test_dataset by (RandomForest-model of  train_dataset)"
   ]
  },
  {
   "cell_type": "code",
   "execution_count": null,
   "id": "3f6c32a0",
   "metadata": {},
   "outputs": [],
   "source": []
  },
  {
   "cell_type": "code",
   "execution_count": null,
   "id": "f4ea314b",
   "metadata": {},
   "outputs": [],
   "source": [
    " "
   ]
  }
 ],
 "metadata": {
  "kernelspec": {
   "display_name": "Python 3 (ipykernel)",
   "language": "python",
   "name": "python3"
  },
  "language_info": {
   "codemirror_mode": {
    "name": "ipython",
    "version": 3
   },
   "file_extension": ".py",
   "mimetype": "text/x-python",
   "name": "python",
   "nbconvert_exporter": "python",
   "pygments_lexer": "ipython3",
   "version": "3.10.2"
  }
 },
 "nbformat": 4,
 "nbformat_minor": 5
}
