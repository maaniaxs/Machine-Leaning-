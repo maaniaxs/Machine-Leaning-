{
 "cells": [
  {
   "cell_type": "code",
   "execution_count": null,
   "id": "40bbf6fb",
   "metadata": {},
   "outputs": [],
   "source": []
  },
  {
   "cell_type": "code",
   "execution_count": 1,
   "id": "53767051",
   "metadata": {},
   "outputs": [],
   "source": [
    "#  IMPORT THE NECESSARY LIBRARY\n",
    "\n",
    "import pandas as pd\n",
    "import numpy as np\n",
    "import matplotlib.pyplot as plt\n",
    "import seaborn as sns"
   ]
  },
  {
   "cell_type": "code",
   "execution_count": null,
   "id": "6e3051ab",
   "metadata": {},
   "outputs": [],
   "source": []
  },
  {
   "cell_type": "code",
   "execution_count": 2,
   "id": "e9da50f4",
   "metadata": {},
   "outputs": [],
   "source": [
    "# LOAD THE DATASET\n",
    "\n",
    "df= pd.read_csv('https://raw.githubusercontent.com/dsrscientist/DSData/master/Advertising.csv')"
   ]
  },
  {
   "cell_type": "code",
   "execution_count": null,
   "id": "cdfd9062",
   "metadata": {},
   "outputs": [],
   "source": []
  },
  {
   "cell_type": "code",
   "execution_count": 3,
   "id": "f2ba256f",
   "metadata": {},
   "outputs": [],
   "source": [
    "\n",
    "import warnings\n",
    "warnings.filterwarnings('ignore')"
   ]
  },
  {
   "cell_type": "code",
   "execution_count": null,
   "id": "fa6b6adb",
   "metadata": {},
   "outputs": [],
   "source": []
  },
  {
   "cell_type": "code",
   "execution_count": 4,
   "id": "d63ff7e9",
   "metadata": {},
   "outputs": [
    {
     "data": {
      "text/html": [
       "<div>\n",
       "<style scoped>\n",
       "    .dataframe tbody tr th:only-of-type {\n",
       "        vertical-align: middle;\n",
       "    }\n",
       "\n",
       "    .dataframe tbody tr th {\n",
       "        vertical-align: top;\n",
       "    }\n",
       "\n",
       "    .dataframe thead th {\n",
       "        text-align: right;\n",
       "    }\n",
       "</style>\n",
       "<table border=\"1\" class=\"dataframe\">\n",
       "  <thead>\n",
       "    <tr style=\"text-align: right;\">\n",
       "      <th></th>\n",
       "      <th>Unnamed: 0</th>\n",
       "      <th>TV</th>\n",
       "      <th>radio</th>\n",
       "      <th>newspaper</th>\n",
       "      <th>sales</th>\n",
       "    </tr>\n",
       "  </thead>\n",
       "  <tbody>\n",
       "    <tr>\n",
       "      <th>0</th>\n",
       "      <td>1</td>\n",
       "      <td>230.1</td>\n",
       "      <td>37.8</td>\n",
       "      <td>69.2</td>\n",
       "      <td>22.1</td>\n",
       "    </tr>\n",
       "    <tr>\n",
       "      <th>1</th>\n",
       "      <td>2</td>\n",
       "      <td>44.5</td>\n",
       "      <td>39.3</td>\n",
       "      <td>45.1</td>\n",
       "      <td>10.4</td>\n",
       "    </tr>\n",
       "    <tr>\n",
       "      <th>2</th>\n",
       "      <td>3</td>\n",
       "      <td>17.2</td>\n",
       "      <td>45.9</td>\n",
       "      <td>69.3</td>\n",
       "      <td>9.3</td>\n",
       "    </tr>\n",
       "    <tr>\n",
       "      <th>3</th>\n",
       "      <td>4</td>\n",
       "      <td>151.5</td>\n",
       "      <td>41.3</td>\n",
       "      <td>58.5</td>\n",
       "      <td>18.5</td>\n",
       "    </tr>\n",
       "    <tr>\n",
       "      <th>4</th>\n",
       "      <td>5</td>\n",
       "      <td>180.8</td>\n",
       "      <td>10.8</td>\n",
       "      <td>58.4</td>\n",
       "      <td>12.9</td>\n",
       "    </tr>\n",
       "  </tbody>\n",
       "</table>\n",
       "</div>"
      ],
      "text/plain": [
       "   Unnamed: 0     TV  radio  newspaper  sales\n",
       "0           1  230.1   37.8       69.2   22.1\n",
       "1           2   44.5   39.3       45.1   10.4\n",
       "2           3   17.2   45.9       69.3    9.3\n",
       "3           4  151.5   41.3       58.5   18.5\n",
       "4           5  180.8   10.8       58.4   12.9"
      ]
     },
     "execution_count": 4,
     "metadata": {},
     "output_type": "execute_result"
    }
   ],
   "source": [
    "df.head()"
   ]
  },
  {
   "cell_type": "code",
   "execution_count": 5,
   "id": "2ec9bb01",
   "metadata": {},
   "outputs": [],
   "source": [
    "\n",
    "df.drop('Unnamed: 0', axis=1, inplace= True)"
   ]
  },
  {
   "cell_type": "code",
   "execution_count": 6,
   "id": "fa249098",
   "metadata": {},
   "outputs": [
    {
     "data": {
      "text/plain": [
       "(200, 4)"
      ]
     },
     "execution_count": 6,
     "metadata": {},
     "output_type": "execute_result"
    }
   ],
   "source": [
    "# checking shape of the dataset\n",
    "\n",
    "df.shape"
   ]
  },
  {
   "cell_type": "code",
   "execution_count": 7,
   "id": "1e5cd1f2",
   "metadata": {},
   "outputs": [
    {
     "data": {
      "text/html": [
       "<div>\n",
       "<style scoped>\n",
       "    .dataframe tbody tr th:only-of-type {\n",
       "        vertical-align: middle;\n",
       "    }\n",
       "\n",
       "    .dataframe tbody tr th {\n",
       "        vertical-align: top;\n",
       "    }\n",
       "\n",
       "    .dataframe thead th {\n",
       "        text-align: right;\n",
       "    }\n",
       "</style>\n",
       "<table border=\"1\" class=\"dataframe\">\n",
       "  <thead>\n",
       "    <tr style=\"text-align: right;\">\n",
       "      <th></th>\n",
       "      <th>TV</th>\n",
       "      <th>radio</th>\n",
       "      <th>newspaper</th>\n",
       "      <th>sales</th>\n",
       "    </tr>\n",
       "  </thead>\n",
       "  <tbody>\n",
       "    <tr>\n",
       "      <th>0</th>\n",
       "      <td>230.1</td>\n",
       "      <td>37.8</td>\n",
       "      <td>69.2</td>\n",
       "      <td>22.1</td>\n",
       "    </tr>\n",
       "    <tr>\n",
       "      <th>1</th>\n",
       "      <td>44.5</td>\n",
       "      <td>39.3</td>\n",
       "      <td>45.1</td>\n",
       "      <td>10.4</td>\n",
       "    </tr>\n",
       "    <tr>\n",
       "      <th>2</th>\n",
       "      <td>17.2</td>\n",
       "      <td>45.9</td>\n",
       "      <td>69.3</td>\n",
       "      <td>9.3</td>\n",
       "    </tr>\n",
       "  </tbody>\n",
       "</table>\n",
       "</div>"
      ],
      "text/plain": [
       "      TV  radio  newspaper  sales\n",
       "0  230.1   37.8       69.2   22.1\n",
       "1   44.5   39.3       45.1   10.4\n",
       "2   17.2   45.9       69.3    9.3"
      ]
     },
     "execution_count": 7,
     "metadata": {},
     "output_type": "execute_result"
    }
   ],
   "source": [
    "df.head(3)"
   ]
  },
  {
   "cell_type": "code",
   "execution_count": 8,
   "id": "56f16d3e",
   "metadata": {},
   "outputs": [
    {
     "data": {
      "text/plain": [
       "TV           0\n",
       "radio        0\n",
       "newspaper    0\n",
       "sales        0\n",
       "dtype: int64"
      ]
     },
     "execution_count": 8,
     "metadata": {},
     "output_type": "execute_result"
    }
   ],
   "source": [
    "# checking  null value in dataset\n",
    "\n",
    "df.isnull().sum()"
   ]
  },
  {
   "cell_type": "code",
   "execution_count": 9,
   "id": "57ef72dd",
   "metadata": {},
   "outputs": [
    {
     "name": "stdout",
     "output_type": "stream",
     "text": [
      "<class 'pandas.core.frame.DataFrame'>\n",
      "RangeIndex: 200 entries, 0 to 199\n",
      "Data columns (total 4 columns):\n",
      " #   Column     Non-Null Count  Dtype  \n",
      "---  ------     --------------  -----  \n",
      " 0   TV         200 non-null    float64\n",
      " 1   radio      200 non-null    float64\n",
      " 2   newspaper  200 non-null    float64\n",
      " 3   sales      200 non-null    float64\n",
      "dtypes: float64(4)\n",
      "memory usage: 6.4 KB\n"
     ]
    }
   ],
   "source": [
    "# brief summary of dataset\n",
    "df.info()"
   ]
  },
  {
   "cell_type": "code",
   "execution_count": 10,
   "id": "56b9d867",
   "metadata": {
    "scrolled": true
   },
   "outputs": [
    {
     "data": {
      "text/html": [
       "<div>\n",
       "<style scoped>\n",
       "    .dataframe tbody tr th:only-of-type {\n",
       "        vertical-align: middle;\n",
       "    }\n",
       "\n",
       "    .dataframe tbody tr th {\n",
       "        vertical-align: top;\n",
       "    }\n",
       "\n",
       "    .dataframe thead th {\n",
       "        text-align: right;\n",
       "    }\n",
       "</style>\n",
       "<table border=\"1\" class=\"dataframe\">\n",
       "  <thead>\n",
       "    <tr style=\"text-align: right;\">\n",
       "      <th></th>\n",
       "      <th>TV</th>\n",
       "      <th>radio</th>\n",
       "      <th>newspaper</th>\n",
       "      <th>sales</th>\n",
       "    </tr>\n",
       "  </thead>\n",
       "  <tbody>\n",
       "    <tr>\n",
       "      <th>count</th>\n",
       "      <td>200.000000</td>\n",
       "      <td>200.000000</td>\n",
       "      <td>200.000000</td>\n",
       "      <td>200.000000</td>\n",
       "    </tr>\n",
       "    <tr>\n",
       "      <th>mean</th>\n",
       "      <td>147.042500</td>\n",
       "      <td>23.264000</td>\n",
       "      <td>30.554000</td>\n",
       "      <td>14.022500</td>\n",
       "    </tr>\n",
       "    <tr>\n",
       "      <th>std</th>\n",
       "      <td>85.854236</td>\n",
       "      <td>14.846809</td>\n",
       "      <td>21.778621</td>\n",
       "      <td>5.217457</td>\n",
       "    </tr>\n",
       "    <tr>\n",
       "      <th>min</th>\n",
       "      <td>0.700000</td>\n",
       "      <td>0.000000</td>\n",
       "      <td>0.300000</td>\n",
       "      <td>1.600000</td>\n",
       "    </tr>\n",
       "    <tr>\n",
       "      <th>25%</th>\n",
       "      <td>74.375000</td>\n",
       "      <td>9.975000</td>\n",
       "      <td>12.750000</td>\n",
       "      <td>10.375000</td>\n",
       "    </tr>\n",
       "    <tr>\n",
       "      <th>50%</th>\n",
       "      <td>149.750000</td>\n",
       "      <td>22.900000</td>\n",
       "      <td>25.750000</td>\n",
       "      <td>12.900000</td>\n",
       "    </tr>\n",
       "    <tr>\n",
       "      <th>75%</th>\n",
       "      <td>218.825000</td>\n",
       "      <td>36.525000</td>\n",
       "      <td>45.100000</td>\n",
       "      <td>17.400000</td>\n",
       "    </tr>\n",
       "    <tr>\n",
       "      <th>max</th>\n",
       "      <td>296.400000</td>\n",
       "      <td>49.600000</td>\n",
       "      <td>114.000000</td>\n",
       "      <td>27.000000</td>\n",
       "    </tr>\n",
       "  </tbody>\n",
       "</table>\n",
       "</div>"
      ],
      "text/plain": [
       "               TV       radio   newspaper       sales\n",
       "count  200.000000  200.000000  200.000000  200.000000\n",
       "mean   147.042500   23.264000   30.554000   14.022500\n",
       "std     85.854236   14.846809   21.778621    5.217457\n",
       "min      0.700000    0.000000    0.300000    1.600000\n",
       "25%     74.375000    9.975000   12.750000   10.375000\n",
       "50%    149.750000   22.900000   25.750000   12.900000\n",
       "75%    218.825000   36.525000   45.100000   17.400000\n",
       "max    296.400000   49.600000  114.000000   27.000000"
      ]
     },
     "execution_count": 10,
     "metadata": {},
     "output_type": "execute_result"
    }
   ],
   "source": [
    "# descriptive information about dataset\n",
    "\n",
    "df.describe()"
   ]
  },
  {
   "cell_type": "code",
   "execution_count": null,
   "id": "08be323b",
   "metadata": {},
   "outputs": [],
   "source": []
  },
  {
   "cell_type": "raw",
   "id": "ba3f0655",
   "metadata": {},
   "source": [
    "LET'S DO ANALYSIS THE DATASET"
   ]
  },
  {
   "cell_type": "code",
   "execution_count": null,
   "id": "21b5a54f",
   "metadata": {},
   "outputs": [],
   "source": []
  },
  {
   "cell_type": "code",
   "execution_count": 11,
   "id": "5f69791d",
   "metadata": {},
   "outputs": [
    {
     "data": {
      "text/html": [
       "<div>\n",
       "<style scoped>\n",
       "    .dataframe tbody tr th:only-of-type {\n",
       "        vertical-align: middle;\n",
       "    }\n",
       "\n",
       "    .dataframe tbody tr th {\n",
       "        vertical-align: top;\n",
       "    }\n",
       "\n",
       "    .dataframe thead th {\n",
       "        text-align: right;\n",
       "    }\n",
       "</style>\n",
       "<table border=\"1\" class=\"dataframe\">\n",
       "  <thead>\n",
       "    <tr style=\"text-align: right;\">\n",
       "      <th></th>\n",
       "      <th>TV</th>\n",
       "      <th>radio</th>\n",
       "      <th>newspaper</th>\n",
       "      <th>sales</th>\n",
       "    </tr>\n",
       "  </thead>\n",
       "  <tbody>\n",
       "    <tr>\n",
       "      <th>TV</th>\n",
       "      <td>1.000000</td>\n",
       "      <td>0.054809</td>\n",
       "      <td>0.056648</td>\n",
       "      <td>0.782224</td>\n",
       "    </tr>\n",
       "    <tr>\n",
       "      <th>radio</th>\n",
       "      <td>0.054809</td>\n",
       "      <td>1.000000</td>\n",
       "      <td>0.354104</td>\n",
       "      <td>0.576223</td>\n",
       "    </tr>\n",
       "    <tr>\n",
       "      <th>newspaper</th>\n",
       "      <td>0.056648</td>\n",
       "      <td>0.354104</td>\n",
       "      <td>1.000000</td>\n",
       "      <td>0.228299</td>\n",
       "    </tr>\n",
       "    <tr>\n",
       "      <th>sales</th>\n",
       "      <td>0.782224</td>\n",
       "      <td>0.576223</td>\n",
       "      <td>0.228299</td>\n",
       "      <td>1.000000</td>\n",
       "    </tr>\n",
       "  </tbody>\n",
       "</table>\n",
       "</div>"
      ],
      "text/plain": [
       "                 TV     radio  newspaper     sales\n",
       "TV         1.000000  0.054809   0.056648  0.782224\n",
       "radio      0.054809  1.000000   0.354104  0.576223\n",
       "newspaper  0.056648  0.354104   1.000000  0.228299\n",
       "sales      0.782224  0.576223   0.228299  1.000000"
      ]
     },
     "execution_count": 11,
     "metadata": {},
     "output_type": "execute_result"
    }
   ],
   "source": [
    "# checking correlation of dataset\n",
    "\n",
    "df.corr()"
   ]
  },
  {
   "cell_type": "code",
   "execution_count": 12,
   "id": "746d1b30",
   "metadata": {},
   "outputs": [
    {
     "data": {
      "text/plain": [
       "<AxesSubplot:>"
      ]
     },
     "execution_count": 12,
     "metadata": {},
     "output_type": "execute_result"
    },
    {
     "data": {
      "image/png": "[encoded data removed]",
      "text/plain": [
       "<Figure size 432x288 with 2 Axes>"
      ]
     },
     "metadata": {
      "needs_background": "light"
     },
     "output_type": "display_data"
    }
   ],
   "source": [
    "# again checking correlation through  heatmap\n",
    "\n",
    "sns.heatmap(df.corr(), annot=True)"
   ]
  },
  {
   "cell_type": "code",
   "execution_count": null,
   "id": "3f7ea338",
   "metadata": {},
   "outputs": [],
   "source": [
    "# 'TV' correlation strength is high with target_variable "
   ]
  },
  {
   "cell_type": "code",
   "execution_count": null,
   "id": "5dafcf80",
   "metadata": {},
   "outputs": [],
   "source": []
  },
  {
   "cell_type": "code",
   "execution_count": 13,
   "id": "a2c9c943",
   "metadata": {},
   "outputs": [
    {
     "data": {
      "image/png": "[encoded data removed]",
      "text/plain": [
       "<Figure size 720x720 with 20 Axes>"
      ]
     },
     "metadata": {
      "needs_background": "light"
     },
     "output_type": "display_data"
    }
   ],
   "source": [
    "# checking pairplot\n",
    "\n",
    "sns.pairplot(df)\n",
    "plt.show()\n",
    "\n",
    "#  'TV' feature positive linear distributed with target_variable, \n",
    "# 'Radio' features also distributed positive linear\n",
    "# 'newspaper' random distributed with  target variable\n"
   ]
  },
  {
   "cell_type": "code",
   "execution_count": null,
   "id": "85726ed9",
   "metadata": {},
   "outputs": [],
   "source": []
  },
  {
   "cell_type": "code",
   "execution_count": 60,
   "id": "d1131243",
   "metadata": {},
   "outputs": [
    {
     "data": {
      "image/png": "[encoded data removed]",
      "text/plain": [
       "<Figure size 432x288 with 1 Axes>"
      ]
     },
     "metadata": {
      "needs_background": "light"
     },
     "output_type": "display_data"
    }
   ],
   "source": [
    "# we plot seperate scatterplot\n",
    "sns.scatterplot('sales', 'TV', data=df)\n",
    "plt.show()"
   ]
  },
  {
   "cell_type": "code",
   "execution_count": null,
   "id": "fc664150",
   "metadata": {},
   "outputs": [],
   "source": [
    "# 'TV' , 'sales' are positive linear distributed means TV_ adds going to high than \"sales\" is also going high"
   ]
  },
  {
   "cell_type": "code",
   "execution_count": null,
   "id": "88574d9c",
   "metadata": {},
   "outputs": [],
   "source": []
  },
  {
   "cell_type": "code",
   "execution_count": 15,
   "id": "8d7e309a",
   "metadata": {},
   "outputs": [
    {
     "data": {
      "image/png": "[encoded data removed]",
      "text/plain": [
       "<Figure size 432x288 with 1 Axes>"
      ]
     },
     "metadata": {
      "needs_background": "light"
     },
     "output_type": "display_data"
    }
   ],
   "source": [
    "\n",
    "sns.scatterplot('sales', 'newspaper', data=df)\n",
    "plt.show()"
   ]
  },
  {
   "cell_type": "code",
   "execution_count": null,
   "id": "489928b8",
   "metadata": {},
   "outputs": [],
   "source": [
    "# 'sales' and 'newspaper' equally dsitribution no seen any relation between 'newspaper' and 'sales'"
   ]
  },
  {
   "cell_type": "code",
   "execution_count": 16,
   "id": "e2dd7a65",
   "metadata": {
    "scrolled": true
   },
   "outputs": [
    {
     "data": {
      "image/png": "[encoded data removed]",
      "text/plain": [
       "<Figure size 432x288 with 1 Axes>"
      ]
     },
     "metadata": {
      "needs_background": "light"
     },
     "output_type": "display_data"
    }
   ],
   "source": [
    "# plotting scatterplot to check relation between 'sales' and 'radio'\n",
    "sns.scatterplot('sales', 'radio', data=df)\n",
    "plt.show()"
   ]
  },
  {
   "cell_type": "code",
   "execution_count": null,
   "id": "5f127ea7",
   "metadata": {},
   "outputs": [],
   "source": [
    "# we seen distribution between 'radio' and 'sales', that is minimum linear distributed "
   ]
  },
  {
   "cell_type": "code",
   "execution_count": null,
   "id": "e1d7b96f",
   "metadata": {},
   "outputs": [],
   "source": [
    "# we seen all the graph and last we make a decision 'TV' gives more information about 'sales' \n",
    "#    and 'TV' feature is higly correlated to 'sales' target Variable\n",
    "\n",
    "#  'TV' adds are more effective for  product 'sales' target_variable"
   ]
  },
  {
   "cell_type": "code",
   "execution_count": null,
   "id": "2ff5e383",
   "metadata": {},
   "outputs": [],
   "source": []
  },
  {
   "cell_type": "code",
   "execution_count": null,
   "id": "bd1e0652",
   "metadata": {},
   "outputs": [],
   "source": []
  },
  {
   "cell_type": "code",
   "execution_count": 19,
   "id": "cd76f402",
   "metadata": {},
   "outputs": [
    {
     "data": {
      "text/plain": [
       "<AxesSubplot:xlabel='TV', ylabel='Density'>"
      ]
     },
     "execution_count": 19,
     "metadata": {},
     "output_type": "execute_result"
    },
    {
     "data": {
      "image/png": "[encoded data removed]",
      "text/plain": [
       "<Figure size 432x288 with 1 Axes>"
      ]
     },
     "metadata": {
      "needs_background": "light"
     },
     "output_type": "display_data"
    }
   ],
   "source": [
    "# let's check distribution plot\n",
    "\n",
    "sns.distplot(df['TV'])"
   ]
  },
  {
   "cell_type": "code",
   "execution_count": 20,
   "id": "7c2e8144",
   "metadata": {},
   "outputs": [
    {
     "data": {
      "text/plain": [
       "<AxesSubplot:xlabel='newspaper', ylabel='Density'>"
      ]
     },
     "execution_count": 20,
     "metadata": {},
     "output_type": "execute_result"
    },
    {
     "data": {
      "image/png": "[encoded data removed]",
      "text/plain": [
       "<Figure size 432x288 with 1 Axes>"
      ]
     },
     "metadata": {
      "needs_background": "light"
     },
     "output_type": "display_data"
    }
   ],
   "source": [
    "\n",
    "sns.distplot(df['newspaper'])\n"
   ]
  },
  {
   "cell_type": "code",
   "execution_count": 21,
   "id": "36e7607d",
   "metadata": {},
   "outputs": [
    {
     "data": {
      "text/plain": [
       "<AxesSubplot:xlabel='radio', ylabel='Density'>"
      ]
     },
     "execution_count": 21,
     "metadata": {},
     "output_type": "execute_result"
    },
    {
     "data": {
      "image/png": "[encoded data removed]",
      "text/plain": [
       "<Figure size 432x288 with 1 Axes>"
      ]
     },
     "metadata": {
      "needs_background": "light"
     },
     "output_type": "display_data"
    }
   ],
   "source": [
    "\n",
    "sns.distplot(df['radio'])"
   ]
  },
  {
   "cell_type": "code",
   "execution_count": 50,
   "id": "95e0938f",
   "metadata": {},
   "outputs": [],
   "source": []
  },
  {
   "cell_type": "code",
   "execution_count": null,
   "id": "dd87de9a",
   "metadata": {},
   "outputs": [],
   "source": []
  },
  {
   "cell_type": "code",
   "execution_count": null,
   "id": "2fa7646f",
   "metadata": {},
   "outputs": [],
   "source": [
    "#  CHECKING SKEWNESS"
   ]
  },
  {
   "cell_type": "code",
   "execution_count": 19,
   "id": "96ef57ca",
   "metadata": {},
   "outputs": [
    {
     "data": {
      "text/plain": [
       "TV          -0.069853\n",
       "radio        0.094175\n",
       "newspaper    0.894720\n",
       "dtype: float64"
      ]
     },
     "execution_count": 19,
     "metadata": {},
     "output_type": "execute_result"
    }
   ],
   "source": [
    "\n",
    "df[['TV','radio','newspaper']].skew()"
   ]
  },
  {
   "cell_type": "code",
   "execution_count": 20,
   "id": "ca6ae1eb",
   "metadata": {},
   "outputs": [],
   "source": [
    "df['newspaper']= np.sqrt(df['newspaper'])"
   ]
  },
  {
   "cell_type": "code",
   "execution_count": 21,
   "id": "c06b6e43",
   "metadata": {},
   "outputs": [
    {
     "name": "stdout",
     "output_type": "stream",
     "text": [
      "0.06238771883281062\n"
     ]
    },
    {
     "data": {
      "image/png": "[encoded data removed]",
      "text/plain": [
       "<Figure size 432x288 with 1 Axes>"
      ]
     },
     "metadata": {
      "needs_background": "light"
     },
     "output_type": "display_data"
    }
   ],
   "source": [
    "# checking distribution again after changing skewness\n",
    "sns.distplot(df['newspaper'])\n",
    "\n",
    "print(df['newspaper'].skew())"
   ]
  },
  {
   "cell_type": "code",
   "execution_count": null,
   "id": "e93c04b1",
   "metadata": {},
   "outputs": [],
   "source": []
  },
  {
   "cell_type": "code",
   "execution_count": null,
   "id": "65ac03e5",
   "metadata": {},
   "outputs": [],
   "source": [
    "#  LET'S CHECK OUTLIERS"
   ]
  },
  {
   "cell_type": "code",
   "execution_count": 22,
   "id": "8fd1ba25",
   "metadata": {},
   "outputs": [
    {
     "data": {
      "text/plain": [
       "radio        True\n",
       "newspaper    True\n",
       "TV           True\n",
       "dtype: bool"
      ]
     },
     "execution_count": 22,
     "metadata": {},
     "output_type": "execute_result"
    }
   ],
   "source": [
    "#  CHECKING OUTLIERS\n",
    "from scipy.stats import zscore\n",
    "\n",
    "(np.abs(zscore(df[['radio','newspaper','TV']]))<3).all()\n",
    "\n",
    "# no outliers found"
   ]
  },
  {
   "cell_type": "code",
   "execution_count": null,
   "id": "5c2de964",
   "metadata": {},
   "outputs": [],
   "source": []
  },
  {
   "cell_type": "code",
   "execution_count": null,
   "id": "a0503dc0",
   "metadata": {},
   "outputs": [],
   "source": []
  },
  {
   "cell_type": "code",
   "execution_count": 23,
   "id": "a9e921de",
   "metadata": {},
   "outputs": [],
   "source": [
    "# input_features\n",
    "x= df.drop('sales', axis=1)\n",
    "\n",
    "# target_variable\n",
    "y= df.sales"
   ]
  },
  {
   "cell_type": "code",
   "execution_count": null,
   "id": "c19810a1",
   "metadata": {},
   "outputs": [],
   "source": []
  },
  {
   "cell_type": "raw",
   "id": "5846faa6",
   "metadata": {},
   "source": [
    "LET'S FIT THE MODEL"
   ]
  },
  {
   "cell_type": "code",
   "execution_count": 24,
   "id": "a4821f9b",
   "metadata": {},
   "outputs": [],
   "source": [
    "from sklearn.preprocessing import StandardScaler\n",
    "\n",
    "from sklearn.model_selection import train_test_split\n",
    "from sklearn.metrics import r2_score, mean_absolute_error"
   ]
  },
  {
   "cell_type": "code",
   "execution_count": 25,
   "id": "61cf302d",
   "metadata": {},
   "outputs": [],
   "source": [
    "sc= StandardScaler()\n",
    "scaled= sc.fit_transform(x)"
   ]
  },
  {
   "cell_type": "code",
   "execution_count": null,
   "id": "73b3886b",
   "metadata": {},
   "outputs": [],
   "source": []
  },
  {
   "cell_type": "code",
   "execution_count": 26,
   "id": "496375ab",
   "metadata": {},
   "outputs": [
    {
     "name": "stdout",
     "output_type": "stream",
     "text": [
      "maximum accuracy : 0.9238480237378937  random_state is : 50\n",
      "maximum accuracy : 0.9363768398159182  random_state is : 57\n",
      "maximum accuracy : 0.9513897210787806  random_state is : 61\n",
      "maximum accuracy : 0.9519113483119117  random_state is : 63\n",
      "maximum accuracy : 0.9529295664064215  random_state is : 64\n",
      "maximum accuracy : 0.9598366944215069  random_state is : 188\n"
     ]
    }
   ],
   "source": [
    "# LET'S MAKE USE 'SVR'\n",
    "# IN TRAINING PROCESS           # finding best random_state for  'SVC'\n",
    "\n",
    "from sklearn.svm import SVR\n",
    "\n",
    "max_acu= 0\n",
    "max_rs= 0\n",
    "for r_state in range(50,200):\n",
    "    x_train,x_test,y_train,y_test=train_test_split(scaled, y,random_state = r_state,test_size=0.20,)\n",
    "    svm = SVR()\n",
    "    svm.fit(x_train,y_train)\n",
    "    y_pred=svm.predict(x_test)\n",
    "    accu = r2_score(y_test,y_pred)\n",
    "        #print(\"random state :\",r_state,\" and f1 score: \",tmp)\n",
    "        \n",
    "    if accu>max_acu:\n",
    "        max_acu=accu\n",
    "        max_rs= r_state\n",
    "        print(\"maximum accuracy :\",max_acu,\" random_state is :\",max_rs)\n",
    "\n"
   ]
  },
  {
   "cell_type": "code",
   "execution_count": null,
   "id": "1c09ffba",
   "metadata": {},
   "outputs": [],
   "source": []
  },
  {
   "cell_type": "code",
   "execution_count": 27,
   "id": "9e63b03d",
   "metadata": {},
   "outputs": [],
   "source": [
    "# \n",
    "from sklearn.model_selection import cross_val_score as CVS\n",
    "from sklearn.model_selection import KFold\n",
    "kfold= KFold(n_splits=5, shuffle=True, random_state=459)\n",
    "\n",
    "\n",
    "    \n",
    "def model_score(model,xtrain,ytrain,x_test,y_test):\n",
    "    model.fit(xtrain,ytrain)\n",
    "    pred= model.predict(xtrain)\n",
    "    y_pred= model.predict(x_test)\n",
    "    print('training_score =', r2_score(ytrain,pred))\n",
    "        \n",
    "    print('test_r2_score=', r2_score(y_test,y_pred))\n",
    "    print('mean_absolute_error \\n', mean_absolute_error(y_test,y_pred))\n",
    "    \n",
    "\n",
    "def cross_val(model,xtrain,ytrain,algo):\n",
    "        \n",
    "    cv_score= CVS(model,xtrain,ytrain,cv= kfold,)\n",
    "    print('\\n\\ncross_val_score with', algo,'=', cv_score.mean())\n",
    "    "
   ]
  },
  {
   "cell_type": "code",
   "execution_count": 28,
   "id": "3a1df6d3",
   "metadata": {},
   "outputs": [
    {
     "name": "stdout",
     "output_type": "stream",
     "text": [
      "training_score = 0.9114240871759056\n",
      "test_r2_score= 0.9611658869105559\n",
      "mean_absolute_error \n",
      " 0.6287873268582738\n",
      "\n",
      "\n",
      "cross_val_score with svr = 0.8650662397836146\n"
     ]
    }
   ],
   "source": [
    "# LET'S FIT A MODEL WITH SVR                                  # finding best random_state=188  for  'SVC' \n",
    "\n",
    "x_train, x_test, y_train,y_test= train_test_split(scaled,y, test_size=0.25, random_state=188 )\n",
    "sv_r= SVR()\n",
    "\n",
    "model_score(sv_r, x_train,y_train,x_test,y_test)\n",
    "\n",
    "\n",
    "# CHECKING     CROSS_VAL_SCORE\n",
    "cross_val(sv_r,x_train,y_train,'svr')    "
   ]
  },
  {
   "cell_type": "code",
   "execution_count": null,
   "id": "989bf87a",
   "metadata": {},
   "outputs": [],
   "source": []
  },
  {
   "cell_type": "raw",
   "id": "0c6717ed",
   "metadata": {},
   "source": [
    "LET'S USE  RANDOM_FOREST_REGRESSOR  AND  ALSO CROSS_VALIDATION "
   ]
  },
  {
   "cell_type": "code",
   "execution_count": 29,
   "id": "d53c84fe",
   "metadata": {},
   "outputs": [
    {
     "name": "stdout",
     "output_type": "stream",
     "text": [
      "maximum accuracy : 0.9819815733269727  random_state is : 50\n",
      "maximum accuracy : 0.9841569285323448  random_state is : 56\n",
      "maximum accuracy : 0.9865904003103996  random_state is : 57\n",
      "maximum accuracy : 0.9867060438757104  random_state is : 154\n",
      "maximum accuracy : 0.9872158243184179  random_state is : 156\n"
     ]
    }
   ],
   "source": [
    "\n",
    "# IN TRAINING PROCESS                 # finding best random_state for  randomforest\n",
    "\n",
    "from sklearn.ensemble import RandomForestRegressor\n",
    "\n",
    "max_acu= 0\n",
    "max_rs= 0\n",
    "for r_state in range(50,200):\n",
    "    x_train,x_test,y_train,y_test=train_test_split(x, y,random_state = r_state,test_size=0.25,)\n",
    "    rf = RandomForestRegressor()\n",
    "    rf.fit(x_train,y_train)\n",
    "    y_pred=rf.predict(x_test)\n",
    "    accu = r2_score(y_test,y_pred)\n",
    "        \n",
    "    if accu>max_acu:\n",
    "        max_acu=accu\n",
    "        max_rs= r_state\n",
    "        print(\"maximum accuracy :\",max_acu,\" random_state is :\",max_rs)\n"
   ]
  },
  {
   "cell_type": "code",
   "execution_count": 30,
   "id": "a42975de",
   "metadata": {},
   "outputs": [
    {
     "name": "stdout",
     "output_type": "stream",
     "text": [
      "training_score = 0.9962439009905847\n",
      "test_r2_score= 0.9884357027176611\n",
      "mean_absolute_error \n",
      " 0.40515999999999985\n",
      "\n",
      "\n",
      "cross_val_score with randomforest = 0.970937926984423\n"
     ]
    }
   ],
   "source": [
    "# LET'S TRAIN & TEST A MODEL WITH RANDOMFOREST-REGRESSOR\n",
    "                                          # finding best random_state=191  for  'ADABOOST_REGRESSOR' \n",
    "\n",
    "x_train, x_test, y_train,y_test= train_test_split(x,y, test_size=0.25, random_state=156 )\n",
    "rf = RandomForestRegressor()\n",
    "\n",
    "model_score(rf , x_train,y_train,x_test,y_test)\n",
    "\n",
    "\n",
    "# CHECKING     CROSS_VAL_SCORE\n",
    "cross_val(rf,x_train,y_train,'randomforest')\n",
    "    "
   ]
  },
  {
   "cell_type": "code",
   "execution_count": null,
   "id": "e9c6e5e1",
   "metadata": {},
   "outputs": [],
   "source": []
  },
  {
   "cell_type": "code",
   "execution_count": null,
   "id": "bc2d60c2",
   "metadata": {},
   "outputs": [],
   "source": []
  },
  {
   "cell_type": "raw",
   "id": "384ce609",
   "metadata": {},
   "source": [
    "LET'S USE ADABOOST_REGRESSOR  WITH CROSS_VALIDATIN "
   ]
  },
  {
   "cell_type": "code",
   "execution_count": 31,
   "id": "0c7d9205",
   "metadata": {},
   "outputs": [
    {
     "name": "stdout",
     "output_type": "stream",
     "text": [
      "maximum accuracy : 0.9573200588214584  random_state is : 50\n",
      "maximum accuracy : 0.9613912895101691  random_state is : 53\n",
      "maximum accuracy : 0.9710504780546255  random_state is : 57\n",
      "maximum accuracy : 0.971978884160376  random_state is : 69\n",
      "maximum accuracy : 0.9725121251833753  random_state is : 105\n"
     ]
    }
   ],
   "source": [
    "# IN TRAINING PROCESS              # finding best random_state for  'adaboost'\n",
    "\n",
    "from sklearn.ensemble import AdaBoostRegressor\n",
    "\n",
    "max_acu= 0\n",
    "max_rs= 0\n",
    "for r_state in range(50,200):\n",
    "    x_train,x_test,y_train,y_test=train_test_split(x, y,random_state = r_state,test_size=0.25,)\n",
    "    AD = AdaBoostRegressor()\n",
    "    \n",
    "    AD.fit(x_train,y_train)\n",
    "    y_pred=AD.predict(x_test)\n",
    "    accu = r2_score(y_test,y_pred)\n",
    "        \n",
    "    if accu>max_acu:\n",
    "        max_acu=accu\n",
    "        max_rs= r_state\n",
    "        print(\"maximum accuracy :\",max_acu,\" random_state is :\",max_rs)\n"
   ]
  },
  {
   "cell_type": "code",
   "execution_count": 32,
   "id": "24545ec4",
   "metadata": {},
   "outputs": [
    {
     "name": "stdout",
     "output_type": "stream",
     "text": [
      "training_score = 0.9753071108592933\n",
      "test_r2_score= 0.9719007378274751\n",
      "mean_absolute_error \n",
      " 0.7092506676958337\n",
      "\n",
      "\n",
      "cross_val_score with ADABOOST_REGRESSOR = 0.9319004431227198\n"
     ]
    }
   ],
   "source": [
    "# LET'S TRAIN & TEST A MODEL WITH ADABOOST-REGRESSOR\n",
    "                     # finding best random_state=112  for  'ADABOOST REGRESSOR' \n",
    "\n",
    "x_train, x_test, y_train,y_test= train_test_split(x,y, test_size=0.25, random_state= 105)\n",
    "AD = AdaBoostRegressor()\n",
    "\n",
    "model_score(AD , x_train,y_train,x_test,y_test)\n",
    "\n",
    "\n",
    "# CHECKING     CROSS_VALIDATION\n",
    "cross_val(AD,x_train,y_train,'ADABOOST_REGRESSOR')\n",
    "    "
   ]
  },
  {
   "cell_type": "code",
   "execution_count": null,
   "id": "dfea7ebb",
   "metadata": {},
   "outputs": [],
   "source": []
  },
  {
   "cell_type": "code",
   "execution_count": null,
   "id": "67b9cfae",
   "metadata": {},
   "outputs": [],
   "source": []
  },
  {
   "cell_type": "raw",
   "id": "698537b9",
   "metadata": {},
   "source": [
    "USING  GRADIENT-BOOSTING REGRESSOR  AND  CROSS-VALIDATION"
   ]
  },
  {
   "cell_type": "code",
   "execution_count": 33,
   "id": "151bc54e",
   "metadata": {},
   "outputs": [
    {
     "name": "stdout",
     "output_type": "stream",
     "text": [
      "maximum accuracy : 0.987299660693223  random_state is : 50\n",
      "maximum accuracy : 0.9881420239431229  random_state is : 59\n",
      "maximum accuracy : 0.9887096137220648  random_state is : 75\n",
      "maximum accuracy : 0.9900805995925697  random_state is : 105\n"
     ]
    }
   ],
   "source": [
    "\n",
    "# IN TRAINING PROCESS                  # finding best random_state for  'gradientBoosting'\n",
    "\n",
    "from sklearn.ensemble import GradientBoostingRegressor\n",
    "\n",
    "max_acu= 0\n",
    "max_rs= 0\n",
    "for r_state in range(50,200):\n",
    "    x_train,x_test,y_train,y_test=train_test_split(x, y,random_state = r_state,test_size=0.25,)\n",
    "    GB = GradientBoostingRegressor()\n",
    "    \n",
    "    GB.fit(x_train,y_train)\n",
    "    y_pred=GB.predict(x_test)\n",
    "    accu = r2_score(y_test,y_pred)\n",
    "        \n",
    "    if accu>max_acu:\n",
    "        max_acu=accu\n",
    "        max_rs= r_state\n",
    "        print(\"maximum accuracy :\",max_acu,\" random_state is :\",max_rs)\n"
   ]
  },
  {
   "cell_type": "code",
   "execution_count": 49,
   "id": "730b3100",
   "metadata": {},
   "outputs": [
    {
     "name": "stdout",
     "output_type": "stream",
     "text": [
      "training_score = 0.998989279051937\n",
      "test_r2_score= 0.990093545946399\n",
      "mean_absolute_error \n",
      " 0.4311030223449845\n",
      "\n",
      "\n",
      "cross_val_score with GRADIENT-BOOSTING_REGRESSOR = 0.9704582391499089\n"
     ]
    }
   ],
   "source": [
    "# LET'S TRAIN & TEST A MODEL WITH GRADIENTBOOSTing-REGRESSOR\n",
    "                          # finding best random_state=105  for  'GRADIENT-BOOSTING REGRESSOR' \n",
    "\n",
    "x_train, x_test, y_train,y_test= train_test_split(x,y, test_size=0.25, random_state=105 )\n",
    "gb = GradientBoostingRegressor()\n",
    "\n",
    "model_score(gb , x_train,y_train,x_test,y_test)\n",
    "\n",
    "\n",
    "# CHECKING     CROSS_VALIDATION\n",
    "cross_val(gb, x_train,y_train,'GRADIENT-BOOSTING_REGRESSOR')\n",
    "    "
   ]
  },
  {
   "cell_type": "code",
   "execution_count": null,
   "id": "cf638392",
   "metadata": {},
   "outputs": [],
   "source": []
  },
  {
   "cell_type": "code",
   "execution_count": 41,
   "id": "70b9d75e",
   "metadata": {},
   "outputs": [
    {
     "data": {
      "text/html": [
       "<div>\n",
       "<style scoped>\n",
       "    .dataframe tbody tr th:only-of-type {\n",
       "        vertical-align: middle;\n",
       "    }\n",
       "\n",
       "    .dataframe tbody tr th {\n",
       "        vertical-align: top;\n",
       "    }\n",
       "\n",
       "    .dataframe thead th {\n",
       "        text-align: right;\n",
       "    }\n",
       "</style>\n",
       "<table border=\"1\" class=\"dataframe\">\n",
       "  <thead>\n",
       "    <tr style=\"text-align: right;\">\n",
       "      <th></th>\n",
       "      <th>Test-r2_score</th>\n",
       "      <th>cross_valdidation_score</th>\n",
       "    </tr>\n",
       "  </thead>\n",
       "  <tbody>\n",
       "    <tr>\n",
       "      <th>SVR</th>\n",
       "      <td>96</td>\n",
       "      <td>86</td>\n",
       "    </tr>\n",
       "    <tr>\n",
       "      <th>RandomForest_R</th>\n",
       "      <td>98</td>\n",
       "      <td>97</td>\n",
       "    </tr>\n",
       "    <tr>\n",
       "      <th>Adaboost_R</th>\n",
       "      <td>97</td>\n",
       "      <td>93</td>\n",
       "    </tr>\n",
       "    <tr>\n",
       "      <th>GradientBoosting_R</th>\n",
       "      <td>99</td>\n",
       "      <td>97</td>\n",
       "    </tr>\n",
       "  </tbody>\n",
       "</table>\n",
       "</div>"
      ],
      "text/plain": [
       "                    Test-r2_score  cross_valdidation_score\n",
       "SVR                            96                       86\n",
       "RandomForest_R                 98                       97\n",
       "Adaboost_R                     97                       93\n",
       "GradientBoosting_R             99                       97"
      ]
     },
     "execution_count": 41,
     "metadata": {},
     "output_type": "execute_result"
    }
   ],
   "source": [
    "#\n",
    "ind=['SVR','RandomForest_R','Adaboost_R', 'GradientBoosting_R']\n",
    "pd.DataFrame({'Test-r2_score':[96,98,97,99],'cross_valdidation_score':[86,97,93,97]}, index=ind)"
   ]
  },
  {
   "cell_type": "code",
   "execution_count": null,
   "id": "b4a8b37a",
   "metadata": {},
   "outputs": [],
   "source": []
  },
  {
   "cell_type": "code",
   "execution_count": 36,
   "id": "36306e3c",
   "metadata": {},
   "outputs": [],
   "source": [
    "#  USING  HYPER-PARAMETER-TUNING  WITH  GRIDSEARCHCV\n",
    "\n",
    "from sklearn.model_selection import GridSearchCV"
   ]
  },
  {
   "cell_type": "code",
   "execution_count": 42,
   "id": "83cb3d5b",
   "metadata": {},
   "outputs": [
    {
     "data": {
      "text/html": [
       "<style>#sk-container-id-2 {color: black;background-color: white;}#sk-container-id-2 pre{padding: 0;}#sk-container-id-2 div.sk-toggleable {background-color: white;}#sk-container-id-2 label.sk-toggleable__label {cursor: pointer;display: block;width: 100%;margin-bottom: 0;padding: 0.3em;box-sizing: border-box;text-align: center;}#sk-container-id-2 label.sk-toggleable__label-arrow:before {content: \"▸\";float: left;margin-right: 0.25em;color: #696969;}#sk-container-id-2 label.sk-toggleable__label-arrow:hover:before {color: black;}#sk-container-id-2 div.sk-estimator:hover label.sk-toggleable__label-arrow:before {color: black;}#sk-container-id-2 div.sk-toggleable__content {max-height: 0;max-width: 0;overflow: hidden;text-align: left;background-color: #f0f8ff;}#sk-container-id-2 div.sk-toggleable__content pre {margin: 0.2em;color: black;border-radius: 0.25em;background-color: #f0f8ff;}#sk-container-id-2 input.sk-toggleable__control:checked~div.sk-toggleable__content {max-height: 200px;max-width: 100%;overflow: auto;}#sk-container-id-2 input.sk-toggleable__control:checked~label.sk-toggleable__label-arrow:before {content: \"▾\";}#sk-container-id-2 div.sk-estimator input.sk-toggleable__control:checked~label.sk-toggleable__label {background-color: #d4ebff;}#sk-container-id-2 div.sk-label input.sk-toggleable__control:checked~label.sk-toggleable__label {background-color: #d4ebff;}#sk-container-id-2 input.sk-hidden--visually {border: 0;clip: rect(1px 1px 1px 1px);clip: rect(1px, 1px, 1px, 1px);height: 1px;margin: -1px;overflow: hidden;padding: 0;position: absolute;width: 1px;}#sk-container-id-2 div.sk-estimator {font-family: monospace;background-color: #f0f8ff;border: 1px dotted black;border-radius: 0.25em;box-sizing: border-box;margin-bottom: 0.5em;}#sk-container-id-2 div.sk-estimator:hover {background-color: #d4ebff;}#sk-container-id-2 div.sk-parallel-item::after {content: \"\";width: 100%;border-bottom: 1px solid gray;flex-grow: 1;}#sk-container-id-2 div.sk-label:hover label.sk-toggleable__label {background-color: #d4ebff;}#sk-container-id-2 div.sk-serial::before {content: \"\";position: absolute;border-left: 1px solid gray;box-sizing: border-box;top: 0;bottom: 0;left: 50%;z-index: 0;}#sk-container-id-2 div.sk-serial {display: flex;flex-direction: column;align-items: center;background-color: white;padding-right: 0.2em;padding-left: 0.2em;position: relative;}#sk-container-id-2 div.sk-item {position: relative;z-index: 1;}#sk-container-id-2 div.sk-parallel {display: flex;align-items: stretch;justify-content: center;background-color: white;position: relative;}#sk-container-id-2 div.sk-item::before, #sk-container-id-2 div.sk-parallel-item::before {content: \"\";position: absolute;border-left: 1px solid gray;box-sizing: border-box;top: 0;bottom: 0;left: 50%;z-index: -1;}#sk-container-id-2 div.sk-parallel-item {display: flex;flex-direction: column;z-index: 1;position: relative;background-color: white;}#sk-container-id-2 div.sk-parallel-item:first-child::after {align-self: flex-end;width: 50%;}#sk-container-id-2 div.sk-parallel-item:last-child::after {align-self: flex-start;width: 50%;}#sk-container-id-2 div.sk-parallel-item:only-child::after {width: 0;}#sk-container-id-2 div.sk-dashed-wrapped {border: 1px dashed gray;margin: 0 0.4em 0.5em 0.4em;box-sizing: border-box;padding-bottom: 0.4em;background-color: white;}#sk-container-id-2 div.sk-label label {font-family: monospace;font-weight: bold;display: inline-block;line-height: 1.2em;}#sk-container-id-2 div.sk-label-container {text-align: center;}#sk-container-id-2 div.sk-container {/* jupyter's `normalize.less` sets `[hidden] { display: none; }` but bootstrap.min.css set `[hidden] { display: none !important; }` so we also need the `!important` here to be able to override the default hidden behavior on the sphinx rendered scikit-learn.org. See: https://github.com/scikit-learn/scikit-learn/issues/21755 */display: inline-block !important;position: relative;}#sk-container-id-2 div.sk-text-repr-fallback {display: none;}</style><div id=\"sk-container-id-2\" class=\"sk-top-container\"><div class=\"sk-text-repr-fallback\"><pre>GridSearchCV(cv=5, estimator=RandomForestRegressor(),\n",
       "             param_grid={&#x27;max_depth&#x27;: [2, 3, 4, 5], &#x27;min_samples_leaf&#x27;: [1, 2],\n",
       "                         &#x27;min_samples_split&#x27;: [2, 3],\n",
       "                         &#x27;n_estimators&#x27;: [60, 120]})</pre><b>In a Jupyter environment, please rerun this cell to show the HTML representation or trust the notebook. <br />On GitHub, the HTML representation is unable to render, please try loading this page with nbviewer.org.</b></div><div class=\"sk-container\" hidden><div class=\"sk-item sk-dashed-wrapped\"><div class=\"sk-label-container\"><div class=\"sk-label sk-toggleable\"><input class=\"sk-toggleable__control sk-hidden--visually\" id=\"sk-estimator-id-4\" type=\"checkbox\" ><label for=\"sk-estimator-id-4\" class=\"sk-toggleable__label sk-toggleable__label-arrow\">GridSearchCV</label><div class=\"sk-toggleable__content\"><pre>GridSearchCV(cv=5, estimator=RandomForestRegressor(),\n",
       "             param_grid={&#x27;max_depth&#x27;: [2, 3, 4, 5], &#x27;min_samples_leaf&#x27;: [1, 2],\n",
       "                         &#x27;min_samples_split&#x27;: [2, 3],\n",
       "                         &#x27;n_estimators&#x27;: [60, 120]})</pre></div></div></div><div class=\"sk-parallel\"><div class=\"sk-parallel-item\"><div class=\"sk-item\"><div class=\"sk-label-container\"><div class=\"sk-label sk-toggleable\"><input class=\"sk-toggleable__control sk-hidden--visually\" id=\"sk-estimator-id-5\" type=\"checkbox\" ><label for=\"sk-estimator-id-5\" class=\"sk-toggleable__label sk-toggleable__label-arrow\">estimator: RandomForestRegressor</label><div class=\"sk-toggleable__content\"><pre>RandomForestRegressor()</pre></div></div></div><div class=\"sk-serial\"><div class=\"sk-item\"><div class=\"sk-estimator sk-toggleable\"><input class=\"sk-toggleable__control sk-hidden--visually\" id=\"sk-estimator-id-6\" type=\"checkbox\" ><label for=\"sk-estimator-id-6\" class=\"sk-toggleable__label sk-toggleable__label-arrow\">RandomForestRegressor</label><div class=\"sk-toggleable__content\"><pre>RandomForestRegressor()</pre></div></div></div></div></div></div></div></div></div></div>"
      ],
      "text/plain": [
       "GridSearchCV(cv=5, estimator=RandomForestRegressor(),\n",
       "             param_grid={'max_depth': [2, 3, 4, 5], 'min_samples_leaf': [1, 2],\n",
       "                         'min_samples_split': [2, 3],\n",
       "                         'n_estimators': [60, 120]})"
      ]
     },
     "execution_count": 42,
     "metadata": {},
     "output_type": "execute_result"
    }
   ],
   "source": [
    "rf= RandomForestRegressor()\n",
    "\n",
    "param= {'n_estimators':[60,120], 'max_depth':[2,3,4,5],'min_samples_split':[2,3],'min_samples_leaf':[1,2]}\n",
    "grid= GridSearchCV(rf, param, cv=5, )\n",
    "\n",
    "grid.fit(x_train,y_train)"
   ]
  },
  {
   "cell_type": "code",
   "execution_count": 43,
   "id": "5723ad67",
   "metadata": {},
   "outputs": [
    {
     "name": "stdout",
     "output_type": "stream",
     "text": [
      "r2-score= 0.9744768528721688\n"
     ]
    }
   ],
   "source": [
    "cls=grid.best_estimator_\n",
    "cls.fit(x_train,y_train)\n",
    "\n",
    "pred= cls.predict(x_test)\n",
    "print('r2-score=', r2_score(y_test,pred))"
   ]
  },
  {
   "cell_type": "code",
   "execution_count": null,
   "id": "37ba4b16",
   "metadata": {},
   "outputs": [],
   "source": []
  },
  {
   "cell_type": "code",
   "execution_count": null,
   "id": "3abaf100",
   "metadata": {},
   "outputs": [],
   "source": [
    "#  LET'S USE  HYPER-PARAMETER-TUNING  OVER  GRADIENTBOOSTING-REGRESSOR"
   ]
  },
  {
   "cell_type": "code",
   "execution_count": 44,
   "id": "15f8c079",
   "metadata": {},
   "outputs": [
    {
     "data": {
      "text/html": [
       "<style>#sk-container-id-3 {color: black;background-color: white;}#sk-container-id-3 pre{padding: 0;}#sk-container-id-3 div.sk-toggleable {background-color: white;}#sk-container-id-3 label.sk-toggleable__label {cursor: pointer;display: block;width: 100%;margin-bottom: 0;padding: 0.3em;box-sizing: border-box;text-align: center;}#sk-container-id-3 label.sk-toggleable__label-arrow:before {content: \"▸\";float: left;margin-right: 0.25em;color: #696969;}#sk-container-id-3 label.sk-toggleable__label-arrow:hover:before {color: black;}#sk-container-id-3 div.sk-estimator:hover label.sk-toggleable__label-arrow:before {color: black;}#sk-container-id-3 div.sk-toggleable__content {max-height: 0;max-width: 0;overflow: hidden;text-align: left;background-color: #f0f8ff;}#sk-container-id-3 div.sk-toggleable__content pre {margin: 0.2em;color: black;border-radius: 0.25em;background-color: #f0f8ff;}#sk-container-id-3 input.sk-toggleable__control:checked~div.sk-toggleable__content {max-height: 200px;max-width: 100%;overflow: auto;}#sk-container-id-3 input.sk-toggleable__control:checked~label.sk-toggleable__label-arrow:before {content: \"▾\";}#sk-container-id-3 div.sk-estimator input.sk-toggleable__control:checked~label.sk-toggleable__label {background-color: #d4ebff;}#sk-container-id-3 div.sk-label input.sk-toggleable__control:checked~label.sk-toggleable__label {background-color: #d4ebff;}#sk-container-id-3 input.sk-hidden--visually {border: 0;clip: rect(1px 1px 1px 1px);clip: rect(1px, 1px, 1px, 1px);height: 1px;margin: -1px;overflow: hidden;padding: 0;position: absolute;width: 1px;}#sk-container-id-3 div.sk-estimator {font-family: monospace;background-color: #f0f8ff;border: 1px dotted black;border-radius: 0.25em;box-sizing: border-box;margin-bottom: 0.5em;}#sk-container-id-3 div.sk-estimator:hover {background-color: #d4ebff;}#sk-container-id-3 div.sk-parallel-item::after {content: \"\";width: 100%;border-bottom: 1px solid gray;flex-grow: 1;}#sk-container-id-3 div.sk-label:hover label.sk-toggleable__label {background-color: #d4ebff;}#sk-container-id-3 div.sk-serial::before {content: \"\";position: absolute;border-left: 1px solid gray;box-sizing: border-box;top: 0;bottom: 0;left: 50%;z-index: 0;}#sk-container-id-3 div.sk-serial {display: flex;flex-direction: column;align-items: center;background-color: white;padding-right: 0.2em;padding-left: 0.2em;position: relative;}#sk-container-id-3 div.sk-item {position: relative;z-index: 1;}#sk-container-id-3 div.sk-parallel {display: flex;align-items: stretch;justify-content: center;background-color: white;position: relative;}#sk-container-id-3 div.sk-item::before, #sk-container-id-3 div.sk-parallel-item::before {content: \"\";position: absolute;border-left: 1px solid gray;box-sizing: border-box;top: 0;bottom: 0;left: 50%;z-index: -1;}#sk-container-id-3 div.sk-parallel-item {display: flex;flex-direction: column;z-index: 1;position: relative;background-color: white;}#sk-container-id-3 div.sk-parallel-item:first-child::after {align-self: flex-end;width: 50%;}#sk-container-id-3 div.sk-parallel-item:last-child::after {align-self: flex-start;width: 50%;}#sk-container-id-3 div.sk-parallel-item:only-child::after {width: 0;}#sk-container-id-3 div.sk-dashed-wrapped {border: 1px dashed gray;margin: 0 0.4em 0.5em 0.4em;box-sizing: border-box;padding-bottom: 0.4em;background-color: white;}#sk-container-id-3 div.sk-label label {font-family: monospace;font-weight: bold;display: inline-block;line-height: 1.2em;}#sk-container-id-3 div.sk-label-container {text-align: center;}#sk-container-id-3 div.sk-container {/* jupyter's `normalize.less` sets `[hidden] { display: none; }` but bootstrap.min.css set `[hidden] { display: none !important; }` so we also need the `!important` here to be able to override the default hidden behavior on the sphinx rendered scikit-learn.org. See: https://github.com/scikit-learn/scikit-learn/issues/21755 */display: inline-block !important;position: relative;}#sk-container-id-3 div.sk-text-repr-fallback {display: none;}</style><div id=\"sk-container-id-3\" class=\"sk-top-container\"><div class=\"sk-text-repr-fallback\"><pre>GridSearchCV(cv=5, estimator=GradientBoostingRegressor(),\n",
       "             param_grid={&#x27;learning_rate&#x27;: [0.1, 1.0], &#x27;max_depth&#x27;: [2, 4, 5],\n",
       "                         &#x27;n_estimators&#x27;: [60, 120], &#x27;subsample&#x27;: [0.8, 1.0]})</pre><b>In a Jupyter environment, please rerun this cell to show the HTML representation or trust the notebook. <br />On GitHub, the HTML representation is unable to render, please try loading this page with nbviewer.org.</b></div><div class=\"sk-container\" hidden><div class=\"sk-item sk-dashed-wrapped\"><div class=\"sk-label-container\"><div class=\"sk-label sk-toggleable\"><input class=\"sk-toggleable__control sk-hidden--visually\" id=\"sk-estimator-id-7\" type=\"checkbox\" ><label for=\"sk-estimator-id-7\" class=\"sk-toggleable__label sk-toggleable__label-arrow\">GridSearchCV</label><div class=\"sk-toggleable__content\"><pre>GridSearchCV(cv=5, estimator=GradientBoostingRegressor(),\n",
       "             param_grid={&#x27;learning_rate&#x27;: [0.1, 1.0], &#x27;max_depth&#x27;: [2, 4, 5],\n",
       "                         &#x27;n_estimators&#x27;: [60, 120], &#x27;subsample&#x27;: [0.8, 1.0]})</pre></div></div></div><div class=\"sk-parallel\"><div class=\"sk-parallel-item\"><div class=\"sk-item\"><div class=\"sk-label-container\"><div class=\"sk-label sk-toggleable\"><input class=\"sk-toggleable__control sk-hidden--visually\" id=\"sk-estimator-id-8\" type=\"checkbox\" ><label for=\"sk-estimator-id-8\" class=\"sk-toggleable__label sk-toggleable__label-arrow\">estimator: GradientBoostingRegressor</label><div class=\"sk-toggleable__content\"><pre>GradientBoostingRegressor()</pre></div></div></div><div class=\"sk-serial\"><div class=\"sk-item\"><div class=\"sk-estimator sk-toggleable\"><input class=\"sk-toggleable__control sk-hidden--visually\" id=\"sk-estimator-id-9\" type=\"checkbox\" ><label for=\"sk-estimator-id-9\" class=\"sk-toggleable__label sk-toggleable__label-arrow\">GradientBoostingRegressor</label><div class=\"sk-toggleable__content\"><pre>GradientBoostingRegressor()</pre></div></div></div></div></div></div></div></div></div></div>"
      ],
      "text/plain": [
       "GridSearchCV(cv=5, estimator=GradientBoostingRegressor(),\n",
       "             param_grid={'learning_rate': [0.1, 1.0], 'max_depth': [2, 4, 5],\n",
       "                         'n_estimators': [60, 120], 'subsample': [0.8, 1.0]})"
      ]
     },
     "execution_count": 44,
     "metadata": {},
     "output_type": "execute_result"
    }
   ],
   "source": [
    "gb= GradientBoostingRegressor()\n",
    "\n",
    "param= {'n_estimators':[60,120], 'learning_rate':[0.1,1.0], 'max_depth':[2,4,5],'subsample':[0.8,1.0]}\n",
    "grid1= GridSearchCV(gb, param, cv=5, )\n",
    "\n",
    "grid1.fit(x_train,y_train)"
   ]
  },
  {
   "cell_type": "code",
   "execution_count": 46,
   "id": "887c6d73",
   "metadata": {},
   "outputs": [
    {
     "name": "stdout",
     "output_type": "stream",
     "text": [
      "r2-score= 0.9834662575608036\n"
     ]
    }
   ],
   "source": [
    "gb_r=grid1.best_estimator_\n",
    "gb_r.fit(x_train,y_train)\n",
    "\n",
    "pred1= gb_r.predict(x_test)\n",
    "print('r2-score=', r2_score(y_test,pred1))"
   ]
  },
  {
   "cell_type": "code",
   "execution_count": null,
   "id": "fe9b935e",
   "metadata": {},
   "outputs": [],
   "source": [
    "# gradient boosting score highest with gridsearchcv hyperparameter"
   ]
  },
  {
   "cell_type": "code",
   "execution_count": null,
   "id": "5bb7117a",
   "metadata": {},
   "outputs": [],
   "source": []
  },
  {
   "cell_type": "code",
   "execution_count": 47,
   "id": "9ce1b636",
   "metadata": {},
   "outputs": [],
   "source": [
    "# SAVE THE MODEL\n",
    "\n",
    "import pickle"
   ]
  },
  {
   "cell_type": "code",
   "execution_count": 51,
   "id": "79ea8cd8",
   "metadata": {},
   "outputs": [],
   "source": [
    "advertising_sales_model = 'advertising_sales_model.pickle'\n",
    "\n",
    "pickle.dump(gb_r,open(advertising_sales_model,'wb'))"
   ]
  },
  {
   "cell_type": "code",
   "execution_count": 52,
   "id": "f7655c87",
   "metadata": {},
   "outputs": [],
   "source": [
    "#  load the  save model\n",
    "model= pickle.load(open(advertising_sales_model, 'rb'))"
   ]
  },
  {
   "cell_type": "code",
   "execution_count": 57,
   "id": "01338796",
   "metadata": {},
   "outputs": [
    {
     "data": {
      "text/plain": [
       "array([16.57324087, 14.0801018 , 24.72687582, 11.55837058, 20.04659253,\n",
       "        8.66371864, 21.20173426, 11.32727279, 10.07810043, 15.45671411,\n",
       "       12.55135413, 14.42875894, 21.29868935, 23.69298987, 10.27155313,\n",
       "       12.91235806, 26.08396653, 12.77491245,  5.74002441, 12.00182809,\n",
       "       14.35907276,  6.88130997, 18.72222129, 23.00505075,  5.30873517,\n",
       "       11.71532206, 12.1518843 , 11.73223515, 10.19558731, 15.39631901,\n",
       "       16.35202978,  6.46652041, 10.97272778,  6.69484787, 22.05356048,\n",
       "        9.34627989, 15.76827224, 12.80953554, 15.73979003, 14.3687598 ,\n",
       "       19.71671393, 15.32183631, 10.02465612,  6.88796628, 12.15494968,\n",
       "       16.49410795, 12.39106905,  3.96528656, 22.19248084, 20.28742077])"
      ]
     },
     "execution_count": 57,
     "metadata": {},
     "output_type": "execute_result"
    }
   ],
   "source": [
    "\n",
    "model.predict(x_test)"
   ]
  },
  {
   "cell_type": "code",
   "execution_count": null,
   "id": "e736c9ee",
   "metadata": {},
   "outputs": [],
   "source": []
  },
  {
   "cell_type": "code",
   "execution_count": null,
   "id": "3076de29",
   "metadata": {},
   "outputs": [],
   "source": [
    "# 1.  do analysis the dataset through data_visualization\n",
    "# 2.  checking skewness and remove the skewness\n",
    "#3. checking  outliers , no outliers in dataset\n",
    "# 4.  train & test the model over the dataset\n",
    "# 5.  cross_validation\n",
    "# 6. using Hyper_Parameter_Tuning with GridSearchCV\n",
    "# 7. save the model  'gradiantboosting_model'"
   ]
  }
 ],
 "metadata": {
  "kernelspec": {
   "display_name": "Python 3 (ipykernel)",
   "language": "python",
   "name": "python3"
  },
  "language_info": {
   "codemirror_mode": {
    "name": "ipython",
    "version": 3
   },
   "file_extension": ".py",
   "mimetype": "text/x-python",
   "name": "python",
   "nbconvert_exporter": "python",
   "pygments_lexer": "ipython3",
   "version": "3.10.2"
  }
 },
 "nbformat": 4,
 "nbformat_minor": 5
}
