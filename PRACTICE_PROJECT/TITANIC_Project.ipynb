{
 "cells": [
  {
   "cell_type": "code",
   "execution_count": null,
   "id": "06574ec9",
   "metadata": {},
   "outputs": [],
   "source": []
  },
  {
   "cell_type": "code",
   "execution_count": 1,
   "id": "04278cb8",
   "metadata": {},
   "outputs": [],
   "source": [
    "#  IMPORT THE NECESSARY LIBRARY\n",
    "\n",
    "import pandas as pd\n",
    "import numpy as np\n",
    "import matplotlib.pyplot as plt\n",
    "import seaborn as sns"
   ]
  },
  {
   "cell_type": "code",
   "execution_count": null,
   "id": "87b85579",
   "metadata": {},
   "outputs": [],
   "source": []
  },
  {
   "cell_type": "code",
   "execution_count": 2,
   "id": "3a096b20",
   "metadata": {},
   "outputs": [],
   "source": [
    "import warnings\n",
    "warnings.filterwarnings('ignore')"
   ]
  },
  {
   "cell_type": "code",
   "execution_count": null,
   "id": "810162f8",
   "metadata": {},
   "outputs": [],
   "source": []
  },
  {
   "cell_type": "code",
   "execution_count": 3,
   "id": "01b2e8da",
   "metadata": {},
   "outputs": [],
   "source": [
    "# load the dataset\n",
    "\n",
    "df= pd.read_csv('https://raw.githubusercontent.com/dsrscientist/dataset1/master/titanic_train.csv')"
   ]
  },
  {
   "cell_type": "code",
   "execution_count": 4,
   "id": "55a980dd",
   "metadata": {},
   "outputs": [
    {
     "data": {
      "text/html": [
       "<div>\n",
       "<style scoped>\n",
       "    .dataframe tbody tr th:only-of-type {\n",
       "        vertical-align: middle;\n",
       "    }\n",
       "\n",
       "    .dataframe tbody tr th {\n",
       "        vertical-align: top;\n",
       "    }\n",
       "\n",
       "    .dataframe thead th {\n",
       "        text-align: right;\n",
       "    }\n",
       "</style>\n",
       "<table border=\"1\" class=\"dataframe\">\n",
       "  <thead>\n",
       "    <tr style=\"text-align: right;\">\n",
       "      <th></th>\n",
       "      <th>PassengerId</th>\n",
       "      <th>Survived</th>\n",
       "      <th>Pclass</th>\n",
       "      <th>Name</th>\n",
       "      <th>Sex</th>\n",
       "      <th>Age</th>\n",
       "      <th>SibSp</th>\n",
       "      <th>Parch</th>\n",
       "      <th>Ticket</th>\n",
       "      <th>Fare</th>\n",
       "      <th>Cabin</th>\n",
       "      <th>Embarked</th>\n",
       "    </tr>\n",
       "  </thead>\n",
       "  <tbody>\n",
       "    <tr>\n",
       "      <th>0</th>\n",
       "      <td>1</td>\n",
       "      <td>0</td>\n",
       "      <td>3</td>\n",
       "      <td>Braund, Mr. Owen Harris</td>\n",
       "      <td>male</td>\n",
       "      <td>22.0</td>\n",
       "      <td>1</td>\n",
       "      <td>0</td>\n",
       "      <td>A/5 21171</td>\n",
       "      <td>7.2500</td>\n",
       "      <td>NaN</td>\n",
       "      <td>S</td>\n",
       "    </tr>\n",
       "    <tr>\n",
       "      <th>1</th>\n",
       "      <td>2</td>\n",
       "      <td>1</td>\n",
       "      <td>1</td>\n",
       "      <td>Cumings, Mrs. John Bradley (Florence Briggs Th...</td>\n",
       "      <td>female</td>\n",
       "      <td>38.0</td>\n",
       "      <td>1</td>\n",
       "      <td>0</td>\n",
       "      <td>PC 17599</td>\n",
       "      <td>71.2833</td>\n",
       "      <td>C85</td>\n",
       "      <td>C</td>\n",
       "    </tr>\n",
       "    <tr>\n",
       "      <th>2</th>\n",
       "      <td>3</td>\n",
       "      <td>1</td>\n",
       "      <td>3</td>\n",
       "      <td>Heikkinen, Miss. Laina</td>\n",
       "      <td>female</td>\n",
       "      <td>26.0</td>\n",
       "      <td>0</td>\n",
       "      <td>0</td>\n",
       "      <td>STON/O2. 3101282</td>\n",
       "      <td>7.9250</td>\n",
       "      <td>NaN</td>\n",
       "      <td>S</td>\n",
       "    </tr>\n",
       "    <tr>\n",
       "      <th>3</th>\n",
       "      <td>4</td>\n",
       "      <td>1</td>\n",
       "      <td>1</td>\n",
       "      <td>Futrelle, Mrs. Jacques Heath (Lily May Peel)</td>\n",
       "      <td>female</td>\n",
       "      <td>35.0</td>\n",
       "      <td>1</td>\n",
       "      <td>0</td>\n",
       "      <td>113803</td>\n",
       "      <td>53.1000</td>\n",
       "      <td>C123</td>\n",
       "      <td>S</td>\n",
       "    </tr>\n",
       "    <tr>\n",
       "      <th>4</th>\n",
       "      <td>5</td>\n",
       "      <td>0</td>\n",
       "      <td>3</td>\n",
       "      <td>Allen, Mr. William Henry</td>\n",
       "      <td>male</td>\n",
       "      <td>35.0</td>\n",
       "      <td>0</td>\n",
       "      <td>0</td>\n",
       "      <td>373450</td>\n",
       "      <td>8.0500</td>\n",
       "      <td>NaN</td>\n",
       "      <td>S</td>\n",
       "    </tr>\n",
       "  </tbody>\n",
       "</table>\n",
       "</div>"
      ],
      "text/plain": [
       "   PassengerId  Survived  Pclass  \\\n",
       "0            1         0       3   \n",
       "1            2         1       1   \n",
       "2            3         1       3   \n",
       "3            4         1       1   \n",
       "4            5         0       3   \n",
       "\n",
       "                                                Name     Sex   Age  SibSp  \\\n",
       "0                            Braund, Mr. Owen Harris    male  22.0      1   \n",
       "1  Cumings, Mrs. John Bradley (Florence Briggs Th...  female  38.0      1   \n",
       "2                             Heikkinen, Miss. Laina  female  26.0      0   \n",
       "3       Futrelle, Mrs. Jacques Heath (Lily May Peel)  female  35.0      1   \n",
       "4                           Allen, Mr. William Henry    male  35.0      0   \n",
       "\n",
       "   Parch            Ticket     Fare Cabin Embarked  \n",
       "0      0         A/5 21171   7.2500   NaN        S  \n",
       "1      0          PC 17599  71.2833   C85        C  \n",
       "2      0  STON/O2. 3101282   7.9250   NaN        S  \n",
       "3      0            113803  53.1000  C123        S  \n",
       "4      0            373450   8.0500   NaN        S  "
      ]
     },
     "execution_count": 4,
     "metadata": {},
     "output_type": "execute_result"
    }
   ],
   "source": [
    "df.head()"
   ]
  },
  {
   "cell_type": "code",
   "execution_count": 5,
   "id": "fcce4722",
   "metadata": {},
   "outputs": [
    {
     "data": {
      "text/plain": [
       "(891, 12)"
      ]
     },
     "execution_count": 5,
     "metadata": {},
     "output_type": "execute_result"
    }
   ],
   "source": [
    "# checking shape of the Dataset\n",
    "\n",
    "df.shape"
   ]
  },
  {
   "cell_type": "code",
   "execution_count": null,
   "id": "8a5c1886",
   "metadata": {},
   "outputs": [],
   "source": []
  },
  {
   "cell_type": "code",
   "execution_count": 6,
   "id": "a7f05b6e",
   "metadata": {},
   "outputs": [],
   "source": [
    "# 'Cabin' feature have maximum null_value so we drop it\n",
    "\n",
    "df.drop('Cabin',axis=1, inplace=True)"
   ]
  },
  {
   "cell_type": "code",
   "execution_count": 7,
   "id": "d61cc740",
   "metadata": {},
   "outputs": [],
   "source": [
    "# drop the 'PassengerID' ,'Ticket', 'Name',  these are unimportant features  \n",
    "\n",
    "df.drop(['PassengerId','Ticket','Name'], axis=1, inplace=True)\n"
   ]
  },
  {
   "cell_type": "code",
   "execution_count": null,
   "id": "325a8b0c",
   "metadata": {},
   "outputs": [],
   "source": []
  },
  {
   "cell_type": "code",
   "execution_count": 9,
   "id": "62aca8c5",
   "metadata": {},
   "outputs": [
    {
     "data": {
      "text/html": [
       "<div>\n",
       "<style scoped>\n",
       "    .dataframe tbody tr th:only-of-type {\n",
       "        vertical-align: middle;\n",
       "    }\n",
       "\n",
       "    .dataframe tbody tr th {\n",
       "        vertical-align: top;\n",
       "    }\n",
       "\n",
       "    .dataframe thead th {\n",
       "        text-align: right;\n",
       "    }\n",
       "</style>\n",
       "<table border=\"1\" class=\"dataframe\">\n",
       "  <thead>\n",
       "    <tr style=\"text-align: right;\">\n",
       "      <th></th>\n",
       "      <th>Survived</th>\n",
       "      <th>Pclass</th>\n",
       "      <th>Sex</th>\n",
       "      <th>Age</th>\n",
       "      <th>SibSp</th>\n",
       "      <th>Parch</th>\n",
       "      <th>Fare</th>\n",
       "      <th>Embarked</th>\n",
       "    </tr>\n",
       "  </thead>\n",
       "  <tbody>\n",
       "    <tr>\n",
       "      <th>0</th>\n",
       "      <td>0</td>\n",
       "      <td>3</td>\n",
       "      <td>male</td>\n",
       "      <td>22.0</td>\n",
       "      <td>1</td>\n",
       "      <td>0</td>\n",
       "      <td>7.2500</td>\n",
       "      <td>S</td>\n",
       "    </tr>\n",
       "    <tr>\n",
       "      <th>1</th>\n",
       "      <td>1</td>\n",
       "      <td>1</td>\n",
       "      <td>female</td>\n",
       "      <td>38.0</td>\n",
       "      <td>1</td>\n",
       "      <td>0</td>\n",
       "      <td>71.2833</td>\n",
       "      <td>C</td>\n",
       "    </tr>\n",
       "    <tr>\n",
       "      <th>2</th>\n",
       "      <td>1</td>\n",
       "      <td>3</td>\n",
       "      <td>female</td>\n",
       "      <td>26.0</td>\n",
       "      <td>0</td>\n",
       "      <td>0</td>\n",
       "      <td>7.9250</td>\n",
       "      <td>S</td>\n",
       "    </tr>\n",
       "  </tbody>\n",
       "</table>\n",
       "</div>"
      ],
      "text/plain": [
       "   Survived  Pclass     Sex   Age  SibSp  Parch     Fare Embarked\n",
       "0         0       3    male  22.0      1      0   7.2500        S\n",
       "1         1       1  female  38.0      1      0  71.2833        C\n",
       "2         1       3  female  26.0      0      0   7.9250        S"
      ]
     },
     "execution_count": 9,
     "metadata": {},
     "output_type": "execute_result"
    }
   ],
   "source": [
    "df.head(3)"
   ]
  },
  {
   "cell_type": "code",
   "execution_count": 10,
   "id": "96f4c2c6",
   "metadata": {},
   "outputs": [
    {
     "data": {
      "text/plain": [
       "(891, 8)"
      ]
     },
     "execution_count": 10,
     "metadata": {},
     "output_type": "execute_result"
    }
   ],
   "source": [
    "df.shape"
   ]
  },
  {
   "cell_type": "code",
   "execution_count": null,
   "id": "23096e4f",
   "metadata": {},
   "outputs": [],
   "source": []
  },
  {
   "cell_type": "code",
   "execution_count": 11,
   "id": "af6f6001",
   "metadata": {},
   "outputs": [
    {
     "data": {
      "text/plain": [
       "Survived      0\n",
       "Pclass        0\n",
       "Sex           0\n",
       "Age         177\n",
       "SibSp         0\n",
       "Parch         0\n",
       "Fare          0\n",
       "Embarked      2\n",
       "dtype: int64"
      ]
     },
     "execution_count": 11,
     "metadata": {},
     "output_type": "execute_result"
    }
   ],
   "source": [
    "# checking  null value in DataFrame\n",
    "\n",
    "df.isnull().sum()"
   ]
  },
  {
   "cell_type": "code",
   "execution_count": null,
   "id": "68887c0c",
   "metadata": {},
   "outputs": [],
   "source": []
  },
  {
   "cell_type": "code",
   "execution_count": 12,
   "id": "1ca91f69",
   "metadata": {},
   "outputs": [],
   "source": [
    "# impute null value in 'Age ' \n",
    "\n",
    "df['Age'].fillna(df.groupby(['Sex'])['Age'].transform('mean'), inplace=True)"
   ]
  },
  {
   "cell_type": "code",
   "execution_count": null,
   "id": "d3a0e465",
   "metadata": {},
   "outputs": [],
   "source": []
  },
  {
   "cell_type": "code",
   "execution_count": 13,
   "id": "e1b0cd1d",
   "metadata": {},
   "outputs": [
    {
     "data": {
      "text/plain": [
       "0    S\n",
       "Name: Embarked, dtype: object"
      ]
     },
     "execution_count": 13,
     "metadata": {},
     "output_type": "execute_result"
    }
   ],
   "source": [
    "#\n",
    "df['Embarked'].mode()"
   ]
  },
  {
   "cell_type": "code",
   "execution_count": 14,
   "id": "d8df9742",
   "metadata": {},
   "outputs": [],
   "source": [
    "df['Embarked'].fillna('S', inplace=True)\n",
    "\n",
    "#  'S' is mode value of this feature"
   ]
  },
  {
   "cell_type": "code",
   "execution_count": null,
   "id": "061e2575",
   "metadata": {},
   "outputs": [],
   "source": []
  },
  {
   "cell_type": "code",
   "execution_count": 15,
   "id": "ae137fcf",
   "metadata": {},
   "outputs": [
    {
     "data": {
      "text/plain": [
       "Age         0\n",
       "Embarked    0\n",
       "dtype: int64"
      ]
     },
     "execution_count": 15,
     "metadata": {},
     "output_type": "execute_result"
    }
   ],
   "source": [
    "# checking again null-value\n",
    "df[['Age','Embarked']].isnull().sum()"
   ]
  },
  {
   "cell_type": "code",
   "execution_count": null,
   "id": "7d6ceb17",
   "metadata": {},
   "outputs": [],
   "source": []
  },
  {
   "cell_type": "code",
   "execution_count": 16,
   "id": "01356f47",
   "metadata": {},
   "outputs": [
    {
     "name": "stdout",
     "output_type": "stream",
     "text": [
      "<class 'pandas.core.frame.DataFrame'>\n",
      "RangeIndex: 891 entries, 0 to 890\n",
      "Data columns (total 8 columns):\n",
      " #   Column    Non-Null Count  Dtype  \n",
      "---  ------    --------------  -----  \n",
      " 0   Survived  891 non-null    int64  \n",
      " 1   Pclass    891 non-null    int64  \n",
      " 2   Sex       891 non-null    object \n",
      " 3   Age       891 non-null    float64\n",
      " 4   SibSp     891 non-null    int64  \n",
      " 5   Parch     891 non-null    int64  \n",
      " 6   Fare      891 non-null    float64\n",
      " 7   Embarked  891 non-null    object \n",
      "dtypes: float64(2), int64(4), object(2)\n",
      "memory usage: 55.8+ KB\n"
     ]
    }
   ],
   "source": [
    "# brief summary of Dataset\n",
    "df.info()"
   ]
  },
  {
   "cell_type": "code",
   "execution_count": 17,
   "id": "44f5c0de",
   "metadata": {},
   "outputs": [
    {
     "data": {
      "text/html": [
       "<div>\n",
       "<style scoped>\n",
       "    .dataframe tbody tr th:only-of-type {\n",
       "        vertical-align: middle;\n",
       "    }\n",
       "\n",
       "    .dataframe tbody tr th {\n",
       "        vertical-align: top;\n",
       "    }\n",
       "\n",
       "    .dataframe thead th {\n",
       "        text-align: right;\n",
       "    }\n",
       "</style>\n",
       "<table border=\"1\" class=\"dataframe\">\n",
       "  <thead>\n",
       "    <tr style=\"text-align: right;\">\n",
       "      <th></th>\n",
       "      <th>Survived</th>\n",
       "      <th>Pclass</th>\n",
       "      <th>Age</th>\n",
       "      <th>SibSp</th>\n",
       "      <th>Parch</th>\n",
       "      <th>Fare</th>\n",
       "    </tr>\n",
       "  </thead>\n",
       "  <tbody>\n",
       "    <tr>\n",
       "      <th>count</th>\n",
       "      <td>891.000000</td>\n",
       "      <td>891.000000</td>\n",
       "      <td>891.000000</td>\n",
       "      <td>891.000000</td>\n",
       "      <td>891.000000</td>\n",
       "      <td>891.000000</td>\n",
       "    </tr>\n",
       "    <tr>\n",
       "      <th>mean</th>\n",
       "      <td>0.383838</td>\n",
       "      <td>2.308642</td>\n",
       "      <td>29.736034</td>\n",
       "      <td>0.523008</td>\n",
       "      <td>0.381594</td>\n",
       "      <td>32.204208</td>\n",
       "    </tr>\n",
       "    <tr>\n",
       "      <th>std</th>\n",
       "      <td>0.486592</td>\n",
       "      <td>0.836071</td>\n",
       "      <td>13.014897</td>\n",
       "      <td>1.102743</td>\n",
       "      <td>0.806057</td>\n",
       "      <td>49.693429</td>\n",
       "    </tr>\n",
       "    <tr>\n",
       "      <th>min</th>\n",
       "      <td>0.000000</td>\n",
       "      <td>1.000000</td>\n",
       "      <td>0.420000</td>\n",
       "      <td>0.000000</td>\n",
       "      <td>0.000000</td>\n",
       "      <td>0.000000</td>\n",
       "    </tr>\n",
       "    <tr>\n",
       "      <th>25%</th>\n",
       "      <td>0.000000</td>\n",
       "      <td>2.000000</td>\n",
       "      <td>22.000000</td>\n",
       "      <td>0.000000</td>\n",
       "      <td>0.000000</td>\n",
       "      <td>7.910400</td>\n",
       "    </tr>\n",
       "    <tr>\n",
       "      <th>50%</th>\n",
       "      <td>0.000000</td>\n",
       "      <td>3.000000</td>\n",
       "      <td>30.000000</td>\n",
       "      <td>0.000000</td>\n",
       "      <td>0.000000</td>\n",
       "      <td>14.454200</td>\n",
       "    </tr>\n",
       "    <tr>\n",
       "      <th>75%</th>\n",
       "      <td>1.000000</td>\n",
       "      <td>3.000000</td>\n",
       "      <td>35.000000</td>\n",
       "      <td>1.000000</td>\n",
       "      <td>0.000000</td>\n",
       "      <td>31.000000</td>\n",
       "    </tr>\n",
       "    <tr>\n",
       "      <th>max</th>\n",
       "      <td>1.000000</td>\n",
       "      <td>3.000000</td>\n",
       "      <td>80.000000</td>\n",
       "      <td>8.000000</td>\n",
       "      <td>6.000000</td>\n",
       "      <td>512.329200</td>\n",
       "    </tr>\n",
       "  </tbody>\n",
       "</table>\n",
       "</div>"
      ],
      "text/plain": [
       "         Survived      Pclass         Age       SibSp       Parch        Fare\n",
       "count  891.000000  891.000000  891.000000  891.000000  891.000000  891.000000\n",
       "mean     0.383838    2.308642   29.736034    0.523008    0.381594   32.204208\n",
       "std      0.486592    0.836071   13.014897    1.102743    0.806057   49.693429\n",
       "min      0.000000    1.000000    0.420000    0.000000    0.000000    0.000000\n",
       "25%      0.000000    2.000000   22.000000    0.000000    0.000000    7.910400\n",
       "50%      0.000000    3.000000   30.000000    0.000000    0.000000   14.454200\n",
       "75%      1.000000    3.000000   35.000000    1.000000    0.000000   31.000000\n",
       "max      1.000000    3.000000   80.000000    8.000000    6.000000  512.329200"
      ]
     },
     "execution_count": 17,
     "metadata": {},
     "output_type": "execute_result"
    }
   ],
   "source": [
    "# descriptive information about Dataset\n",
    "\n",
    "df.describe()"
   ]
  },
  {
   "cell_type": "code",
   "execution_count": null,
   "id": "fcf5af1c",
   "metadata": {},
   "outputs": [],
   "source": []
  },
  {
   "cell_type": "code",
   "execution_count": null,
   "id": "19aef7e2",
   "metadata": {},
   "outputs": [],
   "source": []
  },
  {
   "cell_type": "code",
   "execution_count": 18,
   "id": "977e1cef",
   "metadata": {},
   "outputs": [
    {
     "name": "stdout",
     "output_type": "stream",
     "text": [
      "male      577\n",
      "female    314\n",
      "Name: Sex, dtype: int64\n"
     ]
    },
    {
     "data": {
      "image/png": "[encoded data removed]",
      "text/plain": [
       "<Figure size 432x288 with 1 Axes>"
      ]
     },
     "metadata": {
      "needs_background": "light"
     },
     "output_type": "display_data"
    }
   ],
   "source": [
    "# counting 'Sex' Feature value\n",
    "\n",
    "print(df['Sex'].value_counts())\n",
    "\n",
    "sns.countplot(df['Sex'])\n",
    "plt.show()"
   ]
  },
  {
   "cell_type": "code",
   "execution_count": 19,
   "id": "89863b82",
   "metadata": {},
   "outputs": [
    {
     "name": "stdout",
     "output_type": "stream",
     "text": [
      "0    549\n",
      "1    342\n",
      "Name: Survived, dtype: int64\n"
     ]
    },
    {
     "data": {
      "image/png": "[encoded data removed]",
      "text/plain": [
       "<Figure size 432x288 with 1 Axes>"
      ]
     },
     "metadata": {
      "needs_background": "light"
     },
     "output_type": "display_data"
    }
   ],
   "source": [
    "# \n",
    "\n",
    "print(df['Survived'].value_counts())\n",
    "\n",
    "sns.countplot(df['Survived'])\n",
    "plt.show()                               # dataset is balanced"
   ]
  },
  {
   "cell_type": "code",
   "execution_count": 21,
   "id": "aab9bb6c",
   "metadata": {},
   "outputs": [
    {
     "name": "stdout",
     "output_type": "stream",
     "text": [
      "S    646\n",
      "C    168\n",
      "Q     77\n",
      "Name: Embarked, dtype: int64\n"
     ]
    },
    {
     "data": {
      "image/png": "[encoded data removed]",
      "text/plain": [
       "<Figure size 432x288 with 1 Axes>"
      ]
     },
     "metadata": {
      "needs_background": "light"
     },
     "output_type": "display_data"
    }
   ],
   "source": [
    "# counting the 'Embarked' feature value\n",
    "\n",
    "print(df['Embarked'].value_counts())\n",
    "\n",
    "sns.countplot(df['Embarked'])\n",
    "plt.show()"
   ]
  },
  {
   "cell_type": "code",
   "execution_count": null,
   "id": "cf453b03",
   "metadata": {},
   "outputs": [],
   "source": []
  },
  {
   "cell_type": "code",
   "execution_count": null,
   "id": "555b585c",
   "metadata": {},
   "outputs": [],
   "source": []
  },
  {
   "cell_type": "code",
   "execution_count": 22,
   "id": "ef32f4c8",
   "metadata": {},
   "outputs": [
    {
     "data": {
      "text/plain": [
       "<seaborn.axisgrid.PairGrid at 0x217c90e3fa0>"
      ]
     },
     "execution_count": 22,
     "metadata": {},
     "output_type": "execute_result"
    },
    {
     "data": {
      "image/png": "[encoded data removed]",
      "text/plain": [
       "<Figure size 1080x1080 with 42 Axes>"
      ]
     },
     "metadata": {
      "needs_background": "light"
     },
     "output_type": "display_data"
    }
   ],
   "source": [
    "# plotting pairplot\n",
    "sns.pairplot(df)"
   ]
  },
  {
   "cell_type": "code",
   "execution_count": null,
   "id": "af3e1484",
   "metadata": {},
   "outputs": [],
   "source": []
  },
  {
   "cell_type": "raw",
   "id": "93186ed8",
   "metadata": {},
   "source": [
    "plotting barplot & scatterplot to to find relation between features"
   ]
  },
  {
   "cell_type": "code",
   "execution_count": 23,
   "id": "76d11c9d",
   "metadata": {},
   "outputs": [
    {
     "data": {
      "text/plain": [
       "<AxesSubplot:xlabel='Pclass', ylabel='Survived'>"
      ]
     },
     "execution_count": 23,
     "metadata": {},
     "output_type": "execute_result"
    },
    {
     "data": {
      "image/png": "[encoded data removed]",
      "text/plain": [
       "<Figure size 432x288 with 1 Axes>"
      ]
     },
     "metadata": {
      "needs_background": "light"
     },
     "output_type": "display_data"
    }
   ],
   "source": [
    "# we plotting barplot\n",
    "\n",
    "sns.barplot('Pclass', 'Survived', data=df, hue='Sex')\n",
    "\n",
    "# we seen in this barplot female in pclass-1, pclass-2, survival probability rate is high\n",
    "\n",
    "# male survival rate is ver low means almost all are died"
   ]
  },
  {
   "cell_type": "code",
   "execution_count": 24,
   "id": "a1157aa6",
   "metadata": {},
   "outputs": [
    {
     "data": {
      "image/png": "[encoded data removed]",
      "text/plain": [
       "<Figure size 720x432 with 1 Axes>"
      ]
     },
     "metadata": {
      "needs_background": "light"
     },
     "output_type": "display_data"
    }
   ],
   "source": [
    "# plotting scatterplot 'Pclass', 'Survived', \n",
    "\n",
    "plt.figure(figsize=(10,6))\n",
    "sns.scatterplot('Pclass', 'Fare', data=df, hue='Survived')\n",
    "plt.show()\n",
    "\n",
    "# in this scatterplot we seen relation between 'Pclass' and 'Survived' , \n",
    "#   person who live Pclass-1 survival rate is very high"
   ]
  },
  {
   "cell_type": "code",
   "execution_count": null,
   "id": "ef422b1b",
   "metadata": {},
   "outputs": [],
   "source": []
  },
  {
   "cell_type": "code",
   "execution_count": 25,
   "id": "13236ed5",
   "metadata": {
    "scrolled": true
   },
   "outputs": [
    {
     "data": {
      "image/png": "[encoded data removed]",
      "text/plain": [
       "<Figure size 432x288 with 1 Axes>"
      ]
     },
     "metadata": {
      "needs_background": "light"
     },
     "output_type": "display_data"
    }
   ],
   "source": [
    "\n",
    "sns.scatterplot('Fare', 'Survived', data=df, hue='Sex')\n",
    "plt.show()\n",
    "\n",
    "#  'Fare' feature is not much importance to given any information about 'survived'(died / live) \n",
    "#  in titanic ship most 'female ' survived"
   ]
  },
  {
   "cell_type": "code",
   "execution_count": null,
   "id": "afa408ab",
   "metadata": {},
   "outputs": [],
   "source": []
  },
  {
   "cell_type": "code",
   "execution_count": 26,
   "id": "fee2ea58",
   "metadata": {},
   "outputs": [
    {
     "data": {
      "text/plain": [
       "<AxesSubplot:xlabel='Embarked', ylabel='Fare'>"
      ]
     },
     "execution_count": 26,
     "metadata": {},
     "output_type": "execute_result"
    },
    {
     "data": {
      "image/png": "[encoded data removed]",
      "text/plain": [
       "<Figure size 432x288 with 1 Axes>"
      ]
     },
     "metadata": {
      "needs_background": "light"
     },
     "output_type": "display_data"
    }
   ],
   "source": [
    "# \n",
    "\n",
    "sns.barplot('Embarked','Fare', data=df, hue='Survived')"
   ]
  },
  {
   "cell_type": "code",
   "execution_count": null,
   "id": "d6aa7e78",
   "metadata": {},
   "outputs": [],
   "source": []
  },
  {
   "cell_type": "code",
   "execution_count": null,
   "id": "e78afc48",
   "metadata": {},
   "outputs": [],
   "source": []
  },
  {
   "cell_type": "raw",
   "id": "5d8ca081",
   "metadata": {},
   "source": [
    "PLOTTING SCATTER PLOT BETWEEN 'SURVIVED' AND INPUT FEATURES TO FIND RELATIONSHIP"
   ]
  },
  {
   "cell_type": "code",
   "execution_count": 27,
   "id": "dd743801",
   "metadata": {},
   "outputs": [
    {
     "data": {
      "image/png": "[encoded data removed]",
      "text/plain": [
       "<Figure size 432x288 with 1 Axes>"
      ]
     },
     "metadata": {
      "needs_background": "light"
     },
     "output_type": "display_data"
    }
   ],
   "source": [
    "sns.scatterplot('Age', 'Survived', data= df, hue='Sex')\n",
    "plt.show()"
   ]
  },
  {
   "cell_type": "code",
   "execution_count": 26,
   "id": "6798af6e",
   "metadata": {},
   "outputs": [],
   "source": [
    "# we seen in above graph 'Female' survived rate is high caompare to 'Male' \n",
    "#    'Age' feature is no matter to survival rate"
   ]
  },
  {
   "cell_type": "code",
   "execution_count": null,
   "id": "d6889501",
   "metadata": {},
   "outputs": [],
   "source": []
  },
  {
   "cell_type": "code",
   "execution_count": 28,
   "id": "4f0ff28d",
   "metadata": {},
   "outputs": [
    {
     "data": {
      "image/png": "[encoded data removed]",
      "text/plain": [
       "<Figure size 432x288 with 1 Axes>"
      ]
     },
     "metadata": {
      "needs_background": "light"
     },
     "output_type": "display_data"
    }
   ],
   "source": [
    "#\n",
    "sns.scatterplot('Fare', 'Embarked', data=df,hue='Survived')\n",
    "plt.show()\n",
    "# passenger who related 'Embarked-C' those survival rate is high "
   ]
  },
  {
   "cell_type": "code",
   "execution_count": null,
   "id": "b5248190",
   "metadata": {},
   "outputs": [],
   "source": []
  },
  {
   "cell_type": "code",
   "execution_count": 29,
   "id": "4ca5c298",
   "metadata": {},
   "outputs": [
    {
     "data": {
      "text/plain": [
       "<AxesSubplot:xlabel='Pclass', ylabel='Age'>"
      ]
     },
     "execution_count": 29,
     "metadata": {},
     "output_type": "execute_result"
    },
    {
     "data": {
      "image/png": "[encoded data removed]",
      "text/plain": [
       "<Figure size 432x288 with 1 Axes>"
      ]
     },
     "metadata": {
      "needs_background": "light"
     },
     "output_type": "display_data"
    }
   ],
   "source": [
    "sns.scatterplot('Pclass', 'Age', data=df,hue= 'Survived')"
   ]
  },
  {
   "cell_type": "code",
   "execution_count": 29,
   "id": "06e3c1ff",
   "metadata": {},
   "outputs": [],
   "source": [
    "# In above graph we seen passsenger who sit 'Pclass 1' those survived\n",
    "# passenger who sit in 'pclass_2' and passenger_Age was less those mostly survived\n",
    "\n",
    "# person who sit in pclass_2  some surviived\n",
    "# person who sit in pclass_3 mostly died \n",
    "\n",
    "# 'Embarked' feature also important to target_vriable\n"
   ]
  },
  {
   "cell_type": "code",
   "execution_count": 30,
   "id": "c589c58d",
   "metadata": {},
   "outputs": [
    {
     "data": {
      "text/plain": [
       "<AxesSubplot:>"
      ]
     },
     "execution_count": 30,
     "metadata": {},
     "output_type": "execute_result"
    },
    {
     "data": {
      "image/png": "[encoded data removed]",
      "text/plain": [
       "<Figure size 432x288 with 2 Axes>"
      ]
     },
     "metadata": {
      "needs_background": "light"
     },
     "output_type": "display_data"
    }
   ],
   "source": [
    "# plotting heatmap of dataset correlation \n",
    "\n",
    "sns.heatmap(df.corr(), annot=True)\n",
    "\n",
    "# no any correlation between features and target_variable"
   ]
  },
  {
   "cell_type": "code",
   "execution_count": null,
   "id": "d89ec9ae",
   "metadata": {},
   "outputs": [],
   "source": []
  },
  {
   "cell_type": "code",
   "execution_count": 31,
   "id": "88a392c5",
   "metadata": {},
   "outputs": [],
   "source": [
    "# \n",
    "\n",
    "df['Embarked']= df['Embarked'].replace({'C':0,'S':1,'Q':2})\n",
    "\n",
    "df['Sex']= df['Sex'].replace({'male':1,'female':0})"
   ]
  },
  {
   "cell_type": "code",
   "execution_count": 32,
   "id": "b6e3eaae",
   "metadata": {},
   "outputs": [],
   "source": []
  },
  {
   "cell_type": "code",
   "execution_count": 32,
   "id": "79ee9207",
   "metadata": {},
   "outputs": [
    {
     "data": {
      "text/html": [
       "<div>\n",
       "<style scoped>\n",
       "    .dataframe tbody tr th:only-of-type {\n",
       "        vertical-align: middle;\n",
       "    }\n",
       "\n",
       "    .dataframe tbody tr th {\n",
       "        vertical-align: top;\n",
       "    }\n",
       "\n",
       "    .dataframe thead th {\n",
       "        text-align: right;\n",
       "    }\n",
       "</style>\n",
       "<table border=\"1\" class=\"dataframe\">\n",
       "  <thead>\n",
       "    <tr style=\"text-align: right;\">\n",
       "      <th></th>\n",
       "      <th>Survived</th>\n",
       "      <th>Pclass</th>\n",
       "      <th>Sex</th>\n",
       "      <th>Age</th>\n",
       "      <th>SibSp</th>\n",
       "      <th>Parch</th>\n",
       "      <th>Fare</th>\n",
       "      <th>Embarked</th>\n",
       "    </tr>\n",
       "  </thead>\n",
       "  <tbody>\n",
       "    <tr>\n",
       "      <th>0</th>\n",
       "      <td>0</td>\n",
       "      <td>3</td>\n",
       "      <td>1</td>\n",
       "      <td>22.0</td>\n",
       "      <td>1</td>\n",
       "      <td>0</td>\n",
       "      <td>7.2500</td>\n",
       "      <td>1</td>\n",
       "    </tr>\n",
       "    <tr>\n",
       "      <th>1</th>\n",
       "      <td>1</td>\n",
       "      <td>1</td>\n",
       "      <td>0</td>\n",
       "      <td>38.0</td>\n",
       "      <td>1</td>\n",
       "      <td>0</td>\n",
       "      <td>71.2833</td>\n",
       "      <td>0</td>\n",
       "    </tr>\n",
       "    <tr>\n",
       "      <th>2</th>\n",
       "      <td>1</td>\n",
       "      <td>3</td>\n",
       "      <td>0</td>\n",
       "      <td>26.0</td>\n",
       "      <td>0</td>\n",
       "      <td>0</td>\n",
       "      <td>7.9250</td>\n",
       "      <td>1</td>\n",
       "    </tr>\n",
       "    <tr>\n",
       "      <th>3</th>\n",
       "      <td>1</td>\n",
       "      <td>1</td>\n",
       "      <td>0</td>\n",
       "      <td>35.0</td>\n",
       "      <td>1</td>\n",
       "      <td>0</td>\n",
       "      <td>53.1000</td>\n",
       "      <td>1</td>\n",
       "    </tr>\n",
       "  </tbody>\n",
       "</table>\n",
       "</div>"
      ],
      "text/plain": [
       "   Survived  Pclass  Sex   Age  SibSp  Parch     Fare  Embarked\n",
       "0         0       3    1  22.0      1      0   7.2500         1\n",
       "1         1       1    0  38.0      1      0  71.2833         0\n",
       "2         1       3    0  26.0      0      0   7.9250         1\n",
       "3         1       1    0  35.0      1      0  53.1000         1"
      ]
     },
     "execution_count": 32,
     "metadata": {},
     "output_type": "execute_result"
    }
   ],
   "source": [
    "df.head(4)"
   ]
  },
  {
   "cell_type": "code",
   "execution_count": null,
   "id": "a19f5b5d",
   "metadata": {},
   "outputs": [],
   "source": [
    "\n"
   ]
  },
  {
   "cell_type": "raw",
   "id": "09a2032c",
   "metadata": {},
   "source": [
    " PLOTTING DISTRIBUTION PLOT OF CONTINUOUS FEATURES"
   ]
  },
  {
   "cell_type": "code",
   "execution_count": 34,
   "id": "3de44f9c",
   "metadata": {},
   "outputs": [
    {
     "data": {
      "image/png": "[encoded data removed]",
      "text/plain": [
       "<Figure size 432x288 with 1 Axes>"
      ]
     },
     "metadata": {
      "needs_background": "light"
     },
     "output_type": "display_data"
    }
   ],
   "source": [
    "# checking 'Fare' distribution\n",
    "\n",
    "sns.distplot(df['Fare'])\n",
    "plt.show()\n"
   ]
  },
  {
   "cell_type": "code",
   "execution_count": 33,
   "id": "98a0ba36",
   "metadata": {},
   "outputs": [
    {
     "data": {
      "image/png": "[encoded data removed]",
      "text/plain": [
       "<Figure size 432x288 with 1 Axes>"
      ]
     },
     "metadata": {
      "needs_background": "light"
     },
     "output_type": "display_data"
    }
   ],
   "source": [
    "# checking 'Age' distribution\n",
    "\n",
    "sns.distplot(df['Age'])\n",
    "plt.show()\n",
    "\n",
    "# most of passenger age in 20 to 50 range"
   ]
  },
  {
   "cell_type": "code",
   "execution_count": null,
   "id": "ad1ba8e2",
   "metadata": {},
   "outputs": [],
   "source": []
  },
  {
   "cell_type": "raw",
   "id": "80ffc82f",
   "metadata": {},
   "source": [
    " checking outliers"
   ]
  },
  {
   "cell_type": "code",
   "execution_count": 35,
   "id": "d6186773",
   "metadata": {},
   "outputs": [
    {
     "data": {
      "text/plain": [
       "Age     False\n",
       "Fare    False\n",
       "dtype: bool"
      ]
     },
     "execution_count": 35,
     "metadata": {},
     "output_type": "execute_result"
    }
   ],
   "source": [
    "# checking outliers\n",
    "from scipy.stats import zscore\n",
    "\n",
    "(np.abs(zscore(df[['Age','Fare']]))<3).all()\n"
   ]
  },
  {
   "cell_type": "code",
   "execution_count": 36,
   "id": "2131c738",
   "metadata": {},
   "outputs": [],
   "source": [
    "# OUTLIER removing  with Z_SCORE METHOD\n",
    "\n",
    "from scipy.stats import zscore\n",
    "\n",
    "z_scores=zscore(df[['Age','Fare']])\n",
    "X_new= df.loc[(abs(z_scores)<3).all(axis=1)]"
   ]
  },
  {
   "cell_type": "code",
   "execution_count": 37,
   "id": "694a4a7e",
   "metadata": {},
   "outputs": [
    {
     "name": "stdout",
     "output_type": "stream",
     "text": [
      "original_shape= (891, 8)\n",
      "shape after removing outliers (864, 8)\n"
     ]
    }
   ],
   "source": [
    "print('original_shape=', df.shape)\n",
    "print('shape after removing outliers',X_new.shape)"
   ]
  },
  {
   "cell_type": "code",
   "execution_count": null,
   "id": "d47308c6",
   "metadata": {},
   "outputs": [],
   "source": []
  },
  {
   "cell_type": "raw",
   "id": "909adc96",
   "metadata": {},
   "source": [
    "CHECKING SKEWNESS "
   ]
  },
  {
   "cell_type": "code",
   "execution_count": 38,
   "id": "cdcff8e0",
   "metadata": {},
   "outputs": [
    {
     "data": {
      "text/plain": [
       "Age     0.229679\n",
       "Fare    2.257178\n",
       "dtype: float64"
      ]
     },
     "execution_count": 38,
     "metadata": {},
     "output_type": "execute_result"
    }
   ],
   "source": [
    "# checking skewness  over continuous features\n",
    "\n",
    "X_new[['Age','Fare']].skew()      "
   ]
  },
  {
   "cell_type": "code",
   "execution_count": 39,
   "id": "6cccd94d",
   "metadata": {},
   "outputs": [],
   "source": [
    "# removing skewness\n",
    "\n",
    "X_new['Fare']= np.log1p(X_new['Fare'])"
   ]
  },
  {
   "cell_type": "code",
   "execution_count": 40,
   "id": "7d5d86ba",
   "metadata": {},
   "outputs": [
    {
     "data": {
      "text/plain": [
       "0.11346800155851679"
      ]
     },
     "execution_count": 40,
     "metadata": {},
     "output_type": "execute_result"
    }
   ],
   "source": [
    "X_new['Fare'].skew()"
   ]
  },
  {
   "cell_type": "code",
   "execution_count": null,
   "id": "0324446c",
   "metadata": {},
   "outputs": [],
   "source": []
  },
  {
   "cell_type": "code",
   "execution_count": 41,
   "id": "e74d2dc8",
   "metadata": {},
   "outputs": [],
   "source": [
    "# input variable \n",
    "x= X_new.drop(['Survived','Parch'], axis=1)\n",
    "\n",
    "# target_variable\n",
    "y= X_new.Survived"
   ]
  },
  {
   "cell_type": "code",
   "execution_count": null,
   "id": "e04cef02",
   "metadata": {},
   "outputs": [],
   "source": []
  },
  {
   "cell_type": "raw",
   "id": "607c8feb",
   "metadata": {},
   "source": []
  },
  {
   "cell_type": "code",
   "execution_count": 42,
   "id": "1cc626c0",
   "metadata": {},
   "outputs": [],
   "source": [
    "from sklearn.preprocessing import StandardScaler\n",
    "sc= StandardScaler()\n",
    "\n",
    "scaled= sc.fit_transform(x)         # scaling the input data"
   ]
  },
  {
   "cell_type": "code",
   "execution_count": null,
   "id": "2bc6efab",
   "metadata": {},
   "outputs": [],
   "source": []
  },
  {
   "cell_type": "code",
   "execution_count": 43,
   "id": "90c5b0d2",
   "metadata": {},
   "outputs": [],
   "source": [
    "from sklearn.model_selection import train_test_split\n",
    "from sklearn.metrics import confusion_matrix,classification_report, accuracy_score"
   ]
  },
  {
   "cell_type": "code",
   "execution_count": null,
   "id": "4fa95391",
   "metadata": {},
   "outputs": [],
   "source": []
  },
  {
   "cell_type": "code",
   "execution_count": 44,
   "id": "1606155c",
   "metadata": {},
   "outputs": [
    {
     "name": "stdout",
     "output_type": "stream",
     "text": [
      "maximum accuracy : 0.838150289017341  random_state is : 50\n",
      "maximum accuracy : 0.8497109826589595  random_state is : 77\n",
      "maximum accuracy : 0.8554913294797688  random_state is : 92\n"
     ]
    }
   ],
   "source": [
    "# let's use LogisticRegression\n",
    "\n",
    "# IN TRAINING PROCESS          # finding best random_state \n",
    "\n",
    "from sklearn.linear_model import LogisticRegression\n",
    "\n",
    "max_acu= 0\n",
    "max_rs= 0\n",
    "for r_state in range(50,300):\n",
    "    x_train,x_test,y_train,y_test=train_test_split(scaled, y,random_state = r_state,test_size=0.20,stratify=y )\n",
    "    lr = LogisticRegression()\n",
    "    lr.fit(x_train,y_train)\n",
    "    y_pred=lr.predict(x_test)\n",
    "    accu = accuracy_score(y_test,y_pred)\n",
    "        \n",
    "    if accu>max_acu:\n",
    "        max_acu=accu\n",
    "        max_rs= r_state\n",
    "        print(\"maximum accuracy :\",max_acu,\" random_state is :\",max_rs)\n",
    "\n"
   ]
  },
  {
   "cell_type": "code",
   "execution_count": 45,
   "id": "913d85ba",
   "metadata": {},
   "outputs": [],
   "source": [
    "#\n",
    "from sklearn.model_selection import cross_val_score as CVS\n",
    "from sklearn.model_selection import KFold\n",
    "kfold= KFold(n_splits=5, shuffle=True, random_state=459)\n",
    "\n",
    "\n",
    "def model_score(model,xtrain,ytrain,x_test,y_test):\n",
    "    model.fit(xtrain,ytrain)\n",
    "    pred= model.predict(xtrain)\n",
    "    y_pred= model.predict(x_test)\n",
    "    print('training_score =', accuracy_score(ytrain,pred))\n",
    "        \n",
    "    print('test_accuracy_score=', accuracy_score(y_test,y_pred))\n",
    "    print('classification_report \\n', classification_report(y_test,y_pred))\n",
    "    print('confusion_matrix \\n', confusion_matrix(y_test,y_pred))\n",
    "\n",
    "\n",
    "def cross_val(model,xtrain,ytrain,algo):\n",
    "        \n",
    "    cv_score= CVS(model,xtrain,ytrain,cv= kfold,)\n",
    "    print('cross_val_score with', algo,'=', cv_score.mean())\n",
    "    "
   ]
  },
  {
   "cell_type": "code",
   "execution_count": null,
   "id": "35f68891",
   "metadata": {},
   "outputs": [],
   "source": []
  },
  {
   "cell_type": "code",
   "execution_count": 46,
   "id": "c3c2a9da",
   "metadata": {},
   "outputs": [
    {
     "name": "stdout",
     "output_type": "stream",
     "text": [
      "training_score = 0.7814761215629522\n",
      "test_accuracy_score= 0.8554913294797688\n",
      "classification_report \n",
      "               precision    recall  f1-score   support\n",
      "\n",
      "           0       0.91      0.85      0.88       108\n",
      "           1       0.78      0.86      0.82        65\n",
      "\n",
      "    accuracy                           0.86       173\n",
      "   macro avg       0.84      0.86      0.85       173\n",
      "weighted avg       0.86      0.86      0.86       173\n",
      "\n",
      "confusion_matrix \n",
      " [[92 16]\n",
      " [ 9 56]]\n"
     ]
    }
   ],
   "source": [
    " \n",
    "# lets use LOGISTIC REGRESSION\n",
    "                   # we check above random_state = 138 is best for splitting\n",
    "x_train,x_testl,y_train,y_testl =train_test_split(scaled, y,random_state = 92,test_size=0.20,stratify=y)\n",
    "\n",
    "lr = LogisticRegression()\n",
    "\n",
    "model_score(lr,x_train,y_train,x_testl,y_testl)"
   ]
  },
  {
   "cell_type": "code",
   "execution_count": null,
   "id": "fdf661dc",
   "metadata": {},
   "outputs": [],
   "source": []
  },
  {
   "cell_type": "raw",
   "id": "1c658259",
   "metadata": {},
   "source": [
    "LET'S FIT THE MODEL WITH ADABOOSTCLASSIFIER"
   ]
  },
  {
   "cell_type": "code",
   "execution_count": 47,
   "id": "529bee75",
   "metadata": {},
   "outputs": [
    {
     "name": "stdout",
     "output_type": "stream",
     "text": [
      "maximum accuracy : 0.8439306358381503  random_state is : 50\n",
      "maximum accuracy : 0.8554913294797688  random_state is : 111\n",
      "maximum accuracy : 0.861271676300578  random_state is : 138\n",
      "maximum accuracy : 0.8670520231213873  random_state is : 267\n"
     ]
    }
   ],
   "source": [
    "#\n",
    "                  # IN TRAINING PROCESS           # finding best random_state for  ADABOOST\n",
    "from sklearn.ensemble import AdaBoostClassifier\n",
    "\n",
    "max_acu= 0\n",
    "max_rs= 0\n",
    "for r_state in range(50,300):\n",
    "    x_train,x_test,y_train,y_test=train_test_split(scaled, y,random_state = r_state,test_size=0.20 )\n",
    "    adb = AdaBoostClassifier(n_estimators=150,learning_rate=0.3)\n",
    "    adb.fit(x_train,y_train)\n",
    "    y_pred=adb.predict(x_test)\n",
    "    accu = accuracy_score(y_test,y_pred)\n",
    "        \n",
    "    if accu>max_acu:\n",
    "        max_acu=accu\n",
    "        max_rs= r_state\n",
    "        print(\"maximum accuracy :\",max_acu,\" random_state is :\",max_rs)\n"
   ]
  },
  {
   "cell_type": "code",
   "execution_count": 48,
   "id": "0fe24ce1",
   "metadata": {},
   "outputs": [
    {
     "name": "stdout",
     "output_type": "stream",
     "text": [
      "training_score = 0.8277858176555717\n",
      "test_accuracy_score= 0.8728323699421965\n",
      "classification_report \n",
      "               precision    recall  f1-score   support\n",
      "\n",
      "           0       0.88      0.91      0.90       103\n",
      "           1       0.86      0.81      0.84        70\n",
      "\n",
      "    accuracy                           0.87       173\n",
      "   macro avg       0.87      0.86      0.87       173\n",
      "weighted avg       0.87      0.87      0.87       173\n",
      "\n",
      "confusion_matrix \n",
      " [[94  9]\n",
      " [13 57]]\n"
     ]
    }
   ],
   "source": [
    " # lets use AdaBoost CLASSIFICATION\n",
    "\n",
    "# we check above random_state = 267 is best for splitting\n",
    "from sklearn.ensemble import AdaBoostClassifier\n",
    "x_train,x_testA,y_train,y_testA = train_test_split(scaled, y,random_state = 267,test_size=0.20)\n",
    "\n",
    "ad = AdaBoostClassifier()\n",
    "model_score(ad,x_train,y_train,x_testA,y_testA)"
   ]
  },
  {
   "cell_type": "code",
   "execution_count": null,
   "id": "72b449d3",
   "metadata": {},
   "outputs": [],
   "source": []
  },
  {
   "cell_type": "raw",
   "id": "097a0926",
   "metadata": {},
   "source": [
    "LET'S FIT THE MODEL WITH SVM"
   ]
  },
  {
   "cell_type": "code",
   "execution_count": 51,
   "id": "a072701b",
   "metadata": {},
   "outputs": [
    {
     "name": "stdout",
     "output_type": "stream",
     "text": [
      "maximum accuracy : 0.8728323699421965  random_state is : 50\n",
      "maximum accuracy : 0.884393063583815  random_state is : 110\n",
      "maximum accuracy : 0.9190751445086706  random_state is : 111\n"
     ]
    }
   ],
   "source": [
    "# IN TRAINING PROCESS               # finding best random_state\n",
    "\n",
    "from sklearn.svm import SVC\n",
    "\n",
    "max_acu= 0\n",
    "max_rs= 0\n",
    "for r_state in range(50,300):\n",
    "    x_train,x_test,y_train,y_test=train_test_split(scaled, y,random_state = r_state,test_size=0.20 )\n",
    "    svm = SVC()\n",
    "    svm.fit(x_train,y_train)\n",
    "    y_pred=svm.predict(x_test)\n",
    "    accu = accuracy_score(y_test,y_pred)\n",
    "        \n",
    "    if accu>max_acu:\n",
    "        max_acu=accu\n",
    "        max_rs= r_state\n",
    "        print(\"maximum accuracy :\",max_acu,\" random_state is :\",max_rs)\n"
   ]
  },
  {
   "cell_type": "code",
   "execution_count": 52,
   "id": "a54e86f8",
   "metadata": {},
   "outputs": [
    {
     "name": "stdout",
     "output_type": "stream",
     "text": [
      "training_score = 0.8104196816208393\n",
      "test_accuracy_score= 0.9190751445086706\n",
      "classification_report \n",
      "               precision    recall  f1-score   support\n",
      "\n",
      "           0       0.90      0.99      0.94       115\n",
      "           1       0.98      0.78      0.87        58\n",
      "\n",
      "    accuracy                           0.92       173\n",
      "   macro avg       0.94      0.88      0.90       173\n",
      "weighted avg       0.92      0.92      0.92       173\n",
      "\n",
      "confusion_matrix \n",
      " [[114   1]\n",
      " [ 13  45]]\n"
     ]
    }
   ],
   "source": [
    " # lets use SVM CLASSIFICATION\n",
    "                  # we check above random_state = 111 is best for splitting\n",
    "\n",
    "x_train,x_tests,y_train,y_tests=train_test_split(scaled, y,random_state = 111,test_size=0.20)\n",
    "\n",
    "svm = SVC()\n",
    "model_score(svm,x_train,y_train,x_tests,y_tests)"
   ]
  },
  {
   "cell_type": "code",
   "execution_count": null,
   "id": "7d536baa",
   "metadata": {},
   "outputs": [],
   "source": []
  },
  {
   "cell_type": "raw",
   "id": "f1fc7527",
   "metadata": {},
   "source": [
    "LET'S USE CROSS VALIDATION"
   ]
  },
  {
   "cell_type": "code",
   "execution_count": 53,
   "id": "35ddd7fe",
   "metadata": {},
   "outputs": [
    {
     "name": "stdout",
     "output_type": "stream",
     "text": [
      "cross_val_score with GradientBoostingClassifier = 0.8061307475758523\n"
     ]
    }
   ],
   "source": [
    "#  CROSS_VAL_SCORE WITH  GRADIENTBOOSTING \n",
    "\n",
    "from sklearn.ensemble import GradientBoostingClassifier\n",
    "x_train,x_test,y_train,y_test=train_test_split(x, y,random_state = 138,test_size=0.20 )\n",
    "\n",
    "gb= GradientBoostingClassifier()\n",
    "\n",
    "cross_val(gb,x_train,y_train,'GradientBoostingClassifier')"
   ]
  },
  {
   "cell_type": "raw",
   "id": "7ab6f392",
   "metadata": {},
   "source": []
  },
  {
   "cell_type": "code",
   "execution_count": 54,
   "id": "6f24a366",
   "metadata": {},
   "outputs": [
    {
     "name": "stdout",
     "output_type": "stream",
     "text": [
      "cross_val_score with RandomForestClassifier = 0.7915858617453864\n"
     ]
    }
   ],
   "source": [
    "#  CROSS_VAL_SCORE WITH  RANDOMFOREST_CLASSIFIER\n",
    "\n",
    "from sklearn.ensemble import RandomForestClassifier\n",
    "x_train,x_test,y_train,y_test=train_test_split(x, y,random_state = 119,test_size=0.20 )\n",
    "\n",
    "rf= RandomForestClassifier()\n",
    "\n",
    "cross_val(rf,x_train,y_train,'RandomForestClassifier')"
   ]
  },
  {
   "cell_type": "code",
   "execution_count": null,
   "id": "14d2717f",
   "metadata": {},
   "outputs": [],
   "source": []
  },
  {
   "cell_type": "code",
   "execution_count": 55,
   "id": "3a9e3458",
   "metadata": {},
   "outputs": [
    {
     "name": "stdout",
     "output_type": "stream",
     "text": [
      "cross_val_score with SVM = 0.7844437493483474\n"
     ]
    }
   ],
   "source": [
    "#  CROSS_VAL_SCORE WITH  SVM_CLASSIFIER\n",
    "\n",
    "x_train,x_test,y_train,y_test=train_test_split(scaled, y,random_state = 111,test_size=0.20 )\n",
    "\n",
    "sv= SVC()\n",
    "\n",
    "cross_val(sv,x_train,y_train,'SVM')"
   ]
  },
  {
   "cell_type": "code",
   "execution_count": null,
   "id": "b4430d1a",
   "metadata": {},
   "outputs": [],
   "source": []
  },
  {
   "cell_type": "code",
   "execution_count": 56,
   "id": "7314c1d6",
   "metadata": {},
   "outputs": [
    {
     "name": "stdout",
     "output_type": "stream",
     "text": [
      "cross_val_score with DecisionTreeClassifier = 0.7583672192680637\n"
     ]
    }
   ],
   "source": [
    "#  CROSS_VAL_SCORE WITH  DECISIONTREE\n",
    "\n",
    "from sklearn.tree import DecisionTreeClassifier\n",
    "x_train,x_test,y_train,y_test=train_test_split(x, y,random_state = 267,test_size=0.20 )\n",
    "\n",
    "dt= DecisionTreeClassifier()\n",
    "\n",
    "cross_val(dt,x_train,y_train,'DecisionTreeClassifier')"
   ]
  },
  {
   "cell_type": "code",
   "execution_count": null,
   "id": "832f9ca6",
   "metadata": {},
   "outputs": [],
   "source": []
  },
  {
   "cell_type": "raw",
   "id": "d10a0e6a",
   "metadata": {},
   "source": [
    "HYPER-PARAMETER-TUNING WITH GRIDSEARCHCV"
   ]
  },
  {
   "cell_type": "code",
   "execution_count": 57,
   "id": "3ff3f7e7",
   "metadata": {},
   "outputs": [],
   "source": [
    "\n",
    "from sklearn.model_selection import GridSearchCV\n",
    "\n",
    "# x_train,x_test,y_train,y_test= train_test_split(scaler,y, test_size= 0.25, random_state=457)\n",
    "def Gridcv(model,param,xtrain,ytrain,x_test,y_test,data):\n",
    "    grid= GridSearchCV(model, param, cv=5, n_jobs=-1)\n",
    "    grid.fit(xtrain,ytrain)\n",
    "    \n",
    "    cls= grid.best_estimator_\n",
    "    cls.fit(xtrain,ytrain)\n",
    "    pred= cls.predict(x_test)\n",
    "    \n",
    "    print(data, 'with gridsearchcv')\n",
    "    print('accuracy_score =', accuracy_score(y_test, pred))\n",
    "    print('classification_report ', classification_report(y_test,pred))\n",
    "    print('confusion_matrix \\n', confusion_matrix(y_test,pred))"
   ]
  },
  {
   "cell_type": "code",
   "execution_count": 58,
   "id": "5c330b12",
   "metadata": {},
   "outputs": [
    {
     "name": "stdout",
     "output_type": "stream",
     "text": [
      "Gradientboostingclassifier with gridsearchcv\n",
      "accuracy_score = 0.8728323699421965\n",
      "classification_report                precision    recall  f1-score   support\n",
      "\n",
      "           0       0.88      0.93      0.90       112\n",
      "           1       0.85      0.77      0.81        61\n",
      "\n",
      "    accuracy                           0.87       173\n",
      "   macro avg       0.87      0.85      0.86       173\n",
      "weighted avg       0.87      0.87      0.87       173\n",
      "\n",
      "confusion_matrix \n",
      " [[104   8]\n",
      " [ 14  47]]\n"
     ]
    }
   ],
   "source": [
    "# HYPERTUNING WITH GRADIENTBOOSTING\n",
    "\n",
    "x_train,x_test,y_train,y_test=train_test_split(x, y,random_state = 138,test_size=0.20 )\n",
    "\n",
    "gbc= GradientBoostingClassifier()\n",
    "param= {'n_estimators':[100,200],'learning_rate':[1.0,0.1,],'min_samples_split':[2,3,4],'max_depth':[2,4,6]}\n",
    "\n",
    "Gridcv(gbc,param,x_train,y_train,x_test,y_test,'Gradientboostingclassifier')\n"
   ]
  },
  {
   "cell_type": "code",
   "execution_count": null,
   "id": "7c27d068",
   "metadata": {},
   "outputs": [],
   "source": []
  },
  {
   "cell_type": "code",
   "execution_count": 59,
   "id": "c0f86249",
   "metadata": {},
   "outputs": [
    {
     "data": {
      "text/html": [
       "<style>#sk-container-id-1 {color: black;background-color: white;}#sk-container-id-1 pre{padding: 0;}#sk-container-id-1 div.sk-toggleable {background-color: white;}#sk-container-id-1 label.sk-toggleable__label {cursor: pointer;display: block;width: 100%;margin-bottom: 0;padding: 0.3em;box-sizing: border-box;text-align: center;}#sk-container-id-1 label.sk-toggleable__label-arrow:before {content: \"▸\";float: left;margin-right: 0.25em;color: #696969;}#sk-container-id-1 label.sk-toggleable__label-arrow:hover:before {color: black;}#sk-container-id-1 div.sk-estimator:hover label.sk-toggleable__label-arrow:before {color: black;}#sk-container-id-1 div.sk-toggleable__content {max-height: 0;max-width: 0;overflow: hidden;text-align: left;background-color: #f0f8ff;}#sk-container-id-1 div.sk-toggleable__content pre {margin: 0.2em;color: black;border-radius: 0.25em;background-color: #f0f8ff;}#sk-container-id-1 input.sk-toggleable__control:checked~div.sk-toggleable__content {max-height: 200px;max-width: 100%;overflow: auto;}#sk-container-id-1 input.sk-toggleable__control:checked~label.sk-toggleable__label-arrow:before {content: \"▾\";}#sk-container-id-1 div.sk-estimator input.sk-toggleable__control:checked~label.sk-toggleable__label {background-color: #d4ebff;}#sk-container-id-1 div.sk-label input.sk-toggleable__control:checked~label.sk-toggleable__label {background-color: #d4ebff;}#sk-container-id-1 input.sk-hidden--visually {border: 0;clip: rect(1px 1px 1px 1px);clip: rect(1px, 1px, 1px, 1px);height: 1px;margin: -1px;overflow: hidden;padding: 0;position: absolute;width: 1px;}#sk-container-id-1 div.sk-estimator {font-family: monospace;background-color: #f0f8ff;border: 1px dotted black;border-radius: 0.25em;box-sizing: border-box;margin-bottom: 0.5em;}#sk-container-id-1 div.sk-estimator:hover {background-color: #d4ebff;}#sk-container-id-1 div.sk-parallel-item::after {content: \"\";width: 100%;border-bottom: 1px solid gray;flex-grow: 1;}#sk-container-id-1 div.sk-label:hover label.sk-toggleable__label {background-color: #d4ebff;}#sk-container-id-1 div.sk-serial::before {content: \"\";position: absolute;border-left: 1px solid gray;box-sizing: border-box;top: 0;bottom: 0;left: 50%;z-index: 0;}#sk-container-id-1 div.sk-serial {display: flex;flex-direction: column;align-items: center;background-color: white;padding-right: 0.2em;padding-left: 0.2em;position: relative;}#sk-container-id-1 div.sk-item {position: relative;z-index: 1;}#sk-container-id-1 div.sk-parallel {display: flex;align-items: stretch;justify-content: center;background-color: white;position: relative;}#sk-container-id-1 div.sk-item::before, #sk-container-id-1 div.sk-parallel-item::before {content: \"\";position: absolute;border-left: 1px solid gray;box-sizing: border-box;top: 0;bottom: 0;left: 50%;z-index: -1;}#sk-container-id-1 div.sk-parallel-item {display: flex;flex-direction: column;z-index: 1;position: relative;background-color: white;}#sk-container-id-1 div.sk-parallel-item:first-child::after {align-self: flex-end;width: 50%;}#sk-container-id-1 div.sk-parallel-item:last-child::after {align-self: flex-start;width: 50%;}#sk-container-id-1 div.sk-parallel-item:only-child::after {width: 0;}#sk-container-id-1 div.sk-dashed-wrapped {border: 1px dashed gray;margin: 0 0.4em 0.5em 0.4em;box-sizing: border-box;padding-bottom: 0.4em;background-color: white;}#sk-container-id-1 div.sk-label label {font-family: monospace;font-weight: bold;display: inline-block;line-height: 1.2em;}#sk-container-id-1 div.sk-label-container {text-align: center;}#sk-container-id-1 div.sk-container {/* jupyter's `normalize.less` sets `[hidden] { display: none; }` but bootstrap.min.css set `[hidden] { display: none !important; }` so we also need the `!important` here to be able to override the default hidden behavior on the sphinx rendered scikit-learn.org. See: https://github.com/scikit-learn/scikit-learn/issues/21755 */display: inline-block !important;position: relative;}#sk-container-id-1 div.sk-text-repr-fallback {display: none;}</style><div id=\"sk-container-id-1\" class=\"sk-top-container\"><div class=\"sk-text-repr-fallback\"><pre>GridSearchCV(cv=5, estimator=RandomForestClassifier(), n_jobs=-1,\n",
       "             param_grid={&#x27;max_depth&#x27;: [2, 4, 5], &#x27;min_samples_leaf&#x27;: [1, 2],\n",
       "                         &#x27;min_samples_split&#x27;: [2, 3],\n",
       "                         &#x27;n_estimators&#x27;: [100, 200]})</pre><b>In a Jupyter environment, please rerun this cell to show the HTML representation or trust the notebook. <br />On GitHub, the HTML representation is unable to render, please try loading this page with nbviewer.org.</b></div><div class=\"sk-container\" hidden><div class=\"sk-item sk-dashed-wrapped\"><div class=\"sk-label-container\"><div class=\"sk-label sk-toggleable\"><input class=\"sk-toggleable__control sk-hidden--visually\" id=\"sk-estimator-id-1\" type=\"checkbox\" ><label for=\"sk-estimator-id-1\" class=\"sk-toggleable__label sk-toggleable__label-arrow\">GridSearchCV</label><div class=\"sk-toggleable__content\"><pre>GridSearchCV(cv=5, estimator=RandomForestClassifier(), n_jobs=-1,\n",
       "             param_grid={&#x27;max_depth&#x27;: [2, 4, 5], &#x27;min_samples_leaf&#x27;: [1, 2],\n",
       "                         &#x27;min_samples_split&#x27;: [2, 3],\n",
       "                         &#x27;n_estimators&#x27;: [100, 200]})</pre></div></div></div><div class=\"sk-parallel\"><div class=\"sk-parallel-item\"><div class=\"sk-item\"><div class=\"sk-label-container\"><div class=\"sk-label sk-toggleable\"><input class=\"sk-toggleable__control sk-hidden--visually\" id=\"sk-estimator-id-2\" type=\"checkbox\" ><label for=\"sk-estimator-id-2\" class=\"sk-toggleable__label sk-toggleable__label-arrow\">estimator: RandomForestClassifier</label><div class=\"sk-toggleable__content\"><pre>RandomForestClassifier()</pre></div></div></div><div class=\"sk-serial\"><div class=\"sk-item\"><div class=\"sk-estimator sk-toggleable\"><input class=\"sk-toggleable__control sk-hidden--visually\" id=\"sk-estimator-id-3\" type=\"checkbox\" ><label for=\"sk-estimator-id-3\" class=\"sk-toggleable__label sk-toggleable__label-arrow\">RandomForestClassifier</label><div class=\"sk-toggleable__content\"><pre>RandomForestClassifier()</pre></div></div></div></div></div></div></div></div></div></div>"
      ],
      "text/plain": [
       "GridSearchCV(cv=5, estimator=RandomForestClassifier(), n_jobs=-1,\n",
       "             param_grid={'max_depth': [2, 4, 5], 'min_samples_leaf': [1, 2],\n",
       "                         'min_samples_split': [2, 3],\n",
       "                         'n_estimators': [100, 200]})"
      ]
     },
     "execution_count": 59,
     "metadata": {},
     "output_type": "execute_result"
    }
   ],
   "source": [
    "# HYPERTUNING WITH RANDOMFOREST     ( gridsearch )\n",
    "\n",
    "x_train,x_test,y_train,y_test=train_test_split(x, y,random_state = 111,test_size=0.20 )\n",
    "\n",
    "rf= RandomForestClassifier()\n",
    "param= {'n_estimators':[100,200],'max_depth':[2,4,5],'min_samples_split':[2,3],'min_samples_leaf':[1,2]}\n",
    "\n",
    "grid=GridSearchCV(rf,param, cv=5, n_jobs=-1)\n",
    "grid.fit(x_train,y_train)"
   ]
  },
  {
   "cell_type": "code",
   "execution_count": 60,
   "id": "503b9336",
   "metadata": {},
   "outputs": [
    {
     "name": "stdout",
     "output_type": "stream",
     "text": [
      "accuracy_score= 0.8959537572254336\n",
      "\n",
      "confusion_matrix\n",
      " [[112   3]\n",
      " [ 15  43]]\n"
     ]
    }
   ],
   "source": [
    "clf= grid.best_estimator_\n",
    "clf.fit(x_train,y_train)\n",
    "predict= clf.predict(x_test)\n",
    "\n",
    "print('accuracy_score=',accuracy_score(y_test,predict))\n",
    "print('\\nconfusion_matrix\\n', confusion_matrix(y_test,predict))"
   ]
  },
  {
   "cell_type": "code",
   "execution_count": null,
   "id": "ee78bc91",
   "metadata": {},
   "outputs": [],
   "source": []
  },
  {
   "cell_type": "raw",
   "id": "cc9e1075",
   "metadata": {},
   "source": [
    "plotting roc_curve"
   ]
  },
  {
   "cell_type": "code",
   "execution_count": 61,
   "id": "2d27692d",
   "metadata": {},
   "outputs": [],
   "source": [
    "from sklearn.metrics import plot_roc_curve"
   ]
  },
  {
   "cell_type": "code",
   "execution_count": 62,
   "id": "2d611ab8",
   "metadata": {},
   "outputs": [
    {
     "data": {
      "image/png": "[encoded data removed]",
      "text/plain": [
       "<Figure size 432x288 with 1 Axes>"
      ]
     },
     "metadata": {
      "needs_background": "light"
     },
     "output_type": "display_data"
    }
   ],
   "source": [
    "# we plot_roc_curve at testing score data\n",
    "# let's plot roc curve check how much better performe\n",
    "\n",
    "disp=plot_roc_curve(svm,x_tests,y_tests)\n",
    "plot_roc_curve(lr,x_testl,y_testl,ax=disp.ax_)\n",
    "plot_roc_curve(clf,x_test,y_test,ax=disp.ax_)\n",
    "plot_roc_curve(ad,x_testA,y_testA, ax=disp.ax_)\n",
    "plt.show()"
   ]
  },
  {
   "cell_type": "code",
   "execution_count": null,
   "id": "f35932a9",
   "metadata": {},
   "outputs": [],
   "source": []
  },
  {
   "cell_type": "code",
   "execution_count": 63,
   "id": "0ffc72b0",
   "metadata": {},
   "outputs": [],
   "source": [
    "# SAVE THE MODEL \n",
    "import pickle"
   ]
  },
  {
   "cell_type": "code",
   "execution_count": 64,
   "id": "6885d3b7",
   "metadata": {},
   "outputs": [],
   "source": [
    "titanic_model= 'titanic_model.pickle'\n",
    "\n",
    "pickle.dump(clf,open(titanic_model,'wb'))"
   ]
  },
  {
   "cell_type": "code",
   "execution_count": null,
   "id": "acd80be2",
   "metadata": {},
   "outputs": [],
   "source": []
  },
  {
   "cell_type": "code",
   "execution_count": null,
   "id": "ee5aba5d",
   "metadata": {},
   "outputs": [],
   "source": []
  },
  {
   "cell_type": "code",
   "execution_count": null,
   "id": "d36bdb52",
   "metadata": {},
   "outputs": [],
   "source": [
    "# 1. do analysis the dataset (use correlation, pairplot, distribution plot,scatterplot, barplot)\n",
    "#2. checking skewness of continuous features\n",
    "# 3. checkinh outliers and remove the outliers\n",
    "# 4. take input_data, target_variable from dataset\n",
    "# 5. scaling the input features\n",
    "# do train_test_split the input & target_variabble\n",
    "# train & test model over dataset\n",
    "# do cross_valdation with ('gradientboosting', 'decisiontree', 'randomforest', 'svm')\n",
    "# 9.  hyperparameter with GridSearchCV at 'GradienBoostin_' & 'Randomforest'\n",
    "# . plot_roc_curve on test dataset \n",
    "# in last do save the model "
   ]
  },
  {
   "cell_type": "code",
   "execution_count": null,
   "id": "ff15d139",
   "metadata": {},
   "outputs": [],
   "source": []
  }
 ],
 "metadata": {
  "kernelspec": {
   "display_name": "Python 3 (ipykernel)",
   "language": "python",
   "name": "python3"
  },
  "language_info": {
   "codemirror_mode": {
    "name": "ipython",
    "version": 3
   },
   "file_extension": ".py",
   "mimetype": "text/x-python",
   "name": "python",
   "nbconvert_exporter": "python",
   "pygments_lexer": "ipython3",
   "version": "3.10.2"
  }
 },
 "nbformat": 4,
 "nbformat_minor": 5
}
